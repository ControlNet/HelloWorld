{
 "cells": [
  {
   "cell_type": "markdown",
   "metadata": {},
   "source": [
    "# Leave-One-Out Cross Validation\n",
    "\n",
    "Environment: R 3.6.1 and Jupyter notebook\n",
    "\n",
    "Libraries used:\n",
    "* dplyr\n",
    "* ggplot2\n",
    "\n",
    "## Introduction\n",
    "\n",
    "In this notebook, a Leave-One-Out Cross Validation need to be implemented on KNN regressor, which is defined in the `knn_regressor.ipynb`, as a function `cv(train.data, train.label, K, numFold=?)`. \n",
    "\n",
    "## Import libraries"
   ]
  },
  {
   "cell_type": "code",
   "execution_count": 1,
   "metadata": {},
   "outputs": [
    {
     "name": "stderr",
     "output_type": "stream",
     "text": [
      "\n",
      "Attaching package: 'dplyr'\n",
      "\n",
      "The following objects are masked from 'package:stats':\n",
      "\n",
      "    filter, lag\n",
      "\n",
      "The following objects are masked from 'package:base':\n",
      "\n",
      "    intersect, setdiff, setequal, union\n",
      "\n",
      "Registered S3 methods overwritten by 'ggplot2':\n",
      "  method         from \n",
      "  [.quosures     rlang\n",
      "  c.quosures     rlang\n",
      "  print.quosures rlang\n"
     ]
    }
   ],
   "source": [
    "library(dplyr)\n",
    "library(ggplot2)"
   ]
  },
  {
   "cell_type": "markdown",
   "metadata": {},
   "source": [
    "## Use the code from `knn_regressor.ipynb`"
   ]
  },
  {
   "cell_type": "code",
   "execution_count": 2,
   "metadata": {},
   "outputs": [],
   "source": [
    "read_data <- function(fname, sc) {\n",
    "  data <- read.csv(file = fname, head = TRUE, sep = \",\")\n",
    "  nr = dim(data)[1]\n",
    "  nc = dim(data)[2]\n",
    "  x = data[1:nr, 1:(nc - 1)]\n",
    "  y = data[1:nr, nc]\n",
    "  if (isTRUE(sc)) {\n",
    "    x = scale(x)\n",
    "    y = scale(y)\n",
    "  }\n",
    "  return(list(\"x\" = x, \"y\" = y))\n",
    "}\n",
    "\n",
    "KNNRegressor <- setRefClass(\"KNNRegressor\",\n",
    "                            fields = list(k = \"numeric\", x_train = \"data.frame\", y_train = \"data.frame\"),\n",
    "                            methods = list(\n",
    "                                \n",
    "                              initialize = function(k) {\n",
    "                                .self$k <- k\n",
    "                              },\n",
    "\n",
    "                              fit = function(x_train, y_train) {\n",
    "                                .self$x_train <- x_train\n",
    "                                .self$y_train <- y_train\n",
    "                                .self\n",
    "                              },\n",
    "\n",
    "                              predict = function(x_test) {\n",
    "                                # define a inner function `majority`  \n",
    "                                majority <- function(x) mean(x)\n",
    "                                # define a inner function for applying each row\n",
    "                                predict_for_row <- function(x_test_row) {\n",
    "                                  # calculate the distance for each test data\n",
    "                                  distance <- .self$x_train %>% \n",
    "                                    apply(1, function(x_train_row) {\n",
    "                                    # Manhattan distance function\n",
    "                                    x_train_row[\"dist\"] <- sum(abs(x_train_row - x_test_row))\n",
    "                                    x_train_row\n",
    "                                    }) %>% \n",
    "                                    t %>% \n",
    "                                    as.data.frame %>% .[\"dist\"]\n",
    "                                    \n",
    "                                  # find the K nearest neighbours' labels\n",
    "                                  nearest_indexes <- order(distance$dist)[1:k]\n",
    "                                  train_labels <- .self$y_train[nearest_indexes,]\n",
    "                                  # predict the test labels with the mean of nearest neighbours\n",
    "                                  y_pred_row <- majority(train_labels)\n",
    "                                  y_pred_row\n",
    "                                }\n",
    "                                \n",
    "                                y_pred <- apply(x_test, 1, predict_for_row)\n",
    "                                y_pred\n",
    "                              }\n",
    "                            )\n",
    ")\n",
    "\n",
    "knn <- function(train.data, train.label, test.data, K=3) {\n",
    "  knn_regressor <- KNNRegressor(K)$fit(as.data.frame(train.data), as.data.frame(train.label))\n",
    "  knn_regressor$predict(as.data.frame(test.data))\n",
    "}\n",
    "\n",
    "error_func <- function(test.pred, test.label) {\n",
    "  mean((test.pred - test.label) ^ 2)\n",
    "}"
   ]
  },
  {
   "cell_type": "markdown",
   "metadata": {},
   "source": [
    "## Read data"
   ]
  },
  {
   "cell_type": "code",
   "execution_count": 3,
   "metadata": {},
   "outputs": [],
   "source": [
    "# read the train and test data\n",
    "train_data <- read_data(\"train1.csv\", FALSE)\n",
    "x_train <- train_data$x\n",
    "y_train <- train_data$y\n",
    "test_data <- read_data(\"test1.csv\", FALSE)\n",
    "x_test <- test_data$x\n",
    "y_test <- test_data$y\n",
    "\n",
    "# concat the train and test data\n",
    "x <- c(x_train, x_test)\n",
    "y <- c(y_train, y_test)"
   ]
  },
  {
   "cell_type": "markdown",
   "metadata": {},
   "source": [
    "## Implement cross validation\n",
    "\n",
    "Here is the `cross_validation` function implemented for generic purpose.\n",
    "\n",
    "The function cross_validation contains 4 arguments,\n",
    "- `x`: predictors\n",
    "- `y`: labels\n",
    "- `num_fold`: the number of folds in cross validation\n",
    "- `pred_func`: callback function which receive 3 arguments `x_train`, `y_train`, `x_data` to predict `y_pred`\n",
    "- `error_func`: callback function which receive 2 arguments `y_pred`, `y_label` to calculate the error.\n",
    "\n",
    "Return: the errors for each fold."
   ]
  },
  {
   "cell_type": "code",
   "execution_count": 4,
   "metadata": {},
   "outputs": [],
   "source": [
    "cross_validation <- function(x, y, num_fold, pred_func, error_func) {\n",
    "  # test data length, which is calculated from num_fold\n",
    "  test_length <- floor(nrow(x) / num_fold)\n",
    "  # A function for split the x, y dataset to `num_fold` parts\n",
    "  divide_data <- function(i) {\n",
    "    index <- i:(i + test_length - 1)\n",
    "    list(x=x[index,], y=y[index])\n",
    "  }\n",
    "  I <- 1 + (0:(num_fold-1)) * test_length\n",
    "  data_blocks <- lapply(I, divide_data)\n",
    "  # calculate error based on the train and test data splitted.  \n",
    "  calulate_error <- function(i) {\n",
    "    x_test <- data_blocks[[i]]$x\n",
    "    y_test <- data_blocks[[i]]$y\n",
    "    train_blocks <- data_blocks[-i]\n",
    "    x_train_blocks <- lapply(train_blocks, function(each) each$x)\n",
    "    y_train_blocks <- lapply(train_blocks, function(each) each$y)\n",
    "    x_train <- Reduce(rbind, x_train_blocks)\n",
    "    y_train <- data.frame(unlist(y_train_blocks))\n",
    "    y_pred <- pred_func(x_train, y_train, x_test)\n",
    "    error_func(y_pred, y_test)\n",
    "  }\n",
    "  # calculate errors for all fold                            \n",
    "  sapply(1:num_fold, calulate_error)\n",
    "}"
   ]
  },
  {
   "cell_type": "markdown",
   "metadata": {},
   "source": [
    "This function is to apply the Leave-One-Out Cross Validation, which is special condition when `num_fold` is the length of dataset."
   ]
  },
  {
   "cell_type": "code",
   "execution_count": 5,
   "metadata": {},
   "outputs": [],
   "source": [
    "cv <- function(train.data, train.label, K, numFold=nrow(train.data)) {\n",
    "  pred_func <- function(x_train, y_train, x_test) knn(x_train, y_train, x_test, K)\n",
    "  cross_validation(train.data, train.label, numFold, pred_func, error_func)\n",
    "}"
   ]
  },
  {
   "cell_type": "markdown",
   "metadata": {},
   "source": [
    "## Visualization\n",
    "\n",
    "The error of the Leave-One-Out Cross Validation on KNN regressor with K = 1 to 15 need to be visualized.\n",
    "\n",
    "Define a function `cv_for_k` for easy calculating mean of errors from k"
   ]
  },
  {
   "cell_type": "code",
   "execution_count": 6,
   "metadata": {},
   "outputs": [],
   "source": [
    "cv_for_k <- function(k) cv(data.frame(x), y, k) %>% mean"
   ]
  },
  {
   "cell_type": "code",
   "execution_count": 7,
   "metadata": {},
   "outputs": [],
   "source": [
    "# Apply the function to `1:15` to calculate the needed errors.\n",
    "error <- sapply(1:15, cv_for_k)\n",
    "error_data <- data.frame(error=error, k=1:15) %>% mutate(x = 1/k)"
   ]
  },
  {
   "cell_type": "code",
   "execution_count": 8,
   "metadata": {},
   "outputs": [
    {
     "data": {
      "image/png": "[encoded data removed]",
      "text/plain": [
       "plot without title"
      ]
     },
     "metadata": {},
     "output_type": "display_data"
    }
   ],
   "source": [
    "# plot\n",
    "ggplot(error_data, mapping = aes(x=x, y=error)) + geom_line() + \n",
    "  ggtitle('Cross Validation Error') + \n",
    "  labs(x=\"1/K\", y=\"Error\")"
   ]
  },
  {
   "cell_type": "code",
   "execution_count": 9,
   "metadata": {},
   "outputs": [
    {
     "data": {
      "text/html": [
       "8"
      ],
      "text/latex": [
       "8"
      ],
      "text/markdown": [
       "8"
      ],
      "text/plain": [
       "[1] 8"
      ]
     },
     "metadata": {},
     "output_type": "display_data"
    }
   ],
   "source": [
    "which.min(error)"
   ]
  },
  {
   "cell_type": "markdown",
   "metadata": {},
   "source": [
    "## Optimum value\n",
    "\n",
    "From the visualization and the calculation, it is clearly the model is the best when K = 8."
   ]
  }
 ],
 "metadata": {
  "kernelspec": {
   "display_name": "R",
   "language": "R",
   "name": "ir"
  },
  "language_info": {
   "codemirror_mode": "r",
   "file_extension": ".r",
   "mimetype": "text/x-r-source",
   "name": "R",
   "pygments_lexer": "r",
   "version": "3.6.1"
  }
 },
 "nbformat": 4,
 "nbformat_minor": 4
}
