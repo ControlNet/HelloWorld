{
 "cells": [
  {
   "cell_type": "markdown",
   "metadata": {},
   "source": [
    "# Ridge Regression\n",
    "\n",
    "Environment: R 3.6.1 and Jupyter notebook\n",
    "\n",
    "Libraries used:\n",
    "* dplyr\n",
    "* ggplot2\n",
    "* reshape2\n",
    "\n",
    "## Introduction\n",
    "\n",
    "In this notebook, there are 3 steps. \n",
    "* First step, the algorithm of stochastic gradient descent (SGD) and a L2 regularisation in linear regression will be explained.\n",
    "* Second step, the algorithm in first step will be implemented.\n",
    "* Third step, the algorithm on the dataset will be applied, and visualized when the lambda value of regularizer changes.\n",
    "\n",
    "## Import libraries"
   ]
  },
  {
   "cell_type": "code",
   "execution_count": 1,
   "metadata": {},
   "outputs": [
    {
     "name": "stderr",
     "output_type": "stream",
     "text": [
      "\n",
      "Attaching package: 'dplyr'\n",
      "\n",
      "The following objects are masked from 'package:stats':\n",
      "\n",
      "    filter, lag\n",
      "\n",
      "The following objects are masked from 'package:base':\n",
      "\n",
      "    intersect, setdiff, setequal, union\n",
      "\n",
      "Registered S3 methods overwritten by 'ggplot2':\n",
      "  method         from \n",
      "  [.quosures     rlang\n",
      "  c.quosures     rlang\n",
      "  print.quosures rlang\n"
     ]
    }
   ],
   "source": [
    "options(warn=-1)\n",
    "library(dplyr)\n",
    "library(ggplot2)\n",
    "library(reshape2)\n",
    "\n",
    "set.seed(5201)"
   ]
  },
  {
   "cell_type": "markdown",
   "metadata": {},
   "source": [
    "## SGD Algorithm\n",
    "\n",
    "The error function applied is `mean((predict_func(Phi, w) - label)^2) + .5 * lambda * w %*% w`. \n",
    "\n",
    "Also, because of the SGD, the data for training is only one. Therefore the error function for SGD can be considered as\n",
    "\\begin{equation}\n",
    "\\begin{aligned}\n",
    "E &= \\frac{1}{2}(y - \\hat{y})^2 \\\\ &= \\frac{1}{2}(y - w \\cdot \\phi(x))^2\n",
    "\\end{aligned}\n",
    "\\end{equation}\n",
    "\n",
    "With the L2 regularizer the new error function should add the part of L2, which is\n",
    "$$\n",
    "\\frac{\\lambda}{2} \\sum^{M-1}_{i=0}w^2_i\n",
    "$$\n",
    "where $N$ is the number of predictors, and the $\\sum^{M-1}_{i=0}w^2_i$ is the sum of square of each weight, and the $\\lambda$ is a hyperparameter which need to be specified manually.\n",
    "\n",
    "For simple calculation, the <b>vectorization</b> is applied here. The $w^2$ is two $w$ vector dot product, which also can be considered as the sum of square of each element of vector $w$. Therefore, the new error function is,\n",
    "$$\n",
    "E = \\frac{1}{2}(y - w \\cdot \\phi(x))^2 + \\frac{\\lambda}{2} w^2\n",
    "$$\n",
    "\n",
    "Then, take the derivative of $E$ of $w$.\n",
    "\n",
    "\\begin{equation}\n",
    "\\begin{aligned}\n",
    "\\nabla{E(w)} = \\frac{dL}{dw} &= \\frac{1}{2} \\cdot 2(y - w\\cdot\\phi(x)) \\cdot (-\\phi(x)) + \\lambda w \\\\ &= -(w\\cdot\\phi(x) - y) \\cdot \\phi(x) + \\lambda w\n",
    "\\end{aligned}\n",
    "\\end{equation}\n",
    "\n",
    "Actually, the $(w\\cdot\\phi(x) - y)$ is just the residual, with annotation $r$. Therefore, the gradient of $E(w)$ is,\n",
    "$$\n",
    "\\nabla{E(w)} = -r\\cdot\\phi(x) + \\lambda w\n",
    "$$\n",
    "\n",
    "Then, apply the gradient decent update, with the learning rate $\\eta$,\n",
    "$$\n",
    "w \\leftarrow w - \\eta \\nabla{E(w)}\n",
    "$$\n",
    "\n",
    "And then, re-calculate the gradient and update the weights until the number of iterations specified."
   ]
  },
  {
   "cell_type": "code",
   "execution_count": 2,
   "metadata": {},
   "outputs": [],
   "source": [
    "# reading the data\n",
    "read_data <- function(fname, sc) {\n",
    "  data <- read.csv(file = fname, head = TRUE, sep = \",\")\n",
    "  nr = dim(data)[1]\n",
    "  nc = dim(data)[2]\n",
    "  x = data[1:nr, 1:(nc - 1)]\n",
    "  y = data[1:nr, nc]\n",
    "  if (isTRUE(sc)) {\n",
    "    x = scale(x)\n",
    "    y = scale(y)\n",
    "  }\n",
    "  return(list(\"x\" = x, \"y\" = y))\n",
    "}\n",
    "\n",
    "# auxiliary function to calculate labels based on the estimated coefficients\n",
    "predict_func <- function(Phi, w) {  \n",
    "  return(Phi %*% w)\n",
    "}\n",
    "\n",
    "# auxiliary function to calculate the objective function for the training\n",
    "train_obj_func <- function(Phi, w, label, lambda) {\n",
    "  # the L2 regulariser is already included in the objective function for training\n",
    "  return(mean((predict_func(Phi, w) - label)^2) + .5 * lambda * w %*% w)\n",
    "}\n",
    "\n",
    "# auxiliary function to compute the error of the model\n",
    "get_errors <- function(train_data, test_data, W) {\n",
    "  n_weights = dim(W)[1]\n",
    "  errors = matrix(, nrow = n_weights, ncol = 2)\n",
    "  for (tau in 1:n_weights) {\n",
    "    errors[tau, 1] = train_obj_func(train_data$x, W[tau,], train_data$y, 0)\n",
    "    errors[tau, 2] = train_obj_func(test_data$x, W[tau,], test_data$y, 0)\n",
    "  }\n",
    "  return(errors)\n",
    "}\n",
    "\n",
    "##--- Stochastic Gradient Descent --------------------------------------------\n",
    "sgd_train <- function(train_x, train_y, lambda, eta, epsilon, max_epoch) {\n",
    "\n",
    "  train_len = dim(train_x)[1]\n",
    "  tau_max = max_epoch * train_len\n",
    "\n",
    "  W <- matrix(, nrow = tau_max, ncol = ncol(train_x))\n",
    "  W[1,] <- runif(ncol(train_x))\n",
    "\n",
    "  tau = 1 # counter\n",
    "  obj_func_val <- matrix(, nrow = tau_max, ncol = 1)\n",
    "  obj_func_val[tau, 1] = train_obj_func(train_x, W[tau,], train_y, lambda)\n",
    "\n",
    "  while (tau <= tau_max) {\n",
    "\n",
    "    # check termination criteria\n",
    "    if (obj_func_val[tau, 1] <= epsilon) { break }\n",
    "\n",
    "    # shuffle data:\n",
    "    train_index <- sample(1:train_len, train_len, replace = FALSE)\n",
    "\n",
    "    # loop over each datapoint\n",
    "    for (i in train_index) {\n",
    "      # increment the counter\n",
    "      tau <- tau + 1\n",
    "      if (tau > tau_max) { break }\n",
    "\n",
    "      # make the weight update\n",
    "      y_pred <- predict_func(train_x[i,], W[tau - 1,])\n",
    "      W[tau,] <- sgd_update_weight(W[tau - 1,], train_x[i,], train_y[i], y_pred, lambda, eta)\n",
    "\n",
    "      # keep track of the objective funtion\n",
    "      obj_func_val[tau, 1] = train_obj_func(train_x, W[tau,], train_y, lambda) \n",
    "    }\n",
    "  }\n",
    "  # resulting values for the training objective function as well as the weights\n",
    "  return(list('vals' = obj_func_val, 'W' = W))\n",
    "}"
   ]
  },
  {
   "cell_type": "markdown",
   "metadata": {},
   "source": [
    "## Read data"
   ]
  },
  {
   "cell_type": "code",
   "execution_count": 3,
   "metadata": {},
   "outputs": [],
   "source": [
    "train_data <- read_data(\"train3.csv\", TRUE)\n",
    "x_train <- train_data$x\n",
    "y_train <- train_data$y\n",
    "\n",
    "test_data <- read_data(\"test3.csv\", TRUE)\n",
    "x_test <- test_data$x\n",
    "y_test <- test_data$y"
   ]
  },
  {
   "cell_type": "markdown",
   "metadata": {},
   "source": [
    "## Implement the SGD Algorithm in Linear Regression."
   ]
  },
  {
   "cell_type": "code",
   "execution_count": 4,
   "metadata": {},
   "outputs": [],
   "source": [
    "# updating the weight vector\n",
    "sgd_update_weight <- function(W_prev, x, y_true, y_pred, lambda, eta) {\n",
    "  residual <- y_true - y_pred\n",
    "  grad = -residual %*% x + lambda * W_prev\n",
    "  return(W_prev - eta * grad)\n",
    "}"
   ]
  },
  {
   "cell_type": "markdown",
   "metadata": {},
   "source": [
    "## Visualization\n",
    "\n",
    "The terminate criteria is $20 \\times N$, where $N$ is the row of training data. \n",
    "Because of the SGD, each epoch is equivalent to $N$ iterations. Therefore, set the `max_epoch` as 20."
   ]
  },
  {
   "cell_type": "code",
   "execution_count": 5,
   "metadata": {},
   "outputs": [
    {
     "data": {
      "text/html": [
       "<table>\n",
       "<thead><tr><th scope=col>lambda</th><th scope=col>train</th><th scope=col>test</th></tr></thead>\n",
       "<tbody>\n",
       "\t<tr><td>0.0       </td><td>0.07926869</td><td>0.7232431 </td></tr>\n",
       "\t<tr><td>0.4       </td><td>0.11548368</td><td>0.6491072 </td></tr>\n",
       "\t<tr><td>0.8       </td><td>0.13453067</td><td>0.6248666 </td></tr>\n",
       "\t<tr><td>1.2       </td><td>0.19805378</td><td>0.5943143 </td></tr>\n",
       "\t<tr><td>1.6       </td><td>0.15794805</td><td>0.6086304 </td></tr>\n",
       "\t<tr><td>2.0       </td><td>0.18686116</td><td>0.5946970 </td></tr>\n",
       "</tbody>\n",
       "</table>\n"
      ],
      "text/latex": [
       "\\begin{tabular}{r|lll}\n",
       " lambda & train & test\\\\\n",
       "\\hline\n",
       "\t 0.0        & 0.07926869 & 0.7232431 \\\\\n",
       "\t 0.4        & 0.11548368 & 0.6491072 \\\\\n",
       "\t 0.8        & 0.13453067 & 0.6248666 \\\\\n",
       "\t 1.2        & 0.19805378 & 0.5943143 \\\\\n",
       "\t 1.6        & 0.15794805 & 0.6086304 \\\\\n",
       "\t 2.0        & 0.18686116 & 0.5946970 \\\\\n",
       "\\end{tabular}\n"
      ],
      "text/markdown": [
       "\n",
       "| lambda | train | test |\n",
       "|---|---|---|\n",
       "| 0.0        | 0.07926869 | 0.7232431  |\n",
       "| 0.4        | 0.11548368 | 0.6491072  |\n",
       "| 0.8        | 0.13453067 | 0.6248666  |\n",
       "| 1.2        | 0.19805378 | 0.5943143  |\n",
       "| 1.6        | 0.15794805 | 0.6086304  |\n",
       "| 2.0        | 0.18686116 | 0.5946970  |\n",
       "\n"
      ],
      "text/plain": [
       "  lambda train      test     \n",
       "1 0.0    0.07926869 0.7232431\n",
       "2 0.4    0.11548368 0.6491072\n",
       "3 0.8    0.13453067 0.6248666\n",
       "4 1.2    0.19805378 0.5943143\n",
       "5 1.6    0.15794805 0.6086304\n",
       "6 2.0    0.18686116 0.5946970"
      ]
     },
     "metadata": {},
     "output_type": "display_data"
    }
   ],
   "source": [
    "max_epoch <- 20\n",
    "lambdas <- seq(0, 10, 0.4)\n",
    "epsilon <- 0  # error tolerance for termination\n",
    "eta <- 0.01  # learning rate\n",
    "\n",
    "cal_errors_from_lambda <- function(lambda) {\n",
    "  train_res <- sgd_train(x_train, y_train, lambda, eta, epsilon, max_epoch)\n",
    "  last_weight <- train_res$W[nrow(train_res$W),] %>% as.matrix %>% t\n",
    "  errors <- get_errors(train_data, test_data, last_weight) \n",
    "  # errors contains the train error and test error  \n",
    "  errors  \n",
    "}\n",
    "\n",
    "errors <- lapply(lambdas, cal_errors_from_lambda) %>% \n",
    "            Reduce(f = rbind) %>% \n",
    "            cbind(lambdas, .) %>% \n",
    "            `colnames<-`(c(\"lambda\", \"train\", \"test\")) %>% as.data.frame\n",
    "errors %>% head"
   ]
  },
  {
   "cell_type": "code",
   "execution_count": 6,
   "metadata": {},
   "outputs": [],
   "source": [
    "errors_melt <- errors %>% melt(id.vars = c(\"lambda\")) %>% mutate(x = log(lambda))"
   ]
  },
  {
   "cell_type": "code",
   "execution_count": 7,
   "metadata": {},
   "outputs": [
    {
     "data": {
      "image/png": "[encoded data removed]",
      "text/plain": [
       "plot without title"
      ]
     },
     "metadata": {},
     "output_type": "display_data"
    }
   ],
   "source": [
    "ggplot(data=errors_melt) + \n",
    "  geom_line(aes(x=x, y=value, color=variable)) +\n",
    "  xlab(\"log(lambda)\") +\n",
    "  ylab(\"error\") + \n",
    "  ggtitle(\"The error rate trend for log(lambda)\")"
   ]
  },
  {
   "cell_type": "code",
   "execution_count": 8,
   "metadata": {},
   "outputs": [
    {
     "data": {
      "text/html": [
       "2.4"
      ],
      "text/latex": [
       "2.4"
      ],
      "text/markdown": [
       "2.4"
      ],
      "text/plain": [
       "[1] 2.4"
      ]
     },
     "metadata": {},
     "output_type": "display_data"
    }
   ],
   "source": [
    "lambdas[which.min(errors$test)]"
   ]
  },
  {
   "cell_type": "markdown",
   "metadata": {},
   "source": [
    "Explain:\n",
    "\n",
    "From the plot and the output of the lambda value for minimum test error, the best value of lambda for the model is 2.4 .\n",
    "\n",
    "When the lambda value is high, the train error and test error increase, and the difference of train error and test error decreases. Therefore, the weights are more restrictive and the model is underfitting. The comlexity of model is decreased.\n",
    "\n",
    "When the lambda value is low, the train error decreases and the test error increases, and the difference between train error and test error increases which means the model is overfitting. The comlexity of the model is increased."
   ]
  }
 ],
 "metadata": {
  "kernelspec": {
   "display_name": "R",
   "language": "R",
   "name": "ir"
  },
  "language_info": {
   "codemirror_mode": "r",
   "file_extension": ".r",
   "mimetype": "text/x-r-source",
   "name": "R",
   "pygments_lexer": "r",
   "version": "3.6.1"
  }
 },
 "nbformat": 4,
 "nbformat_minor": 4
}
