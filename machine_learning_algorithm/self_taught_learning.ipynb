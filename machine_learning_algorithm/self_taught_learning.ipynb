{
 "cells": [
  {
   "cell_type": "markdown",
   "metadata": {},
   "source": [
    "# Self-Taught Learning\n",
    "\n",
    "Environment: R 3.6.1 and Jupyter notebook\n",
    "\n",
    "Libraries used:\n",
    "* dplyr\n",
    "* reshape\n",
    "* ggplot2\n",
    "* h2o\n",
    "\n",
    "## Introduction\n",
    "\n",
    "The 3-layer neural network and autoencoder will be implemented by library `h2o`.  \n",
    "\n",
    "In this Jupyter notebook, there will be some comparison of the original neural network classifier and the augmented self-taught networks to be visualized.\n",
    "\n",
    "## Import libraries"
   ]
  },
  {
   "cell_type": "code",
   "execution_count": 1,
   "metadata": {
    "tags": []
   },
   "outputs": [
    {
     "name": "stderr",
     "output_type": "stream",
     "text": [
      "\n",
      "Attaching package: 'dplyr'\n",
      "\n",
      "The following objects are masked from 'package:stats':\n",
      "\n",
      "    filter, lag\n",
      "\n",
      "The following objects are masked from 'package:base':\n",
      "\n",
      "    intersect, setdiff, setequal, union\n",
      "\n",
      "\n",
      "Attaching package: 'reshape'\n",
      "\n",
      "The following object is masked from 'package:dplyr':\n",
      "\n",
      "    rename\n",
      "\n",
      "Registered S3 methods overwritten by 'ggplot2':\n",
      "  method         from \n",
      "  [.quosures     rlang\n",
      "  c.quosures     rlang\n",
      "  print.quosures rlang\n",
      "\n",
      "----------------------------------------------------------------------\n",
      "\n",
      "Your next step is to start H2O:\n",
      "    > h2o.init()\n",
      "\n",
      "For H2O package documentation, ask for help:\n",
      "    > ??h2o\n",
      "\n",
      "After starting H2O, you can use the Web UI at http://localhost:54321\n",
      "For more information visit https://docs.h2o.ai\n",
      "\n",
      "----------------------------------------------------------------------\n",
      "\n",
      "\n",
      "Attaching package: 'h2o'\n",
      "\n",
      "The following objects are masked from 'package:stats':\n",
      "\n",
      "    cor, sd, var\n",
      "\n",
      "The following objects are masked from 'package:base':\n",
      "\n",
      "    %*%, %in%, &&, ||, apply, as.factor, as.numeric, colnames,\n",
      "    colnames<-, ifelse, is.character, is.factor, is.numeric, log,\n",
      "    log10, log1p, log2, round, signif, trunc\n",
      "\n"
     ]
    },
    {
     "name": "stdout",
     "output_type": "stream",
     "text": [
      " Connection successful!\n",
      "\n",
      "R is connected to the H2O cluster: \n",
      "    H2O cluster uptime:         1 minutes 18 seconds \n",
      "    H2O cluster timezone:       Australia/Sydney \n",
      "    H2O data parsing timezone:  UTC \n",
      "    H2O cluster version:        3.34.0.3 \n",
      "    H2O cluster version age:    21 days, 17 hours and 23 minutes  \n",
      "    H2O cluster name:           H2O_started_from_R_controlnet_kmj504 \n",
      "    H2O cluster total nodes:    1 \n",
      "    H2O cluster total memory:   13.72 GB \n",
      "    H2O cluster total cores:    12 \n",
      "    H2O cluster allowed cores:  12 \n",
      "    H2O cluster healthy:        TRUE \n",
      "    H2O Connection ip:          localhost \n",
      "    H2O Connection port:        54321 \n",
      "    H2O Connection proxy:       NA \n",
      "    H2O Internal Security:      FALSE \n",
      "    H2O API Extensions:         Amazon S3, Algos, AutoML, Core V3, TargetEncoder, Core V4 \n",
      "    R Version:                  R version 3.6.1 (2019-07-05) \n",
      "\n"
     ]
    }
   ],
   "source": [
    "options(warn=-1)\n",
    "library(dplyr)\n",
    "library(reshape)\n",
    "library(ggplot2)\n",
    "library(h2o)\n",
    "\n",
    "localH2O =  h2o.init(nthreads = -1, port = 54321, max_mem_size = '16G', startH2O = TRUE)"
   ]
  },
  {
   "cell_type": "code",
   "execution_count": 2,
   "metadata": {},
   "outputs": [
    {
     "name": "stdout",
     "output_type": "stream",
     "text": [
      "  |======================================================================| 100%\n",
      "  |======================================================================| 100%\n",
      "  |======================================================================| 100%\n"
     ]
    }
   ],
   "source": [
    "error.rate <- function(Y1, T1){\n",
    "  if (nrow(Y1)!=nrow(T1)){\n",
    "    stop('error.rate: size of true lables and predicted labels mismatch')\n",
    "  }\n",
    "  return (sum(T1!=Y1)/nrow(T1))\n",
    "}\n",
    "\n",
    "labeled.frame <- h2o.importFile(path = 'train8_labeled.csv' ,sep=',') \n",
    "unlabeled.frame <- h2o.importFile(path = 'train8_unlabeled.csv' ,sep=',') \n",
    "test.frame <- h2o.importFile(path = 'test8.csv' ,sep=',') \n",
    "\n",
    "labeled.frame[,1] <- as.factor(labeled.frame$label)\n",
    "unlabeled.frame[,1] <- NA\n",
    "train.frame <- h2o.rbind(labeled.frame[,-1], unlabeled.frame[,-1])\n",
    "test.frame[,1] <- as.factor(test.frame$label)"
   ]
  },
  {
   "cell_type": "markdown",
   "metadata": {},
   "source": [
    "## Autoencoder\n",
    "\n",
    "Use the `h2o` library to build autoencoder with one hidden layer."
   ]
  },
  {
   "cell_type": "code",
   "execution_count": 3,
   "metadata": {},
   "outputs": [
    {
     "name": "stdout",
     "output_type": "stream",
     "text": [
      "  |======================================================================| 100%\n",
      "  |======================================================================| 100%\n",
      "  |======================================================================| 100%\n",
      "  |======================================================================| 100%\n",
      "  |======================================================================| 100%\n",
      "  |======================================================================| 100%\n",
      "  |======================================================================| 100%\n",
      "  |======================================================================| 100%\n",
      "  |======================================================================| 100%\n",
      "  |======================================================================| 100%\n",
      "  |======================================================================| 100%\n",
      "  |======================================================================| 100%\n",
      "  |======================================================================| 100%\n",
      "  |======================================================================| 100%\n",
      "  |======================================================================| 100%\n",
      "  |======================================================================| 100%\n",
      "  |======================================================================| 100%\n",
      "  |======================================================================| 100%\n",
      "  |======================================================================| 100%\n",
      "  |======================================================================| 100%\n"
     ]
    }
   ],
   "source": [
    "# set neurons\n",
    "neurons <- seq(20, 400, 20)\n",
    "\n",
    "# a function to build a autoencoder based on a given neuron number\n",
    "build.ae <- function(neuron) {\n",
    "    h2o.deeplearning(\n",
    "        x = 1:ncol(train.frame),\n",
    "        training_frame = train.frame,\n",
    "        hidden = c(neuron),\n",
    "        epochs = 15,\n",
    "        activation = \"Tanh\",\n",
    "        autoencoder = TRUE, \n",
    "        seed = 5201, \n",
    "        rate_decay = 0.99\n",
    "    )\n",
    "}\n",
    "\n",
    "# build models and calculate reconstruction errors\n",
    "ae.models <- neurons %>% lapply(build.ae)\n",
    "ae.errors <- ae.models %>% sapply(h2o.mse)"
   ]
  },
  {
   "cell_type": "markdown",
   "metadata": {},
   "source": [
    "The reconstruction errors of the autoencoder with the number of neurons being  from 20 to 400 with a step size of 20 are visualized below."
   ]
  },
  {
   "cell_type": "code",
   "execution_count": 4,
   "metadata": {},
   "outputs": [
    {
     "data": {
      "image/png": "[encoded data removed]",
      "text/plain": [
       "plot without title"
      ]
     },
     "metadata": {},
     "output_type": "display_data"
    }
   ],
   "source": [
    "ggplot(data.frame(neuron = neurons, error = ae.errors)) + \n",
    "    geom_line(aes(x = neuron, y = error)) + \n",
    "    labs(x = \"Neuron\", y = \"Reconstruction Error\") + \n",
    "    ggtitle(\"The Reconstruction Error of Autoencoders\")"
   ]
  },
  {
   "cell_type": "markdown",
   "metadata": {},
   "source": [
    "Explain:\n",
    "\n",
    "From the result, the reconstruction error decreases dramatically when the number of neurons increasing in the beginning. When the number of neurons is larger than 200, the trend of reconstruction error is stable.\n",
    "\n",
    "In the beginning, the increasing of dimensionality of latent space can improve the capacity of representation of data, so the autoencoder can extract more useful features. With more useful features, the decoder can reconstruct the data better.\n",
    "\n",
    "When the number of neurons is larger than 200, one single layer and the simple structure cannot extract more useful features, so the trend of reconstruction error is stable."
   ]
  },
  {
   "cell_type": "markdown",
   "metadata": {},
   "source": [
    "## Neural Network\n",
    "\n",
    "Use `h2o` library to build 3-layer neural networks based on the number of neurons required."
   ]
  },
  {
   "cell_type": "code",
   "execution_count": 5,
   "metadata": {
    "tags": []
   },
   "outputs": [
    {
     "name": "stdout",
     "output_type": "stream",
     "text": [
      "  |======================================================================| 100%\n",
      "  |======================================================================| 100%\n",
      "  |======================================================================| 100%\n",
      "  |======================================================================| 100%\n",
      "  |======================================================================| 100%\n",
      "  |======================================================================| 100%\n",
      "  |======================================================================| 100%\n",
      "  |======================================================================| 100%\n",
      "  |======================================================================| 100%\n",
      "  |======================================================================| 100%\n",
      "  |======================================================================| 100%\n",
      "  |======================================================================| 100%\n",
      "  |======================================================================| 100%\n",
      "  |======================================================================| 100%\n",
      "  |======================================================================| 100%\n",
      "  |======================================================================| 100%\n",
      "  |======================================================================| 100%\n",
      "  |======================================================================| 100%\n",
      "  |======================================================================| 100%\n",
      "  |======================================================================| 100%\n",
      "  |======================================================================| 100%\n",
      "  |======================================================================| 100%\n",
      "  |======================================================================| 100%\n",
      "  |======================================================================| 100%\n",
      "  |======================================================================| 100%\n",
      "  |======================================================================| 100%\n",
      "  |======================================================================| 100%\n",
      "  |======================================================================| 100%\n",
      "  |======================================================================| 100%\n",
      "  |======================================================================| 100%\n",
      "  |======================================================================| 100%\n",
      "  |======================================================================| 100%\n",
      "  |======================================================================| 100%\n",
      "  |======================================================================| 100%\n",
      "  |======================================================================| 100%\n",
      "  |======================================================================| 100%\n",
      "  |======================================================================| 100%\n",
      "  |======================================================================| 100%\n",
      "  |======================================================================| 100%\n",
      "  |======================================================================| 100%\n"
     ]
    }
   ],
   "source": [
    "# build nn for original features\n",
    "build.nn <- function(neuron) {\n",
    "    h2o.deeplearning(\n",
    "        x = 2:ncol(labeled.frame),\n",
    "        y = 1,\n",
    "        training_frame = labeled.frame,\n",
    "        hidden = c(neuron),\n",
    "        epochs = 5,\n",
    "        rate = 0.001,\n",
    "        activation = \"Tanh\",\n",
    "        autoencoder = FALSE, \n",
    "        seed = 42, \n",
    "        rate_decay = 0.95,\n",
    "        l1 = 0.01,\n",
    "        l2 = 0.1\n",
    "    )\n",
    "}\n",
    "\n",
    "# record the models\n",
    "nn.models <- neurons %>% lapply(build.nn)\n",
    "# calculate test errors\n",
    "nn.errors <- nn.models %>% sapply(function(nn) {\n",
    "    1 - mean(predict(nn, test.frame)$predict == test.frame$label)\n",
    "})"
   ]
  },
  {
   "cell_type": "markdown",
   "metadata": {},
   "source": [
    "## Augmented self-taught networks\n",
    "\n",
    "Concat the features extracted by autoencoders to dataset as extra features."
   ]
  },
  {
   "cell_type": "code",
   "execution_count": 6,
   "metadata": {
    "tags": []
   },
   "outputs": [
    {
     "name": "stdout",
     "output_type": "stream",
     "text": [
      "  |======================================================================| 100%\n",
      "  |======================================================================| 100%\n",
      "  |======================================================================| 100%\n",
      "  |======================================================================| 100%\n",
      "  |======================================================================| 100%\n",
      "  |======================================================================| 100%\n",
      "  |======================================================================| 100%\n",
      "  |======================================================================| 100%\n",
      "  |======================================================================| 100%\n",
      "  |======================================================================| 100%\n",
      "  |======================================================================| 100%\n",
      "  |======================================================================| 100%\n",
      "  |======================================================================| 100%\n",
      "  |======================================================================| 100%\n",
      "  |======================================================================| 100%\n",
      "  |======================================================================| 100%\n",
      "  |======================================================================| 100%\n",
      "  |======================================================================| 100%\n",
      "  |======================================================================| 100%\n",
      "  |======================================================================| 100%\n",
      "  |======================================================================| 100%\n",
      "  |======================================================================| 100%\n",
      "  |======================================================================| 100%\n",
      "  |======================================================================| 100%\n",
      "  |======================================================================| 100%\n",
      "  |======================================================================| 100%\n",
      "  |======================================================================| 100%\n",
      "  |======================================================================| 100%\n",
      "  |======================================================================| 100%\n",
      "  |======================================================================| 100%\n",
      "  |======================================================================| 100%\n",
      "  |======================================================================| 100%\n",
      "  |======================================================================| 100%\n",
      "  |======================================================================| 100%\n",
      "  |======================================================================| 100%\n",
      "  |======================================================================| 100%\n",
      "  |======================================================================| 100%\n",
      "  |======================================================================| 100%\n",
      "  |======================================================================| 100%\n",
      "  |======================================================================| 100%\n"
     ]
    }
   ],
   "source": [
    "# concat the hidden features to original features\n",
    "\n",
    "concat.hidden.features <- function(frame) {\n",
    "    1:length(neurons) %>% lapply(function(i) {\n",
    "        feature <- h2o.deepfeatures(ae.models[[i]], frame, layer=1)\n",
    "        h2o.cbind(frame, feature)\n",
    "    })\n",
    "}\n",
    "\n",
    "labeled.augmented.frames <- concat.hidden.features(labeled.frame)\n",
    "test.augmented.frames <- concat.hidden.features(test.frame)"
   ]
  },
  {
   "cell_type": "markdown",
   "metadata": {},
   "source": [
    "Train new 3-layer neural networks which has same hyperparameters as the neural networks built in previous."
   ]
  },
  {
   "cell_type": "code",
   "execution_count": 7,
   "metadata": {
    "tags": []
   },
   "outputs": [
    {
     "name": "stdout",
     "output_type": "stream",
     "text": [
      "  |======================================================================| 100%\n",
      "  |======================================================================| 100%\n",
      "  |======================================================================| 100%\n",
      "  |======================================================================| 100%\n",
      "  |======================================================================| 100%\n",
      "  |======================================================================| 100%\n",
      "  |======================================================================| 100%\n",
      "  |======================================================================| 100%\n",
      "  |======================================================================| 100%\n",
      "  |======================================================================| 100%\n",
      "  |======================================================================| 100%\n",
      "  |======================================================================| 100%\n",
      "  |======================================================================| 100%\n",
      "  |======================================================================| 100%\n",
      "  |======================================================================| 100%\n",
      "  |======================================================================| 100%\n",
      "  |======================================================================| 100%\n",
      "  |======================================================================| 100%\n",
      "  |======================================================================| 100%\n",
      "  |======================================================================| 100%\n",
      "  |======================================================================| 100%\n",
      "  |======================================================================| 100%\n",
      "  |======================================================================| 100%\n",
      "  |======================================================================| 100%\n",
      "  |======================================================================| 100%\n",
      "  |======================================================================| 100%\n",
      "  |======================================================================| 100%\n",
      "  |======================================================================| 100%\n",
      "  |======================================================================| 100%\n",
      "  |======================================================================| 100%\n",
      "  |======================================================================| 100%\n",
      "  |======================================================================| 100%\n",
      "  |======================================================================| 100%\n",
      "  |======================================================================| 100%\n",
      "  |======================================================================| 100%\n",
      "  |======================================================================| 100%\n",
      "  |======================================================================| 100%\n",
      "  |======================================================================| 100%\n",
      "  |======================================================================| 100%\n",
      "  |======================================================================| 100%\n"
     ]
    }
   ],
   "source": [
    "# build augmented self-taught networks\n",
    "build.augmented.nn <- function(index) {\n",
    "    # choose the augmented data\n",
    "    labeled.augmented.frame <- labeled.augmented.frames[[index]]\n",
    "    neuron <- neurons[index]\n",
    "    h2o.deeplearning(\n",
    "        x = 2:ncol(labeled.augmented.frame),\n",
    "        y = 1,\n",
    "        training_frame = labeled.augmented.frame,\n",
    "        hidden = c(neuron),\n",
    "        epochs = 5,\n",
    "        rate = 0.001,\n",
    "        activation = \"Tanh\",\n",
    "        autoencoder = FALSE, \n",
    "        seed = 42, \n",
    "        rate_decay = 0.95,\n",
    "        l1 = 0.01,\n",
    "        l2 = 0.1\n",
    "    )\n",
    "}\n",
    "\n",
    "# record the models\n",
    "augmented.nn.models <- 1:length(neurons) %>% lapply(build.augmented.nn)\n",
    "# calculate test errors\n",
    "augmented.nn.errors <- 1:length(neurons) %>% sapply(function(index) {\n",
    "    nn = augmented.nn.models[[index]]\n",
    "    test.augmented.frame = test.augmented.frames[[index]]\n",
    "    1 - mean(predict(nn, test.augmented.frame)$predict == test.frame$label)\n",
    "})"
   ]
  },
  {
   "cell_type": "markdown",
   "metadata": {},
   "source": [
    "Visualize the test errors of the models based on the original dataset and the augmented dataset."
   ]
  },
  {
   "cell_type": "code",
   "execution_count": 8,
   "metadata": {},
   "outputs": [
    {
     "data": {
      "image/png": "[encoded data removed]",
      "text/plain": [
       "plot without title"
      ]
     },
     "metadata": {},
     "output_type": "display_data"
    }
   ],
   "source": [
    "data.frame(neuron = neurons, original = nn.errors, augmented = augmented.nn.errors) %>% \n",
    "    melt(id.vars = \"neuron\") %>%\n",
    "    ggplot + \n",
    "    geom_line(aes(x = neuron, y = value, color = variable)) + \n",
    "    labs(x = \"Neuron\", y = \"Test Error\", color = \"Neural Network\") + \n",
    "    ggtitle(\"The Test Error of Neural Networks\")"
   ]
  },
  {
   "cell_type": "markdown",
   "metadata": {},
   "source": [
    "Explain: \n",
    "\n",
    "From the visualization output, the test error of both original model and augmented model decreases when the number of neurons is increasing. With more hidden neurons, the neural networks can be more complex and non-linearity. Therefore, the increasing number of neurons can help model to reduce the test error.\n",
    "\n",
    "Besides, the test error of augmented model is lower than original model in most cases. As the augmented model contains the hidden features learned in autoencoders, the neural network classifier can use the additional features to classify data, which is an improvement comparing to the original model with original features.\n"
   ]
  }
 ],
 "metadata": {
  "kernelspec": {
   "display_name": "R",
   "language": "R",
   "name": "ir"
  },
  "language_info": {
   "codemirror_mode": "r",
   "file_extension": ".r",
   "mimetype": "text/x-r-source",
   "name": "R",
   "pygments_lexer": "r",
   "version": "3.6.1"
  }
 },
 "nbformat": 4,
 "nbformat_minor": 4
}
