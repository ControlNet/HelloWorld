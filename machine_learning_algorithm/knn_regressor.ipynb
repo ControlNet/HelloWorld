{
 "cells": [
  {
   "cell_type": "markdown",
   "metadata": {},
   "source": [
    "# KNN Regressor\n",
    "\n",
    "Environment: R 3.6.1 and Jupyter notebook\n",
    "\n",
    "Libraries used:\n",
    "* dplyr\n",
    "* ggplot2\n",
    "* reshape2\n",
    "\n",
    "## Introduction\n",
    "\n",
    "In this notebook, a KNN regressor need to be implemented as a function `knn(train.data, train.label, test.data, K=3)`. \n",
    "\n",
    "The regressor function is `mean` and the distance function is Manhattan distance function.\n",
    "\n",
    "As the R language is a functional language and R is slow when using for-loop, I try to use inner functions and closures with apply-family functions in the implementations instead of for-loops. \n",
    "\n",
    "Besides, to make the algorithms implemented suitable for more generic purpose, the generalization of machine learning algorithms is considered. Therefore, the OOP paradigm is used here.\n",
    "\n",
    "## Import libraries"
   ]
  },
  {
   "cell_type": "code",
   "execution_count": 1,
   "metadata": {},
   "outputs": [
    {
     "name": "stderr",
     "output_type": "stream",
     "text": [
      "\n",
      "Attaching package: 'dplyr'\n",
      "\n",
      "The following objects are masked from 'package:stats':\n",
      "\n",
      "    filter, lag\n",
      "\n",
      "The following objects are masked from 'package:base':\n",
      "\n",
      "    intersect, setdiff, setequal, union\n",
      "\n",
      "Registered S3 methods overwritten by 'ggplot2':\n",
      "  method         from \n",
      "  [.quosures     rlang\n",
      "  c.quosures     rlang\n",
      "  print.quosures rlang\n"
     ]
    }
   ],
   "source": [
    "library(dplyr)\n",
    "library(ggplot2)\n",
    "library(reshape2)"
   ]
  },
  {
   "cell_type": "code",
   "execution_count": 2,
   "metadata": {},
   "outputs": [],
   "source": [
    "read_data <- function(fname, sc) {\n",
    "  data <- read.csv(file = fname, head = TRUE, sep = \",\")\n",
    "  nr = dim(data)[1]\n",
    "  nc = dim(data)[2]\n",
    "  x = data[1:nr, 1:(nc - 1)]\n",
    "  y = data[1:nr, nc]\n",
    "  if (isTRUE(sc)) {\n",
    "    x = scale(x)\n",
    "    y = scale(y)\n",
    "  }\n",
    "  return(list(\"x\" = x, \"y\" = y))\n",
    "}"
   ]
  },
  {
   "cell_type": "markdown",
   "metadata": {},
   "source": [
    "## Read data"
   ]
  },
  {
   "cell_type": "code",
   "execution_count": 3,
   "metadata": {},
   "outputs": [],
   "source": [
    "# read the train and test data\n",
    "train_data <- read_data(\"train1.csv\", FALSE)\n",
    "x_train <- train_data$x\n",
    "y_train <- train_data$y\n",
    "test_data <- read_data(\"test1.csv\", FALSE)\n",
    "x_test <- test_data$x\n",
    "y_test <- test_data$y"
   ]
  },
  {
   "cell_type": "markdown",
   "metadata": {},
   "source": [
    "## Implement KNN regressor"
   ]
  },
  {
   "cell_type": "markdown",
   "metadata": {},
   "source": [
    "Define a sklearn-style class `KNNRegressor` to implement the knn regressor easier and more generic.\n",
    "\n",
    "The class `KNNRegressor` contains \n",
    "- fields: \n",
    "    - `k`: The K value in KNN\n",
    "    - `x_train`: The x/predictors' values of train data\n",
    "    - `y_train`: The y/labels' values of train data\n",
    "- methods:\n",
    "    - `fit`: This method is for making the machine learning model object to fit train data. For KNNRegressor, it is recording the train data for computing nearest neighbours.\n",
    "    - `predict`: This method is for making the machine learning model to predict the test data to get predicted labels."
   ]
  },
  {
   "cell_type": "code",
   "execution_count": 4,
   "metadata": {},
   "outputs": [],
   "source": [
    "KNNRegressor <- setRefClass(\"KNNRegressor\",\n",
    "                            fields = list(k = \"numeric\", x_train = \"data.frame\", y_train = \"data.frame\"),\n",
    "                            methods = list(\n",
    "                                \n",
    "                              initialize = function(k) {\n",
    "                                .self$k <- k\n",
    "                              },\n",
    "\n",
    "                              fit = function(x_train, y_train) {\n",
    "                                .self$x_train <- x_train\n",
    "                                .self$y_train <- y_train\n",
    "                                .self\n",
    "                              },\n",
    "\n",
    "                              predict = function(x_test) {\n",
    "                                # define a inner function for applying each row\n",
    "                                predict_for_row <- function(x_test_row) {\n",
    "                                  # calculate the distance for each test data\n",
    "                                  distance <- .self$x_train %>% \n",
    "                                    apply(1, function(x_train_row) {\n",
    "                                    # Manhattan distance function\n",
    "                                    x_train_row[\"dist\"] <- sum(abs(x_train_row - x_test_row))\n",
    "                                    x_train_row\n",
    "                                    }) %>% \n",
    "                                    t %>% \n",
    "                                    as.data.frame %>% .[\"dist\"]\n",
    "                                    \n",
    "                                  # find the K nearest neighbours' labels\n",
    "                                  nearest_indexes <- order(distance$dist)[1:k]\n",
    "                                  train_labels <- .self$y_train[nearest_indexes,]\n",
    "                                  # predict the test labels with the mean of nearest neighbours\n",
    "                                  y_pred_row <- mean(train_labels)\n",
    "                                  y_pred_row\n",
    "                                }\n",
    "                                \n",
    "                                y_pred <- apply(x_test, 1, predict_for_row)\n",
    "                                y_pred\n",
    "                              }\n",
    "                            )\n",
    ")"
   ]
  },
  {
   "cell_type": "markdown",
   "metadata": {},
   "source": [
    "Implement `knn` function to use the `KNNRegressor` to achieve the target."
   ]
  },
  {
   "cell_type": "code",
   "execution_count": 5,
   "metadata": {},
   "outputs": [],
   "source": [
    "knn <- function(train.data, train.label, test.data, K=3) {\n",
    "    knn_regressor <- KNNRegressor(K)$fit(as.data.frame(train.data), as.data.frame(train.label))\n",
    "    knn_regressor$predict(as.data.frame(test.data))\n",
    "}"
   ]
  },
  {
   "cell_type": "markdown",
   "metadata": {},
   "source": [
    "## Visualization\n",
    "\n",
    "The train and test errors of KNN regressor with `K` = 1...30 need to be visualized.\n",
    "\n",
    "So, implement the error function, `error_func`, and the other functions used to calculate the errors for given k-value."
   ]
  },
  {
   "cell_type": "code",
   "execution_count": 6,
   "metadata": {},
   "outputs": [],
   "source": [
    "# Mean of squared error\n",
    "error_func <- function(test.pred, test.label) {\n",
    "    mean((test.pred - test.label) ^ 2)\n",
    "}\n",
    "# calculate the errors for given K and data\n",
    "cal_error_for_k <- function(k, x, y) {\n",
    "    y_pred <- knn(x_train, y_train, x, k)\n",
    "    error_func(y_pred, y)\n",
    "}\n",
    "\n",
    "# define the partial functions for calculating the errors for train and test data\n",
    "cal_train_error <- function(k) cal_error_for_k(k, x=x_train, y=y_train)\n",
    "cal_test_error <- function(k) cal_error_for_k(k, x=x_test, y=y_test)\n",
    "k <- 1:30"
   ]
  },
  {
   "cell_type": "code",
   "execution_count": 7,
   "metadata": {},
   "outputs": [],
   "source": [
    "# apply the function to get the errors\n",
    "train_error <- sapply(k, cal_train_error)\n",
    "test_error <- sapply(k, cal_test_error)\n",
    "error <- data.frame(k=1:30, train = train_error, test = test_error)\n",
    "# melt for visualization\n",
    "error_melt <- melt(error, id=\"k\")"
   ]
  },
  {
   "cell_type": "code",
   "execution_count": 8,
   "metadata": {},
   "outputs": [
    {
     "data": {
      "image/png": "[encoded data removed]",
      "text/plain": [
       "plot without title"
      ]
     },
     "metadata": {},
     "output_type": "display_data"
    }
   ],
   "source": [
    "# plot\n",
    "ggplot(data=error_melt %>% mutate(x = 1/k), aes(x=x, y=value, color=variable)) +\n",
    "    geom_line() + ggtitle('Test and Train Error') + labs(x=\"1/K\", y=\"Error\")"
   ]
  },
  {
   "cell_type": "code",
   "execution_count": 9,
   "metadata": {},
   "outputs": [
    {
     "data": {
      "text/html": [
       "11"
      ],
      "text/latex": [
       "11"
      ],
      "text/markdown": [
       "11"
      ],
      "text/plain": [
       "[1] 11"
      ]
     },
     "metadata": {},
     "output_type": "display_data"
    }
   ],
   "source": [
    "which.min(error$test)"
   ]
  },
  {
   "cell_type": "markdown",
   "metadata": {},
   "source": [
    "## Optimum value"
   ]
  },
  {
   "cell_type": "markdown",
   "metadata": {},
   "source": [
    "From the plot visualized and the calculated K value with minimum test error, the optimized K value is `11`.\n",
    "\n",
    "When K < 11, it is overfitting. As the predicted label is more depended on the few nearest neighbours rather than the majority data when K is small, the complexity of the model is large, so it is overfitting.\n",
    "\n",
    "When K > 11, it is underfitting in contrast.\n",
    "\n",
    "Therefore, when K = 11, the model is optimized."
   ]
  }
 ],
 "metadata": {
  "kernelspec": {
   "display_name": "R",
   "language": "R",
   "name": "ir"
  },
  "language_info": {
   "codemirror_mode": "r",
   "file_extension": ".r",
   "mimetype": "text/x-r-source",
   "name": "R",
   "pygments_lexer": "r",
   "version": "3.6.1"
  }
 },
 "nbformat": 4,
 "nbformat_minor": 4
}
