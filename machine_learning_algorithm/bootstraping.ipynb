{
 "cells": [
  {
   "cell_type": "markdown",
   "metadata": {},
   "source": [
    "# Bootstraping\n",
    "\n",
    "Environment: R 3.6.1 and Jupyter notebook\n",
    "\n",
    "Libraries used:\n",
    "* dplyr\n",
    "* reshape2\n",
    "* ggplot2\n",
    "\n",
    "## Introduction\n",
    "\n",
    "In this notebook, Bootstrap need to be implemented on KNN regressor , which is defined in the `knn_regressor.ipynb`. \n",
    "\n",
    "Bootstraping is a statistical method to sample the data from existed dataset, which can measure uncertainty in the prediction of a model. Also, the it can also help to improve the performance of the model by sampling the dataset with larger size.\n",
    "\n",
    "In this notebook, the model with different K and the model with different sample-size bootstraping will to be visualized.\n",
    "\n",
    "## Import libraries"
   ]
  },
  {
   "cell_type": "code",
   "execution_count": 1,
   "metadata": {},
   "outputs": [
    {
     "name": "stderr",
     "output_type": "stream",
     "text": [
      "\n",
      "Attaching package: 'dplyr'\n",
      "\n",
      "The following objects are masked from 'package:stats':\n",
      "\n",
      "    filter, lag\n",
      "\n",
      "The following objects are masked from 'package:base':\n",
      "\n",
      "    intersect, setdiff, setequal, union\n",
      "\n",
      "Registered S3 methods overwritten by 'ggplot2':\n",
      "  method         from \n",
      "  [.quosures     rlang\n",
      "  c.quosures     rlang\n",
      "  print.quosures rlang\n"
     ]
    }
   ],
   "source": [
    "options(warn=-1)\n",
    "library(dplyr)\n",
    "library(reshape2)\n",
    "library(ggplot2)"
   ]
  },
  {
   "cell_type": "code",
   "execution_count": 2,
   "metadata": {},
   "outputs": [],
   "source": [
    "read_data <- function(fname, sc) {\n",
    "  data <- read.csv(file = fname, head = TRUE, sep = \",\")\n",
    "  nr = dim(data)[1]\n",
    "  nc = dim(data)[2]\n",
    "  x = data[1:nr, 1:(nc - 1)]\n",
    "  y = data[1:nr, nc]\n",
    "  if (isTRUE(sc)) {\n",
    "    x = scale(x)\n",
    "    y = scale(y)\n",
    "  }\n",
    "  return(list(\"x\" = x, \"y\" = y))\n",
    "}\n",
    "\n",
    "KNNRegressor <- setRefClass(\"KNNRegressor\",\n",
    "                            fields = list(k = \"numeric\", x_train = \"data.frame\", y_train = \"data.frame\"),\n",
    "                            methods = list(\n",
    "                                \n",
    "                              initialize = function(k) {\n",
    "                                .self$k <- k\n",
    "                              },\n",
    "\n",
    "                              fit = function(x_train, y_train) {\n",
    "                                .self$x_train <- x_train\n",
    "                                .self$y_train <- y_train\n",
    "                                .self\n",
    "                              },\n",
    "\n",
    "                              predict = function(x_test) {\n",
    "                                # define a inner function `majority`  \n",
    "                                majority <- function(x) mean(x)\n",
    "                                # define a inner function for applying each row\n",
    "                                predict_for_row <- function(x_test_row) {\n",
    "                                  # calculate the distance for each test data\n",
    "                                  distance <- .self$x_train %>% \n",
    "                                    apply(1, function(x_train_row) {\n",
    "                                    # Manhattan distance function\n",
    "                                    x_train_row[\"dist\"] <- sum(abs(x_train_row - x_test_row))\n",
    "                                    x_train_row\n",
    "                                    }) %>% \n",
    "                                    t %>% \n",
    "                                    as.data.frame %>% .[\"dist\"]\n",
    "                                    \n",
    "                                  # find the K nearest neighbours' labels\n",
    "                                  nearest_indexes <- order(distance$dist)[1:k]\n",
    "                                  train_labels <- .self$y_train[nearest_indexes,]\n",
    "                                  # predict the test labels with the mean of nearest neighbours\n",
    "                                  y_pred_row <- majority(train_labels)\n",
    "                                  y_pred_row\n",
    "                                }\n",
    "                                \n",
    "                                y_pred <- apply(x_test, 1, predict_for_row)\n",
    "                                y_pred\n",
    "                              }\n",
    "                            )\n",
    ")\n",
    "\n",
    "knn <- function(train.data, train.label, test.data, K) {\n",
    "  knn_regressor <- KNNRegressor(K)$fit(as.data.frame(train.data), as.data.frame(train.label))\n",
    "  knn_regressor$predict(as.data.frame(test.data))\n",
    "}\n",
    "\n",
    "error_func <- function(test.pred, test.label) {\n",
    "  mean((test.pred - test.label) ^ 2)\n",
    "}"
   ]
  },
  {
   "cell_type": "markdown",
   "metadata": {},
   "source": [
    "## Read data"
   ]
  },
  {
   "cell_type": "code",
   "execution_count": 3,
   "metadata": {},
   "outputs": [
    {
     "data": {
      "text/html": [
       "<table>\n",
       "<thead><tr><th scope=col>x1</th><th scope=col>x2</th><th scope=col>x3</th><th scope=col>x4</th><th scope=col>y</th></tr></thead>\n",
       "<tbody>\n",
       "\t<tr><td>1991.496</td><td>1628.75 </td><td>1678.1  </td><td>1772.8  </td><td>2443.6  </td></tr>\n",
       "\t<tr><td>1991.504</td><td>1606.51 </td><td>1678.6  </td><td>1718.0  </td><td>2448.2  </td></tr>\n",
       "\t<tr><td>1991.512</td><td>1618.16 </td><td>1686.6  </td><td>1723.1  </td><td>2484.7  </td></tr>\n",
       "\t<tr><td>1991.519</td><td>1630.75 </td><td>1682.9  </td><td>1734.5  </td><td>2487.9  </td></tr>\n",
       "\t<tr><td>1991.527</td><td>1635.47 </td><td>1697.5  </td><td>1754.0  </td><td>2510.5  </td></tr>\n",
       "\t<tr><td>1991.535</td><td>1647.84 </td><td>1723.8  </td><td>1759.8  </td><td>2532.5  </td></tr>\n",
       "</tbody>\n",
       "</table>\n"
      ],
      "text/latex": [
       "\\begin{tabular}{r|lllll}\n",
       " x1 & x2 & x3 & x4 & y\\\\\n",
       "\\hline\n",
       "\t 1991.496 & 1628.75  & 1678.1   & 1772.8   & 2443.6  \\\\\n",
       "\t 1991.504 & 1606.51  & 1678.6   & 1718.0   & 2448.2  \\\\\n",
       "\t 1991.512 & 1618.16  & 1686.6   & 1723.1   & 2484.7  \\\\\n",
       "\t 1991.519 & 1630.75  & 1682.9   & 1734.5   & 2487.9  \\\\\n",
       "\t 1991.527 & 1635.47  & 1697.5   & 1754.0   & 2510.5  \\\\\n",
       "\t 1991.535 & 1647.84  & 1723.8   & 1759.8   & 2532.5  \\\\\n",
       "\\end{tabular}\n"
      ],
      "text/markdown": [
       "\n",
       "| x1 | x2 | x3 | x4 | y |\n",
       "|---|---|---|---|---|\n",
       "| 1991.496 | 1628.75  | 1678.1   | 1772.8   | 2443.6   |\n",
       "| 1991.504 | 1606.51  | 1678.6   | 1718.0   | 2448.2   |\n",
       "| 1991.512 | 1618.16  | 1686.6   | 1723.1   | 2484.7   |\n",
       "| 1991.519 | 1630.75  | 1682.9   | 1734.5   | 2487.9   |\n",
       "| 1991.527 | 1635.47  | 1697.5   | 1754.0   | 2510.5   |\n",
       "| 1991.535 | 1647.84  | 1723.8   | 1759.8   | 2532.5   |\n",
       "\n"
      ],
      "text/plain": [
       "  x1       x2      x3     x4     y     \n",
       "1 1991.496 1628.75 1678.1 1772.8 2443.6\n",
       "2 1991.504 1606.51 1678.6 1718.0 2448.2\n",
       "3 1991.512 1618.16 1686.6 1723.1 2484.7\n",
       "4 1991.519 1630.75 1682.9 1734.5 2487.9\n",
       "5 1991.527 1635.47 1697.5 1754.0 2510.5\n",
       "6 1991.535 1647.84 1723.8 1759.8 2532.5"
      ]
     },
     "metadata": {},
     "output_type": "display_data"
    }
   ],
   "source": [
    "train_data <- read.csv(\"train2.csv\")\n",
    "test_data <- read_data(\"test2.csv\", FALSE)\n",
    "x_test <- test_data$x\n",
    "y_test <- test_data$y\n",
    "head(train_data)"
   ]
  },
  {
   "cell_type": "markdown",
   "metadata": {},
   "source": [
    "## Implement Bootstrap\n",
    "\n",
    "A class `Bootstrap` is defined in this section for generic purpose. In the implementation, the data with multiple variables is considered.\n",
    "\n",
    "The class `Bootstrap` contains\n",
    "\n",
    "* fields:\n",
    "  * `original_dataset`: The dataset input for bootstrapping.\n",
    "  * `original_size`: The size of original dataset.\n",
    "  * `sample_size`: THe size of the boot sample.\n",
    "* methods:\n",
    "  * `sample`: Bootstrapping with `times` specified\n",
    "  * `sample_once`: Sample once with bootstrapping."
   ]
  },
  {
   "cell_type": "code",
   "execution_count": 4,
   "metadata": {},
   "outputs": [],
   "source": [
    "Bootstrap <- setRefClass(\"Bootstrap\",\n",
    "                         fields = list(\n",
    "                           original_dataset = \"data.frame\",\n",
    "                           original_size = \"numeric\",\n",
    "                           sample_size = \"numeric\"),\n",
    "                         methods = list(\n",
    "                           initialize = function(original_dataset, sample_size) {\n",
    "                             .self$original_dataset <- original_dataset\n",
    "                             # get the original size by getting the row of original dataset\n",
    "                             .self$original_size <- nrow(original_dataset)\n",
    "                             .self$sample_size <- sample_size\n",
    "                           },\n",
    "\n",
    "                           sample = function(times) {\n",
    "                             # for each time, generate a bootstrapping indexes and concat by rows\n",
    "                             indexes <- Reduce(rbind, lapply(1:times, function(t) base::sample(x = .self$original_size,\n",
    "                                                       size = .self$sample_size, replace = TRUE)))\n",
    "                             # from indexes get data from original dataset\n",
    "                             result <- apply(indexes, 1, function(indexes) .self$original_dataset[indexes,])\n",
    "                             result\n",
    "                           },\n",
    "\n",
    "                           sample_once = function() {\n",
    "                             .self$sample(1)[[1]]\n",
    "                           }\n",
    "                         )\n",
    ")"
   ]
  },
  {
   "cell_type": "code",
   "execution_count": 5,
   "metadata": {},
   "outputs": [],
   "source": [
    "boot <- function(original_dataset, sample_size, times) {\n",
    "    Bootstrap(original_dataset, sample_size)$sample(times)\n",
    "}"
   ]
  },
  {
   "cell_type": "markdown",
   "metadata": {},
   "source": [
    "## Visualization\n",
    "\n",
    "#### Part 1\n",
    "Firstly visualize something. Let's plot with `K = 1 to 15`, `times = 50`, `size = 20`,"
   ]
  },
  {
   "cell_type": "code",
   "execution_count": null,
   "metadata": {},
   "outputs": [],
   "source": [
    "# time consumption: about 5 minutes\n",
    "# get the boot data with specified size and times\n",
    "boot_data <- boot(train_data, sample_size = 20, times = 50)\n",
    "\n",
    "# define a function for calculate errors from data and K\n",
    "cal_error <- function(data, k) {\n",
    "  pred <- knn(train.data = data[,-5], train.label = data[,5], test.data = x_test, K = k)\n",
    "  error_func(pred, y_test)  \n",
    "}\n",
    "\n",
    "# calculate the errors when K is in 1:15\n",
    "errors <- Reduce(rbind, lapply(1:15, function(i) {\n",
    "  sapply(boot_data, cal_error, k=i)\n",
    "}))"
   ]
  },
  {
   "cell_type": "code",
   "execution_count": 7,
   "metadata": {},
   "outputs": [
    {
     "data": {
      "text/html": [
       "<table>\n",
       "<caption>A matrix: 15 × 50 of type dbl</caption>\n",
       "<tbody>\n",
       "\t<tr><th scope=row>1</th><td> 18456.35</td><td> 25965.87</td><td> 23033.05</td><td> 56884.68</td><td> 74780.6</td><td> 30821.32</td><td> 62404.46</td><td> 26514.73</td><td> 28439.57</td><td> 29840.01</td><td>...</td><td> 30887.89</td><td> 33814.26</td><td> 31111.81</td><td> 83224.30</td><td> 26611.90</td><td> 34896.29</td><td> 31004.41</td><td>102533.6</td><td>160288.4</td><td> 43463.49</td></tr>\n",
       "\t<tr><th scope=row>2</th><td> 23483.80</td><td> 31150.60</td><td> 15912.78</td><td>121112.67</td><td>127081.6</td><td> 43224.70</td><td> 48949.08</td><td> 20123.16</td><td> 28710.02</td><td> 40125.07</td><td>...</td><td> 29217.85</td><td> 43139.31</td><td> 35173.09</td><td> 80275.06</td><td> 27479.23</td><td> 52518.04</td><td> 24635.34</td><td>119611.1</td><td>196014.9</td><td> 49013.66</td></tr>\n",
       "\t<tr><th scope=row>3</th><td> 32688.07</td><td> 39941.70</td><td> 22519.41</td><td>159429.03</td><td>227105.6</td><td> 64338.80</td><td> 38626.44</td><td> 22086.92</td><td> 41053.32</td><td> 55258.50</td><td>...</td><td> 48946.90</td><td> 54042.51</td><td> 49126.88</td><td> 75083.23</td><td> 25149.59</td><td> 86098.36</td><td> 21940.64</td><td>151448.3</td><td>236477.8</td><td> 50215.05</td></tr>\n",
       "\t<tr><th scope=row>4</th><td> 44657.52</td><td> 56302.17</td><td> 32909.36</td><td>213263.07</td><td>322843.1</td><td> 90061.52</td><td> 41504.05</td><td> 34678.12</td><td> 60076.87</td><td> 81802.22</td><td>...</td><td> 80250.65</td><td> 76398.86</td><td> 86415.50</td><td>131568.95</td><td> 35839.05</td><td>148290.91</td><td> 39186.78</td><td>175198.8</td><td>294513.7</td><td> 56210.67</td></tr>\n",
       "\t<tr><th scope=row>5</th><td> 56739.36</td><td> 74674.87</td><td> 39540.59</td><td>272896.98</td><td>397721.8</td><td>140694.21</td><td> 58342.31</td><td> 50815.38</td><td> 80581.71</td><td>125767.37</td><td>...</td><td>124445.39</td><td> 92883.43</td><td>147526.60</td><td>195665.67</td><td> 59610.76</td><td>229218.10</td><td> 66504.27</td><td>199714.8</td><td>316695.8</td><td> 57649.93</td></tr>\n",
       "\t<tr><th scope=row>6</th><td> 74052.61</td><td>104887.75</td><td> 59780.50</td><td>309904.03</td><td>434662.4</td><td>195257.13</td><td> 59050.74</td><td> 67759.02</td><td>110570.35</td><td>173442.16</td><td>...</td><td>182900.45</td><td>131089.19</td><td>214543.52</td><td>271312.57</td><td> 85150.15</td><td>301408.81</td><td>109164.71</td><td>248778.7</td><td>355667.2</td><td> 81791.48</td></tr>\n",
       "\t<tr><th scope=row>7</th><td> 95996.93</td><td>135259.72</td><td> 86317.25</td><td>343564.96</td><td>486301.3</td><td>245905.91</td><td> 87018.67</td><td> 89192.22</td><td>142420.27</td><td>209074.43</td><td>...</td><td>241330.78</td><td>175454.03</td><td>290061.03</td><td>328768.02</td><td>121447.95</td><td>368804.63</td><td>149807.28</td><td>292516.3</td><td>409474.7</td><td>123522.81</td></tr>\n",
       "\t<tr><th scope=row>8</th><td>127033.49</td><td>165717.33</td><td>117521.93</td><td>409135.64</td><td>528514.9</td><td>304950.51</td><td>124582.37</td><td>119051.36</td><td>169327.44</td><td>241131.75</td><td>...</td><td>290531.26</td><td>224849.62</td><td>348448.33</td><td>382075.52</td><td>153892.93</td><td>417090.69</td><td>187291.88</td><td>337135.8</td><td>465896.3</td><td>162164.70</td></tr>\n",
       "\t<tr><th scope=row>9</th><td>169439.31</td><td>200517.25</td><td>156460.31</td><td>461728.85</td><td>558148.3</td><td>363544.47</td><td>165068.76</td><td>150234.92</td><td>219892.01</td><td>298953.55</td><td>...</td><td>336086.09</td><td>281790.83</td><td>410473.78</td><td>439340.07</td><td>196788.42</td><td>482159.09</td><td>236508.73</td><td>399792.0</td><td>489337.1</td><td>198864.48</td></tr>\n",
       "\t<tr><th scope=row>10</th><td>225538.85</td><td>250974.76</td><td>197820.18</td><td>487454.71</td><td>589162.8</td><td>428804.89</td><td>210450.50</td><td>182976.62</td><td>258712.25</td><td>333184.37</td><td>...</td><td>395289.17</td><td>323022.74</td><td>472815.97</td><td>494229.94</td><td>240716.36</td><td>528685.04</td><td>283121.46</td><td>436032.3</td><td>519359.9</td><td>242115.86</td></tr>\n",
       "\t<tr><th scope=row>11</th><td>272400.96</td><td>293015.22</td><td>237406.09</td><td>512075.40</td><td>637503.0</td><td>488555.28</td><td>260702.27</td><td>233035.18</td><td>313775.25</td><td>377073.24</td><td>...</td><td>432918.61</td><td>378388.75</td><td>527064.63</td><td>542888.68</td><td>286085.82</td><td>585180.96</td><td>332764.27</td><td>484618.6</td><td>550707.9</td><td>283639.92</td></tr>\n",
       "\t<tr><th scope=row>12</th><td>321520.11</td><td>343417.78</td><td>287615.54</td><td>560334.23</td><td>681219.1</td><td>540083.23</td><td>311948.91</td><td>284252.34</td><td>350601.90</td><td>420562.42</td><td>...</td><td>476684.77</td><td>433189.05</td><td>574508.29</td><td>584798.56</td><td>340080.24</td><td>633574.67</td><td>388026.08</td><td>529249.2</td><td>585619.5</td><td>336125.37</td></tr>\n",
       "\t<tr><th scope=row>13</th><td>379281.74</td><td>392898.09</td><td>347595.85</td><td>608142.87</td><td>718093.3</td><td>607295.44</td><td>362985.34</td><td>343321.10</td><td>413155.28</td><td>481381.62</td><td>...</td><td>522958.18</td><td>488519.72</td><td>618902.75</td><td>625986.97</td><td>400591.29</td><td>688208.99</td><td>441126.50</td><td>582396.0</td><td>626875.3</td><td>382765.72</td></tr>\n",
       "\t<tr><th scope=row>14</th><td>422671.59</td><td>446001.25</td><td>412478.13</td><td>659576.65</td><td>751022.7</td><td>678151.71</td><td>416260.33</td><td>413226.75</td><td>469326.86</td><td>555815.17</td><td>...</td><td>561829.13</td><td>545134.27</td><td>667108.64</td><td>680920.30</td><td>457681.54</td><td>748969.25</td><td>496551.26</td><td>636783.0</td><td>666715.8</td><td>423070.80</td></tr>\n",
       "\t<tr><th scope=row>15</th><td>484989.20</td><td>508877.87</td><td>476270.50</td><td>709266.63</td><td>783853.7</td><td>748873.00</td><td>470336.66</td><td>491547.88</td><td>534506.87</td><td>628251.33</td><td>...</td><td>602261.22</td><td>594609.32</td><td>724290.87</td><td>734964.98</td><td>523425.00</td><td>813289.59</td><td>554410.06</td><td>691015.4</td><td>714767.8</td><td>481673.49</td></tr>\n",
       "</tbody>\n",
       "</table>\n"
      ],
      "text/latex": [
       "A matrix: 15 × 50 of type dbl\n",
       "\\begin{tabular}{r|lllllllllllllllllllll}\n",
       "\t1 &  18456.35 &  25965.87 &  23033.05 &  56884.68 &  74780.6 &  30821.32 &  62404.46 &  26514.73 &  28439.57 &  29840.01 & ... &  30887.89 &  33814.26 &  31111.81 &  83224.30 &  26611.90 &  34896.29 &  31004.41 & 102533.6 & 160288.4 &  43463.49\\\\\n",
       "\t2 &  23483.80 &  31150.60 &  15912.78 & 121112.67 & 127081.6 &  43224.70 &  48949.08 &  20123.16 &  28710.02 &  40125.07 & ... &  29217.85 &  43139.31 &  35173.09 &  80275.06 &  27479.23 &  52518.04 &  24635.34 & 119611.1 & 196014.9 &  49013.66\\\\\n",
       "\t3 &  32688.07 &  39941.70 &  22519.41 & 159429.03 & 227105.6 &  64338.80 &  38626.44 &  22086.92 &  41053.32 &  55258.50 & ... &  48946.90 &  54042.51 &  49126.88 &  75083.23 &  25149.59 &  86098.36 &  21940.64 & 151448.3 & 236477.8 &  50215.05\\\\\n",
       "\t4 &  44657.52 &  56302.17 &  32909.36 & 213263.07 & 322843.1 &  90061.52 &  41504.05 &  34678.12 &  60076.87 &  81802.22 & ... &  80250.65 &  76398.86 &  86415.50 & 131568.95 &  35839.05 & 148290.91 &  39186.78 & 175198.8 & 294513.7 &  56210.67\\\\\n",
       "\t5 &  56739.36 &  74674.87 &  39540.59 & 272896.98 & 397721.8 & 140694.21 &  58342.31 &  50815.38 &  80581.71 & 125767.37 & ... & 124445.39 &  92883.43 & 147526.60 & 195665.67 &  59610.76 & 229218.10 &  66504.27 & 199714.8 & 316695.8 &  57649.93\\\\\n",
       "\t6 &  74052.61 & 104887.75 &  59780.50 & 309904.03 & 434662.4 & 195257.13 &  59050.74 &  67759.02 & 110570.35 & 173442.16 & ... & 182900.45 & 131089.19 & 214543.52 & 271312.57 &  85150.15 & 301408.81 & 109164.71 & 248778.7 & 355667.2 &  81791.48\\\\\n",
       "\t7 &  95996.93 & 135259.72 &  86317.25 & 343564.96 & 486301.3 & 245905.91 &  87018.67 &  89192.22 & 142420.27 & 209074.43 & ... & 241330.78 & 175454.03 & 290061.03 & 328768.02 & 121447.95 & 368804.63 & 149807.28 & 292516.3 & 409474.7 & 123522.81\\\\\n",
       "\t8 & 127033.49 & 165717.33 & 117521.93 & 409135.64 & 528514.9 & 304950.51 & 124582.37 & 119051.36 & 169327.44 & 241131.75 & ... & 290531.26 & 224849.62 & 348448.33 & 382075.52 & 153892.93 & 417090.69 & 187291.88 & 337135.8 & 465896.3 & 162164.70\\\\\n",
       "\t9 & 169439.31 & 200517.25 & 156460.31 & 461728.85 & 558148.3 & 363544.47 & 165068.76 & 150234.92 & 219892.01 & 298953.55 & ... & 336086.09 & 281790.83 & 410473.78 & 439340.07 & 196788.42 & 482159.09 & 236508.73 & 399792.0 & 489337.1 & 198864.48\\\\\n",
       "\t10 & 225538.85 & 250974.76 & 197820.18 & 487454.71 & 589162.8 & 428804.89 & 210450.50 & 182976.62 & 258712.25 & 333184.37 & ... & 395289.17 & 323022.74 & 472815.97 & 494229.94 & 240716.36 & 528685.04 & 283121.46 & 436032.3 & 519359.9 & 242115.86\\\\\n",
       "\t11 & 272400.96 & 293015.22 & 237406.09 & 512075.40 & 637503.0 & 488555.28 & 260702.27 & 233035.18 & 313775.25 & 377073.24 & ... & 432918.61 & 378388.75 & 527064.63 & 542888.68 & 286085.82 & 585180.96 & 332764.27 & 484618.6 & 550707.9 & 283639.92\\\\\n",
       "\t12 & 321520.11 & 343417.78 & 287615.54 & 560334.23 & 681219.1 & 540083.23 & 311948.91 & 284252.34 & 350601.90 & 420562.42 & ... & 476684.77 & 433189.05 & 574508.29 & 584798.56 & 340080.24 & 633574.67 & 388026.08 & 529249.2 & 585619.5 & 336125.37\\\\\n",
       "\t13 & 379281.74 & 392898.09 & 347595.85 & 608142.87 & 718093.3 & 607295.44 & 362985.34 & 343321.10 & 413155.28 & 481381.62 & ... & 522958.18 & 488519.72 & 618902.75 & 625986.97 & 400591.29 & 688208.99 & 441126.50 & 582396.0 & 626875.3 & 382765.72\\\\\n",
       "\t14 & 422671.59 & 446001.25 & 412478.13 & 659576.65 & 751022.7 & 678151.71 & 416260.33 & 413226.75 & 469326.86 & 555815.17 & ... & 561829.13 & 545134.27 & 667108.64 & 680920.30 & 457681.54 & 748969.25 & 496551.26 & 636783.0 & 666715.8 & 423070.80\\\\\n",
       "\t15 & 484989.20 & 508877.87 & 476270.50 & 709266.63 & 783853.7 & 748873.00 & 470336.66 & 491547.88 & 534506.87 & 628251.33 & ... & 602261.22 & 594609.32 & 724290.87 & 734964.98 & 523425.00 & 813289.59 & 554410.06 & 691015.4 & 714767.8 & 481673.49\\\\\n",
       "\\end{tabular}\n"
      ],
      "text/markdown": [
       "\n",
       "A matrix: 15 × 50 of type dbl\n",
       "\n",
       "| 1 |  18456.35 |  25965.87 |  23033.05 |  56884.68 |  74780.6 |  30821.32 |  62404.46 |  26514.73 |  28439.57 |  29840.01 | ... |  30887.89 |  33814.26 |  31111.81 |  83224.30 |  26611.90 |  34896.29 |  31004.41 | 102533.6 | 160288.4 |  43463.49 |\n",
       "| 2 |  23483.80 |  31150.60 |  15912.78 | 121112.67 | 127081.6 |  43224.70 |  48949.08 |  20123.16 |  28710.02 |  40125.07 | ... |  29217.85 |  43139.31 |  35173.09 |  80275.06 |  27479.23 |  52518.04 |  24635.34 | 119611.1 | 196014.9 |  49013.66 |\n",
       "| 3 |  32688.07 |  39941.70 |  22519.41 | 159429.03 | 227105.6 |  64338.80 |  38626.44 |  22086.92 |  41053.32 |  55258.50 | ... |  48946.90 |  54042.51 |  49126.88 |  75083.23 |  25149.59 |  86098.36 |  21940.64 | 151448.3 | 236477.8 |  50215.05 |\n",
       "| 4 |  44657.52 |  56302.17 |  32909.36 | 213263.07 | 322843.1 |  90061.52 |  41504.05 |  34678.12 |  60076.87 |  81802.22 | ... |  80250.65 |  76398.86 |  86415.50 | 131568.95 |  35839.05 | 148290.91 |  39186.78 | 175198.8 | 294513.7 |  56210.67 |\n",
       "| 5 |  56739.36 |  74674.87 |  39540.59 | 272896.98 | 397721.8 | 140694.21 |  58342.31 |  50815.38 |  80581.71 | 125767.37 | ... | 124445.39 |  92883.43 | 147526.60 | 195665.67 |  59610.76 | 229218.10 |  66504.27 | 199714.8 | 316695.8 |  57649.93 |\n",
       "| 6 |  74052.61 | 104887.75 |  59780.50 | 309904.03 | 434662.4 | 195257.13 |  59050.74 |  67759.02 | 110570.35 | 173442.16 | ... | 182900.45 | 131089.19 | 214543.52 | 271312.57 |  85150.15 | 301408.81 | 109164.71 | 248778.7 | 355667.2 |  81791.48 |\n",
       "| 7 |  95996.93 | 135259.72 |  86317.25 | 343564.96 | 486301.3 | 245905.91 |  87018.67 |  89192.22 | 142420.27 | 209074.43 | ... | 241330.78 | 175454.03 | 290061.03 | 328768.02 | 121447.95 | 368804.63 | 149807.28 | 292516.3 | 409474.7 | 123522.81 |\n",
       "| 8 | 127033.49 | 165717.33 | 117521.93 | 409135.64 | 528514.9 | 304950.51 | 124582.37 | 119051.36 | 169327.44 | 241131.75 | ... | 290531.26 | 224849.62 | 348448.33 | 382075.52 | 153892.93 | 417090.69 | 187291.88 | 337135.8 | 465896.3 | 162164.70 |\n",
       "| 9 | 169439.31 | 200517.25 | 156460.31 | 461728.85 | 558148.3 | 363544.47 | 165068.76 | 150234.92 | 219892.01 | 298953.55 | ... | 336086.09 | 281790.83 | 410473.78 | 439340.07 | 196788.42 | 482159.09 | 236508.73 | 399792.0 | 489337.1 | 198864.48 |\n",
       "| 10 | 225538.85 | 250974.76 | 197820.18 | 487454.71 | 589162.8 | 428804.89 | 210450.50 | 182976.62 | 258712.25 | 333184.37 | ... | 395289.17 | 323022.74 | 472815.97 | 494229.94 | 240716.36 | 528685.04 | 283121.46 | 436032.3 | 519359.9 | 242115.86 |\n",
       "| 11 | 272400.96 | 293015.22 | 237406.09 | 512075.40 | 637503.0 | 488555.28 | 260702.27 | 233035.18 | 313775.25 | 377073.24 | ... | 432918.61 | 378388.75 | 527064.63 | 542888.68 | 286085.82 | 585180.96 | 332764.27 | 484618.6 | 550707.9 | 283639.92 |\n",
       "| 12 | 321520.11 | 343417.78 | 287615.54 | 560334.23 | 681219.1 | 540083.23 | 311948.91 | 284252.34 | 350601.90 | 420562.42 | ... | 476684.77 | 433189.05 | 574508.29 | 584798.56 | 340080.24 | 633574.67 | 388026.08 | 529249.2 | 585619.5 | 336125.37 |\n",
       "| 13 | 379281.74 | 392898.09 | 347595.85 | 608142.87 | 718093.3 | 607295.44 | 362985.34 | 343321.10 | 413155.28 | 481381.62 | ... | 522958.18 | 488519.72 | 618902.75 | 625986.97 | 400591.29 | 688208.99 | 441126.50 | 582396.0 | 626875.3 | 382765.72 |\n",
       "| 14 | 422671.59 | 446001.25 | 412478.13 | 659576.65 | 751022.7 | 678151.71 | 416260.33 | 413226.75 | 469326.86 | 555815.17 | ... | 561829.13 | 545134.27 | 667108.64 | 680920.30 | 457681.54 | 748969.25 | 496551.26 | 636783.0 | 666715.8 | 423070.80 |\n",
       "| 15 | 484989.20 | 508877.87 | 476270.50 | 709266.63 | 783853.7 | 748873.00 | 470336.66 | 491547.88 | 534506.87 | 628251.33 | ... | 602261.22 | 594609.32 | 724290.87 | 734964.98 | 523425.00 | 813289.59 | 554410.06 | 691015.4 | 714767.8 | 481673.49 |\n",
       "\n"
      ],
      "text/plain": [
       "   [,1]      [,2]      [,3]      [,4]      [,5]     [,6]      [,7]     \n",
       "1   18456.35  25965.87  23033.05  56884.68  74780.6  30821.32  62404.46\n",
       "2   23483.80  31150.60  15912.78 121112.67 127081.6  43224.70  48949.08\n",
       "3   32688.07  39941.70  22519.41 159429.03 227105.6  64338.80  38626.44\n",
       "4   44657.52  56302.17  32909.36 213263.07 322843.1  90061.52  41504.05\n",
       "5   56739.36  74674.87  39540.59 272896.98 397721.8 140694.21  58342.31\n",
       "6   74052.61 104887.75  59780.50 309904.03 434662.4 195257.13  59050.74\n",
       "7   95996.93 135259.72  86317.25 343564.96 486301.3 245905.91  87018.67\n",
       "8  127033.49 165717.33 117521.93 409135.64 528514.9 304950.51 124582.37\n",
       "9  169439.31 200517.25 156460.31 461728.85 558148.3 363544.47 165068.76\n",
       "10 225538.85 250974.76 197820.18 487454.71 589162.8 428804.89 210450.50\n",
       "11 272400.96 293015.22 237406.09 512075.40 637503.0 488555.28 260702.27\n",
       "12 321520.11 343417.78 287615.54 560334.23 681219.1 540083.23 311948.91\n",
       "13 379281.74 392898.09 347595.85 608142.87 718093.3 607295.44 362985.34\n",
       "14 422671.59 446001.25 412478.13 659576.65 751022.7 678151.71 416260.33\n",
       "15 484989.20 508877.87 476270.50 709266.63 783853.7 748873.00 470336.66\n",
       "   [,8]      [,9]      [,10]     [,11] [,12]     [,13]     [,14]     [,15]    \n",
       "1   26514.73  28439.57  29840.01 ...    30887.89  33814.26  31111.81  83224.30\n",
       "2   20123.16  28710.02  40125.07 ...    29217.85  43139.31  35173.09  80275.06\n",
       "3   22086.92  41053.32  55258.50 ...    48946.90  54042.51  49126.88  75083.23\n",
       "4   34678.12  60076.87  81802.22 ...    80250.65  76398.86  86415.50 131568.95\n",
       "5   50815.38  80581.71 125767.37 ...   124445.39  92883.43 147526.60 195665.67\n",
       "6   67759.02 110570.35 173442.16 ...   182900.45 131089.19 214543.52 271312.57\n",
       "7   89192.22 142420.27 209074.43 ...   241330.78 175454.03 290061.03 328768.02\n",
       "8  119051.36 169327.44 241131.75 ...   290531.26 224849.62 348448.33 382075.52\n",
       "9  150234.92 219892.01 298953.55 ...   336086.09 281790.83 410473.78 439340.07\n",
       "10 182976.62 258712.25 333184.37 ...   395289.17 323022.74 472815.97 494229.94\n",
       "11 233035.18 313775.25 377073.24 ...   432918.61 378388.75 527064.63 542888.68\n",
       "12 284252.34 350601.90 420562.42 ...   476684.77 433189.05 574508.29 584798.56\n",
       "13 343321.10 413155.28 481381.62 ...   522958.18 488519.72 618902.75 625986.97\n",
       "14 413226.75 469326.86 555815.17 ...   561829.13 545134.27 667108.64 680920.30\n",
       "15 491547.88 534506.87 628251.33 ...   602261.22 594609.32 724290.87 734964.98\n",
       "   [,16]     [,17]     [,18]     [,19]    [,20]    [,21]    \n",
       "1   26611.90  34896.29  31004.41 102533.6 160288.4  43463.49\n",
       "2   27479.23  52518.04  24635.34 119611.1 196014.9  49013.66\n",
       "3   25149.59  86098.36  21940.64 151448.3 236477.8  50215.05\n",
       "4   35839.05 148290.91  39186.78 175198.8 294513.7  56210.67\n",
       "5   59610.76 229218.10  66504.27 199714.8 316695.8  57649.93\n",
       "6   85150.15 301408.81 109164.71 248778.7 355667.2  81791.48\n",
       "7  121447.95 368804.63 149807.28 292516.3 409474.7 123522.81\n",
       "8  153892.93 417090.69 187291.88 337135.8 465896.3 162164.70\n",
       "9  196788.42 482159.09 236508.73 399792.0 489337.1 198864.48\n",
       "10 240716.36 528685.04 283121.46 436032.3 519359.9 242115.86\n",
       "11 286085.82 585180.96 332764.27 484618.6 550707.9 283639.92\n",
       "12 340080.24 633574.67 388026.08 529249.2 585619.5 336125.37\n",
       "13 400591.29 688208.99 441126.50 582396.0 626875.3 382765.72\n",
       "14 457681.54 748969.25 496551.26 636783.0 666715.8 423070.80\n",
       "15 523425.00 813289.59 554410.06 691015.4 714767.8 481673.49"
      ]
     },
     "metadata": {},
     "output_type": "display_data"
    }
   ],
   "source": [
    "# reformat the names of columns and rows\n",
    "rownames(errors) <- 1:15\n",
    "colnames(errors) <- NULL\n",
    "errors"
   ]
  },
  {
   "cell_type": "code",
   "execution_count": 8,
   "metadata": {},
   "outputs": [],
   "source": [
    "# melt the errors for plot\n",
    "errors_melt <- errors %>% t %>% melt"
   ]
  },
  {
   "cell_type": "code",
   "execution_count": 9,
   "metadata": {},
   "outputs": [
    {
     "data": {
      "image/png": "[encoded data removed]",
      "text/plain": [
       "plot without title"
      ]
     },
     "metadata": {
      "image/png": {
       "height": 420,
       "width": 420
      },
      "text/plain": {
       "height": 420,
       "width": 420
      }
     },
     "output_type": "display_data"
    }
   ],
   "source": [
    "# plot\n",
    "ggplot() + geom_boxplot(data = errors_melt, mapping = aes(x=factor(Var2), y=value), outlier.shape = NA) + \n",
    "  labs(x = \"K\", y = \"Test Error\") + ggtitle('Test Error vs. K (Box Plot)')\n",
    "\n",
    "options(warn=-1)"
   ]
  },
  {
   "cell_type": "markdown",
   "metadata": {},
   "source": [
    "##### Explain:\n",
    "From the plot, when the `sample_size` is fixed as 20, the `K` increases and the test error also increases. Also, the uncertainty can be considered as the range of the distribution, so when `K` increases, the uncertainty also increases.\n",
    "\n",
    "#### Part 2\n",
    "Another plot is visualizing errors when the sizes changes and K is fixed as `K = 5`.\n",
    "\n",
    "Apply the similar method to visualize it."
   ]
  },
  {
   "cell_type": "code",
   "execution_count": 10,
   "metadata": {},
   "outputs": [
    {
     "data": {
      "text/html": [
       "<table>\n",
       "<caption>A matrix: 15 × 50 of type dbl</caption>\n",
       "<tbody>\n",
       "\t<tr><th scope=row>5</th><td>1100587.00</td><td>1075042.58</td><td>1244658.08</td><td>976242.05</td><td>1155084.12</td><td>956073.53</td><td>1048587.67</td><td>1230756.15</td><td>1212164.22</td><td> 964744.70</td><td>...</td><td>978667.01</td><td>981404.50</td><td>965201.77</td><td>978709.48</td><td>1777944.27</td><td>1728357.10</td><td>1011285.01</td><td>969519.11</td><td>984993.15</td><td>989483.05</td></tr>\n",
       "\t<tr><th scope=row>10</th><td> 398715.34</td><td> 200738.59</td><td> 233917.95</td><td>308248.63</td><td> 221027.75</td><td>325371.90</td><td> 375737.42</td><td> 316577.51</td><td> 307048.95</td><td>1022111.86</td><td>...</td><td>179754.63</td><td>541481.30</td><td>395132.91</td><td>187656.75</td><td> 227861.36</td><td> 373622.99</td><td> 235406.71</td><td>558555.02</td><td>484890.23</td><td>401998.91</td></tr>\n",
       "\t<tr><th scope=row>15</th><td> 183716.67</td><td> 299609.05</td><td> 342526.26</td><td>107596.00</td><td> 463519.91</td><td>174766.76</td><td> 191413.94</td><td> 259286.32</td><td> 315564.42</td><td>  99608.13</td><td>...</td><td>329011.53</td><td>498720.54</td><td>248899.81</td><td>117432.87</td><td> 254290.88</td><td> 234386.66</td><td> 597156.06</td><td>234205.51</td><td>115217.18</td><td>224769.35</td></tr>\n",
       "\t<tr><th scope=row>20</th><td> 286537.84</td><td> 124599.12</td><td>  95300.30</td><td>150780.59</td><td> 169613.14</td><td> 68954.28</td><td>  90003.83</td><td>  50433.30</td><td> 105877.05</td><td> 267174.05</td><td>...</td><td> 49110.65</td><td>198329.61</td><td> 90641.88</td><td>155772.38</td><td> 132409.37</td><td>  40249.38</td><td> 206989.07</td><td>142175.46</td><td>154750.28</td><td>156626.27</td></tr>\n",
       "\t<tr><th scope=row>25</th><td>  38284.52</td><td>  27271.93</td><td>  38995.94</td><td>119739.72</td><td> 182619.77</td><td>297429.62</td><td>  46172.81</td><td>  78736.19</td><td>  23282.39</td><td>  33290.29</td><td>...</td><td>102013.54</td><td>145602.44</td><td> 68952.14</td><td> 31746.12</td><td>  58158.88</td><td> 141665.74</td><td>  96979.20</td><td> 30337.72</td><td> 44633.37</td><td> 70152.58</td></tr>\n",
       "\t<tr><th scope=row>30</th><td>  36019.95</td><td>  54687.14</td><td>  27756.27</td><td> 32465.82</td><td>  37126.17</td><td> 74351.84</td><td> 204161.56</td><td> 109940.78</td><td>  96868.00</td><td>  64309.34</td><td>...</td><td> 64250.10</td><td> 29532.40</td><td> 82657.75</td><td> 22084.67</td><td>  41235.14</td><td>  34344.64</td><td>  49742.93</td><td>121587.56</td><td> 36015.07</td><td> 32656.20</td></tr>\n",
       "\t<tr><th scope=row>35</th><td>  25119.90</td><td>  44964.21</td><td>  39563.23</td><td> 29028.66</td><td>  33389.18</td><td> 31804.47</td><td>  21834.70</td><td>  26571.94</td><td>  36937.20</td><td>  68658.90</td><td>...</td><td> 78893.19</td><td> 75172.03</td><td> 49074.16</td><td> 98690.63</td><td>  37522.23</td><td>  31888.21</td><td>  15864.07</td><td> 61477.09</td><td> 24425.25</td><td> 38195.11</td></tr>\n",
       "\t<tr><th scope=row>40</th><td>  29106.17</td><td>  61362.32</td><td>  24809.12</td><td> 24166.12</td><td>  55571.82</td><td>127148.73</td><td>  33448.09</td><td>  20650.41</td><td>  22419.42</td><td>  14652.73</td><td>...</td><td> 60252.95</td><td> 16680.45</td><td> 25644.85</td><td> 56962.30</td><td>  27857.62</td><td>  21631.06</td><td>  24003.29</td><td> 21883.86</td><td> 18922.96</td><td> 21311.59</td></tr>\n",
       "\t<tr><th scope=row>45</th><td>  18984.60</td><td>  42679.32</td><td>  13701.80</td><td> 18231.74</td><td>  17745.05</td><td> 22636.31</td><td>  21953.95</td><td>  16300.00</td><td>  22340.03</td><td>  18975.37</td><td>...</td><td> 15271.12</td><td> 18760.53</td><td> 26087.21</td><td>105655.79</td><td> 165794.05</td><td>  31168.32</td><td>  19963.52</td><td> 36935.18</td><td> 18545.03</td><td> 95249.19</td></tr>\n",
       "\t<tr><th scope=row>50</th><td>  70445.52</td><td>  20930.76</td><td>  17176.27</td><td> 37085.12</td><td>  25496.17</td><td> 16677.42</td><td>  14029.94</td><td>  30659.85</td><td>  17423.63</td><td>  17569.65</td><td>...</td><td> 25689.45</td><td> 12412.78</td><td> 23443.20</td><td> 48769.94</td><td>  22195.39</td><td>  16784.37</td><td>  20397.62</td><td> 14912.11</td><td> 24659.97</td><td> 22241.01</td></tr>\n",
       "\t<tr><th scope=row>55</th><td>  18247.04</td><td>  28005.26</td><td>  48875.55</td><td> 11165.60</td><td>  30772.55</td><td> 17216.38</td><td>  20873.68</td><td>  29671.06</td><td>  36816.17</td><td>  16380.55</td><td>...</td><td> 43264.43</td><td> 16570.60</td><td> 44115.22</td><td> 19543.12</td><td>  14246.74</td><td>  15539.24</td><td>  16081.20</td><td> 21067.79</td><td> 29422.59</td><td> 21836.66</td></tr>\n",
       "\t<tr><th scope=row>60</th><td>  12654.48</td><td>  13832.19</td><td>  47904.42</td><td> 26463.90</td><td>  13533.04</td><td> 21342.94</td><td>  17725.06</td><td>  17691.26</td><td>  40173.87</td><td>  32592.06</td><td>...</td><td> 20808.96</td><td> 18849.11</td><td> 32028.57</td><td> 22903.95</td><td>  19403.85</td><td>  14571.38</td><td>  21495.67</td><td> 16479.89</td><td> 16592.85</td><td> 14170.92</td></tr>\n",
       "\t<tr><th scope=row>65</th><td> 171327.75</td><td>  18374.56</td><td>  18207.58</td><td> 13657.32</td><td>  16649.03</td><td> 19367.66</td><td>  25876.32</td><td>  16496.89</td><td>  30491.50</td><td>  14940.76</td><td>...</td><td> 23735.97</td><td> 12821.71</td><td> 21210.40</td><td> 27697.81</td><td>  14235.15</td><td>  29793.62</td><td>  14495.03</td><td> 31077.44</td><td> 12834.00</td><td> 18640.92</td></tr>\n",
       "\t<tr><th scope=row>70</th><td>  15029.77</td><td>  12003.38</td><td>  11965.80</td><td> 12333.16</td><td>  12492.16</td><td> 14204.82</td><td>  14056.48</td><td>  13503.68</td><td>  11438.38</td><td>  29876.04</td><td>...</td><td> 13511.56</td><td> 14069.80</td><td> 17654.77</td><td> 14842.76</td><td>  20486.18</td><td>  11509.77</td><td>  31574.24</td><td> 51519.39</td><td> 13363.17</td><td> 10860.84</td></tr>\n",
       "\t<tr><th scope=row>75</th><td>  12808.32</td><td>  13046.02</td><td>  13398.95</td><td> 24741.60</td><td>  19765.48</td><td> 12097.30</td><td>  12968.26</td><td>  15787.05</td><td>  11468.82</td><td>  31398.26</td><td>...</td><td> 12323.15</td><td> 15717.99</td><td> 13010.59</td><td> 10897.96</td><td>  16293.46</td><td>  11056.16</td><td>  10960.85</td><td> 13207.83</td><td> 31722.65</td><td> 17728.30</td></tr>\n",
       "</tbody>\n",
       "</table>\n"
      ],
      "text/latex": [
       "A matrix: 15 × 50 of type dbl\n",
       "\\begin{tabular}{r|lllllllllllllllllllll}\n",
       "\t5 & 1100587.00 & 1075042.58 & 1244658.08 & 976242.05 & 1155084.12 & 956073.53 & 1048587.67 & 1230756.15 & 1212164.22 &  964744.70 & ... & 978667.01 & 981404.50 & 965201.77 & 978709.48 & 1777944.27 & 1728357.10 & 1011285.01 & 969519.11 & 984993.15 & 989483.05\\\\\n",
       "\t10 &  398715.34 &  200738.59 &  233917.95 & 308248.63 &  221027.75 & 325371.90 &  375737.42 &  316577.51 &  307048.95 & 1022111.86 & ... & 179754.63 & 541481.30 & 395132.91 & 187656.75 &  227861.36 &  373622.99 &  235406.71 & 558555.02 & 484890.23 & 401998.91\\\\\n",
       "\t15 &  183716.67 &  299609.05 &  342526.26 & 107596.00 &  463519.91 & 174766.76 &  191413.94 &  259286.32 &  315564.42 &   99608.13 & ... & 329011.53 & 498720.54 & 248899.81 & 117432.87 &  254290.88 &  234386.66 &  597156.06 & 234205.51 & 115217.18 & 224769.35\\\\\n",
       "\t20 &  286537.84 &  124599.12 &   95300.30 & 150780.59 &  169613.14 &  68954.28 &   90003.83 &   50433.30 &  105877.05 &  267174.05 & ... &  49110.65 & 198329.61 &  90641.88 & 155772.38 &  132409.37 &   40249.38 &  206989.07 & 142175.46 & 154750.28 & 156626.27\\\\\n",
       "\t25 &   38284.52 &   27271.93 &   38995.94 & 119739.72 &  182619.77 & 297429.62 &   46172.81 &   78736.19 &   23282.39 &   33290.29 & ... & 102013.54 & 145602.44 &  68952.14 &  31746.12 &   58158.88 &  141665.74 &   96979.20 &  30337.72 &  44633.37 &  70152.58\\\\\n",
       "\t30 &   36019.95 &   54687.14 &   27756.27 &  32465.82 &   37126.17 &  74351.84 &  204161.56 &  109940.78 &   96868.00 &   64309.34 & ... &  64250.10 &  29532.40 &  82657.75 &  22084.67 &   41235.14 &   34344.64 &   49742.93 & 121587.56 &  36015.07 &  32656.20\\\\\n",
       "\t35 &   25119.90 &   44964.21 &   39563.23 &  29028.66 &   33389.18 &  31804.47 &   21834.70 &   26571.94 &   36937.20 &   68658.90 & ... &  78893.19 &  75172.03 &  49074.16 &  98690.63 &   37522.23 &   31888.21 &   15864.07 &  61477.09 &  24425.25 &  38195.11\\\\\n",
       "\t40 &   29106.17 &   61362.32 &   24809.12 &  24166.12 &   55571.82 & 127148.73 &   33448.09 &   20650.41 &   22419.42 &   14652.73 & ... &  60252.95 &  16680.45 &  25644.85 &  56962.30 &   27857.62 &   21631.06 &   24003.29 &  21883.86 &  18922.96 &  21311.59\\\\\n",
       "\t45 &   18984.60 &   42679.32 &   13701.80 &  18231.74 &   17745.05 &  22636.31 &   21953.95 &   16300.00 &   22340.03 &   18975.37 & ... &  15271.12 &  18760.53 &  26087.21 & 105655.79 &  165794.05 &   31168.32 &   19963.52 &  36935.18 &  18545.03 &  95249.19\\\\\n",
       "\t50 &   70445.52 &   20930.76 &   17176.27 &  37085.12 &   25496.17 &  16677.42 &   14029.94 &   30659.85 &   17423.63 &   17569.65 & ... &  25689.45 &  12412.78 &  23443.20 &  48769.94 &   22195.39 &   16784.37 &   20397.62 &  14912.11 &  24659.97 &  22241.01\\\\\n",
       "\t55 &   18247.04 &   28005.26 &   48875.55 &  11165.60 &   30772.55 &  17216.38 &   20873.68 &   29671.06 &   36816.17 &   16380.55 & ... &  43264.43 &  16570.60 &  44115.22 &  19543.12 &   14246.74 &   15539.24 &   16081.20 &  21067.79 &  29422.59 &  21836.66\\\\\n",
       "\t60 &   12654.48 &   13832.19 &   47904.42 &  26463.90 &   13533.04 &  21342.94 &   17725.06 &   17691.26 &   40173.87 &   32592.06 & ... &  20808.96 &  18849.11 &  32028.57 &  22903.95 &   19403.85 &   14571.38 &   21495.67 &  16479.89 &  16592.85 &  14170.92\\\\\n",
       "\t65 &  171327.75 &   18374.56 &   18207.58 &  13657.32 &   16649.03 &  19367.66 &   25876.32 &   16496.89 &   30491.50 &   14940.76 & ... &  23735.97 &  12821.71 &  21210.40 &  27697.81 &   14235.15 &   29793.62 &   14495.03 &  31077.44 &  12834.00 &  18640.92\\\\\n",
       "\t70 &   15029.77 &   12003.38 &   11965.80 &  12333.16 &   12492.16 &  14204.82 &   14056.48 &   13503.68 &   11438.38 &   29876.04 & ... &  13511.56 &  14069.80 &  17654.77 &  14842.76 &   20486.18 &   11509.77 &   31574.24 &  51519.39 &  13363.17 &  10860.84\\\\\n",
       "\t75 &   12808.32 &   13046.02 &   13398.95 &  24741.60 &   19765.48 &  12097.30 &   12968.26 &   15787.05 &   11468.82 &   31398.26 & ... &  12323.15 &  15717.99 &  13010.59 &  10897.96 &   16293.46 &   11056.16 &   10960.85 &  13207.83 &  31722.65 &  17728.30\\\\\n",
       "\\end{tabular}\n"
      ],
      "text/markdown": [
       "\n",
       "A matrix: 15 × 50 of type dbl\n",
       "\n",
       "| 5 | 1100587.00 | 1075042.58 | 1244658.08 | 976242.05 | 1155084.12 | 956073.53 | 1048587.67 | 1230756.15 | 1212164.22 |  964744.70 | ... | 978667.01 | 981404.50 | 965201.77 | 978709.48 | 1777944.27 | 1728357.10 | 1011285.01 | 969519.11 | 984993.15 | 989483.05 |\n",
       "| 10 |  398715.34 |  200738.59 |  233917.95 | 308248.63 |  221027.75 | 325371.90 |  375737.42 |  316577.51 |  307048.95 | 1022111.86 | ... | 179754.63 | 541481.30 | 395132.91 | 187656.75 |  227861.36 |  373622.99 |  235406.71 | 558555.02 | 484890.23 | 401998.91 |\n",
       "| 15 |  183716.67 |  299609.05 |  342526.26 | 107596.00 |  463519.91 | 174766.76 |  191413.94 |  259286.32 |  315564.42 |   99608.13 | ... | 329011.53 | 498720.54 | 248899.81 | 117432.87 |  254290.88 |  234386.66 |  597156.06 | 234205.51 | 115217.18 | 224769.35 |\n",
       "| 20 |  286537.84 |  124599.12 |   95300.30 | 150780.59 |  169613.14 |  68954.28 |   90003.83 |   50433.30 |  105877.05 |  267174.05 | ... |  49110.65 | 198329.61 |  90641.88 | 155772.38 |  132409.37 |   40249.38 |  206989.07 | 142175.46 | 154750.28 | 156626.27 |\n",
       "| 25 |   38284.52 |   27271.93 |   38995.94 | 119739.72 |  182619.77 | 297429.62 |   46172.81 |   78736.19 |   23282.39 |   33290.29 | ... | 102013.54 | 145602.44 |  68952.14 |  31746.12 |   58158.88 |  141665.74 |   96979.20 |  30337.72 |  44633.37 |  70152.58 |\n",
       "| 30 |   36019.95 |   54687.14 |   27756.27 |  32465.82 |   37126.17 |  74351.84 |  204161.56 |  109940.78 |   96868.00 |   64309.34 | ... |  64250.10 |  29532.40 |  82657.75 |  22084.67 |   41235.14 |   34344.64 |   49742.93 | 121587.56 |  36015.07 |  32656.20 |\n",
       "| 35 |   25119.90 |   44964.21 |   39563.23 |  29028.66 |   33389.18 |  31804.47 |   21834.70 |   26571.94 |   36937.20 |   68658.90 | ... |  78893.19 |  75172.03 |  49074.16 |  98690.63 |   37522.23 |   31888.21 |   15864.07 |  61477.09 |  24425.25 |  38195.11 |\n",
       "| 40 |   29106.17 |   61362.32 |   24809.12 |  24166.12 |   55571.82 | 127148.73 |   33448.09 |   20650.41 |   22419.42 |   14652.73 | ... |  60252.95 |  16680.45 |  25644.85 |  56962.30 |   27857.62 |   21631.06 |   24003.29 |  21883.86 |  18922.96 |  21311.59 |\n",
       "| 45 |   18984.60 |   42679.32 |   13701.80 |  18231.74 |   17745.05 |  22636.31 |   21953.95 |   16300.00 |   22340.03 |   18975.37 | ... |  15271.12 |  18760.53 |  26087.21 | 105655.79 |  165794.05 |   31168.32 |   19963.52 |  36935.18 |  18545.03 |  95249.19 |\n",
       "| 50 |   70445.52 |   20930.76 |   17176.27 |  37085.12 |   25496.17 |  16677.42 |   14029.94 |   30659.85 |   17423.63 |   17569.65 | ... |  25689.45 |  12412.78 |  23443.20 |  48769.94 |   22195.39 |   16784.37 |   20397.62 |  14912.11 |  24659.97 |  22241.01 |\n",
       "| 55 |   18247.04 |   28005.26 |   48875.55 |  11165.60 |   30772.55 |  17216.38 |   20873.68 |   29671.06 |   36816.17 |   16380.55 | ... |  43264.43 |  16570.60 |  44115.22 |  19543.12 |   14246.74 |   15539.24 |   16081.20 |  21067.79 |  29422.59 |  21836.66 |\n",
       "| 60 |   12654.48 |   13832.19 |   47904.42 |  26463.90 |   13533.04 |  21342.94 |   17725.06 |   17691.26 |   40173.87 |   32592.06 | ... |  20808.96 |  18849.11 |  32028.57 |  22903.95 |   19403.85 |   14571.38 |   21495.67 |  16479.89 |  16592.85 |  14170.92 |\n",
       "| 65 |  171327.75 |   18374.56 |   18207.58 |  13657.32 |   16649.03 |  19367.66 |   25876.32 |   16496.89 |   30491.50 |   14940.76 | ... |  23735.97 |  12821.71 |  21210.40 |  27697.81 |   14235.15 |   29793.62 |   14495.03 |  31077.44 |  12834.00 |  18640.92 |\n",
       "| 70 |   15029.77 |   12003.38 |   11965.80 |  12333.16 |   12492.16 |  14204.82 |   14056.48 |   13503.68 |   11438.38 |   29876.04 | ... |  13511.56 |  14069.80 |  17654.77 |  14842.76 |   20486.18 |   11509.77 |   31574.24 |  51519.39 |  13363.17 |  10860.84 |\n",
       "| 75 |   12808.32 |   13046.02 |   13398.95 |  24741.60 |   19765.48 |  12097.30 |   12968.26 |   15787.05 |   11468.82 |   31398.26 | ... |  12323.15 |  15717.99 |  13010.59 |  10897.96 |   16293.46 |   11056.16 |   10960.85 |  13207.83 |  31722.65 |  17728.30 |\n",
       "\n"
      ],
      "text/plain": [
       "   [,1]       [,2]       [,3]       [,4]      [,5]       [,6]      [,7]      \n",
       "5  1100587.00 1075042.58 1244658.08 976242.05 1155084.12 956073.53 1048587.67\n",
       "10  398715.34  200738.59  233917.95 308248.63  221027.75 325371.90  375737.42\n",
       "15  183716.67  299609.05  342526.26 107596.00  463519.91 174766.76  191413.94\n",
       "20  286537.84  124599.12   95300.30 150780.59  169613.14  68954.28   90003.83\n",
       "25   38284.52   27271.93   38995.94 119739.72  182619.77 297429.62   46172.81\n",
       "30   36019.95   54687.14   27756.27  32465.82   37126.17  74351.84  204161.56\n",
       "35   25119.90   44964.21   39563.23  29028.66   33389.18  31804.47   21834.70\n",
       "40   29106.17   61362.32   24809.12  24166.12   55571.82 127148.73   33448.09\n",
       "45   18984.60   42679.32   13701.80  18231.74   17745.05  22636.31   21953.95\n",
       "50   70445.52   20930.76   17176.27  37085.12   25496.17  16677.42   14029.94\n",
       "55   18247.04   28005.26   48875.55  11165.60   30772.55  17216.38   20873.68\n",
       "60   12654.48   13832.19   47904.42  26463.90   13533.04  21342.94   17725.06\n",
       "65  171327.75   18374.56   18207.58  13657.32   16649.03  19367.66   25876.32\n",
       "70   15029.77   12003.38   11965.80  12333.16   12492.16  14204.82   14056.48\n",
       "75   12808.32   13046.02   13398.95  24741.60   19765.48  12097.30   12968.26\n",
       "   [,8]       [,9]       [,10]      [,11] [,12]     [,13]     [,14]    \n",
       "5  1230756.15 1212164.22  964744.70 ...   978667.01 981404.50 965201.77\n",
       "10  316577.51  307048.95 1022111.86 ...   179754.63 541481.30 395132.91\n",
       "15  259286.32  315564.42   99608.13 ...   329011.53 498720.54 248899.81\n",
       "20   50433.30  105877.05  267174.05 ...    49110.65 198329.61  90641.88\n",
       "25   78736.19   23282.39   33290.29 ...   102013.54 145602.44  68952.14\n",
       "30  109940.78   96868.00   64309.34 ...    64250.10  29532.40  82657.75\n",
       "35   26571.94   36937.20   68658.90 ...    78893.19  75172.03  49074.16\n",
       "40   20650.41   22419.42   14652.73 ...    60252.95  16680.45  25644.85\n",
       "45   16300.00   22340.03   18975.37 ...    15271.12  18760.53  26087.21\n",
       "50   30659.85   17423.63   17569.65 ...    25689.45  12412.78  23443.20\n",
       "55   29671.06   36816.17   16380.55 ...    43264.43  16570.60  44115.22\n",
       "60   17691.26   40173.87   32592.06 ...    20808.96  18849.11  32028.57\n",
       "65   16496.89   30491.50   14940.76 ...    23735.97  12821.71  21210.40\n",
       "70   13503.68   11438.38   29876.04 ...    13511.56  14069.80  17654.77\n",
       "75   15787.05   11468.82   31398.26 ...    12323.15  15717.99  13010.59\n",
       "   [,15]     [,16]      [,17]      [,18]      [,19]     [,20]     [,21]    \n",
       "5  978709.48 1777944.27 1728357.10 1011285.01 969519.11 984993.15 989483.05\n",
       "10 187656.75  227861.36  373622.99  235406.71 558555.02 484890.23 401998.91\n",
       "15 117432.87  254290.88  234386.66  597156.06 234205.51 115217.18 224769.35\n",
       "20 155772.38  132409.37   40249.38  206989.07 142175.46 154750.28 156626.27\n",
       "25  31746.12   58158.88  141665.74   96979.20  30337.72  44633.37  70152.58\n",
       "30  22084.67   41235.14   34344.64   49742.93 121587.56  36015.07  32656.20\n",
       "35  98690.63   37522.23   31888.21   15864.07  61477.09  24425.25  38195.11\n",
       "40  56962.30   27857.62   21631.06   24003.29  21883.86  18922.96  21311.59\n",
       "45 105655.79  165794.05   31168.32   19963.52  36935.18  18545.03  95249.19\n",
       "50  48769.94   22195.39   16784.37   20397.62  14912.11  24659.97  22241.01\n",
       "55  19543.12   14246.74   15539.24   16081.20  21067.79  29422.59  21836.66\n",
       "60  22903.95   19403.85   14571.38   21495.67  16479.89  16592.85  14170.92\n",
       "65  27697.81   14235.15   29793.62   14495.03  31077.44  12834.00  18640.92\n",
       "70  14842.76   20486.18   11509.77   31574.24  51519.39  13363.17  10860.84\n",
       "75  10897.96   16293.46   11056.16   10960.85  13207.83  31722.65  17728.30"
      ]
     },
     "metadata": {},
     "output_type": "display_data"
    }
   ],
   "source": [
    "# time consumption: about 5 minutes\n",
    "# define the sizes\n",
    "sizes <- seq(5, 75, 5)\n",
    "\n",
    "# calculate the errors from different sizes\n",
    "errors_with_sizes <- Reduce(rbind, lapply(sizes, function(size) {\n",
    "  # for each size, calculate the errors\n",
    "  boot_data <- boot(train_data, sample_size = size, times = 50)  \n",
    "  sapply(boot_data, function(data) cal_error(data, k=5))\n",
    "}))\n",
    "\n",
    "# reformat the names of errors matrix\n",
    "rownames(errors_with_sizes) <- sizes\n",
    "colnames(errors_with_sizes) <- NULL    \n",
    "errors_with_sizes"
   ]
  },
  {
   "cell_type": "code",
   "execution_count": 11,
   "metadata": {},
   "outputs": [],
   "source": [
    "# melt for visualization\n",
    "errors_with_sizes_melt <- errors_with_sizes %>% as.matrix %>% melt"
   ]
  },
  {
   "cell_type": "code",
   "execution_count": 13,
   "metadata": {},
   "outputs": [
    {
     "data": {
      "image/png": "[encoded data removed]",
      "text/plain": [
       "plot without title"
      ]
     },
     "metadata": {
      "image/png": {
       "height": 420,
       "width": 420
      },
      "text/plain": {
       "height": 420,
       "width": 420
      }
     },
     "output_type": "display_data"
    }
   ],
   "source": [
    "# plot\n",
    "ggplot() + geom_boxplot(data = errors_with_sizes_melt, mapping = aes(x=factor(Var1), y=value), outlier.shape = NA) +\n",
    "  labs(x = \"Size\", y = \"Test Error\") + ggtitle('Test Error vs. Size (Box Plot)')\n",
    "\n",
    "options(warn=-1)"
   ]
  },
  {
   "cell_type": "markdown",
   "metadata": {},
   "source": [
    "##### Explain:\n",
    "From the plot, when the `K` is fixed as 5, the `sample_size` increases and the test error decreases. Also, the uncertainty decreases when `sample_size` is increasing."
   ]
  }
 ],
 "metadata": {
  "kernelspec": {
   "display_name": "R",
   "language": "R",
   "name": "ir"
  },
  "language_info": {
   "codemirror_mode": "r",
   "file_extension": ".r",
   "mimetype": "text/x-r-source",
   "name": "R",
   "pygments_lexer": "r",
   "version": "3.6.1"
  }
 },
 "nbformat": 4,
 "nbformat_minor": 4
}
