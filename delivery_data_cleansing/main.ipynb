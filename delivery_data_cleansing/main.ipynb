{
 "cells": [
  {
   "cell_type": "markdown",
   "metadata": {},
   "source": [
    "# Delivery Data Cleansing\n",
    "\n",
    "Environment: Python 3.7 and Jupyter notebook\n",
    "\n",
    "Libraries used:\n",
    "- pandas (for dataframe, included in Anaconda 3.7) \n",
    "- dataclass (for `dataclass` decorator, included in Python 3.7)\n",
    "- typing (for type notation, included in Python 3.7)\n",
    "- functools (for `reduce()` to reduce process, included in Python 3.7)\n",
    "- itertools (for `groupby()` to implement `reduce_by_key()`, included in Python 3.7)\n",
    "- matplotlib (for box and bar chart plot, incluede in Anaconda 3.7)\n",
    "- statistics (for `mode()` to calculate mode in dataset, included in Python 3.7)\n",
    "- networkx (for solve graph problem with dijkstra algorithm, included in Anaconda 3.7)\n",
    "- datetime (for datetime manipulation, included in Python 3.7)\n",
    "- sklearn (for fitting linear model, included in Python 3.7)\n",
    "- tqdm (for display progress bar, downloaded from pip)"
   ]
  },
  {
   "cell_type": "markdown",
   "metadata": {},
   "source": [
    "# 1. Introduction\n",
    "\n",
    "Exploring and understanding the data is one of the most important parts of the data wrangling\n",
    "process. \n",
    "\n",
    "This project is aim to:\n",
    "- Detect and fix errors in `dirty_data.csv`\n",
    "- Detect and remove outlier rows in `outlier_data.csv` (outliers are to be found w.r.t. delivery_fee attribute)\n",
    "- Impute the missing values in `missing_data.csv`\n"
   ]
  },
  {
   "cell_type": "markdown",
   "metadata": {},
   "source": [
    "# 2. Import libraries"
   ]
  },
  {
   "cell_type": "code",
   "execution_count": 1,
   "metadata": {},
   "outputs": [],
   "source": [
    "import pandas as pd\n",
    "from dataclasses import dataclass\n",
    "from typing import List\n",
    "from pandas.core.series import Series\n",
    "from functools import reduce\n",
    "from itertools import groupby\n",
    "import matplotlib.pyplot as plt\n",
    "import numpy as np\n",
    "from statistics import mode\n",
    "import networkx as nx\n",
    "from networkx.algorithms.shortest_paths import dijkstra_path_length\n",
    "from datetime import datetime\n",
    "from sklearn.linear_model import LinearRegression\n",
    "from tqdm.notebook import tqdm"
   ]
  },
  {
   "cell_type": "markdown",
   "metadata": {},
   "source": [
    "# 3. Load nodes and branches"
   ]
  },
  {
   "cell_type": "markdown",
   "metadata": {},
   "source": [
    "In order to caculate the distance between customers and branches, the nodes of brahces and customers are necessary. Therefore, this part is aimed to make a nodes related dataframe which will be used in part 4.3.1.\n",
    "\n",
    "In addition, the branch nodes are not given, so we need transfer the lat and lon infomation in branches.csv to a branch node based on the all nodes dataframe (created in 3.1)"
   ]
  },
  {
   "cell_type": "markdown",
   "metadata": {},
   "source": [
    "## 3.1 Create Node class\n",
    "\n",
    "Define a Node class to store all nodes information inside.\n",
    "\n",
    "The Node class contains the methods:\n",
    "- __init__(): constructor of Node class\n",
    "- build_node(): a static method to build the Node instances\n",
    "- __repr__(): a method to display Node instances"
   ]
  },
  {
   "cell_type": "code",
   "execution_count": 2,
   "metadata": {},
   "outputs": [],
   "source": [
    "# define the class Node to store node info from the csv file\n",
    "class Node:\n",
    "    node_list = []\n",
    "    \n",
    "    def __init__(self, node_id, lat, lon):\n",
    "        self.node_id = node_id\n",
    "        self.lat = lat\n",
    "        self.lon = lon\n",
    "        # insert each node into the node_list\n",
    "        Node.node_list.append(self)\n",
    "    \n",
    "    # define the static method to build node instances from each row in data frame\n",
    "    @staticmethod\n",
    "    def build_node(row):\n",
    "        node_id = row[0]\n",
    "        lat = round(row[1], 7) # get lat from the node_data\n",
    "        lon = round(row[2], 7) # get lon from the node_data\n",
    "        return Node(node_id, lat, lon)\n",
    "    \n",
    "    # define __repr__ method for better representation\n",
    "    def __repr__(self):\n",
    "        return f\"<Node {self.node_id} at ({self.lat}, {self.lon})>\""
   ]
  },
  {
   "cell_type": "markdown",
   "metadata": {},
   "source": [
    "Load the `nodes.csv` as data frame."
   ]
  },
  {
   "cell_type": "code",
   "execution_count": 3,
   "metadata": {},
   "outputs": [
    {
     "data": {
      "text/html": [
       "<div>\n",
       "<style scoped>\n",
       "    .dataframe tbody tr th:only-of-type {\n",
       "        vertical-align: middle;\n",
       "    }\n",
       "\n",
       "    .dataframe tbody tr th {\n",
       "        vertical-align: top;\n",
       "    }\n",
       "\n",
       "    .dataframe thead th {\n",
       "        text-align: right;\n",
       "    }\n",
       "</style>\n",
       "<table border=\"1\" class=\"dataframe\">\n",
       "  <thead>\n",
       "    <tr style=\"text-align: right;\">\n",
       "      <th></th>\n",
       "      <th>node</th>\n",
       "      <th>lat</th>\n",
       "      <th>lon</th>\n",
       "    </tr>\n",
       "  </thead>\n",
       "  <tbody>\n",
       "    <tr>\n",
       "      <th>0</th>\n",
       "      <td>711327755</td>\n",
       "      <td>-37.807675</td>\n",
       "      <td>144.955873</td>\n",
       "    </tr>\n",
       "    <tr>\n",
       "      <th>1</th>\n",
       "      <td>711327756</td>\n",
       "      <td>-37.807094</td>\n",
       "      <td>144.955978</td>\n",
       "    </tr>\n",
       "    <tr>\n",
       "      <th>2</th>\n",
       "      <td>711327759</td>\n",
       "      <td>-37.807301</td>\n",
       "      <td>144.957817</td>\n",
       "    </tr>\n",
       "  </tbody>\n",
       "</table>\n",
       "</div>"
      ],
      "text/plain": [
       "        node        lat         lon\n",
       "0  711327755 -37.807675  144.955873\n",
       "1  711327756 -37.807094  144.955978\n",
       "2  711327759 -37.807301  144.957817"
      ]
     },
     "execution_count": 3,
     "metadata": {},
     "output_type": "execute_result"
    }
   ],
   "source": [
    "node_data = pd.read_csv(\"nodes.csv\")\n",
    "node_data.head(3)"
   ]
  },
  {
   "cell_type": "code",
   "execution_count": 4,
   "metadata": {},
   "outputs": [
    {
     "data": {
      "text/plain": [
       "node      int64\n",
       "lat     float64\n",
       "lon     float64\n",
       "dtype: object"
      ]
     },
     "execution_count": 4,
     "metadata": {},
     "output_type": "execute_result"
    }
   ],
   "source": [
    "node_data.dtypes"
   ]
  },
  {
   "cell_type": "code",
   "execution_count": 5,
   "metadata": {},
   "outputs": [
    {
     "data": {
      "text/plain": [
       "[<Node 711327755.0 at (-37.807675, 144.9558726)>,\n",
       " <Node 711327756.0 at (-37.8070943, 144.9559785)>,\n",
       " <Node 711327759.0 at (-37.8073009, 144.9578172)>,\n",
       " <Node 711327760.0 at (-37.8078848, 144.9577193)>,\n",
       " <Node 777781264.0 at (-37.8052207, 144.9521732)>,\n",
       " <Node 711327758.0 at (-37.8062498, 144.9580023)>,\n",
       " <Node 164102232.0 at (-37.8203223, 144.9675308)>,\n",
       " <Node 26476632.0 at (-37.8227347, 144.9311156)>,\n",
       " <Node 26476637.0 at (-37.8262913, 144.930619)>,\n",
       " <Node 26476642.0 at (-37.8262801, 144.9307411)>]"
      ]
     },
     "execution_count": 5,
     "metadata": {},
     "output_type": "execute_result"
    }
   ],
   "source": [
    "# build Node intances from each row in the data frame\n",
    "for row in node_data.values:\n",
    "    Node.build_node(row)\n",
    "\n",
    "Node.node_list[:10]"
   ]
  },
  {
   "cell_type": "markdown",
   "metadata": {},
   "source": [
    "## 3.2 Load branch data and get the branch node\n",
    "\n",
    "Define a BranchLocation class to store all information of each branch.\n",
    "\n",
    "The BranchLocation contains methods:\n",
    "- __init__(): the constructor \n",
    "- build_branch_location(): the static method to build BranchLocation method from the row of data frame\n",
    "- find_node(): the method to find a related node from node objects\n",
    "- __repr__(): the method to display the information about the node and location of this branch"
   ]
  },
  {
   "cell_type": "code",
   "execution_count": 6,
   "metadata": {},
   "outputs": [],
   "source": [
    "# define the class to store the information for each branch\n",
    "class BranchLocation:\n",
    "    branch_loc_list = []\n",
    "    \n",
    "    def __init__(self, branch_code, branch_lat, branch_lon):\n",
    "        self.branch_code = branch_code\n",
    "        self.branch_lat = branch_lat\n",
    "        self.branch_lon = branch_lon\n",
    "        # find the node for the location of the branch\n",
    "        self.node = self.find_node()\n",
    "        # store each intance into the list\n",
    "        BranchLocation.branch_loc_list.append(self)\n",
    "    \n",
    "    @staticmethod\n",
    "    def build_branch_location(row):\n",
    "        branch_code = row[0]\n",
    "        branch_lat = round(row[2], 7)\n",
    "        branch_lon = round(row[3], 7)\n",
    "        return BranchLocation(branch_code, branch_lat, branch_lon)\n",
    "    \n",
    "    def find_node(self):\n",
    "        for node in Node.node_list:\n",
    "            if node.lat == self.branch_lat and node.lon == self.branch_lon:\n",
    "                return node.node_id\n",
    "    \n",
    "    def __repr__(self):\n",
    "        return f\"<BranchLocation {self.branch_code} at Node {self.node} with ({self.branch_lat}, {self.branch_lon})>\""
   ]
  },
  {
   "cell_type": "markdown",
   "metadata": {},
   "source": [
    "Load the data in `branches.csv` as data frame."
   ]
  },
  {
   "cell_type": "code",
   "execution_count": 7,
   "metadata": {},
   "outputs": [
    {
     "data": {
      "text/html": [
       "<div>\n",
       "<style scoped>\n",
       "    .dataframe tbody tr th:only-of-type {\n",
       "        vertical-align: middle;\n",
       "    }\n",
       "\n",
       "    .dataframe tbody tr th {\n",
       "        vertical-align: top;\n",
       "    }\n",
       "\n",
       "    .dataframe thead th {\n",
       "        text-align: right;\n",
       "    }\n",
       "</style>\n",
       "<table border=\"1\" class=\"dataframe\">\n",
       "  <thead>\n",
       "    <tr style=\"text-align: right;\">\n",
       "      <th></th>\n",
       "      <th>branch_code</th>\n",
       "      <th>branch_name</th>\n",
       "      <th>branch_lat</th>\n",
       "      <th>branch_lon</th>\n",
       "    </tr>\n",
       "  </thead>\n",
       "  <tbody>\n",
       "    <tr>\n",
       "      <th>0</th>\n",
       "      <td>NS</td>\n",
       "      <td>Nickolson</td>\n",
       "      <td>-37.773803</td>\n",
       "      <td>144.983647</td>\n",
       "    </tr>\n",
       "    <tr>\n",
       "      <th>1</th>\n",
       "      <td>TP</td>\n",
       "      <td>Thompson</td>\n",
       "      <td>-37.861835</td>\n",
       "      <td>144.905716</td>\n",
       "    </tr>\n",
       "    <tr>\n",
       "      <th>2</th>\n",
       "      <td>BK</td>\n",
       "      <td>Bakers</td>\n",
       "      <td>-37.815834</td>\n",
       "      <td>145.046450</td>\n",
       "    </tr>\n",
       "  </tbody>\n",
       "</table>\n",
       "</div>"
      ],
      "text/plain": [
       "  branch_code branch_name  branch_lat  branch_lon\n",
       "0          NS   Nickolson  -37.773803  144.983647\n",
       "1          TP    Thompson  -37.861835  144.905716\n",
       "2          BK      Bakers  -37.815834  145.046450"
      ]
     },
     "execution_count": 7,
     "metadata": {},
     "output_type": "execute_result"
    }
   ],
   "source": [
    "branch_data = pd.read_csv(\"branches.csv\")\n",
    "branch_data.head()"
   ]
  },
  {
   "cell_type": "code",
   "execution_count": 8,
   "metadata": {},
   "outputs": [
    {
     "data": {
      "text/plain": [
       "[<BranchLocation NS at Node 2455254505.0 with (-37.7738026, 144.9836466)>,\n",
       " <BranchLocation TP at Node 1390575046.0 with (-37.8618349, 144.905716)>,\n",
       " <BranchLocation BK at Node 1889485053.0 with (-37.8158343, 145.04645)>]"
      ]
     },
     "execution_count": 8,
     "metadata": {},
     "output_type": "execute_result"
    }
   ],
   "source": [
    "# build object for each row in data frame\n",
    "for row in branch_data.values:\n",
    "    BranchLocation.build_branch_location(row)\n",
    "\n",
    "BranchLocation.branch_loc_list"
   ]
  },
  {
   "cell_type": "markdown",
   "metadata": {},
   "source": [
    "# 4. Dirty data\n",
    "## 4.1 Examining and loading data\n",
    "\n",
    "Load dirty data in `dirty_data.csv` as data frame."
   ]
  },
  {
   "cell_type": "code",
   "execution_count": 9,
   "metadata": {},
   "outputs": [],
   "source": [
    "dirty_data = pd.read_csv(\"dirty_data.csv\")"
   ]
  },
  {
   "cell_type": "code",
   "execution_count": 10,
   "metadata": {},
   "outputs": [
    {
     "data": {
      "text/html": [
       "<div>\n",
       "<style scoped>\n",
       "    .dataframe tbody tr th:only-of-type {\n",
       "        vertical-align: middle;\n",
       "    }\n",
       "\n",
       "    .dataframe tbody tr th {\n",
       "        vertical-align: top;\n",
       "    }\n",
       "\n",
       "    .dataframe thead th {\n",
       "        text-align: right;\n",
       "    }\n",
       "</style>\n",
       "<table border=\"1\" class=\"dataframe\">\n",
       "  <thead>\n",
       "    <tr style=\"text-align: right;\">\n",
       "      <th></th>\n",
       "      <th>order_id</th>\n",
       "      <th>date</th>\n",
       "      <th>time</th>\n",
       "      <th>order_type</th>\n",
       "      <th>branch_code</th>\n",
       "      <th>order_items</th>\n",
       "      <th>order_price</th>\n",
       "      <th>customer_lat</th>\n",
       "      <th>customer_lon</th>\n",
       "      <th>customerHasloyalty?</th>\n",
       "      <th>distance_to_customer_KM</th>\n",
       "      <th>delivery_fee</th>\n",
       "    </tr>\n",
       "  </thead>\n",
       "  <tbody>\n",
       "    <tr>\n",
       "      <th>0</th>\n",
       "      <td>ORDA09604</td>\n",
       "      <td>2018-06-15</td>\n",
       "      <td>13:24:30</td>\n",
       "      <td>Lunch</td>\n",
       "      <td>BK</td>\n",
       "      <td>[('Fries', 6), ('Burger', 6), ('Chicken', 9), ...</td>\n",
       "      <td>943.0</td>\n",
       "      <td>-37.801805</td>\n",
       "      <td>144.957119</td>\n",
       "      <td>0</td>\n",
       "      <td>8.207</td>\n",
       "      <td>14.143094</td>\n",
       "    </tr>\n",
       "    <tr>\n",
       "      <th>1</th>\n",
       "      <td>ORDI01219</td>\n",
       "      <td>2018-01-03</td>\n",
       "      <td>08:00:00</td>\n",
       "      <td>Breakfast</td>\n",
       "      <td>NS</td>\n",
       "      <td>[('Pancake', 6), ('Coffee', 3), ('Cereal', 6),...</td>\n",
       "      <td>404.0</td>\n",
       "      <td>-37.813730</td>\n",
       "      <td>144.940948</td>\n",
       "      <td>1</td>\n",
       "      <td>9.632</td>\n",
       "      <td>7.495310</td>\n",
       "    </tr>\n",
       "    <tr>\n",
       "      <th>2</th>\n",
       "      <td>ORDC00455</td>\n",
       "      <td>2018-02-19</td>\n",
       "      <td>09:31:16</td>\n",
       "      <td>Breakfast</td>\n",
       "      <td>NS</td>\n",
       "      <td>[('Coffee', 2), ('Pancake', 10), ('Eggs', 9)]</td>\n",
       "      <td>455.5</td>\n",
       "      <td>37.805031</td>\n",
       "      <td>144.927906</td>\n",
       "      <td>0</td>\n",
       "      <td>10.574</td>\n",
       "      <td>15.722936</td>\n",
       "    </tr>\n",
       "  </tbody>\n",
       "</table>\n",
       "</div>"
      ],
      "text/plain": [
       "    order_id        date      time order_type branch_code  \\\n",
       "0  ORDA09604  2018-06-15  13:24:30      Lunch          BK   \n",
       "1  ORDI01219  2018-01-03  08:00:00  Breakfast          NS   \n",
       "2  ORDC00455  2018-02-19  09:31:16  Breakfast          NS   \n",
       "\n",
       "                                         order_items  order_price  \\\n",
       "0  [('Fries', 6), ('Burger', 6), ('Chicken', 9), ...        943.0   \n",
       "1  [('Pancake', 6), ('Coffee', 3), ('Cereal', 6),...        404.0   \n",
       "2      [('Coffee', 2), ('Pancake', 10), ('Eggs', 9)]        455.5   \n",
       "\n",
       "   customer_lat  customer_lon  customerHasloyalty?  distance_to_customer_KM  \\\n",
       "0    -37.801805    144.957119                    0                    8.207   \n",
       "1    -37.813730    144.940948                    1                    9.632   \n",
       "2     37.805031    144.927906                    0                   10.574   \n",
       "\n",
       "   delivery_fee  \n",
       "0     14.143094  \n",
       "1      7.495310  \n",
       "2     15.722936  "
      ]
     },
     "execution_count": 10,
     "metadata": {},
     "output_type": "execute_result"
    }
   ],
   "source": [
    "dirty_data.head(3)"
   ]
  },
  {
   "cell_type": "code",
   "execution_count": 11,
   "metadata": {},
   "outputs": [
    {
     "data": {
      "text/plain": [
       "(500, 12)"
      ]
     },
     "execution_count": 11,
     "metadata": {},
     "output_type": "execute_result"
    }
   ],
   "source": [
    "dirty_data.shape"
   ]
  },
  {
   "cell_type": "markdown",
   "metadata": {},
   "source": [
    "There are 12 columns and 500 rows in our data.\n",
    "\n",
    "## 4.2 Classify features"
   ]
  },
  {
   "cell_type": "code",
   "execution_count": 12,
   "metadata": {},
   "outputs": [
    {
     "name": "stdout",
     "output_type": "stream",
     "text": [
      "<class 'pandas.core.frame.DataFrame'>\n",
      "RangeIndex: 500 entries, 0 to 499\n",
      "Data columns (total 12 columns):\n",
      " #   Column                   Non-Null Count  Dtype  \n",
      "---  ------                   --------------  -----  \n",
      " 0   order_id                 500 non-null    object \n",
      " 1   date                     500 non-null    object \n",
      " 2   time                     500 non-null    object \n",
      " 3   order_type               500 non-null    object \n",
      " 4   branch_code              500 non-null    object \n",
      " 5   order_items              500 non-null    object \n",
      " 6   order_price              500 non-null    float64\n",
      " 7   customer_lat             500 non-null    float64\n",
      " 8   customer_lon             500 non-null    float64\n",
      " 9   customerHasloyalty?      500 non-null    int64  \n",
      " 10  distance_to_customer_KM  500 non-null    float64\n",
      " 11  delivery_fee             500 non-null    float64\n",
      "dtypes: float64(5), int64(1), object(6)\n",
      "memory usage: 47.0+ KB\n"
     ]
    }
   ],
   "source": [
    "dirty_data.info()"
   ]
  },
  {
   "cell_type": "markdown",
   "metadata": {},
   "source": [
    "### 4.2.1 Categorical Features & Numerical Features\n",
    "Categorical variable: order_id, date, time, order_type, branch_code, oder_item, customerHasloyalty?   \n",
    "Odinal variable:\n",
    "Continuous numerical:delivery_fee, distance_to_customer_KM, customer_lon, customer_lat, order_price \n",
    "\n",
    "\n",
    "### 4.2.2 Distribution of numerical values\n"
   ]
  },
  {
   "cell_type": "code",
   "execution_count": 13,
   "metadata": {},
   "outputs": [
    {
     "data": {
      "text/html": [
       "<div>\n",
       "<style scoped>\n",
       "    .dataframe tbody tr th:only-of-type {\n",
       "        vertical-align: middle;\n",
       "    }\n",
       "\n",
       "    .dataframe tbody tr th {\n",
       "        vertical-align: top;\n",
       "    }\n",
       "\n",
       "    .dataframe thead th {\n",
       "        text-align: right;\n",
       "    }\n",
       "</style>\n",
       "<table border=\"1\" class=\"dataframe\">\n",
       "  <thead>\n",
       "    <tr style=\"text-align: right;\">\n",
       "      <th></th>\n",
       "      <th>order_price</th>\n",
       "      <th>customer_lat</th>\n",
       "      <th>customer_lon</th>\n",
       "      <th>customerHasloyalty?</th>\n",
       "      <th>distance_to_customer_KM</th>\n",
       "      <th>delivery_fee</th>\n",
       "    </tr>\n",
       "  </thead>\n",
       "  <tbody>\n",
       "    <tr>\n",
       "      <th>count</th>\n",
       "      <td>500.000000</td>\n",
       "      <td>500.000000</td>\n",
       "      <td>500.000000</td>\n",
       "      <td>500.000000</td>\n",
       "      <td>500.000000</td>\n",
       "      <td>500.000000</td>\n",
       "    </tr>\n",
       "    <tr>\n",
       "      <th>mean</th>\n",
       "      <td>475.540000</td>\n",
       "      <td>-30.754010</td>\n",
       "      <td>143.502178</td>\n",
       "      <td>0.112000</td>\n",
       "      <td>8.628968</td>\n",
       "      <td>13.830413</td>\n",
       "    </tr>\n",
       "    <tr>\n",
       "      <th>std</th>\n",
       "      <td>259.230361</td>\n",
       "      <td>25.337001</td>\n",
       "      <td>16.299209</td>\n",
       "      <td>0.315682</td>\n",
       "      <td>1.481894</td>\n",
       "      <td>2.336370</td>\n",
       "    </tr>\n",
       "    <tr>\n",
       "      <th>min</th>\n",
       "      <td>43.500000</td>\n",
       "      <td>-37.828450</td>\n",
       "      <td>-37.825348</td>\n",
       "      <td>0.000000</td>\n",
       "      <td>3.615000</td>\n",
       "      <td>5.240995</td>\n",
       "    </tr>\n",
       "    <tr>\n",
       "      <th>25%</th>\n",
       "      <td>278.750000</td>\n",
       "      <td>-37.817971</td>\n",
       "      <td>144.950196</td>\n",
       "      <td>0.000000</td>\n",
       "      <td>7.769750</td>\n",
       "      <td>12.526529</td>\n",
       "    </tr>\n",
       "    <tr>\n",
       "      <th>50%</th>\n",
       "      <td>416.250000</td>\n",
       "      <td>-37.811948</td>\n",
       "      <td>144.962027</td>\n",
       "      <td>0.000000</td>\n",
       "      <td>8.636000</td>\n",
       "      <td>13.994416</td>\n",
       "    </tr>\n",
       "    <tr>\n",
       "      <th>75%</th>\n",
       "      <td>627.062500</td>\n",
       "      <td>-37.805667</td>\n",
       "      <td>144.976975</td>\n",
       "      <td>0.000000</td>\n",
       "      <td>9.647250</td>\n",
       "      <td>15.348252</td>\n",
       "    </tr>\n",
       "    <tr>\n",
       "      <th>max</th>\n",
       "      <td>1298.000000</td>\n",
       "      <td>145.001910</td>\n",
       "      <td>145.016324</td>\n",
       "      <td>1.000000</td>\n",
       "      <td>12.752000</td>\n",
       "      <td>19.243625</td>\n",
       "    </tr>\n",
       "  </tbody>\n",
       "</table>\n",
       "</div>"
      ],
      "text/plain": [
       "       order_price  customer_lat  customer_lon  customerHasloyalty?  \\\n",
       "count   500.000000    500.000000    500.000000           500.000000   \n",
       "mean    475.540000    -30.754010    143.502178             0.112000   \n",
       "std     259.230361     25.337001     16.299209             0.315682   \n",
       "min      43.500000    -37.828450    -37.825348             0.000000   \n",
       "25%     278.750000    -37.817971    144.950196             0.000000   \n",
       "50%     416.250000    -37.811948    144.962027             0.000000   \n",
       "75%     627.062500    -37.805667    144.976975             0.000000   \n",
       "max    1298.000000    145.001910    145.016324             1.000000   \n",
       "\n",
       "       distance_to_customer_KM  delivery_fee  \n",
       "count               500.000000    500.000000  \n",
       "mean                  8.628968     13.830413  \n",
       "std                   1.481894      2.336370  \n",
       "min                   3.615000      5.240995  \n",
       "25%                   7.769750     12.526529  \n",
       "50%                   8.636000     13.994416  \n",
       "75%                   9.647250     15.348252  \n",
       "max                  12.752000     19.243625  "
      ]
     },
     "execution_count": 13,
     "metadata": {},
     "output_type": "execute_result"
    }
   ],
   "source": [
    "dirty_data.describe()"
   ]
  },
  {
   "cell_type": "markdown",
   "metadata": {},
   "source": [
    "The observation tells us that:\n",
    "\n",
    "* The total order amount is 500\n",
    "* Customers have loyalty card or not is a categorical feature with 0 or 1 values.\n"
   ]
  },
  {
   "cell_type": "code",
   "execution_count": 14,
   "metadata": {},
   "outputs": [
    {
     "data": {
      "text/html": [
       "<div>\n",
       "<style scoped>\n",
       "    .dataframe tbody tr th:only-of-type {\n",
       "        vertical-align: middle;\n",
       "    }\n",
       "\n",
       "    .dataframe tbody tr th {\n",
       "        vertical-align: top;\n",
       "    }\n",
       "\n",
       "    .dataframe thead th {\n",
       "        text-align: right;\n",
       "    }\n",
       "</style>\n",
       "<table border=\"1\" class=\"dataframe\">\n",
       "  <thead>\n",
       "    <tr style=\"text-align: right;\">\n",
       "      <th></th>\n",
       "      <th>order_id</th>\n",
       "      <th>date</th>\n",
       "      <th>time</th>\n",
       "      <th>order_type</th>\n",
       "      <th>branch_code</th>\n",
       "      <th>order_items</th>\n",
       "    </tr>\n",
       "  </thead>\n",
       "  <tbody>\n",
       "    <tr>\n",
       "      <th>count</th>\n",
       "      <td>500</td>\n",
       "      <td>500</td>\n",
       "      <td>500</td>\n",
       "      <td>500</td>\n",
       "      <td>500</td>\n",
       "      <td>500</td>\n",
       "    </tr>\n",
       "    <tr>\n",
       "      <th>unique</th>\n",
       "      <td>500</td>\n",
       "      <td>301</td>\n",
       "      <td>71</td>\n",
       "      <td>3</td>\n",
       "      <td>6</td>\n",
       "      <td>496</td>\n",
       "    </tr>\n",
       "    <tr>\n",
       "      <th>top</th>\n",
       "      <td>ORDA09604</td>\n",
       "      <td>2018-07-08</td>\n",
       "      <td>11:32:57</td>\n",
       "      <td>Lunch</td>\n",
       "      <td>BK</td>\n",
       "      <td>[('Steak', 2), ('Chicken', 3)]</td>\n",
       "    </tr>\n",
       "    <tr>\n",
       "      <th>freq</th>\n",
       "      <td>1</td>\n",
       "      <td>6</td>\n",
       "      <td>13</td>\n",
       "      <td>177</td>\n",
       "      <td>171</td>\n",
       "      <td>2</td>\n",
       "    </tr>\n",
       "  </tbody>\n",
       "</table>\n",
       "</div>"
      ],
      "text/plain": [
       "         order_id        date      time order_type branch_code  \\\n",
       "count         500         500       500        500         500   \n",
       "unique        500         301        71          3           6   \n",
       "top     ORDA09604  2018-07-08  11:32:57      Lunch          BK   \n",
       "freq            1           6        13        177         171   \n",
       "\n",
       "                           order_items  \n",
       "count                              500  \n",
       "unique                             496  \n",
       "top     [('Steak', 2), ('Chicken', 3)]  \n",
       "freq                                 2  "
      ]
     },
     "execution_count": 14,
     "metadata": {},
     "output_type": "execute_result"
    }
   ],
   "source": [
    "dirty_data.describe(include=['O'])"
   ]
  },
  {
   "cell_type": "markdown",
   "metadata": {},
   "source": [
    "The values in order_items are lists, which contains the items and the quantity of them."
   ]
  },
  {
   "cell_type": "code",
   "execution_count": 15,
   "metadata": {},
   "outputs": [
    {
     "data": {
      "text/plain": [
       "[('Fries', 6), ('Burger', 6), ('Chicken', 9), ('Steak', 5), ('Salad', 10)]"
      ]
     },
     "execution_count": 15,
     "metadata": {},
     "output_type": "execute_result"
    }
   ],
   "source": [
    "eval(dirty_data.values[0].tolist()[5])"
   ]
  },
  {
   "cell_type": "markdown",
   "metadata": {},
   "source": [
    "## 4.3 Preparation for creating data objects\n",
    "\n",
    "Based on 4.1, we find that customer_lat, customer_lon, delivery_fee are\n",
    "Keeping 7 decimal places and distance_to_customer_KM keeps 3 demicial places. \n",
    "\n",
    "When the computer read the data from csv files, it will get the tiny difference from the original one, because all values stored in computer is binary, and binary cannot represent all decimal floats so there will be some proximity values."
   ]
  },
  {
   "cell_type": "code",
   "execution_count": 16,
   "metadata": {},
   "outputs": [],
   "source": [
    "# extract values as preparation to build data object\n",
    "def extract_values_from_row(row: Series) -> List:\n",
    "    # generate a value list from the row in data frame\n",
    "    values = row.tolist()\n",
    "    values[7] = round(values[7], 7)\n",
    "    values[8] = round(values[8], 7)\n",
    "    values[10] = round(values[10], 3)\n",
    "    values[11] = round(values[11], 7)\n",
    "    # as the order_items is string, using list to format it is easier to process\n",
    "    # eval function is for extracting the string content\n",
    "    # for the order_items here, it convert the string to list\n",
    "    values[5] = eval(values[5])\n",
    "    return values"
   ]
  },
  {
   "cell_type": "markdown",
   "metadata": {},
   "source": [
    "### 4.3.1  Build a Data class as parent class\n",
    "\n",
    "The Following `DirtyData class`(4.3.2), `OutlierData class`(5.1) and `MissingData class`(6.2) will inherit the Data class.\n",
    "In order to simplify the initialization of Data class, here, we used a @dataclass(Python, 2019).\n",
    "\n",
    "As the code of methods of this class can only be written in the class, here only introduce briefly to these methods. As for the details of these methods, please refer to the below sections.\n",
    "\n",
    "The Data class has these methods:\n",
    "- day(): a property for fitting linear model, and will be introduced in 5.2\n",
    "- features(): a property for fitting linear model, and will be introduced in 5.2\n",
    "- build_data_from_row(): a static method to build Data objects from a given row in data frame.\n",
    "- to_list(): a method to transfer the attributes of the instance to a list as preparation of building a data frame\n",
    "- get_header(): a static method to get the data frame header for Data objects\n",
    "- find_node(): a similar method to the BranchLocation one, to find the related node in the node data, and will be introduced in 4.4.5\n",
    "- find_branch_node(): a similar method to `find_node()`. This is to find the branch node for the order.\n",
    "- find_branch_code(): a method to find correct branch code from `order_id`, and will be introduced in 4.4.3\n",
    "- fee(): a property for calculate the actual fee without loyalty discount, and will be introduced in 5.2"
   ]
  },
  {
   "cell_type": "code",
   "execution_count": 17,
   "metadata": {},
   "outputs": [],
   "source": [
    "# define Data class to store data for each row in data frame\n",
    "@dataclass\n",
    "class Data:\n",
    "    order_id: str\n",
    "    date: str\n",
    "    time: str\n",
    "    order_type: str\n",
    "    branch_code: str\n",
    "    order_items: List\n",
    "    order_price: float\n",
    "    customer_lat: float\n",
    "    customer_lon: float\n",
    "    customerHasloyalty: int\n",
    "    distance_to_customer_KM: float\n",
    "    delivery_fee: float\n",
    "        \n",
    "    # define the day for calculate the linear model\n",
    "    @property\n",
    "    def day(self):\n",
    "        # Monday is 0 and Sunday is 6\n",
    "        return datetime.strptime(self.date, \"%Y-%m-%d\").date().weekday()\n",
    "    \n",
    "    # define the function to create a feature vector for fitting linear model\n",
    "    @property\n",
    "    def features(self):\n",
    "        time_map = {\n",
    "            \"Breakfast\": 0,\n",
    "            \"Lunch\": 1,\n",
    "            \"Dinner\": 2\n",
    "        }\n",
    "        # if day is weekday, day_feature is 0;\n",
    "        # if day is weekend, day_feature is 1\n",
    "        day_feature = 0 if self.day <= 4 else 1\n",
    "        time_feature = time_map[self.order_type]\n",
    "        distance_feature = self.distance_to_customer_KM\n",
    "        return day_feature, time_feature, distance_feature\n",
    "        \n",
    "    @staticmethod\n",
    "    def build_data_from_row(row: Series):\n",
    "        values = extract_values_from_row(row)\n",
    "        return Data(*values)\n",
    "    \n",
    "    # transfer the instance to a list for building data frame\n",
    "    def to_list(self):\n",
    "        return [\n",
    "            self.order_id,\n",
    "            self.date,\n",
    "            self.time,\n",
    "            self.order_type,\n",
    "            self.branch_code,\n",
    "            self.order_items,\n",
    "            self.order_price,\n",
    "            self.customer_lat,\n",
    "            self.customer_lon,\n",
    "            self.customerHasloyalty,\n",
    "            self.distance_to_customer_KM,\n",
    "            self.delivery_fee\n",
    "        ]\n",
    "    \n",
    "    # return a csv header for output\n",
    "    @staticmethod\n",
    "    def get_header():\n",
    "        return dirty_data.columns.tolist()\n",
    "    \n",
    "    # find the node for each order location\n",
    "    def find_node(self):\n",
    "        for node in Node.node_list:\n",
    "            if node.lat == self.customer_lat and node.lon == self.customer_lon:\n",
    "                return node.node_id\n",
    "    \n",
    "    # find the branch node which the customer ordered\n",
    "    def find_branch_node(self):\n",
    "        for branch in BranchLocation.branch_loc_list:\n",
    "            if branch.branch_code == self.branch_code:\n",
    "                return branch.node\n",
    "    \n",
    "    # from the order_id to find correct branch code\n",
    "    def find_branch_code(self):\n",
    "        id_head = self.order_id[:4]\n",
    "        for branch, id_set in id_map.items():\n",
    "            if id_head in id_set:\n",
    "                return branch\n",
    "            \n",
    "    def get_order_items(self):\n",
    "        return self.order_items\n",
    "    \n",
    "    @property\n",
    "    def fee(self):\n",
    "        if self.customerHasloyalty:\n",
    "            return self.delivery_fee * 2\n",
    "        else:\n",
    "            return self.delivery_fee"
   ]
  },
  {
   "cell_type": "markdown",
   "metadata": {},
   "source": [
    "### 4.3.2 Create DirtyData class to Inheritance Class Data\n",
    "The following DirtyData class will inherit the Data Class in 4.3.1\n",
    "\n",
    "Based on the following part EDA, we konw that there are many errors in the dirty data. Therefore, methods for fixing data, order_type, branch_code, order_items, order_price, location, distance and customerHasloyalty are defined here.\n",
    "\n",
    "The DirtyData class contains the methods:\n",
    "- __init__(): the contructor of this class\n",
    "- build_data_from_row(): a static method of building a DirtyData instance from a row of data frame\n",
    "- fix_date(): a method to fix date, and will be introduced in 4.4.1\n",
    "- fix_order_type(): a method to fix order_type, and will be introduced in 4.4.2\n",
    "- fix_branch_code(): a method to fix branch_code, and will be introduced in 4.4.3\n",
    "- fix_order_items(): a method to fix order_items, and will be introduced in 4.4.4\n",
    "- fix_order_price(): a method to fix order_price, and will be introduced in 4.4.4\n",
    "- fix_location(): a method to fix location, and will be introduced in 4.4.5\n",
    "- fix_distance(): a method to fix distance, and will be introduced in 4.4.5\n",
    "- display_loc(): a method to display location, and will be introduced in 4.4.5\n",
    "- fix_customerHasloyalty(): a method to fix loyalty, and will be introduced in 5.2.1"
   ]
  },
  {
   "cell_type": "code",
   "execution_count": 18,
   "metadata": {},
   "outputs": [],
   "source": [
    "# define a variable to store Data objects\n",
    "dirty_data_list = []\n",
    "\n",
    "# define the dirty data class for manipulating the dirty data\n",
    "class DirtyData(Data):\n",
    "    def __init__(self, *args):\n",
    "        Data.__init__(self, *args)\n",
    "        self.node = self.find_node()\n",
    "        self.branch_node = self.find_branch_node()\n",
    "        dirty_data_list.append(self)\n",
    "    \n",
    "    @staticmethod\n",
    "    def build_data_from_row(row: Series):\n",
    "        values = extract_values_from_row(row)\n",
    "        return DirtyData(*values)\n",
    "    \n",
    "    # define the method for fixing the date\n",
    "    def fix_date(self):\n",
    "        # split the data to 3 numbers \n",
    "        n1, n2, n3 = self.date.split(\"-\")\n",
    "        # if the third number is 4-digit, it means it is year and need to be fixed\n",
    "        if len(n3) == 4:\n",
    "            self.date = \"-\".join([n3, n2, n1])\n",
    "        # if the month number is larger than 12, it means the locations of month and day are reversed\n",
    "        elif int(n2) > 12:\n",
    "            self.date = \"-\".join([n1, n3, n2])\n",
    "        return self\n",
    "    \n",
    "    def fix_order_type(self):\n",
    "        # get correct order_type from the time\n",
    "        classified_type = classify_order_type(self.time)\n",
    "        if classified_type != self.order_type:\n",
    "            self.order_type = classified_type\n",
    "        return self\n",
    "    \n",
    "    def fix_branch_code(self):\n",
    "        is_changed = False\n",
    "        # fix the uppercase and lowercase issue first\n",
    "        branch_code_replace_map = {'tp':'TP', 'ns':'NS', 'bk':'BK'}\n",
    "        if self.branch_code in branch_code_replace_map:\n",
    "            self.branch_code = branch_code_replace_map[self.branch_code]\n",
    "            is_changed = True\n",
    "        # find correct branch from order_id\n",
    "        correct_branch = self.find_branch_code()\n",
    "        if self.branch_code != correct_branch:\n",
    "            self.branch_code = correct_branch\n",
    "            is_changed = True\n",
    "        # if the branch code is fixed, re-find the branch node\n",
    "        if is_changed:\n",
    "            self.branch_node = self.find_branch_node()\n",
    "        return self\n",
    "\n",
    "    def fix_order_items(self):\n",
    "        correct_menu_map = {\n",
    "            \"Breakfast\": BREAKFAST_PRICE,\n",
    "            \"Lunch\": LUNCH_PRICE,\n",
    "            \"Dinner\": DINNER_PRICE\n",
    "        }\n",
    "        is_correct = True\n",
    "        correct_price = correct_menu_map[self.order_type]\n",
    "        # check if there is wrong item in the order_items\n",
    "        for item, quantity in self.order_items:\n",
    "            if item not in correct_price:\n",
    "                is_correct = False\n",
    "                break\n",
    "        # if the order_items is correct, do nothing\n",
    "        if is_correct:\n",
    "            return self\n",
    "        # else fix the wrong item\n",
    "        else:\n",
    "            new_order_items = self.order_items.copy()\n",
    "            # initialize the price variable for calculation\n",
    "            price = self.order_price\n",
    "            # minus all correct item prices\n",
    "            for item, quantity in self.order_items:\n",
    "                if item in correct_price:\n",
    "                    price -= correct_price[item] * quantity\n",
    "            # get the wrong item and index\n",
    "            wrong_pair = list(filter(lambda x: x[0] not in correct_price.keys(), self.order_items))[0]\n",
    "            wrong_index = new_order_items.index(wrong_pair)\n",
    "            # calculate the correct price for the wrong item\n",
    "            correct_item_price = price / wrong_pair[1]\n",
    "            # find the correct item from menu\n",
    "            for menu_item, menu_price in correct_price.items():\n",
    "                if menu_price == correct_item_price:\n",
    "                    correct_item = menu_item\n",
    "                    break\n",
    "            # modify the wrong pair to correct one\n",
    "            new_order_items[wrong_index] = (correct_item, wrong_pair[1])\n",
    "            self.order_items = new_order_items\n",
    "            return self\n",
    "        \n",
    "    def fix_order_price(self):\n",
    "        # calculate the correct price from the correct order_items\n",
    "        # fix the order_price if it is not equal\n",
    "        correct_menu_map = {\n",
    "            \"Breakfast\": BREAKFAST_PRICE,\n",
    "            \"Lunch\": LUNCH_PRICE,\n",
    "            \"Dinner\": DINNER_PRICE\n",
    "        }\n",
    "        correct_price = correct_menu_map[self.order_type]\n",
    "        price = 0\n",
    "        for item, quantity in self.order_items:\n",
    "            price += correct_price[item] * quantity\n",
    "        price = round(price, 2)\n",
    "\n",
    "        if price != self.order_price:\n",
    "            self.order_price = price\n",
    "        return self\n",
    "    \n",
    "    def fix_location(self):\n",
    "        if 30 < self.customer_lat < 40:\n",
    "            # if the error is the negative sign\n",
    "            self.customer_lat = self.customer_lat * (-1)\n",
    "            self.node = self.find_node()\n",
    "            return self\n",
    "        elif self.customer_lat > 100 and self.customer_lon < 0:\n",
    "            # if the error is the opposite places of lat and lon values\n",
    "            self.customer_lat, self.customer_lon = self.customer_lon, self.customer_lat\n",
    "            self.node = self.find_node()\n",
    "            return self\n",
    "        else:\n",
    "            # no fix for no error rows\n",
    "            return self\n",
    "        \n",
    "    def fix_distance(self):\n",
    "        # calculate the distance by dijkstra algorithm\n",
    "        distance = dijkstra_path_length(G=graph, source=self.branch_node, target=self.node, weight=\"distance\")\n",
    "        # transfer m to km\n",
    "        distance /= 1000\n",
    "        if distance != self.distance_to_customer_KM:\n",
    "            self.distance_to_customer_KM = distance\n",
    "        return self\n",
    "        \n",
    "    def display_loc(self):\n",
    "        # display customer location node\n",
    "        return f\"Node {self.node} in ({self.customer_lat}, {self.customer_lon})\"\n",
    "    \n",
    "    def fix_customerHasloyalty(self):\n",
    "        predicted_loyalty = predict_loyalty(self)\n",
    "        if self.customerHasloyalty != predicted_loyalty:\n",
    "            self.customerHasloyalty = predicted_loyalty\n",
    "        return self"
   ]
  },
  {
   "cell_type": "markdown",
   "metadata": {},
   "source": [
    "## 4.4 Fixing Errors\n",
    "\n",
    "### 4.4.1 Fix date"
   ]
  },
  {
   "cell_type": "code",
   "execution_count": 19,
   "metadata": {},
   "outputs": [
    {
     "data": {
      "text/html": [
       "<div>\n",
       "<style scoped>\n",
       "    .dataframe tbody tr th:only-of-type {\n",
       "        vertical-align: middle;\n",
       "    }\n",
       "\n",
       "    .dataframe tbody tr th {\n",
       "        vertical-align: top;\n",
       "    }\n",
       "\n",
       "    .dataframe thead th {\n",
       "        text-align: right;\n",
       "    }\n",
       "</style>\n",
       "<table border=\"1\" class=\"dataframe\">\n",
       "  <thead>\n",
       "    <tr style=\"text-align: right;\">\n",
       "      <th></th>\n",
       "      <th>order_id</th>\n",
       "      <th>date</th>\n",
       "      <th>time</th>\n",
       "      <th>order_type</th>\n",
       "      <th>branch_code</th>\n",
       "      <th>order_items</th>\n",
       "      <th>order_price</th>\n",
       "      <th>customer_lat</th>\n",
       "      <th>customer_lon</th>\n",
       "      <th>customerHasloyalty?</th>\n",
       "      <th>distance_to_customer_KM</th>\n",
       "      <th>delivery_fee</th>\n",
       "    </tr>\n",
       "  </thead>\n",
       "  <tbody>\n",
       "    <tr>\n",
       "      <th>488</th>\n",
       "      <td>ORDB01761</td>\n",
       "      <td>2018-12-23</td>\n",
       "      <td>19:49:51</td>\n",
       "      <td>Dinner</td>\n",
       "      <td>TP</td>\n",
       "      <td>[('Fish&amp;Chips', 3), ('Pasta', 1), ('Salmon', 7)]</td>\n",
       "      <td>419.5</td>\n",
       "      <td>-37.816492</td>\n",
       "      <td>144.945971</td>\n",
       "      <td>0</td>\n",
       "      <td>7.816</td>\n",
       "      <td>14.779643</td>\n",
       "    </tr>\n",
       "    <tr>\n",
       "      <th>489</th>\n",
       "      <td>ORDY00571</td>\n",
       "      <td>2018-19-07</td>\n",
       "      <td>14:35:29</td>\n",
       "      <td>Lunch</td>\n",
       "      <td>TP</td>\n",
       "      <td>[('Burger', 3), ('Steak', 9)]</td>\n",
       "      <td>498.0</td>\n",
       "      <td>-37.799380</td>\n",
       "      <td>144.973005</td>\n",
       "      <td>0</td>\n",
       "      <td>10.231</td>\n",
       "      <td>13.634579</td>\n",
       "    </tr>\n",
       "    <tr>\n",
       "      <th>490</th>\n",
       "      <td>ORDC05278</td>\n",
       "      <td>11-10-2018</td>\n",
       "      <td>17:17:44</td>\n",
       "      <td>Dinner</td>\n",
       "      <td>NS</td>\n",
       "      <td>[('Pasta', 7), ('Fish&amp;Chips', 5), ('Salmon', 7)]</td>\n",
       "      <td>654.5</td>\n",
       "      <td>-37.812124</td>\n",
       "      <td>144.953429</td>\n",
       "      <td>0</td>\n",
       "      <td>8.452</td>\n",
       "      <td>14.611985</td>\n",
       "    </tr>\n",
       "    <tr>\n",
       "      <th>491</th>\n",
       "      <td>ORDB05798</td>\n",
       "      <td>2018-09-07</td>\n",
       "      <td>16:16:54</td>\n",
       "      <td>Dinner</td>\n",
       "      <td>TP</td>\n",
       "      <td>[('Salmon', 1), ('Fish&amp;Chips', 1)]</td>\n",
       "      <td>76.0</td>\n",
       "      <td>37.819890</td>\n",
       "      <td>144.976928</td>\n",
       "      <td>0</td>\n",
       "      <td>8.498</td>\n",
       "      <td>12.451754</td>\n",
       "    </tr>\n",
       "    <tr>\n",
       "      <th>492</th>\n",
       "      <td>ORDA04457</td>\n",
       "      <td>2018-02-07</td>\n",
       "      <td>09:10:59</td>\n",
       "      <td>Breakfast</td>\n",
       "      <td>BK</td>\n",
       "      <td>[('Pancake', 2), ('Cereal', 9), ('Eggs', 8)]</td>\n",
       "      <td>413.5</td>\n",
       "      <td>-37.819275</td>\n",
       "      <td>144.965030</td>\n",
       "      <td>0</td>\n",
       "      <td>7.791</td>\n",
       "      <td>12.522506</td>\n",
       "    </tr>\n",
       "    <tr>\n",
       "      <th>493</th>\n",
       "      <td>ORDA05709</td>\n",
       "      <td>2018-12-19</td>\n",
       "      <td>19:39:43</td>\n",
       "      <td>Dinner</td>\n",
       "      <td>BK</td>\n",
       "      <td>[('Fish&amp;Chips', 8), ('Shrimp', 9)]</td>\n",
       "      <td>766.0</td>\n",
       "      <td>-37.814337</td>\n",
       "      <td>144.935910</td>\n",
       "      <td>0</td>\n",
       "      <td>9.227</td>\n",
       "      <td>17.030775</td>\n",
       "    </tr>\n",
       "    <tr>\n",
       "      <th>494</th>\n",
       "      <td>ORDZ10367</td>\n",
       "      <td>2018-05-28</td>\n",
       "      <td>12:54:05</td>\n",
       "      <td>Lunch</td>\n",
       "      <td>NS</td>\n",
       "      <td>[('Chicken', 10), ('Fries', 1)]</td>\n",
       "      <td>332.0</td>\n",
       "      <td>-37.815067</td>\n",
       "      <td>144.973538</td>\n",
       "      <td>0</td>\n",
       "      <td>8.026</td>\n",
       "      <td>13.595156</td>\n",
       "    </tr>\n",
       "    <tr>\n",
       "      <th>495</th>\n",
       "      <td>ORDJ07108</td>\n",
       "      <td>2018-06-18</td>\n",
       "      <td>13:34:38</td>\n",
       "      <td>Lunch</td>\n",
       "      <td>TP</td>\n",
       "      <td>[('Steak', 2), ('Fries', 9), ('Chicken', 5)]</td>\n",
       "      <td>358.0</td>\n",
       "      <td>-37.813254</td>\n",
       "      <td>144.973865</td>\n",
       "      <td>0</td>\n",
       "      <td>8.625</td>\n",
       "      <td>12.518367</td>\n",
       "    </tr>\n",
       "    <tr>\n",
       "      <th>496</th>\n",
       "      <td>ORDJ00204</td>\n",
       "      <td>2018-09-15</td>\n",
       "      <td>16:27:02</td>\n",
       "      <td>Breakfast</td>\n",
       "      <td>TP</td>\n",
       "      <td>[('Salmon', 10), ('Pasta', 6)]</td>\n",
       "      <td>575.0</td>\n",
       "      <td>-37.809799</td>\n",
       "      <td>144.991895</td>\n",
       "      <td>0</td>\n",
       "      <td>10.314</td>\n",
       "      <td>15.651098</td>\n",
       "    </tr>\n",
       "    <tr>\n",
       "      <th>497</th>\n",
       "      <td>ORDI09933</td>\n",
       "      <td>2018-01-20</td>\n",
       "      <td>08:30:25</td>\n",
       "      <td>Breakfast</td>\n",
       "      <td>NS</td>\n",
       "      <td>[('Eggs', 10), ('Pancake', 8)]</td>\n",
       "      <td>414.0</td>\n",
       "      <td>-37.799101</td>\n",
       "      <td>144.933486</td>\n",
       "      <td>1</td>\n",
       "      <td>9.514</td>\n",
       "      <td>17.130792</td>\n",
       "    </tr>\n",
       "    <tr>\n",
       "      <th>498</th>\n",
       "      <td>ORDI11008</td>\n",
       "      <td>2018-07-18</td>\n",
       "      <td>14:35:29</td>\n",
       "      <td>Lunch</td>\n",
       "      <td>NS</td>\n",
       "      <td>[('Burger', 4), ('Chicken', 10), ('Fries', 10)]</td>\n",
       "      <td>564.0</td>\n",
       "      <td>-37.811325</td>\n",
       "      <td>144.926954</td>\n",
       "      <td>1</td>\n",
       "      <td>10.257</td>\n",
       "      <td>15.819024</td>\n",
       "    </tr>\n",
       "    <tr>\n",
       "      <th>499</th>\n",
       "      <td>ORDX10126</td>\n",
       "      <td>2018-05-21</td>\n",
       "      <td>12:33:48</td>\n",
       "      <td>Lunch</td>\n",
       "      <td>BK</td>\n",
       "      <td>[('Fries', 1), ('Salad', 3), ('Burger', 1), ('...</td>\n",
       "      <td>427.6</td>\n",
       "      <td>-37.823993</td>\n",
       "      <td>144.953891</td>\n",
       "      <td>0</td>\n",
       "      <td>8.958</td>\n",
       "      <td>15.013485</td>\n",
       "    </tr>\n",
       "  </tbody>\n",
       "</table>\n",
       "</div>"
      ],
      "text/plain": [
       "      order_id        date      time order_type branch_code  \\\n",
       "488  ORDB01761  2018-12-23  19:49:51     Dinner          TP   \n",
       "489  ORDY00571  2018-19-07  14:35:29      Lunch          TP   \n",
       "490  ORDC05278  11-10-2018  17:17:44     Dinner          NS   \n",
       "491  ORDB05798  2018-09-07  16:16:54     Dinner          TP   \n",
       "492  ORDA04457  2018-02-07  09:10:59  Breakfast          BK   \n",
       "493  ORDA05709  2018-12-19  19:39:43     Dinner          BK   \n",
       "494  ORDZ10367  2018-05-28  12:54:05      Lunch          NS   \n",
       "495  ORDJ07108  2018-06-18  13:34:38      Lunch          TP   \n",
       "496  ORDJ00204  2018-09-15  16:27:02  Breakfast          TP   \n",
       "497  ORDI09933  2018-01-20  08:30:25  Breakfast          NS   \n",
       "498  ORDI11008  2018-07-18  14:35:29      Lunch          NS   \n",
       "499  ORDX10126  2018-05-21  12:33:48      Lunch          BK   \n",
       "\n",
       "                                           order_items  order_price  \\\n",
       "488   [('Fish&Chips', 3), ('Pasta', 1), ('Salmon', 7)]        419.5   \n",
       "489                      [('Burger', 3), ('Steak', 9)]        498.0   \n",
       "490   [('Pasta', 7), ('Fish&Chips', 5), ('Salmon', 7)]        654.5   \n",
       "491                 [('Salmon', 1), ('Fish&Chips', 1)]         76.0   \n",
       "492       [('Pancake', 2), ('Cereal', 9), ('Eggs', 8)]        413.5   \n",
       "493                 [('Fish&Chips', 8), ('Shrimp', 9)]        766.0   \n",
       "494                    [('Chicken', 10), ('Fries', 1)]        332.0   \n",
       "495       [('Steak', 2), ('Fries', 9), ('Chicken', 5)]        358.0   \n",
       "496                     [('Salmon', 10), ('Pasta', 6)]        575.0   \n",
       "497                     [('Eggs', 10), ('Pancake', 8)]        414.0   \n",
       "498    [('Burger', 4), ('Chicken', 10), ('Fries', 10)]        564.0   \n",
       "499  [('Fries', 1), ('Salad', 3), ('Burger', 1), ('...        427.6   \n",
       "\n",
       "     customer_lat  customer_lon  customerHasloyalty?  distance_to_customer_KM  \\\n",
       "488    -37.816492    144.945971                    0                    7.816   \n",
       "489    -37.799380    144.973005                    0                   10.231   \n",
       "490    -37.812124    144.953429                    0                    8.452   \n",
       "491     37.819890    144.976928                    0                    8.498   \n",
       "492    -37.819275    144.965030                    0                    7.791   \n",
       "493    -37.814337    144.935910                    0                    9.227   \n",
       "494    -37.815067    144.973538                    0                    8.026   \n",
       "495    -37.813254    144.973865                    0                    8.625   \n",
       "496    -37.809799    144.991895                    0                   10.314   \n",
       "497    -37.799101    144.933486                    1                    9.514   \n",
       "498    -37.811325    144.926954                    1                   10.257   \n",
       "499    -37.823993    144.953891                    0                    8.958   \n",
       "\n",
       "     delivery_fee  \n",
       "488     14.779643  \n",
       "489     13.634579  \n",
       "490     14.611985  \n",
       "491     12.451754  \n",
       "492     12.522506  \n",
       "493     17.030775  \n",
       "494     13.595156  \n",
       "495     12.518367  \n",
       "496     15.651098  \n",
       "497     17.130792  \n",
       "498     15.819024  \n",
       "499     15.013485  "
      ]
     },
     "execution_count": 19,
     "metadata": {},
     "output_type": "execute_result"
    }
   ],
   "source": [
    "dirty_data.tail(12)"
   ]
  },
  {
   "cell_type": "markdown",
   "metadata": {},
   "source": [
    "Based on the above result, we find that there are two types of error in terms of the date:\n",
    "\n",
    "1. The data use dd-mm-YYYY not YYYY-mm-dd\n",
    "2. The place of month and day in wrong place\n",
    "\n",
    "Then, we find all errors at following cell."
   ]
  },
  {
   "cell_type": "code",
   "execution_count": 20,
   "metadata": {},
   "outputs": [
    {
     "name": "stdout",
     "output_type": "stream",
     "text": [
      "08-10-2018\n",
      "09-09-2018\n",
      "2018-17-07\n",
      "2018-30-07\n",
      "12-10-2018\n",
      "2018-30-08\n",
      "2018-16-10\n",
      "2018-16-06\n",
      "2018-13-11\n",
      "09-12-2018\n",
      "2018-24-03\n",
      "2018-26-04\n",
      "08-01-2018\n",
      "09-12-2018\n",
      "2018-13-05\n",
      "2018-28-07\n",
      "06-06-2018\n",
      "2018-29-08\n",
      "12-02-2018\n",
      "2018-18-02\n",
      "01-12-2018\n",
      "10-01-2018\n",
      "09-02-2018\n",
      "04-04-2018\n",
      "2018-29-01\n",
      "11-11-2018\n",
      "07-01-2018\n",
      "2018-24-02\n",
      "2018-28-02\n",
      "2018-26-10\n",
      "2018-13-12\n",
      "2018-27-01\n",
      "2018-28-03\n",
      "05-06-2018\n",
      "2018-22-03\n",
      "2018-19-07\n",
      "11-10-2018\n"
     ]
    }
   ],
   "source": [
    "for each in dirty_data.date:\n",
    "    if len(each.split(\"-\")[2]) == 4 or int(each.split('-')[1]) > 12:\n",
    "        print(each)"
   ]
  },
  {
   "cell_type": "markdown",
   "metadata": {},
   "source": [
    "Count the numbers of dirty data with wrong date."
   ]
  },
  {
   "cell_type": "code",
   "execution_count": 21,
   "metadata": {},
   "outputs": [
    {
     "data": {
      "text/plain": [
       "37"
      ]
     },
     "execution_count": 21,
     "metadata": {},
     "output_type": "execute_result"
    }
   ],
   "source": [
    "count = 0\n",
    "for each in dirty_data.date:\n",
    "    if len(each.split(\"-\")[2]) == 4 or int(each.split(\"-\")[1]) > 12:\n",
    "        count += 1\n",
    "count"
   ]
  },
  {
   "cell_type": "markdown",
   "metadata": {},
   "source": [
    "The fix_date method is used here to fix all date errors.\n",
    "This method was defined in DirtyData class <b>(4.3.2)</b >\n",
    "The method is defined as following:\n",
    "\n",
    "```python\n",
    "    # define the method for fixing the date\n",
    "    def fix_date(self):\n",
    "        # split the data to 3 numbers \n",
    "        n1, n2, n3 = self.date.split(\"-\")\n",
    "        # if the third number is 4-digit, it means it is year and need to be fixed\n",
    "        if len(n3) == 4:\n",
    "            self.date = \"-\".join([n3, n2, n1])\n",
    "        # if the month number is larger than 12, it means the locations of month and day are reversed\n",
    "        elif int(n2) > 12:\n",
    "            self.date = \"-\".join([n1, n3, n2])\n",
    "        return self\n",
    "```"
   ]
  },
  {
   "cell_type": "code",
   "execution_count": 22,
   "metadata": {},
   "outputs": [
    {
     "data": {
      "text/plain": [
       "[DirtyData(order_id='ORDA09604', date='2018-06-15', time='13:24:30', order_type='Lunch', branch_code='BK', order_items=[('Fries', 6), ('Burger', 6), ('Chicken', 9), ('Steak', 5), ('Salad', 10)], order_price=943.0, customer_lat=-37.8018052, customer_lon=144.9571189, customerHasloyalty=0, distance_to_customer_KM=8.207, delivery_fee=14.1430936),\n",
       " DirtyData(order_id='ORDI01219', date='2018-01-03', time='08:00:00', order_type='Breakfast', branch_code='NS', order_items=[('Pancake', 6), ('Coffee', 3), ('Cereal', 6), ('Eggs', 5)], order_price=404.0, customer_lat=-37.8137302, customer_lon=144.9409476, customerHasloyalty=1, distance_to_customer_KM=9.632, delivery_fee=7.4953104)]"
      ]
     },
     "execution_count": 22,
     "metadata": {},
     "output_type": "execute_result"
    }
   ],
   "source": [
    "# generate dirty data instances from rows in data frame\n",
    "dirty_data_list = []\n",
    "for row in dirty_data.values:\n",
    "    DirtyData.build_data_from_row(row)\n",
    "dirty_data_list[:2]"
   ]
  },
  {
   "cell_type": "markdown",
   "metadata": {},
   "source": [
    "<b> The following method is defined in Data Class </b>\n",
    "```python\n",
    "    @staticmethod\n",
    "    def build_data_from_row(row: Series):\n",
    "        values = extract_values_from_row(row)\n",
    "        return Data(*values)\n",
    "```\n",
    "<b> extract_values_from_row( ) will be called in build_data_from_row( ) which is used to construct attributes for class</b>\n",
    "```python\n",
    "# extract values as preparation to build data object\n",
    "def extract_values_from_row(row: Series) -> List:\n",
    "    # generate a value list from the row in data frame\n",
    "    values = row.tolist()\n",
    "    values[7] = round(values[7], 7)\n",
    "    values[8] = round(values[8], 7)\n",
    "    values[10] = round(values[10], 3)\n",
    "    values[11] = round(values[11], 7)\n",
    "    # as the order_items is string, using list to format it is easier to process\n",
    "    # eval function is for extracting the string content\n",
    "    # for the order_items here, it convert the string to list\n",
    "    values[5] = eval(values[5])\n",
    "    return values\n",
    "```\n",
    "\n",
    "We find two errors in data, then we print out them before and after fix."
   ]
  },
  {
   "cell_type": "code",
   "execution_count": 23,
   "metadata": {},
   "outputs": [
    {
     "name": "stdout",
     "output_type": "stream",
     "text": [
      "2018-19-07 11-10-2018\n",
      "2018-07-19 2018-10-11\n"
     ]
    }
   ],
   "source": [
    "date_eg = DirtyData.build_data_from_row(dirty_data.loc[489])\n",
    "date_eg2 = DirtyData.build_data_from_row(dirty_data.loc[490])\n",
    "print(date_eg.date, date_eg2.date)\n",
    "\n",
    "for each in dirty_data_list:\n",
    "    each.fix_date()\n",
    "    \n",
    "print(date_eg.date, date_eg2.date)"
   ]
  },
  {
   "cell_type": "markdown",
   "metadata": {},
   "source": [
    "### 4.4.2 Fix order_type\n",
    "\n",
    "There are three types of meals:\n",
    "a. Breakfast - served during morning (8am - 12pm),\n",
    "b. Lunch - served during afternoon (12:00:01pm - 4pm)\n",
    "c. Dinner - served during evening (4:00:01pm - 8pm)\n",
    "\n",
    "Based on the folling example, we find that the time is using 24-hour timing method. Therefore, \n",
    "- Breakfast time is: 08:00:00 - 12:00:00\n",
    "- Lunch time is: 12:00:01 - 16:00:00\n",
    "- Dinner time is: 16:00:01 - 20:00:00\n",
    "\n"
   ]
  },
  {
   "cell_type": "code",
   "execution_count": 24,
   "metadata": {},
   "outputs": [
    {
     "data": {
      "text/html": [
       "<div>\n",
       "<style scoped>\n",
       "    .dataframe tbody tr th:only-of-type {\n",
       "        vertical-align: middle;\n",
       "    }\n",
       "\n",
       "    .dataframe tbody tr th {\n",
       "        vertical-align: top;\n",
       "    }\n",
       "\n",
       "    .dataframe thead th {\n",
       "        text-align: right;\n",
       "    }\n",
       "</style>\n",
       "<table border=\"1\" class=\"dataframe\">\n",
       "  <thead>\n",
       "    <tr style=\"text-align: right;\">\n",
       "      <th></th>\n",
       "      <th>order_id</th>\n",
       "      <th>date</th>\n",
       "      <th>time</th>\n",
       "      <th>order_type</th>\n",
       "      <th>branch_code</th>\n",
       "      <th>order_items</th>\n",
       "      <th>order_price</th>\n",
       "      <th>customer_lat</th>\n",
       "      <th>customer_lon</th>\n",
       "      <th>customerHasloyalty?</th>\n",
       "      <th>distance_to_customer_KM</th>\n",
       "      <th>delivery_fee</th>\n",
       "    </tr>\n",
       "  </thead>\n",
       "  <tbody>\n",
       "    <tr>\n",
       "      <th>0</th>\n",
       "      <td>ORDA09604</td>\n",
       "      <td>2018-06-15</td>\n",
       "      <td>13:24:30</td>\n",
       "      <td>Lunch</td>\n",
       "      <td>BK</td>\n",
       "      <td>[('Fries', 6), ('Burger', 6), ('Chicken', 9), ...</td>\n",
       "      <td>943.0</td>\n",
       "      <td>-37.801805</td>\n",
       "      <td>144.957119</td>\n",
       "      <td>0</td>\n",
       "      <td>8.207</td>\n",
       "      <td>14.143094</td>\n",
       "    </tr>\n",
       "    <tr>\n",
       "      <th>1</th>\n",
       "      <td>ORDI01219</td>\n",
       "      <td>2018-01-03</td>\n",
       "      <td>08:00:00</td>\n",
       "      <td>Breakfast</td>\n",
       "      <td>NS</td>\n",
       "      <td>[('Pancake', 6), ('Coffee', 3), ('Cereal', 6),...</td>\n",
       "      <td>404.0</td>\n",
       "      <td>-37.813730</td>\n",
       "      <td>144.940948</td>\n",
       "      <td>1</td>\n",
       "      <td>9.632</td>\n",
       "      <td>7.495310</td>\n",
       "    </tr>\n",
       "    <tr>\n",
       "      <th>2</th>\n",
       "      <td>ORDC00455</td>\n",
       "      <td>2018-02-19</td>\n",
       "      <td>09:31:16</td>\n",
       "      <td>Breakfast</td>\n",
       "      <td>NS</td>\n",
       "      <td>[('Coffee', 2), ('Pancake', 10), ('Eggs', 9)]</td>\n",
       "      <td>455.5</td>\n",
       "      <td>37.805031</td>\n",
       "      <td>144.927906</td>\n",
       "      <td>0</td>\n",
       "      <td>10.574</td>\n",
       "      <td>15.722936</td>\n",
       "    </tr>\n",
       "  </tbody>\n",
       "</table>\n",
       "</div>"
      ],
      "text/plain": [
       "    order_id        date      time order_type branch_code  \\\n",
       "0  ORDA09604  2018-06-15  13:24:30      Lunch          BK   \n",
       "1  ORDI01219  2018-01-03  08:00:00  Breakfast          NS   \n",
       "2  ORDC00455  2018-02-19  09:31:16  Breakfast          NS   \n",
       "\n",
       "                                         order_items  order_price  \\\n",
       "0  [('Fries', 6), ('Burger', 6), ('Chicken', 9), ...        943.0   \n",
       "1  [('Pancake', 6), ('Coffee', 3), ('Cereal', 6),...        404.0   \n",
       "2      [('Coffee', 2), ('Pancake', 10), ('Eggs', 9)]        455.5   \n",
       "\n",
       "   customer_lat  customer_lon  customerHasloyalty?  distance_to_customer_KM  \\\n",
       "0    -37.801805    144.957119                    0                    8.207   \n",
       "1    -37.813730    144.940948                    1                    9.632   \n",
       "2     37.805031    144.927906                    0                   10.574   \n",
       "\n",
       "   delivery_fee  \n",
       "0     14.143094  \n",
       "1      7.495310  \n",
       "2     15.722936  "
      ]
     },
     "execution_count": 24,
     "metadata": {},
     "output_type": "execute_result"
    }
   ],
   "source": [
    "dirty_data.head(3)"
   ]
  },
  {
   "cell_type": "markdown",
   "metadata": {},
   "source": [
    "Based on this rule in above, the classify_order_type( ) is defined to classify the order type."
   ]
  },
  {
   "cell_type": "code",
   "execution_count": 25,
   "metadata": {},
   "outputs": [],
   "source": [
    "def classify_order_type(time: str) -> str:\n",
    "    \"\"\"\n",
    "    The function is defined for classify the correct order_type\n",
    "    from the time in a day.\n",
    "    \"\"\"\n",
    "    h, m, s = time.split(\":\")\n",
    "    h, m, s = tuple(map(int, (h, m, s)))\n",
    "    if h in (8, 9, 10, 11):\n",
    "        result = \"Breakfast\"\n",
    "    elif h == 12 and m == 0 and s == 0:\n",
    "        result = \"Breakfast\"\n",
    "    elif h in (12, 13, 14, 15):\n",
    "        result = \"Lunch\"\n",
    "    elif h == 16 and m == 0 and s == 0:\n",
    "        result = \"Lunch\"\n",
    "    elif h in (16, 17, 18, 19):\n",
    "        result = \"Dinner\"\n",
    "    elif h == 20 and m == 0 and s == 0:\n",
    "        result = \"Dinner\"\n",
    "    else:\n",
    "        result = \"Error\"\n",
    "    return result"
   ]
  },
  {
   "cell_type": "markdown",
   "metadata": {},
   "source": [
    "The following function is used to idntify all of order_type errors and count the number of errors"
   ]
  },
  {
   "cell_type": "code",
   "execution_count": 26,
   "metadata": {},
   "outputs": [],
   "source": [
    "# define a function to return the order id of dirty data with wrong order type\n",
    "def display_wrong_order_type(dirty_data: DirtyData) -> str:\n",
    "    classified_type = classify_order_type(dirty_data.time)\n",
    "    if classified_type != dirty_data.order_type:\n",
    "        return dirty_data.order_id"
   ]
  },
  {
   "cell_type": "code",
   "execution_count": 27,
   "metadata": {
    "scrolled": true
   },
   "outputs": [
    {
     "data": {
      "text/plain": [
       "37"
      ]
     },
     "execution_count": 27,
     "metadata": {},
     "output_type": "execute_result"
    }
   ],
   "source": [
    "wrong_orders = list(map(display_wrong_order_type, dirty_data_list))\n",
    "len(list(filter(lambda x: x is not None, wrong_orders)))"
   ]
  },
  {
   "cell_type": "markdown",
   "metadata": {},
   "source": [
    "<b>The method below is defined in DirtyData class, if the order type does not match the time which will be fixed.</b>\n",
    "```python\n",
    "    def fix_order_type(self):\n",
    "        # get correct order_type from the time\n",
    "        classified_type = classify_order_type(self.time)\n",
    "        if classified_type != self.order_type:\n",
    "            self.order_type = classified_type\n",
    "        return self\n",
    "```\n",
    "\n",
    "<b>The above method will call the function which was defined above:</b>\n",
    "```python\n",
    "# define a function to return the order id of dirty data with wrong order type\n",
    "def display_wrong_order_type(dirty_data: DirtyData) -> str:\n",
    "    classified_type = classify_order_type(dirty_data.time)\n",
    "    if classified_type != dirty_data.order_type:\n",
    "        return dirty_data.order_id\n",
    "```"
   ]
  },
  {
   "cell_type": "markdown",
   "metadata": {},
   "source": [
    "#### Example\n",
    "There is an exmple which does not match the oder-time, and the correct result is printed after fixing."
   ]
  },
  {
   "cell_type": "code",
   "execution_count": 28,
   "metadata": {},
   "outputs": [
    {
     "name": "stdout",
     "output_type": "stream",
     "text": [
      "Breakfast\n",
      "Dinner\n"
     ]
    }
   ],
   "source": [
    "data_eg = dirty_data_list[7]\n",
    "print(data_eg.order_type)\n",
    "# apply the method to fix order type\n",
    "for each in dirty_data_list:\n",
    "    each.fix_order_type()\n",
    "print(data_eg.order_type)"
   ]
  },
  {
   "cell_type": "markdown",
   "metadata": {},
   "source": [
    "### 4.4.3 Fix branch_code\n",
    "\n",
    "#### Error 1\n",
    "After examining the data, the first error in branch_code is lower and upper case problem"
   ]
  },
  {
   "cell_type": "code",
   "execution_count": 29,
   "metadata": {},
   "outputs": [
    {
     "data": {
      "text/plain": [
       "{'BK', 'NS', 'TP', 'bk', 'ns', 'tp'}"
      ]
     },
     "execution_count": 29,
     "metadata": {},
     "output_type": "execute_result"
    }
   ],
   "source": [
    "set(dirty_data.branch_code)"
   ]
  },
  {
   "cell_type": "code",
   "execution_count": 30,
   "metadata": {},
   "outputs": [
    {
     "data": {
      "text/plain": [
       "BK    171\n",
       "TP    151\n",
       "NS    150\n",
       "tp     10\n",
       "ns      9\n",
       "bk      9\n",
       "Name: branch_code, dtype: int64"
      ]
     },
     "execution_count": 30,
     "metadata": {},
     "output_type": "execute_result"
    }
   ],
   "source": [
    "dirty_data.branch_code.value_counts()"
   ]
  },
  {
   "cell_type": "markdown",
   "metadata": {},
   "source": [
    "What the table above tells us:\n",
    "\n",
    "\n",
    "Order_id are unique (count = unique)\n",
    "There are 3 type of orders which are Breakfast, Lunch and Dinner\n",
    "There are 3 branch but there are 6 unique branc_code, the issue is that the lowercase and uppercase issue.\n",
    "\n",
    "Now, we need to replace all of the lowercase brach_code to uppercase.\n",
    "\n",
    "```python\n",
    "    def fix_branch_code(self):\n",
    "        is_changed = False\n",
    "        # fix the uppercase and lowercase issue first\n",
    "        branch_code_replace_map = {'tp':'TP', 'ns':'NS', 'bk':'BK'}\n",
    "        if self.branch_code in branch_code_replace_map:\n",
    "            self.branch_code = branch_code_replace_map[self.branch_code]\n",
    "            is_changed = True\n",
    "```"
   ]
  },
  {
   "cell_type": "markdown",
   "metadata": {},
   "source": [
    "#### Error 2 \n",
    "\n",
    "The order_id has 2 parts, the first 4 English characters and 4 numbers. The first part has some relationship with branch_code.\n",
    "To find the frequency of each order_id in each branch, the function `reduce_by_key` is implemented. \n",
    "\n",
    "The \"reduce by key\" theory is inspired from Apache Spark (2019). The way to implement is inspred from Juanlu001 (2019)."
   ]
  },
  {
   "cell_type": "code",
   "execution_count": 31,
   "metadata": {},
   "outputs": [],
   "source": [
    "def get_key(element):\n",
    "    return element[0]\n",
    "\n",
    "def get_value(element):\n",
    "    return element[1]\n",
    "\n",
    "def reduce_by_key(func, iterable):\n",
    "    return map(\n",
    "        lambda x: (x[0], reduce(func, map(get_value, x[1]))),\n",
    "        groupby(sorted(iterable, key=get_key), get_key)\n",
    "    )"
   ]
  },
  {
   "cell_type": "markdown",
   "metadata": {},
   "source": [
    "Divide the dirty data by their branches, then apply the functions to calculate the distribution of order_id in each branch."
   ]
  },
  {
   "cell_type": "code",
   "execution_count": 32,
   "metadata": {},
   "outputs": [
    {
     "name": "stdout",
     "output_type": "stream",
     "text": [
      "[('ORDC', 54), ('ORDI', 42), ('ORDX', 1), ('ORDY', 3), ('ORDZ', 51)]\n",
      "[('ORDB', 48), ('ORDC', 1), ('ORDI', 1), ('ORDJ', 48), ('ORDX', 1), ('ORDY', 53)]\n",
      "[('ORDA', 66), ('ORDC', 1), ('ORDI', 1), ('ORDK', 56), ('ORDX', 47)]\n"
     ]
    }
   ],
   "source": [
    "# intialize the lists for classify the alphabets part of order_id\n",
    "ns_id = []\n",
    "tp_id = []\n",
    "bk_id = []\n",
    "\n",
    "# classify the order_id by the branch code\n",
    "for each in dirty_data_list:\n",
    "    order_id = each.order_id[:4]\n",
    "    if each.branch_code == \"NS\":\n",
    "        ns_id.append(order_id)\n",
    "    elif each.branch_code == \"TP\":\n",
    "        tp_id.append(order_id)\n",
    "    elif each.branch_code == \"BK\":\n",
    "        bk_id.append(order_id)\n",
    "\n",
    "# count each order_id\n",
    "ns_id = list(map(lambda x:(x, 1), ns_id))\n",
    "ns_id = list(reduce_by_key(lambda x,y: x+y, ns_id))\n",
    "\n",
    "tp_id = list(map(lambda x:(x, 1), tp_id))\n",
    "tp_id = list(reduce_by_key(lambda x,y: x+y, tp_id))\n",
    "\n",
    "bk_id = list(map(lambda x:(x, 1), bk_id))\n",
    "bk_id = list(reduce_by_key(lambda x,y: x+y, bk_id))\n",
    "\n",
    "print(ns_id)\n",
    "print(tp_id)\n",
    "print(bk_id)"
   ]
  },
  {
   "cell_type": "code",
   "execution_count": 33,
   "metadata": {},
   "outputs": [
    {
     "data": {
      "image/png": "[encoded data removed]",
      "text/plain": [
       "<Figure size 864x288 with 1 Axes>"
      ]
     },
     "metadata": {
      "needs_background": "light"
     },
     "output_type": "display_data"
    }
   ],
   "source": [
    "# plot bar chart to examine the distribution of order_id\n",
    "plt.figure(figsize=(12,4))\n",
    "for each in (ns_id, tp_id, bk_id):\n",
    "    plt.bar([get_key(element) for element in each], [get_value(element) for element in each])\n",
    "plt.title(\"The distribution of Order_id\")\n",
    "plt.xlabel(\"Order_id\")\n",
    "plt.ylabel(\"Frequency\")\n",
    "plt.legend([\"NS\", \"TP\", \"BK\"])\n",
    "plt.show()"
   ]
  },
  {
   "cell_type": "markdown",
   "metadata": {},
   "source": [
    "From the bar chart, the relationship between order_id and branch is clear. The result is:\n",
    "\n",
    "- NS: ORDC, ORDI, ORDZ\n",
    "- TP: ORDY, ORDB, ORDJ\n",
    "- BK: ORDX, ORDA, ORDK"
   ]
  },
  {
   "cell_type": "code",
   "execution_count": 34,
   "metadata": {},
   "outputs": [],
   "source": [
    "# build a dictionary for collecting order_id set\n",
    "id_map = {\n",
    "    \"NS\": {\"ORDC\", \"ORDI\", \"ORDZ\"},\n",
    "    \"TP\": {\"ORDY\", \"ORDB\", \"ORDJ\"},\n",
    "    \"BK\": {\"ORDX\", \"ORDA\", \"ORDK\"}\n",
    "}"
   ]
  },
  {
   "cell_type": "markdown",
   "metadata": {},
   "source": [
    "Therefore, the alphabets part of order_id is related to the branch. So, find the correct branch and fix them.\n",
    "\n",
    "```python\n",
    "    def fix_branch_code(self):\n",
    "        is_changed = False\n",
    "        # fix the uppercase and lowercase issue first\n",
    "        branch_code_replace_map = {'tp':'TP', 'ns':'NS', 'bk':'BK'}\n",
    "        if self.branch_code in branch_code_replace_map:\n",
    "            self.branch_code = branch_code_replace_map[self.branch_code]\n",
    "            is_changed = True\n",
    "        # find correct branch from order_id\n",
    "        correct_branch = self.find_branch_code()\n",
    "        if self.branch_code != correct_branch:\n",
    "            self.branch_code = correct_branch\n",
    "            is_changed = True\n",
    "        # if the branch code is fixed, re-find the branch node\n",
    "        if is_changed:\n",
    "            self.branch_node = self.find_branch_node()\n",
    "        return self\n",
    "    \n",
    "    # from the order_id to find correct branch code\n",
    "    def find_branch_code(self):\n",
    "        id_head = self.order_id[:4]\n",
    "        for branch, id_set in id_map.items():\n",
    "            if id_head in id_set:\n",
    "                return branch\n",
    "```"
   ]
  },
  {
   "cell_type": "code",
   "execution_count": 35,
   "metadata": {},
   "outputs": [
    {
     "name": "stdout",
     "output_type": "stream",
     "text": [
      "ns\n",
      "TP\n"
     ]
    }
   ],
   "source": [
    "for data_eg in dirty_data_list:\n",
    "    if data_eg.branch_code in ('tp', 'bk', 'ns'):\n",
    "        break\n",
    "        \n",
    "print(data_eg.branch_code)\n",
    "data_eg.fix_branch_code()\n",
    "print(data_eg.branch_code)"
   ]
  },
  {
   "cell_type": "code",
   "execution_count": 36,
   "metadata": {},
   "outputs": [
    {
     "data": {
      "text/plain": [
       "37"
      ]
     },
     "execution_count": 36,
     "metadata": {},
     "output_type": "execute_result"
    }
   ],
   "source": [
    "# as there is a object has been fixed in the previous chunk\n",
    "count = 1\n",
    "for data_eg in dirty_data_list:\n",
    "    original = data_eg.branch_code\n",
    "    data_eg.fix_branch_code()\n",
    "    if original != data_eg.branch_code:\n",
    "        count += 1\n",
    "count"
   ]
  },
  {
   "cell_type": "markdown",
   "metadata": {},
   "source": [
    "Therefore, there are 37 errors of branch_code in dirty data"
   ]
  },
  {
   "cell_type": "markdown",
   "metadata": {},
   "source": [
    "### 4.4.4 Fix order_items and order_prices\n",
    "\n",
    "#### Fix order_items\n",
    "\n",
    "To find the menus for each order_type, it is necessary to divide them by their order type."
   ]
  },
  {
   "cell_type": "code",
   "execution_count": 37,
   "metadata": {},
   "outputs": [
    {
     "name": "stdout",
     "output_type": "stream",
     "text": [
      "169 180 153 0\n"
     ]
    }
   ],
   "source": [
    "# classify orders by different order types\n",
    "breakfast_orders = [each for each in dirty_data_list if each.order_type == \"Breakfast\"]\n",
    "lunch_orders = [each for each in dirty_data_list if each.order_type == \"Lunch\"]\n",
    "dinner_orders = [each for each in dirty_data_list if each.order_type == \"Dinner\"]\n",
    "error_orders = [each for each in dirty_data_list if each.order_type == \"Error\"]\n",
    "\n",
    "# count each type, and examine if there is errors inside\n",
    "print(len(breakfast_orders), len(lunch_orders), len(dinner_orders), len(error_orders))"
   ]
  },
  {
   "cell_type": "code",
   "execution_count": 38,
   "metadata": {},
   "outputs": [
    {
     "data": {
      "text/plain": [
       "[[('Pancake', 6), ('Coffee', 3), ('Cereal', 6), ('Eggs', 5)],\n",
       " [('Coffee', 2), ('Pancake', 10), ('Eggs', 9)],\n",
       " [('Pancake', 6), ('Coffee', 7), ('Cereal', 2)],\n",
       " [('Eggs', 4), ('Coffee', 7)],\n",
       " [('Eggs', 7), ('Pancake', 3)]]"
      ]
     },
     "execution_count": 38,
     "metadata": {},
     "output_type": "execute_result"
    }
   ],
   "source": [
    "# extract order_item for each Breakfast order\n",
    "nested_order_items = list(map(DirtyData.get_order_items, breakfast_orders))\n",
    "nested_order_items[:5]"
   ]
  },
  {
   "cell_type": "code",
   "execution_count": 39,
   "metadata": {},
   "outputs": [
    {
     "data": {
      "text/plain": [
       "[('Pancake', 6),\n",
       " ('Coffee', 3),\n",
       " ('Cereal', 6),\n",
       " ('Eggs', 5),\n",
       " ('Coffee', 2),\n",
       " ('Pancake', 10),\n",
       " ('Eggs', 9),\n",
       " ('Pancake', 6)]"
      ]
     },
     "execution_count": 39,
     "metadata": {},
     "output_type": "execute_result"
    }
   ],
   "source": [
    "# define the function for transforming list to flat\n",
    "def to_flat(list_1, list_2):\n",
    "    return list_1 + list_2\n",
    "\n",
    "flat_order_items = reduce(to_flat, nested_order_items)\n",
    "flat_order_items[:8]"
   ]
  },
  {
   "cell_type": "markdown",
   "metadata": {},
   "source": [
    "Apply the function `reduce_by_key()` to count each dish for breakfast menu."
   ]
  },
  {
   "cell_type": "code",
   "execution_count": 40,
   "metadata": {},
   "outputs": [
    {
     "data": {
      "text/plain": [
       "[('Burger', 7),\n",
       " ('Cereal', 649),\n",
       " ('Chicken', 8),\n",
       " ('Coffee', 626),\n",
       " ('Eggs', 725),\n",
       " ('Fish&Chips', 18),\n",
       " ('Fries', 5),\n",
       " ('Pancake', 682),\n",
       " ('Pasta', 6),\n",
       " ('Salad', 13),\n",
       " ('Shrimp', 9),\n",
       " ('Steak', 19)]"
      ]
     },
     "execution_count": 40,
     "metadata": {},
     "output_type": "execute_result"
    }
   ],
   "source": [
    "# get the distribution of items for breakfast\n",
    "list(reduce_by_key(lambda x,y: x+y, flat_order_items))"
   ]
  },
  {
   "cell_type": "markdown",
   "metadata": {},
   "source": [
    "From the output, there are huge difference of the quantity of \"Cereal\", \"Coffee\", \"Eggs\" and \"Pancake\" to others, which means the items with tiny quantity are the error in the dirty data. "
   ]
  },
  {
   "cell_type": "code",
   "execution_count": 41,
   "metadata": {},
   "outputs": [],
   "source": [
    "# define the function to get item distributions for given orders\n",
    "def get_sum_order_times(order_list):\n",
    "    nested_order_items = list(map(DirtyData.get_order_items, order_list))\n",
    "    flat_order_items = reduce(to_flat, nested_order_items)\n",
    "    return list(reduce_by_key(lambda x,y: x+y, flat_order_items))\n",
    "\n",
    "# define the function to generate bar chart\n",
    "def generate_bars_from_order_lists(order_list):\n",
    "    sum_orders = get_sum_order_times(order_list)\n",
    "    print(sum_orders)\n",
    "    keys = [each[0] for each in sum_orders]\n",
    "    values = [each[1] for each in sum_orders]\n",
    "    # plot\n",
    "    plt.bar(keys, values)"
   ]
  },
  {
   "cell_type": "code",
   "execution_count": 42,
   "metadata": {},
   "outputs": [
    {
     "name": "stdout",
     "output_type": "stream",
     "text": [
      "[('Burger', 7), ('Cereal', 649), ('Chicken', 8), ('Coffee', 626), ('Eggs', 725), ('Fish&Chips', 18), ('Fries', 5), ('Pancake', 682), ('Pasta', 6), ('Salad', 13), ('Shrimp', 9), ('Steak', 19)]\n",
      "[('Burger', 637), ('Chicken', 628), ('Coffee', 9), ('Eggs', 18), ('Fish&Chips', 1), ('Fries', 677), ('Pancake', 16), ('Pasta', 4), ('Salad', 707), ('Salmon', 2), ('Shrimp', 10), ('Steak', 586)]\n",
      "[('Burger', 17), ('Cereal', 9), ('Chicken', 2), ('Coffee', 17), ('Eggs', 24), ('Fish&Chips', 647), ('Fries', 4), ('Pancake', 3), ('Pasta', 647), ('Salmon', 643), ('Shrimp', 531), ('Steak', 6)]\n"
     ]
    },
    {
     "data": {
      "image/png": "[encoded data removed]",
      "text/plain": [
       "<Figure size 1080x288 with 1 Axes>"
      ]
     },
     "metadata": {
      "needs_background": "light"
     },
     "output_type": "display_data"
    }
   ],
   "source": [
    "# plot\n",
    "plt.figure(figsize=(15,4))\n",
    "generate_bars_from_order_lists(breakfast_orders)\n",
    "generate_bars_from_order_lists(lunch_orders)\n",
    "generate_bars_from_order_lists(dinner_orders)\n",
    "plt.title(\"The Distribution of Dishes with Order_type\")\n",
    "plt.legend([\"Breakfast\", \"Lunch\", \"Dinner\"])\n",
    "plt.xlabel(\"Dishes\")\n",
    "plt.ylabel(\"Frequency\")\n",
    "plt.show()"
   ]
  },
  {
   "cell_type": "markdown",
   "metadata": {},
   "source": [
    "From the plot, the result is:\n",
    "\n",
    "- Breakfast: Cereal, Coffee, Eggs, Pancake\n",
    "- Lunch: Burger, Chicken, Fries, Salad, Steak\n",
    "- Dinner: Fish&Chips, Pasta, Shrimp, Salmon"
   ]
  },
  {
   "cell_type": "code",
   "execution_count": 43,
   "metadata": {},
   "outputs": [],
   "source": [
    "# build the constant variables to represent menus\n",
    "BREAKFAST_MENU = [\"Cereal\", \"Coffee\", \"Eggs\", \"Pancake\"]\n",
    "LUNCH_MENU = [\"Burger\", \"Chicken\", \"Fries\", \"Salad\", \"Steak\"]\n",
    "DINNER_MENU = [\"Fish&Chips\", \"Pasta\", \"Shrimp\", \"Salmon\"]"
   ]
  },
  {
   "cell_type": "markdown",
   "metadata": {},
   "source": [
    "Then, calculate the each price for each dish by `numpy.linalg`. (Numpy, 2019)"
   ]
  },
  {
   "cell_type": "code",
   "execution_count": 44,
   "metadata": {},
   "outputs": [],
   "source": [
    "# build the copy for further calculation\n",
    "dirty_data_2 = dirty_data_list.copy()\n",
    "breakfast_orders_2 = [each for each in dirty_data_list if each.order_type == \"Breakfast\"]\n",
    "lunch_orders_2 = [each for each in dirty_data_list if each.order_type == \"Lunch\"]\n",
    "dinner_orders_2 = [each for each in dirty_data_list if each.order_type == \"Dinner\"]\n",
    "\n",
    "def solve_equations_from_orders(order_list, n, loyalty=False):\n",
    "    order_list.sort(key=lambda x: len(x.order_items), reverse=True)\n",
    "    # define the function to filter the orders with correct order items\n",
    "    correct_menu_map = {\n",
    "        \"Breakfast\": BREAKFAST_MENU,\n",
    "        \"Lunch\": LUNCH_MENU,\n",
    "        \"Dinner\": DINNER_MENU\n",
    "    }\n",
    "    def get_equations_amount_needed(order):\n",
    "        return len(correct_menu_map[order.order_type])\n",
    "    \n",
    "    # filter the orders which contains correct order items\n",
    "    new_order_list = []\n",
    "    correct_menu = correct_menu_map[order_list[0].order_type]\n",
    "    for each in order_list:\n",
    "        if each.customerHasloyalty == loyalty:\n",
    "            for item, quantity in each.order_items:\n",
    "                if item not in correct_menu:\n",
    "                    break\n",
    "            else:\n",
    "                new_order_list.append(each)\n",
    "    \n",
    "    # get data for build the equations\n",
    "    equations_amount_needed = get_equations_amount_needed(new_order_list[0])\n",
    "    orders_for_equations = new_order_list[n:n+equations_amount_needed]\n",
    "    \n",
    "    # build numpy arrays as preparation of solving the equations (ax=b)\n",
    "    a = np.asarray([[0] * equations_amount_needed] * equations_amount_needed)\n",
    "    b = np.asarray([float(0)] * equations_amount_needed)\n",
    "    \n",
    "    # fill values to the numpy arrays\n",
    "    for index1 in range(len(orders_for_equations)):\n",
    "        order = orders_for_equations[index1]\n",
    "        for item, quantity in order.order_items:\n",
    "            index2 = correct_menu.index(item)\n",
    "            a[index1][index2] = quantity\n",
    "        b[index1] = order.order_price\n",
    "    \n",
    "    # use solve function in numpy to get solution\n",
    "    return np.linalg.solve(a, b)"
   ]
  },
  {
   "cell_type": "markdown",
   "metadata": {},
   "source": [
    "Then, apply these functions to get dish prices."
   ]
  },
  {
   "cell_type": "code",
   "execution_count": 45,
   "metadata": {
    "scrolled": true
   },
   "outputs": [
    {
     "name": "stdout",
     "output_type": "stream",
     "text": [
      "[21.0, 7.5, 22.0, 24.25]\n",
      "[31.0, 32.0, 12.0, 17.2, 45.0]\n",
      "[35.0, 27.5, 54.0, 41.0]\n"
     ]
    }
   ],
   "source": [
    "# define the function to get final price for each dishes\n",
    "def get_price_of_dishes(order_list, loyalty=False):\n",
    "    result = generate_solutions(order_list)\n",
    "    result = list(map(lambda x: round(x, 2), result))\n",
    "    return result\n",
    "\n",
    "# generate final result by calculating mode of 50 tries\n",
    "def generate_solutions(order_list, loyalty=False):\n",
    "    i = 50\n",
    "    while True:\n",
    "        collection = []\n",
    "        for n in range(i):\n",
    "            collection.append(str(solve_equations_from_orders(order_list, n, loyalty).tolist()))\n",
    "        try:\n",
    "            result = eval(mode(collection))\n",
    "            break\n",
    "        except:\n",
    "            i += 10\n",
    "    return result\n",
    "\n",
    "\n",
    "breakfast_correct_price = get_price_of_dishes(breakfast_orders_2)\n",
    "lunch_correct_price = get_price_of_dishes(lunch_orders_2)\n",
    "dinner_coorect_price = get_price_of_dishes(dinner_orders_2)\n",
    "\n",
    "print(breakfast_correct_price)\n",
    "print(lunch_correct_price)\n",
    "print(dinner_coorect_price)"
   ]
  },
  {
   "cell_type": "markdown",
   "metadata": {},
   "source": [
    "Combine these dish prices to the menus to get menus with prices."
   ]
  },
  {
   "cell_type": "code",
   "execution_count": 46,
   "metadata": {},
   "outputs": [
    {
     "name": "stdout",
     "output_type": "stream",
     "text": [
      "{'Cereal': 21.0, 'Coffee': 7.5, 'Eggs': 22.0, 'Pancake': 24.25}\n",
      "{'Burger': 31.0, 'Chicken': 32.0, 'Fries': 12.0, 'Salad': 17.2, 'Steak': 45.0}\n",
      "{'Fish&Chips': 35.0, 'Pasta': 27.5, 'Shrimp': 54.0, 'Salmon': 41.0}\n"
     ]
    }
   ],
   "source": [
    "# build dictionary for menu in breakfast, lunch and dinner\n",
    "BREAKFAST_PRICE = dict(zip(BREAKFAST_MENU, breakfast_correct_price))\n",
    "LUNCH_PRICE = dict(zip(LUNCH_MENU, lunch_correct_price))\n",
    "DINNER_PRICE = dict(zip(DINNER_MENU, dinner_coorect_price))\n",
    "\n",
    "print(BREAKFAST_PRICE)\n",
    "print(LUNCH_PRICE)\n",
    "print(DINNER_PRICE)"
   ]
  },
  {
   "cell_type": "markdown",
   "metadata": {},
   "source": [
    "Then, define the method in `DirtyData` class to fix the wrong order items."
   ]
  },
  {
   "cell_type": "markdown",
   "metadata": {},
   "source": [
    "```python\n",
    "    def fix_order_items(self):\n",
    "        correct_menu_map = {\n",
    "            \"Breakfast\": BREAKFAST_PRICE,\n",
    "            \"Lunch\": LUNCH_PRICE,\n",
    "            \"Dinner\": DINNER_PRICE\n",
    "        }\n",
    "        is_correct = True\n",
    "        correct_price = correct_menu_map[self.order_type]\n",
    "        # check if there is wrong item in the order_items\n",
    "        for item, quantity in self.order_items:\n",
    "            if item not in correct_price:\n",
    "                is_correct = False\n",
    "                break\n",
    "        # if the order_items is correct, do nothing\n",
    "        if is_correct:\n",
    "            return self\n",
    "        # else fix the wrong item\n",
    "        else:\n",
    "            new_order_items = self.order_items.copy()\n",
    "            # initialize the price variable for calculation\n",
    "            price = self.order_price\n",
    "            # minus all correct item prices\n",
    "            for item, quantity in self.order_items:\n",
    "                if item in correct_price:\n",
    "                    price -= correct_price[item] * quantity\n",
    "            # get the wrong item and index\n",
    "            wrong_pair = list(filter(lambda x: x[0] not in correct_price.keys(), self.order_items))[0]\n",
    "            wrong_index = new_order_items.index(wrong_pair)\n",
    "            # calculate the correct price for the wrong item\n",
    "            correct_item_price = price / wrong_pair[1]\n",
    "            # find the correct item from menu\n",
    "            for menu_item, menu_price in correct_price.items():\n",
    "                if menu_price == correct_item_price:\n",
    "                    correct_item = menu_item\n",
    "                    break\n",
    "            # modify the wrong pair to correct one\n",
    "            new_order_items[wrong_index] = (correct_item, wrong_pair[1])\n",
    "            self.order_items = new_order_items\n",
    "            return self\n",
    "```"
   ]
  },
  {
   "cell_type": "markdown",
   "metadata": {},
   "source": [
    "Apply the `fix_order_items()` method, and display the change in an example. "
   ]
  },
  {
   "cell_type": "code",
   "execution_count": 47,
   "metadata": {},
   "outputs": [
    {
     "name": "stdout",
     "output_type": "stream",
     "text": [
      "[('Eggs', 3), ('Salad', 5)]\n",
      "[('Eggs', 3), ('Cereal', 5)]\n"
     ]
    }
   ],
   "source": [
    "for each in dirty_data_list:\n",
    "    if each.order_items == [('Eggs', 3), ('Salad', 5)]:\n",
    "        data_eg = each\n",
    "        break\n",
    "\n",
    "print(data_eg.order_items)\n",
    "# print(data_eg)\n",
    "data_eg.fix_order_items()\n",
    "print(data_eg.order_items)"
   ]
  },
  {
   "cell_type": "markdown",
   "metadata": {},
   "source": [
    "According to the output, the order_items is fixed correctly. \n",
    "\n",
    "Then, apply the method to all dirty data, and count the objects with wrong order_items."
   ]
  },
  {
   "cell_type": "code",
   "execution_count": 48,
   "metadata": {},
   "outputs": [
    {
     "name": "stdout",
     "output_type": "stream",
     "text": [
      "37\n"
     ]
    }
   ],
   "source": [
    "count = 1\n",
    "# apply the fix method for all dirty data\n",
    "for each in dirty_data_list:\n",
    "    original = each.order_items\n",
    "    each.fix_order_items()\n",
    "    if original != each.order_items:\n",
    "        count += 1\n",
    "    \n",
    "print(count)"
   ]
  },
  {
   "cell_type": "markdown",
   "metadata": {},
   "source": [
    "From the output, there are 37 dirty data with wrong order_items.\n",
    "\n",
    "Then, check the dish distribution in 3 different order_type after fixing them."
   ]
  },
  {
   "cell_type": "code",
   "execution_count": 49,
   "metadata": {},
   "outputs": [
    {
     "name": "stdout",
     "output_type": "stream",
     "text": [
      "[('Cereal', 660), ('Coffee', 635), ('Eggs', 746), ('Pancake', 726)]\n",
      "[('Burger', 648), ('Chicken', 638), ('Fries', 697), ('Salad', 707), ('Steak', 605)]\n",
      "[('Fish&Chips', 664), ('Pasta', 665), ('Salmon', 663), ('Shrimp', 558)]\n"
     ]
    }
   ],
   "source": [
    "print(get_sum_order_times(breakfast_orders))\n",
    "print(get_sum_order_times(lunch_orders))\n",
    "print(get_sum_order_times(dinner_orders))"
   ]
  },
  {
   "cell_type": "markdown",
   "metadata": {},
   "source": [
    "#### Fix order_price\n",
    "\n",
    "After getting the price of each item (4.4.4), it is necessary to caculate the totle order_price and fix the errors.\n",
    "\n",
    "<b>Menu</b>\n",
    "- {'Cereal': 21.0, 'Coffee': 7.5, 'Eggs': 22.0, 'Pancake': 24.25}\n",
    "- {'Burger': 31.0, 'Chicken': 32.0, 'Fries': 12.0, 'Salad': 17.2, 'Steak': 45.0}\n",
    "- {'Fish&Chips': 35.0, 'Pasta': 27.5, 'Shrimp': 54.0, 'Salmon': 41.0}\n",
    "\n",
    "Firstly, the order_type is identified which is used to find the related menu in the `correct_menu_map`.\n",
    "Secondly, caculaing the total price.\n",
    "Finally, if the price is not equal to the original order-price, the order_price should be fixed."
   ]
  },
  {
   "cell_type": "markdown",
   "metadata": {},
   "source": [
    "```python\n",
    "    def fix_order_price(self):\n",
    "        # calculate the correct price from the correct order_items\n",
    "        # fix the order_price if it is not equal\n",
    "        correct_menu_map = {\n",
    "            \"Breakfast\": BREAKFAST_PRICE,\n",
    "            \"Lunch\": LUNCH_PRICE,\n",
    "            \"Dinner\": DINNER_PRICE\n",
    "        }\n",
    "        correct_price = correct_menu_map[self.order_type]\n",
    "        price = 0\n",
    "        for item, quantity in self.order_items:\n",
    "            price += correct_price[item] * quantity\n",
    "        price = round(price, 2)\n",
    "\n",
    "        if price != self.order_price:\n",
    "            self.order_price = price\n",
    "        return self\n",
    "```"
   ]
  },
  {
   "cell_type": "markdown",
   "metadata": {},
   "source": [
    "#### Example\n",
    "\n",
    "Apply the functions to the compare the price before and after fixing, and count the errors about orders price in dirty data."
   ]
  },
  {
   "cell_type": "code",
   "execution_count": 50,
   "metadata": {},
   "outputs": [
    {
     "name": "stdout",
     "output_type": "stream",
     "text": [
      "[('Salad', 10), ('Steak', 9), ('Fries', 10), ('Burger', 5), ('Chicken', 7)]\n",
      "591.8\n",
      "1076.0\n",
      "37\n"
     ]
    }
   ],
   "source": [
    "for data_eg in dirty_data_list:\n",
    "    if data_eg.order_id == \"ORDY00755\":\n",
    "        print(data_eg.order_items)\n",
    "        print(data_eg.order_price)\n",
    "        break\n",
    "\n",
    "count = 0\n",
    "for each in dirty_data_list:\n",
    "    original = each.order_price\n",
    "    each.fix_order_price()\n",
    "    if original != each.order_price:\n",
    "        count += 1\n",
    "\n",
    "print(data_eg.order_price)\n",
    "\n",
    "print(count)"
   ]
  },
  {
   "cell_type": "markdown",
   "metadata": {},
   "source": [
    "From the output, the wrong value has been changed correctly, and the amount of error about price is **37**."
   ]
  },
  {
   "cell_type": "markdown",
   "metadata": {},
   "source": [
    "### 4.4.5 Fix location and distance_to_customer_KM\n",
    "\n",
    "The following method is defined in DirtyData class which will help us to identify the wrong lon and lat infomation which cannot be found in the node_list.\n",
    "```python\n",
    "def display_loc(self):\n",
    "        # display customer location node\n",
    "        return f\"Node {self.node} in ({self.customer_lat}, {self.customer_lon})\"\n",
    "```    \n",
    "<b>In this part if the lat and lon cannot be found in the the node_list, the self.node will be `None` which means the information has errors</b>\n",
    "```python   \n",
    "# define the dirty data class for manipulating the dirty data\n",
    "class DirtyData(Data):\n",
    "    def __init__(self, *args):\n",
    "        Data.__init__(self, *args)\n",
    "        self.node = self.find_node()\n",
    "        self.branch_node = self.find_branch_node()\n",
    "        dirty_data_list.append(self)\n",
    "```\n",
    "<b>The following method is from Data class which is called in above DirtyData class</b>\n",
    "```python\n",
    "    def find_node(self):\n",
    "        for node in Node.node_list:\n",
    "            if node.lat == self.customer_lat and node.lon == self.customer_lon:\n",
    "                return node.node_id\n",
    "```\n",
    "\n"
   ]
  },
  {
   "cell_type": "code",
   "execution_count": 51,
   "metadata": {},
   "outputs": [
    {
     "name": "stdout",
     "output_type": "stream",
     "text": [
      "Node 777841688.0 in (-37.8018052, 144.9571189)\n",
      "Node 1224869086.0 in (-37.8137302, 144.9409476)\n",
      "Node None in (37.8050314, 144.9279056)\n",
      "Node 4520380539.0 in (-37.817582, 144.9590952)\n",
      "Node 4520380518.0 in (-37.8116841, 144.956303)\n",
      "Node 2700682445.0 in (-37.8241121, 144.9771169)\n",
      "Node 4157116154.0 in (-37.8179027, 144.993605)\n",
      "Node 4518401170.0 in (-37.807837, 144.9494312)\n",
      "Node None in (37.8125792, 144.9690115)\n",
      "Node 1132014870.0 in (-37.817823, 144.9462511)\n",
      "Node 1879206771.0 in (-37.8003819, 144.9608832)\n",
      "Node 3146808099.0 in (-37.8101959, 144.9822571)\n",
      "Node 2174950789.0 in (-37.8161096, 144.9527874)\n",
      "Node None in (37.8009468, 144.9685286)\n",
      "Node 664379624.0 in (-37.8209865, 144.9660368)\n",
      "Node 2174963258.0 in (-37.8172872, 144.9533263)\n",
      "Node 6167489494.0 in (-37.8179449, 144.9621622)\n",
      "Node 1594632456.0 in (-37.8203616, 144.979064)\n",
      "Node 296038801.0 in (-37.8085482, 144.9556474)\n",
      "Node 257506017.0 in (-37.7991307, 144.9634187)\n"
     ]
    }
   ],
   "source": [
    "for each in dirty_data_list[:20]:\n",
    "    print(each.display_loc())"
   ]
  },
  {
   "cell_type": "markdown",
   "metadata": {},
   "source": [
    "<b>Some customers cannot find a related node. Filter the fail data to examine them.</b>"
   ]
  },
  {
   "cell_type": "code",
   "execution_count": 52,
   "metadata": {},
   "outputs": [],
   "source": [
    "unmatched_loc = [each for each in dirty_data_list if each.node is None]\n",
    "matched_loc = [each for each in dirty_data_list if each.node is not None]"
   ]
  },
  {
   "cell_type": "code",
   "execution_count": 53,
   "metadata": {},
   "outputs": [
    {
     "data": {
      "text/plain": [
       "41"
      ]
     },
     "execution_count": 53,
     "metadata": {},
     "output_type": "execute_result"
    }
   ],
   "source": [
    "len(unmatched_loc)"
   ]
  },
  {
   "cell_type": "markdown",
   "metadata": {},
   "source": [
    "There are 41 orders in dirty data have errors with location values.\n",
    "\n",
    "<b>By analysising the ummatched_loc and mateched_loc, we find that there are two types error.</b>\n",
    "1. the latitude without negative sign\n",
    "2. the longitude should be about 144"
   ]
  },
  {
   "cell_type": "code",
   "execution_count": 54,
   "metadata": {},
   "outputs": [
    {
     "data": {
      "text/plain": [
       "['Node None in (37.8050314, 144.9279056)',\n",
       " 'Node None in (37.8125792, 144.9690115)',\n",
       " 'Node None in (37.8009468, 144.9685286)',\n",
       " 'Node None in (37.8159539, 144.9865358)',\n",
       " 'Node None in (37.8155917, 145.0059186)',\n",
       " 'Node None in (37.8196941, 144.9708975)',\n",
       " 'Node None in (37.811785, 144.9887435)',\n",
       " 'Node None in (37.7994961, 144.9491927)',\n",
       " 'Node None in (37.8162688, 144.9563044)',\n",
       " 'Node None in (37.8196813, 144.9810997)']"
      ]
     },
     "execution_count": 54,
     "metadata": {},
     "output_type": "execute_result"
    }
   ],
   "source": [
    "[each.display_loc() for each in unmatched_loc][:10]"
   ]
  },
  {
   "cell_type": "code",
   "execution_count": 55,
   "metadata": {},
   "outputs": [
    {
     "data": {
      "text/plain": [
       "['Node 777841688.0 in (-37.8018052, 144.9571189)',\n",
       " 'Node 1224869086.0 in (-37.8137302, 144.9409476)',\n",
       " 'Node 4520380539.0 in (-37.817582, 144.9590952)',\n",
       " 'Node 4520380518.0 in (-37.8116841, 144.956303)',\n",
       " 'Node 2700682445.0 in (-37.8241121, 144.9771169)',\n",
       " 'Node 4157116154.0 in (-37.8179027, 144.993605)',\n",
       " 'Node 4518401170.0 in (-37.807837, 144.9494312)',\n",
       " 'Node 1132014870.0 in (-37.817823, 144.9462511)',\n",
       " 'Node 1879206771.0 in (-37.8003819, 144.9608832)',\n",
       " 'Node 3146808099.0 in (-37.8101959, 144.9822571)']"
      ]
     },
     "execution_count": 55,
     "metadata": {},
     "output_type": "execute_result"
    }
   ],
   "source": [
    "[each.display_loc() for each in matched_loc][:10]"
   ]
  },
  {
   "cell_type": "markdown",
   "metadata": {},
   "source": [
    "According to the correct location data, the lat value should be around `-37` and the lon value should be around `144`. From Latitudelongitude.org(2019), this location is in Melbourne city, Victoria. Therefore, the Melbourne is the service range of this restaurant.\n",
    "\n",
    "However, from the `unmatched_loc`, there are 2 types of error. One of them is that the lat and lon values located in opposite place, like `(145.0019104, -37.8020948)`, change the position can fix the error.\n",
    "\n",
    "Another error is that the lat value miswritten without negative sign `-` like `(37.8003595, 144.9606992)`. The method to fix it is to add the negative sign."
   ]
  },
  {
   "cell_type": "markdown",
   "metadata": {},
   "source": [
    "```python\n",
    "    def fix_location(self):\n",
    "        if 30 < self.customer_lat < 40:\n",
    "            # if the error is the negative sign\n",
    "            self.customer_lat = self.customer_lat * (-1)\n",
    "            self.node = self.find_node()\n",
    "            return self\n",
    "        elif self.customer_lat > 100 and self.customer_lon < 0:\n",
    "            # if the error is the opposite places of lat and lon values\n",
    "            self.customer_lat, self.customer_lon = self.customer_lon, self.customer_lat\n",
    "            self.node = self.find_node()\n",
    "            return self\n",
    "        else:\n",
    "            # no fix for no error rows\n",
    "            return self\n",
    "```\n",
    "\n",
    "After impletmenting the method, the errors found has been corrected. There are no None apper in the list, which means all of lon and lat has been fixed and find the related node bumber."
   ]
  },
  {
   "cell_type": "code",
   "execution_count": 56,
   "metadata": {},
   "outputs": [
    {
     "data": {
      "text/plain": [
       "['Node 777841688.0 in (-37.8018052, 144.9571189)',\n",
       " 'Node 1224869086.0 in (-37.8137302, 144.9409476)',\n",
       " 'Node 581713855.0 in (-37.8050314, 144.9279056)',\n",
       " 'Node 4520380539.0 in (-37.817582, 144.9590952)',\n",
       " 'Node 4520380518.0 in (-37.8116841, 144.956303)',\n",
       " 'Node 2700682445.0 in (-37.8241121, 144.9771169)',\n",
       " 'Node 4157116154.0 in (-37.8179027, 144.993605)',\n",
       " 'Node 4518401170.0 in (-37.807837, 144.9494312)',\n",
       " 'Node 5015518502.0 in (-37.8125792, 144.9690115)',\n",
       " 'Node 1132014870.0 in (-37.817823, 144.9462511)']"
      ]
     },
     "execution_count": 56,
     "metadata": {},
     "output_type": "execute_result"
    }
   ],
   "source": [
    "for each in dirty_data_list:\n",
    "    each.fix_location()\n",
    "    \n",
    "[each.display_loc() for each in dirty_data_list][:10]"
   ]
  },
  {
   "cell_type": "markdown",
   "metadata": {},
   "source": [
    "#### Creating Edges class for making graph\n",
    "\n",
    "A `edges.csv` file which has all information related to the distance between each nodes is provided.\n",
    "This is used in making graph.(networkx 2019)"
   ]
  },
  {
   "cell_type": "code",
   "execution_count": 57,
   "metadata": {},
   "outputs": [],
   "source": [
    "# define the class to store the information from the data frame\n",
    "class Edge:\n",
    "    edge_list = []\n",
    "    \n",
    "    def __init__(self, u, v, distance, street_type, speed):\n",
    "        self.u = u\n",
    "        self.v = v\n",
    "        self.distance = distance\n",
    "        self.street_type = street_type\n",
    "        self.speed = speed\n",
    "        Edge.edge_list.append(self)\n",
    "        \n",
    "    @staticmethod\n",
    "    def build_edge(row):\n",
    "        u = row[1]\n",
    "        v = row[2]\n",
    "        distance = row[3]\n",
    "        street_type = row[4]\n",
    "        speed = row[5]\n",
    "        return Edge(u, v, distance, street_type, speed)\n",
    "    \n",
    "    # define the method to transfer the instance to the format that networkx need\n",
    "    def to_nx_edge(self):\n",
    "        attr_dict = {\n",
    "            \"distance\": self.distance,\n",
    "            \"street_type\": self.street_type,\n",
    "            \"speed\": self.speed\n",
    "        }\n",
    "        return self.u, self.v, attr_dict"
   ]
  },
  {
   "cell_type": "code",
   "execution_count": 58,
   "metadata": {},
   "outputs": [],
   "source": [
    "edge_data = pd.read_csv(\"edges.csv\")\n",
    "for row in edge_data.values:\n",
    "    Edge.build_edge(row)\n",
    "    \n",
    "nx_edge_list = [edge.to_nx_edge() for edge in Edge.edge_list]"
   ]
  },
  {
   "cell_type": "code",
   "execution_count": 59,
   "metadata": {},
   "outputs": [
    {
     "data": {
      "text/plain": [
       "[(711327755.0,\n",
       "  711332946.0,\n",
       "  {'distance': 58.0, 'street_type': 1.0, 'speed': 15.0}),\n",
       " (711327755.0,\n",
       "  55725841.0,\n",
       "  {'distance': 15.0, 'street_type': 2.0, 'speed': 20.0}),\n",
       " (711327755.0,\n",
       "  711327760.0,\n",
       "  {'distance': 165.0, 'street_type': 1.0, 'speed': 15.0}),\n",
       " (711327756.0,\n",
       "  703557073.0,\n",
       "  {'distance': 4.0, 'street_type': 0.0, 'speed': 10.0}),\n",
       " (711327756.0,\n",
       "  711332946.0,\n",
       "  {'distance': 8.0, 'street_type': 1.0, 'speed': 15.0})]"
      ]
     },
     "execution_count": 59,
     "metadata": {},
     "output_type": "execute_result"
    }
   ],
   "source": [
    "nx_edge_list[:5]"
   ]
  },
  {
   "cell_type": "markdown",
   "metadata": {},
   "source": [
    "Besides the edges, all of nodes are also needed when a graph is built (networkx 2019)."
   ]
  },
  {
   "cell_type": "code",
   "execution_count": 60,
   "metadata": {},
   "outputs": [
    {
     "data": {
      "text/plain": [
       "[711327755.0, 711327756.0, 711327759.0, 711327760.0, 777781264.0]"
      ]
     },
     "execution_count": 60,
     "metadata": {},
     "output_type": "execute_result"
    }
   ],
   "source": [
    "# build the list for node for the format of networkx\n",
    "nx_node_list = [node.node_id for node in Node.node_list]\n",
    "nx_node_list[:5]"
   ]
  },
  {
   "cell_type": "markdown",
   "metadata": {},
   "source": [
    "According to networkx(2019), firstly, a graph need to be created and then given all nodes to this graph. Finally, add edges between nodes."
   ]
  },
  {
   "cell_type": "code",
   "execution_count": 61,
   "metadata": {},
   "outputs": [],
   "source": [
    "# build graph\n",
    "graph = nx.Graph()\n",
    "graph.add_nodes_from(nx_node_list)\n",
    "graph.add_edges_from(nx_edge_list)"
   ]
  },
  {
   "cell_type": "markdown",
   "metadata": {},
   "source": [
    "After creating the graph,the dijkstra algorithm can be used to caculate the distance between the branch_nodes and the customer_nodes. If the result of the caculation is different from the original distance, it need to be fixed. Therefore, the following function is defined.\n",
    "```python\n",
    "    def fix_distance(self):\n",
    "        # calculate the distance by dijkstra algorithm\n",
    "        distance = dijkstra_path_length(G=graph, source=self.branch_node, target=self.node, weight=\"distance\")\n",
    "        # transfer m to km\n",
    "        distance /= 1000\n",
    "        if distance != self.distance_to_customer_KM:\n",
    "            self.distance_to_customer_KM = distance\n",
    "        return self\n",
    "```\n",
    "\n",
    "#### Example\n",
    "\n",
    "Find an example to display if the function is available to apply, and count the errors with distance in dirty data."
   ]
  },
  {
   "cell_type": "code",
   "execution_count": 62,
   "metadata": {},
   "outputs": [
    {
     "name": "stdout",
     "output_type": "stream",
     "text": [
      "9.053\n"
     ]
    },
    {
     "data": {
      "application/vnd.jupyter.widget-view+json": {
       "model_id": "9ed8aa02360041978185e69416521ab7",
       "version_major": 2,
       "version_minor": 0
      },
      "text/plain": [
       "  0%|          | 0/502 [00:00<?, ?it/s]"
      ]
     },
     "metadata": {},
     "output_type": "display_data"
    },
    {
     "name": "stdout",
     "output_type": "stream",
     "text": [
      "7.947\n",
      "37\n"
     ]
    }
   ],
   "source": [
    "# apply the function to the example to examine if it works\n",
    "cust_eg = dirty_data_list[3]\n",
    "print(cust_eg.distance_to_customer_KM)\n",
    "\n",
    "# count the number of dirty data that has been fixed\n",
    "count = 0\n",
    "for each in tqdm(dirty_data_list):\n",
    "    original = each.distance_to_customer_KM \n",
    "    each.fix_distance()\n",
    "    if each.distance_to_customer_KM != original:\n",
    "        count += 1\n",
    "print(cust_eg.distance_to_customer_KM)\n",
    "print(count)"
   ]
  },
  {
   "cell_type": "markdown",
   "metadata": {},
   "source": [
    "The wrong distance $9.053$ has been fixed to $7.947$, which means the function works well. Besides, there are 37 errors in the dirty data about distance."
   ]
  },
  {
   "cell_type": "markdown",
   "metadata": {},
   "source": [
    "# 5. Outlier Data"
   ]
  },
  {
   "cell_type": "markdown",
   "metadata": {},
   "source": [
    "## 5.1 Load and Examine Outlier Data \n",
    "\n",
    "First of all, it is necessary to examine data in the csv. Therefore, create a data frame for further manipulation."
   ]
  },
  {
   "cell_type": "code",
   "execution_count": 63,
   "metadata": {},
   "outputs": [
    {
     "data": {
      "text/html": [
       "<div>\n",
       "<style scoped>\n",
       "    .dataframe tbody tr th:only-of-type {\n",
       "        vertical-align: middle;\n",
       "    }\n",
       "\n",
       "    .dataframe tbody tr th {\n",
       "        vertical-align: top;\n",
       "    }\n",
       "\n",
       "    .dataframe thead th {\n",
       "        text-align: right;\n",
       "    }\n",
       "</style>\n",
       "<table border=\"1\" class=\"dataframe\">\n",
       "  <thead>\n",
       "    <tr style=\"text-align: right;\">\n",
       "      <th></th>\n",
       "      <th>order_id</th>\n",
       "      <th>date</th>\n",
       "      <th>time</th>\n",
       "      <th>order_type</th>\n",
       "      <th>branch_code</th>\n",
       "      <th>order_items</th>\n",
       "      <th>order_price</th>\n",
       "      <th>customer_lat</th>\n",
       "      <th>customer_lon</th>\n",
       "      <th>customerHasloyalty?</th>\n",
       "      <th>distance_to_customer_KM</th>\n",
       "      <th>delivery_fee</th>\n",
       "    </tr>\n",
       "  </thead>\n",
       "  <tbody>\n",
       "    <tr>\n",
       "      <th>0</th>\n",
       "      <td>ORDZ03067</td>\n",
       "      <td>2018-04-20</td>\n",
       "      <td>11:32:57</td>\n",
       "      <td>Breakfast</td>\n",
       "      <td>NS</td>\n",
       "      <td>[('Cereal', 7), ('Eggs', 9), ('Pancake', 9)]</td>\n",
       "      <td>563.25</td>\n",
       "      <td>-37.802328</td>\n",
       "      <td>144.943526</td>\n",
       "      <td>0</td>\n",
       "      <td>8.776</td>\n",
       "      <td>13.779540</td>\n",
       "    </tr>\n",
       "    <tr>\n",
       "      <th>1</th>\n",
       "      <td>ORDY01809</td>\n",
       "      <td>2018-08-02</td>\n",
       "      <td>15:05:54</td>\n",
       "      <td>Lunch</td>\n",
       "      <td>TP</td>\n",
       "      <td>[('Steak', 5), ('Chicken', 1), ('Fries', 6), (...</td>\n",
       "      <td>411.60</td>\n",
       "      <td>-37.808548</td>\n",
       "      <td>144.955647</td>\n",
       "      <td>0</td>\n",
       "      <td>9.024</td>\n",
       "      <td>11.548702</td>\n",
       "    </tr>\n",
       "    <tr>\n",
       "      <th>2</th>\n",
       "      <td>ORDJ10913</td>\n",
       "      <td>2018-12-30</td>\n",
       "      <td>20:00:00</td>\n",
       "      <td>Dinner</td>\n",
       "      <td>TP</td>\n",
       "      <td>[('Shrimp', 4), ('Salmon', 6), ('Pasta', 2)]</td>\n",
       "      <td>517.00</td>\n",
       "      <td>-37.799989</td>\n",
       "      <td>145.009386</td>\n",
       "      <td>0</td>\n",
       "      <td>12.970</td>\n",
       "      <td>17.985392</td>\n",
       "    </tr>\n",
       "  </tbody>\n",
       "</table>\n",
       "</div>"
      ],
      "text/plain": [
       "    order_id        date      time order_type branch_code  \\\n",
       "0  ORDZ03067  2018-04-20  11:32:57  Breakfast          NS   \n",
       "1  ORDY01809  2018-08-02  15:05:54      Lunch          TP   \n",
       "2  ORDJ10913  2018-12-30  20:00:00     Dinner          TP   \n",
       "\n",
       "                                         order_items  order_price  \\\n",
       "0       [('Cereal', 7), ('Eggs', 9), ('Pancake', 9)]       563.25   \n",
       "1  [('Steak', 5), ('Chicken', 1), ('Fries', 6), (...       411.60   \n",
       "2       [('Shrimp', 4), ('Salmon', 6), ('Pasta', 2)]       517.00   \n",
       "\n",
       "   customer_lat  customer_lon  customerHasloyalty?  distance_to_customer_KM  \\\n",
       "0    -37.802328    144.943526                    0                    8.776   \n",
       "1    -37.808548    144.955647                    0                    9.024   \n",
       "2    -37.799989    145.009386                    0                   12.970   \n",
       "\n",
       "   delivery_fee  \n",
       "0     13.779540  \n",
       "1     11.548702  \n",
       "2     17.985392  "
      ]
     },
     "execution_count": 63,
     "metadata": {},
     "output_type": "execute_result"
    }
   ],
   "source": [
    "outlier_data = pd.read_csv(\"outlier_data.csv\")\n",
    "outlier_data.head(3)"
   ]
  },
  {
   "cell_type": "markdown",
   "metadata": {},
   "source": [
    "As the format of outlier data is same to dirty data, implementing a OutlierData class to inherit `Data` class which is defined in 4.3.1 is benefit to wrangle the data.\n",
    "\n",
    "For the method in class OutlierData:\n",
    " - build_data_from_row(): a static method to build OutlierData object from a row in data frame\n",
    " - recognize_outlier(): a method for recognizing the data is outlier or not, will be mentioned in 5.2\n",
    " - fix_outlier(): a method for filter the data which is not outlier, will be mentioned in 5.2"
   ]
  },
  {
   "cell_type": "code",
   "execution_count": 64,
   "metadata": {
    "scrolled": true
   },
   "outputs": [],
   "source": [
    "class OutlierData(Data):\n",
    "    def __init__(self, *args):\n",
    "        Data.__init__(self, *args)\n",
    "        self.is_outlier = False\n",
    "    \n",
    "    @staticmethod\n",
    "    def build_data_from_row(row: Series):\n",
    "        values = extract_values_from_row(row)\n",
    "        return OutlierData(*values)\n",
    "        \n",
    "    def recognize_outlier(self):\n",
    "        lower_limit, upper_limit = boundaries[self.branch_code].get_boundary()\n",
    "        linear_model = lm_models[self.branch_code]\n",
    "        diff = linear_model.predict([self.features])[0] - self.fee\n",
    "        if diff < lower_limit or diff > upper_limit:\n",
    "            self.is_outlier = True\n",
    "        return self\n",
    "    \n",
    "    @staticmethod\n",
    "    def fix_outliers(data_list):\n",
    "        new_list = [each for each in data_list if not each.is_outlier]\n",
    "        return new_list"
   ]
  },
  {
   "cell_type": "markdown",
   "metadata": {},
   "source": [
    "## 5.2 Fix the Outlier Data\n",
    "\n",
    "It is known that the loyalty will provide a 50% discount to delivery fee. The actual delivery fee without discount depends **linearly** to 3 attibutes below:\n",
    " - weekend or weekday (1 or 0)\n",
    " - time of the day (morning 0, afternoon 1, evening 2)\n",
    " - distance between the customer and the branch\n",
    " \n",
    "Also, 3 branches have 3 different way to calculate the delivery fee, which means the linear model in 3 branches are different. Therefore, the data should be devided by their branch code."
   ]
  },
  {
   "cell_type": "code",
   "execution_count": 65,
   "metadata": {},
   "outputs": [
    {
     "data": {
      "text/plain": [
       "[OutlierData(order_id='ORDZ03067', date='2018-04-20', time='11:32:57', order_type='Breakfast', branch_code='NS', order_items=[('Cereal', 7), ('Eggs', 9), ('Pancake', 9)], order_price=563.25, customer_lat=-37.8023282, customer_lon=144.9435265, customerHasloyalty=0, distance_to_customer_KM=8.776, delivery_fee=13.77954),\n",
       " OutlierData(order_id='ORDI09796', date='2018-04-21', time='11:32:57', order_type='Breakfast', branch_code='NS', order_items=[('Coffee', 2), ('Eggs', 2), ('Cereal', 2)], order_price=101.0, customer_lat=-37.8188654, customer_lon=144.9539685, customerHasloyalty=0, distance_to_customer_KM=9.176, delivery_fee=16.6501548),\n",
       " OutlierData(order_id='ORDZ07879', date='2018-07-04', time='14:05:04', order_type='Lunch', branch_code='NS', order_items=[('Salad', 10), ('Fries', 8)], order_price=268.0, customer_lat=-37.8034919, customer_lon=144.9665299, customerHasloyalty=0, distance_to_customer_KM=6.72, delivery_fee=12.2972)]"
      ]
     },
     "execution_count": 65,
     "metadata": {},
     "output_type": "execute_result"
    }
   ],
   "source": [
    "outlier_data_list = []\n",
    "for row in outlier_data.values:\n",
    "    outlier_data_list.append(OutlierData.build_data_from_row(row))\n",
    "    \n",
    "# devide\n",
    "ns_outlier_data_list = [each for each in outlier_data_list if each.branch_code == \"NS\"]\n",
    "tp_outlier_data_list = [each for each in outlier_data_list if each.branch_code == \"TP\"]\n",
    "bk_outlier_data_list = [each for each in outlier_data_list if each.branch_code == \"BK\"]\n",
    "ns_outlier_data_list[:3]"
   ]
  },
  {
   "cell_type": "markdown",
   "metadata": {},
   "source": [
    "As the delivery fee is linearly depended by these 3 features. Define some methods as preparation for fitting linear model in class Data because the features also need to be used in fixing dirty data.\n",
    "```python\n",
    "    # define the day for calculate the linear model\n",
    "    @property\n",
    "    def day(self):\n",
    "        # Monday is 0 and Sunday is 6\n",
    "        return datetime.strptime(self.date, \"%Y-%m-%d\").date().weekday()\n",
    "    \n",
    "    # define the function to create a feature vector for fitting linear model\n",
    "    @property\n",
    "    def features(self):\n",
    "        time_map = {\n",
    "            \"Breakfast\": 0,\n",
    "            \"Lunch\": 1,\n",
    "            \"Dinner\": 2\n",
    "        }\n",
    "        # if day is weekday, day_feature is 0;\n",
    "        # if day is weekend, day_feature is 1\n",
    "        day_feature = 0 if self.day <= 4 else 1\n",
    "        time_feature = time_map[self.order_type]\n",
    "        distance_feature = self.distance_to_customer_KM\n",
    "        return day_feature, time_feature, distance_feature\n",
    "    \n",
    "    @property\n",
    "    def fee(self):\n",
    "        if self.customerHasloyalty:\n",
    "            return self.delivery_fee * 2\n",
    "        else:\n",
    "            return self.delivery_fee\n",
    "```\n",
    "\n",
    "To find the multi-variable outliers in the dataset, calculating the outlier of the differences between predicted delivery fee and actual delivery fee is a reasonable choice.\n",
    "\n",
    "Therefore, implement the functions to generate the difference values for each data object, and find the linear model and outlier boundary."
   ]
  },
  {
   "cell_type": "code",
   "execution_count": 66,
   "metadata": {},
   "outputs": [],
   "source": [
    "def generate_diff_and_linear_model(data_list: List, t=1.5):\n",
    "    # this function can generate the linear model and the difference values from\n",
    "    # the list containing data objects\n",
    "    \n",
    "    # extract features and delivery_fees from the data objects\n",
    "    features_list = [each.features for each in data_list]\n",
    "    y_list = [each.fee for each in data_list]\n",
    "    branch = data_list[0].branch_code\n",
    "    \n",
    "    # fit the linear model from the feature vectors and the fees\n",
    "    lm = LinearRegression()\n",
    "    lm.fit(features_list, y_list)\n",
    "    \n",
    "    # calculate the difference value and outlier boundary\n",
    "    diff = lm.predict(features_list) - y_list\n",
    "    inside, outlier, boundary = count_outliers(diff, t)\n",
    "    \n",
    "    # define a inner class to wrap the information to return\n",
    "    class LinearModelInfo:\n",
    "        def __init__(self, diff, lm, inside, outlier, branch, boundary):\n",
    "            self.diff = diff\n",
    "            self.lm = lm\n",
    "            self.inside = inside\n",
    "            self.outlier = outlier\n",
    "            self.branch = branch\n",
    "            self.boundary = boundary\n",
    "            self.display()\n",
    "            \n",
    "        def display(self):\n",
    "            print(f\"The amount of outliers in {self.branch} is {self.outlier}\")\n",
    "\n",
    "    return LinearModelInfo(diff, lm, inside, outlier, branch, boundary)\n",
    "\n",
    "def calculate_outlier_boundary(nums, t):\n",
    "    # this function is used to calculate the upper and lower limit for recognizing outliers\n",
    "    # calculate the first quartile and third quartile\n",
    "    q1 = np.percentile(nums, 25)\n",
    "    q3 = np.percentile(nums, 75)\n",
    "    # calculate the upper and lower boundary\n",
    "    iqr = q3 - q1\n",
    "    upper_boundary = q3 + t * iqr\n",
    "    lower_boundary = q1 - t * iqr\n",
    "    \n",
    "    # define a inner class to wrap the boundary info\n",
    "    class Boundary:\n",
    "        def __init__(self, lower, upper):\n",
    "            self.lower = lower\n",
    "            self.upper = upper\n",
    "        \n",
    "        def get_boundary(self):\n",
    "            return self.lower, self.upper\n",
    "        \n",
    "    return Boundary(lower_boundary, upper_boundary)\n",
    "\n",
    "def count_outliers(nums, t):\n",
    "    # this function is defined to count the amount of outliers\n",
    "    boundary = calculate_outlier_boundary(nums, t)\n",
    "    lower_boundary, upper_boundary = boundary.get_boundary()\n",
    "    inside = 0\n",
    "    outlier = 0\n",
    "    for each in nums:\n",
    "        if lower_boundary <= each <= upper_boundary:\n",
    "            inside += 1\n",
    "        else:\n",
    "            outlier += 1\n",
    "    return inside, outlier, boundary\n"
   ]
  },
  {
   "cell_type": "markdown",
   "metadata": {},
   "source": [
    "Then, apply the functions defined in previous."
   ]
  },
  {
   "cell_type": "code",
   "execution_count": 67,
   "metadata": {},
   "outputs": [
    {
     "name": "stdout",
     "output_type": "stream",
     "text": [
      "The amount of outliers in NS is 14\n",
      "The amount of outliers in TP is 15\n",
      "The amount of outliers in BK is 15\n"
     ]
    },
    {
     "data": {
      "image/png": "[encoded data removed]",
      "text/plain": [
       "<Figure size 432x288 with 1 Axes>"
      ]
     },
     "metadata": {
      "needs_background": "light"
     },
     "output_type": "display_data"
    }
   ],
   "source": [
    "ns, tp, bk = [generate_diff_and_linear_model(each) for each in [ns_outlier_data_list, tp_outlier_data_list, bk_outlier_data_list]]\n",
    "\n",
    "lm_models = {\"NS\": ns.lm, \"TP\": tp.lm, \"BK\": bk.lm}\n",
    "boundaries = {\"NS\": ns.boundary, \"TP\": tp.boundary, \"BK\": bk.boundary}\n",
    "boxplot_data = [ns.diff, tp.diff, bk.diff]\n",
    "\n",
    "# plot\n",
    "plt.boxplot(boxplot_data, labels=[\"NS\", \"TP\", \"BK\"])\n",
    "plt.title(\"The Boxplot of the Difference Value for Branches\")\n",
    "plt.xlabel(\"Branch\")\n",
    "plt.ylabel(\"Difference\")\n",
    "plt.show()"
   ]
  },
  {
   "cell_type": "markdown",
   "metadata": {},
   "source": [
    "From the boxplot output, it is clearly that the NS and BK has recognized correct outliers but TP does not. There are still some points around the boundary and can be considered as not outlier points. Therefore, increase the $t = 3$ to fit the outliers."
   ]
  },
  {
   "cell_type": "code",
   "execution_count": 68,
   "metadata": {},
   "outputs": [
    {
     "name": "stdout",
     "output_type": "stream",
     "text": [
      "The amount of outliers in NS is 14\n",
      "The amount of outliers in TP is 11\n",
      "The amount of outliers in BK is 15\n"
     ]
    },
    {
     "data": {
      "image/png": "[encoded data removed]",
      "text/plain": [
       "<Figure size 432x288 with 1 Axes>"
      ]
     },
     "metadata": {
      "needs_background": "light"
     },
     "output_type": "display_data"
    }
   ],
   "source": [
    "t = 3\n",
    "ns, tp, bk = [generate_diff_and_linear_model(each, t) for each in [ns_outlier_data_list, tp_outlier_data_list, bk_outlier_data_list]]\n",
    "\n",
    "lm_models = {\"NS\": ns.lm, \"TP\": tp.lm, \"BK\": bk.lm}\n",
    "boundaries = {\"NS\": ns.boundary, \"TP\": tp.boundary, \"BK\": bk.boundary}\n",
    "\n",
    "boxplot_data = [ns.diff, tp.diff, bk.diff]\n",
    "\n",
    "plt.boxplot(boxplot_data, labels=[\"NS\", \"TP\", \"BK\"], whis=t)\n",
    "plt.title(\"The Boxplot of the Difference Value for Branches\")\n",
    "plt.xlabel(\"Branch\")\n",
    "plt.ylabel(\"Difference\")\n",
    "plt.show()"
   ]
  },
  {
   "cell_type": "markdown",
   "metadata": {},
   "source": [
    "From the boxplot, there are big gaps between outliers and normal values, so this theory performs well."
   ]
  },
  {
   "cell_type": "markdown",
   "metadata": {},
   "source": [
    "Define the methods in OutlierData class for further manipulating the OutlierData objects.\n",
    "\n",
    "```python\n",
    "    def recognize_outlier(self):\n",
    "        lower_limit, upper_limit = boundaries[self.branch_code].get_boundary()\n",
    "        linear_model = lm_models[self.branch_code]\n",
    "        diff = linear_model.predict([self.features])[0] - self.fee\n",
    "        if diff > upper_limit or diff < lower_limit:\n",
    "            self.is_outlier = True\n",
    "        return self\n",
    "    \n",
    "    @staticmethod\n",
    "    def fix_outliers(data_list):\n",
    "        new_list = [each for each in data_list if not each.is_outlier]\n",
    "        return new_list\n",
    "```"
   ]
  },
  {
   "cell_type": "code",
   "execution_count": 69,
   "metadata": {},
   "outputs": [
    {
     "data": {
      "text/plain": [
       "460"
      ]
     },
     "execution_count": 69,
     "metadata": {},
     "output_type": "execute_result"
    }
   ],
   "source": [
    "# apply the methods to all outlier data\n",
    "for each in outlier_data_list:\n",
    "    each.recognize_outlier()\n",
    "outlier_data_list = OutlierData.fix_outliers(outlier_data_list)\n",
    "len(outlier_data_list)"
   ]
  },
  {
   "cell_type": "markdown",
   "metadata": {},
   "source": [
    "Therefore, there are 40 outliers has been removed.\n",
    "\n",
    "After calculating the linear models for each branch. It is necessary to review the dirty data to fix the loyalty information."
   ]
  },
  {
   "cell_type": "markdown",
   "metadata": {},
   "source": [
    "### 5.2.1 Fix customerHasloyalty for Dirty Data\n",
    "\n",
    "Use the linear model fitted in previous to predict delivery fee. As the loyalty discount is 50% off, the ratio of predicted fee and actual delivery fee can be used to classify the customer is loyalty or not in dirty data."
   ]
  },
  {
   "cell_type": "code",
   "execution_count": 70,
   "metadata": {},
   "outputs": [
    {
     "name": "stdout",
     "output_type": "stream",
     "text": [
      "0 0.9775065054435343\n",
      "1 1.95293860610251\n",
      "0 1.0017515763779434\n",
      "0 1.0169745038800426\n",
      "0 0.9533693541745336\n",
      "0 1.020417884491464\n",
      "0 0.9637358011672843\n",
      "0 1.0447605378424334\n",
      "0 0.9734876569847547\n",
      "0 1.018598428245178\n"
     ]
    }
   ],
   "source": [
    "def calculate_delivery_fee(data):\n",
    "    lm = lm_models[data.branch_code]\n",
    "    predicted = lm.predict([data.features])[0]\n",
    "    return predicted / data.delivery_fee\n",
    "    \n",
    "for each in dirty_data_list[:10]:\n",
    "    print(each.customerHasloyalty, calculate_delivery_fee(each))"
   ]
  },
  {
   "cell_type": "markdown",
   "metadata": {},
   "source": [
    "From the output, if the ratio of predicted fee and actual delivery fee is closed to 2, it means there is loyalty discount implemented; if the ratio is closed to 1, which means there is no discount.\n",
    "\n",
    "Therefore, implement the code to fix the loyalty of dirty data.\n",
    "```python\n",
    "    def fix_customerHasloyalty(self):\n",
    "        predicted_loyalty = predict_loyalty(self)\n",
    "        if self.customerHasloyalty != predicted_loyalty:\n",
    "            self.customerHasloyalty = predicted_loyalty\n",
    "        return self\n",
    "```"
   ]
  },
  {
   "cell_type": "markdown",
   "metadata": {},
   "source": [
    "Implemting the function `predict_loyalty()` is to predict if the customer has loyalty."
   ]
  },
  {
   "cell_type": "code",
   "execution_count": 71,
   "metadata": {},
   "outputs": [
    {
     "data": {
      "text/plain": [
       "37"
      ]
     },
     "execution_count": 71,
     "metadata": {},
     "output_type": "execute_result"
    }
   ],
   "source": [
    "def predict_loyalty(data):\n",
    "    ratio = calculate_delivery_fee(data)\n",
    "    # if the ratio is closed to 2\n",
    "    if ratio >= 1.5:\n",
    "        predicted_loyalty = 1\n",
    "    else:\n",
    "        predicted_loyalty = 0\n",
    "    return predicted_loyalty\n",
    "\n",
    "# apply the functions defined in previous to all dirty data\n",
    "# and count the wrong loyalty data\n",
    "count = 0\n",
    "for each in dirty_data_list:\n",
    "    original = each.customerHasloyalty\n",
    "    each.fix_customerHasloyalty()\n",
    "    if each.customerHasloyalty != original:\n",
    "        count += 1\n",
    "    \n",
    "count"
   ]
  },
  {
   "cell_type": "markdown",
   "metadata": {},
   "source": [
    "# 6. Missing Data\n",
    "\n",
    "## 6.1 Load and Examine Missing Data"
   ]
  },
  {
   "cell_type": "markdown",
   "metadata": {},
   "source": [
    "To find the missing value information in missing dataset, it is necessary to count the missing value in each columns."
   ]
  },
  {
   "cell_type": "code",
   "execution_count": 72,
   "metadata": {},
   "outputs": [
    {
     "data": {
      "text/html": [
       "<div>\n",
       "<style scoped>\n",
       "    .dataframe tbody tr th:only-of-type {\n",
       "        vertical-align: middle;\n",
       "    }\n",
       "\n",
       "    .dataframe tbody tr th {\n",
       "        vertical-align: top;\n",
       "    }\n",
       "\n",
       "    .dataframe thead th {\n",
       "        text-align: right;\n",
       "    }\n",
       "</style>\n",
       "<table border=\"1\" class=\"dataframe\">\n",
       "  <thead>\n",
       "    <tr style=\"text-align: right;\">\n",
       "      <th></th>\n",
       "      <th>order_id</th>\n",
       "      <th>date</th>\n",
       "      <th>time</th>\n",
       "      <th>order_type</th>\n",
       "      <th>branch_code</th>\n",
       "      <th>order_items</th>\n",
       "      <th>order_price</th>\n",
       "      <th>customer_lat</th>\n",
       "      <th>customer_lon</th>\n",
       "      <th>customerHasloyalty?</th>\n",
       "      <th>distance_to_customer_KM</th>\n",
       "      <th>delivery_fee</th>\n",
       "    </tr>\n",
       "  </thead>\n",
       "  <tbody>\n",
       "    <tr>\n",
       "      <th>0</th>\n",
       "      <td>ORDZ02595</td>\n",
       "      <td>2018-12-28</td>\n",
       "      <td>20:00:00</td>\n",
       "      <td>Dinner</td>\n",
       "      <td>NS</td>\n",
       "      <td>[('Salmon', 6), ('Pasta', 7)]</td>\n",
       "      <td>438.5</td>\n",
       "      <td>-37.812098</td>\n",
       "      <td>144.970671</td>\n",
       "      <td>0</td>\n",
       "      <td>7.418</td>\n",
       "      <td>13.295550</td>\n",
       "    </tr>\n",
       "    <tr>\n",
       "      <th>1</th>\n",
       "      <td>ORDY05662</td>\n",
       "      <td>2018-09-23</td>\n",
       "      <td>16:47:19</td>\n",
       "      <td>Dinner</td>\n",
       "      <td>TP</td>\n",
       "      <td>[('Pasta', 10), ('Shrimp', 1), ('Salmon', 8), ...</td>\n",
       "      <td>832.0</td>\n",
       "      <td>-37.805998</td>\n",
       "      <td>144.955946</td>\n",
       "      <td>0</td>\n",
       "      <td>9.277</td>\n",
       "      <td>14.591742</td>\n",
       "    </tr>\n",
       "    <tr>\n",
       "      <th>2</th>\n",
       "      <td>ORDY11043</td>\n",
       "      <td>2018-09-05</td>\n",
       "      <td>16:06:45</td>\n",
       "      <td>Dinner</td>\n",
       "      <td>NaN</td>\n",
       "      <td>[('Shrimp', 1), ('Salmon', 6), ('Pasta', 7), (...</td>\n",
       "      <td>702.5</td>\n",
       "      <td>-37.815245</td>\n",
       "      <td>144.927660</td>\n",
       "      <td>0</td>\n",
       "      <td>11.747</td>\n",
       "      <td>15.731445</td>\n",
       "    </tr>\n",
       "  </tbody>\n",
       "</table>\n",
       "</div>"
      ],
      "text/plain": [
       "    order_id        date      time order_type branch_code  \\\n",
       "0  ORDZ02595  2018-12-28  20:00:00     Dinner          NS   \n",
       "1  ORDY05662  2018-09-23  16:47:19     Dinner          TP   \n",
       "2  ORDY11043  2018-09-05  16:06:45     Dinner         NaN   \n",
       "\n",
       "                                         order_items  order_price  \\\n",
       "0                      [('Salmon', 6), ('Pasta', 7)]        438.5   \n",
       "1  [('Pasta', 10), ('Shrimp', 1), ('Salmon', 8), ...        832.0   \n",
       "2  [('Shrimp', 1), ('Salmon', 6), ('Pasta', 7), (...        702.5   \n",
       "\n",
       "   customer_lat  customer_lon  customerHasloyalty?  distance_to_customer_KM  \\\n",
       "0    -37.812098    144.970671                    0                    7.418   \n",
       "1    -37.805998    144.955946                    0                    9.277   \n",
       "2    -37.815245    144.927660                    0                   11.747   \n",
       "\n",
       "   delivery_fee  \n",
       "0     13.295550  \n",
       "1     14.591742  \n",
       "2     15.731445  "
      ]
     },
     "execution_count": 72,
     "metadata": {},
     "output_type": "execute_result"
    }
   ],
   "source": [
    "# load missing data from csv file\n",
    "missing_data = pd.read_csv(\"missing_data.csv\")\n",
    "missing_data.head(3)"
   ]
  },
  {
   "cell_type": "code",
   "execution_count": 73,
   "metadata": {
    "scrolled": true
   },
   "outputs": [
    {
     "data": {
      "text/plain": [
       "order_id                     0\n",
       "date                         0\n",
       "time                         0\n",
       "order_type                   0\n",
       "branch_code                100\n",
       "order_items                  0\n",
       "order_price                  0\n",
       "customer_lat                 0\n",
       "customer_lon                 0\n",
       "customerHasloyalty?          0\n",
       "distance_to_customer_KM     50\n",
       "delivery_fee                50\n",
       "dtype: int64"
      ]
     },
     "execution_count": 73,
     "metadata": {},
     "output_type": "execute_result"
    }
   ],
   "source": [
    "# count missing value\n",
    "missing_data.isnull().sum()"
   ]
  },
  {
   "cell_type": "markdown",
   "metadata": {},
   "source": [
    "## 6.2 Fix the Missing Data"
   ]
  },
  {
   "cell_type": "markdown",
   "metadata": {},
   "source": [
    "From the output, it is clearly that there are missing values in `branch_code`, `distance_to_customer_KM` and `delivery_fee`.\n",
    "\n",
    "Implement a MissingData class inheritancing Data class to store the missing data, and define these methods to fix the missing data.\n",
    " - fix_branch_code()\n",
    " - fix_distance()\n",
    " - fix_delivery_fee()"
   ]
  },
  {
   "cell_type": "code",
   "execution_count": 74,
   "metadata": {},
   "outputs": [],
   "source": [
    "missing_data_list = []\n",
    "# define the missing data class to manipulate the data in missing data\n",
    "class MissingData(Data):\n",
    "    def __init__(self, *values):\n",
    "        Data.__init__(self, *values)\n",
    "        self.node = self.find_node()\n",
    "        self.branch_node = self.find_branch_node()\n",
    "        missing_data_list.append(self)\n",
    "        \n",
    "    @staticmethod\n",
    "    def build_data_from_row(row: Series):\n",
    "        values = extract_values_from_row(row)\n",
    "        return MissingData(*values)\n",
    "    \n",
    "    def fix_branch_code(self):\n",
    "        # if the branch code is missing\n",
    "        if type(self.branch_code) is not str:\n",
    "            self.branch_code = self.find_branch_code()\n",
    "            self.branch_node = self.find_branch_node()\n",
    "        return self\n",
    "        \n",
    "    def fix_distance(self):\n",
    "        # if the distance is missing\n",
    "        if np.isnan(self.distance_to_customer_KM):\n",
    "            # using dijkstra algorithm to find correct distance\n",
    "            distance = dijkstra_path_length(G=graph, source=self.branch_node, target=self.node, weight=\"distance\")\n",
    "            distance /= 1000\n",
    "            self.distance_to_customer_KM = round(distance, 3)\n",
    "        return self\n",
    "    \n",
    "    def fix_delivery_fee(self):\n",
    "        # if the delivery fee is missing\n",
    "        if np.isnan(self.delivery_fee):\n",
    "            # find the linear model for the branch\n",
    "            lm = lm_models[self.branch_code]\n",
    "            # calculate the predicted fee for given features\n",
    "            predicted_fee = lm.predict([self.features])[0]\n",
    "            if self.customerHasloyalty:\n",
    "                predicted_fee /= 2\n",
    "            self.delivery_fee = round(predicted_fee, 7)\n",
    "        return self"
   ]
  },
  {
   "cell_type": "markdown",
   "metadata": {},
   "source": [
    "Apply the methods and build Missing Data instances from data frame."
   ]
  },
  {
   "cell_type": "code",
   "execution_count": 75,
   "metadata": {},
   "outputs": [
    {
     "data": {
      "text/plain": [
       "[MissingData(order_id='ORDZ02595', date='2018-12-28', time='20:00:00', order_type='Dinner', branch_code='NS', order_items=[('Salmon', 6), ('Pasta', 7)], order_price=438.5, customer_lat=-37.8120976, customer_lon=144.9706706, customerHasloyalty=0, distance_to_customer_KM=7.418, delivery_fee=13.2955496),\n",
       " MissingData(order_id='ORDY05662', date='2018-09-23', time='16:47:19', order_type='Dinner', branch_code='TP', order_items=[('Pasta', 10), ('Shrimp', 1), ('Salmon', 8), ('Fish&Chips', 5)], order_price=832.0, customer_lat=-37.8059977, customer_lon=144.9559457, customerHasloyalty=0, distance_to_customer_KM=9.277, delivery_fee=14.5917418),\n",
       " MissingData(order_id='ORDY11043', date='2018-09-05', time='16:06:45', order_type='Dinner', branch_code=nan, order_items=[('Shrimp', 1), ('Salmon', 6), ('Pasta', 7), ('Fish&Chips', 6)], order_price=702.5, customer_lat=-37.8152448, customer_lon=144.9276603, customerHasloyalty=0, distance_to_customer_KM=11.747, delivery_fee=15.7314455)]"
      ]
     },
     "execution_count": 75,
     "metadata": {},
     "output_type": "execute_result"
    }
   ],
   "source": [
    "missing_data_list = []\n",
    "for row in missing_data.values:\n",
    "    MissingData.build_data_from_row(row)\n",
    "\n",
    "missing_data_list[:3]"
   ]
  },
  {
   "cell_type": "code",
   "execution_count": 76,
   "metadata": {},
   "outputs": [
    {
     "data": {
      "text/plain": [
       "order_id                   0\n",
       "date                       0\n",
       "time                       0\n",
       "order_type                 0\n",
       "branch_code                0\n",
       "order_items                0\n",
       "order_price                0\n",
       "customer_lat               0\n",
       "customer_lon               0\n",
       "customerHasloyalty?        0\n",
       "distance_to_customer_KM    0\n",
       "delivery_fee               0\n",
       "dtype: int64"
      ]
     },
     "execution_count": 76,
     "metadata": {},
     "output_type": "execute_result"
    }
   ],
   "source": [
    "# apply these method for each instance\n",
    "for each in missing_data_list:\n",
    "    each.fix_branch_code()\n",
    "    each.fix_distance()\n",
    "    each.fix_delivery_fee()\n",
    "\n",
    "missing_data_matrix = [each.to_list() for each in missing_data_list]\n",
    "new_missing_data = pd.DataFrame(missing_data_matrix, columns=Data.get_header())\n",
    "new_missing_data.isnull().sum()"
   ]
  },
  {
   "cell_type": "markdown",
   "metadata": {},
   "source": [
    "From the output, it is clearly that all missing value has been fixed."
   ]
  },
  {
   "cell_type": "markdown",
   "metadata": {},
   "source": [
    "# 7. Output csv files\n",
    "After defining all functions and classes used in previous, next step is to use these to process the data and output the csv files.\n",
    "### 7.1 Dirty Data"
   ]
  },
  {
   "cell_type": "code",
   "execution_count": 77,
   "metadata": {},
   "outputs": [
    {
     "data": {
      "application/vnd.jupyter.widget-view+json": {
       "model_id": "3367b952d7fb4dd4b910726e81aa53ca",
       "version_major": 2,
       "version_minor": 0
      },
      "text/plain": [
       "  0%|          | 0/500 [00:00<?, ?it/s]"
      ]
     },
     "metadata": {},
     "output_type": "display_data"
    }
   ],
   "source": [
    "def apply(x, func):\n",
    "    return func(x)\n",
    "\n",
    "# define the function to apply all methods in previous \n",
    "def fix_dirty_data(row):\n",
    "    pipeline = [\n",
    "        DirtyData.build_data_from_row,\n",
    "        DirtyData.fix_date,\n",
    "        DirtyData.fix_order_type,\n",
    "        DirtyData.fix_branch_code,\n",
    "        DirtyData.fix_order_items,\n",
    "        DirtyData.fix_order_price,\n",
    "        DirtyData.fix_location,\n",
    "        DirtyData.fix_distance,\n",
    "        DirtyData.fix_customerHasloyalty,\n",
    "        DirtyData.to_list\n",
    "    ]\n",
    "    # apply the methods in pipeline to process the data\n",
    "    return reduce(apply, [row] + pipeline)\n",
    "\n",
    "# read data from csv file\n",
    "dirty_data = pd.read_csv(\"dirty_data.csv\")\n",
    "# fix dirty data and generate 2d-list\n",
    "new_dirty_data_matrix = [fix_dirty_data(row) for row in tqdm(dirty_data.values)]\n",
    "# build data frame and output csv file\n",
    "pd.DataFrame(new_dirty_data_matrix, columns=DirtyData.get_header()) \\\n",
    "    .to_csv(\"dirty_data_solution.csv\", index=None)"
   ]
  },
  {
   "cell_type": "markdown",
   "metadata": {},
   "source": [
    "### 7.2 Outlier Data"
   ]
  },
  {
   "cell_type": "code",
   "execution_count": 78,
   "metadata": {},
   "outputs": [],
   "source": [
    "def fix_outlier_data(row):\n",
    "    return OutlierData.build_data_from_row(row).recognize_outlier()\n",
    "\n",
    "# read outlier data from csv file\n",
    "outlier_data = pd.read_csv(\"outlier_data.csv\")\n",
    "# recognize outlier data\n",
    "outlier_data_list = [fix_outlier_data(row) for row in outlier_data.values]\n",
    "# filter the data which is not outlier\n",
    "outlier_data_list = OutlierData.fix_outliers(outlier_data_list)\n",
    "# generate 2d-list\n",
    "outlier_data_matrix = [OutlierData.to_list(each) for each in outlier_data_list]\n",
    "# build data frame and output csv file\n",
    "pd.DataFrame(outlier_data_matrix, columns=OutlierData.get_header()) \\\n",
    "    .to_csv(\"outlier_data_solution.csv\", index=None)"
   ]
  },
  {
   "cell_type": "markdown",
   "metadata": {},
   "source": [
    "### 7.3 Missing Data"
   ]
  },
  {
   "cell_type": "code",
   "execution_count": 79,
   "metadata": {},
   "outputs": [
    {
     "data": {
      "application/vnd.jupyter.widget-view+json": {
       "model_id": "7ddb58e0d735473fa84fee682ef7937f",
       "version_major": 2,
       "version_minor": 0
      },
      "text/plain": [
       "  0%|          | 0/500 [00:00<?, ?it/s]"
      ]
     },
     "metadata": {},
     "output_type": "display_data"
    }
   ],
   "source": [
    "def fix_missing_data(row):\n",
    "    pipeline = [\n",
    "        MissingData.build_data_from_row,\n",
    "        MissingData.fix_branch_code,\n",
    "        MissingData.fix_distance,\n",
    "        MissingData.fix_delivery_fee,\n",
    "        MissingData.to_list\n",
    "    ]\n",
    "    return reduce(apply, [row] + pipeline)\n",
    "\n",
    "# read missing data from csv file\n",
    "missing_data = pd.read_csv(\"missing_data.csv\")\n",
    "# fix missing data and generate 2d-list\n",
    "new_missing_data_matrix = [fix_missing_data(row) for row in tqdm(missing_data.values)]\n",
    "# build data frame and output csv file\n",
    "pd.DataFrame(new_missing_data_matrix, columns=MissingData.get_header()) \\\n",
    "    .to_csv(\"missing_data_solution.csv\", index=None)"
   ]
  },
  {
   "cell_type": "markdown",
   "metadata": {},
   "source": [
    "# 8 Summary\n",
    "This project is aim to \n",
    "- detect and fix errors in dirty_data.csv\n",
    "- Detect and remove outlier rows in outlier_data.csv (outliers are to be found w.r.t. delivery_fee attribute)\n",
    "- Impute the missing values in missing_data.csv\n",
    "\n",
    "The outcome achieved after using these basic techniques were:\n",
    "1. <b>Detect and fix errors:</b> Using pandas to do EDA, using numpy.linalg to solve a liner system of equtions to fix the oder_items and using networkx to caculate the shotest path between two nodes.\n",
    "\n",
    "2. <b>Detect and remove outlier:</b> Using sklearn library to fit sutiable liner model for each branch. Then, comparing the differences between the predict delievery fee and original delivery fee. Finally, using the difference to identify the outlier.\n",
    "\n",
    "3. <b>Impute the missing values:</b> Inheritancing the Data class and using numpy to identify if the missing data is exist.\n"
   ]
  },
  {
   "cell_type": "markdown",
   "metadata": {},
   "source": [
    "# 9. Reference\n",
    "\n",
    " 1. Juanlu001. (2019). Python implementation of Spark reduceByKey(). Retrieved from https://gist.github.com/Juanlu001/562d1ec55be970403442\n",
    " 2. Latitudelongitude.org. (2019). Melbourne latitude longitude. Retrieved from https://latitudelongitude.org/au/melbourne/\n",
    " 3. networkx. (2019). networkx.algorithms.shortest_paths.weighted.dijkstra_path_length — NetworkX 2.4rc1.dev20191006044604 documentation. Retrieved from https://networkx.github.io/documentation/latest/reference/algorithms/generated/networkx.algorithms.shortest_paths.weighted.dijkstra_path_length.html#networkx.algorithms.shortest_paths.weighted.dijkstra_path_length\n",
    " 4. Numpy. (2019). Linear algebra (numpy.linalg) — NumPy v1.17 Manual. Retrieved from https://docs.scipy.org/doc/numpy/reference/routines.linalg.html\n",
    " 5. Pyspark. (2019). pyspark package — PySpark 2.4.4 documentation. Retrieved from https://spark.apache.org/docs/latest/api/python/pyspark.html?highlight=reduce%20key#pyspark.RDD.reduceByKey\n",
    " 6. Python. (2019). dataclasses — Data Classes — Python 3.7.5rc1 documentation. Retrieved from https://docs.python.org/3/library/dataclasses.html\n"
   ]
  }
 ],
 "metadata": {
  "kernelspec": {
   "display_name": "helloworld",
   "language": "python",
   "name": "helloworld"
  },
  "language_info": {
   "codemirror_mode": {
    "name": "ipython",
    "version": 3
   },
   "file_extension": ".py",
   "mimetype": "text/x-python",
   "name": "python",
   "nbconvert_exporter": "python",
   "pygments_lexer": "ipython3",
   "version": "3.7.11"
  }
 },
 "nbformat": 4,
 "nbformat_minor": 4
}
