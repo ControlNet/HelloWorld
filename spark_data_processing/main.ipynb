{
 "cells": [
  {
   "cell_type": "markdown",
   "metadata": {},
   "source": [
    "# Spark Data Processing\n",
    "\n",
    "Environment: Python 3.7, Jupyter notebook, JDK1.8, Ubuntu\n",
    "\n",
    "Libraries used:\n",
    "* pyspark (for data processing)\n",
    "* re (for data wrangling)\n",
    "* nltk (for filtering stopwords)\n",
    "* matplotlib (for plot graphs)\n",
    "* os (for setting environment for mongoDB)\n",
    "* datetime (for date type)\n",
    "* matplotlib (for plot graphs)\n",
    "* numpy (for exponenet function exp())"
   ]
  },
  {
   "cell_type": "markdown",
   "metadata": {},
   "source": [
    "## Part A: Analysis and Visualization by Spark RDD"
   ]
  },
  {
   "cell_type": "markdown",
   "metadata": {},
   "source": [
    "## Introduction\n",
    "In this part, it is aimed to analyse the data in two books, `Agile Processes in Software Engineering and Extreme Programming.txt` and `Scrum Handbook.txt`. \n",
    "\n",
    "The goals in the project are: \n",
    "1. wrangling data\n",
    "2. processing to extract data statistics information\n",
    "3. visualization"
   ]
  },
  {
   "cell_type": "markdown",
   "metadata": {},
   "source": [
    "## Step 01: Import pyspark and initialize Spark"
   ]
  },
  {
   "cell_type": "markdown",
   "metadata": {},
   "source": [
    "Import the lilbraries used for this notebook.\n",
    "\n",
    "If there is some libraries not installed in the computer, please delete the `#` and install it by running the codes below."
   ]
  },
  {
   "cell_type": "code",
   "execution_count": 1,
   "metadata": {},
   "outputs": [
    {
     "name": "stderr",
     "output_type": "stream",
     "text": [
      "[nltk_data] Downloading package stopwords to\n",
      "[nltk_data]     /home/controlnet/nltk_data...\n",
      "[nltk_data]   Package stopwords is already up-to-date!\n"
     ]
    },
    {
     "data": {
      "text/plain": [
       "True"
      ]
     },
     "execution_count": 1,
     "metadata": {},
     "output_type": "execute_result"
    }
   ],
   "source": [
    "#!pip install pyspark==2.4.8\n",
    "#!pip install nltk\n",
    "import nltk\n",
    "nltk.download('stopwords')\n",
    "#!pip install matplotlib"
   ]
  },
  {
   "cell_type": "code",
   "execution_count": 2,
   "metadata": {},
   "outputs": [],
   "source": [
    "import pyspark\n",
    "from pyspark import SparkContext\n",
    "from pyspark.sql import SparkSession\n",
    "from pyspark.sql.functions import to_date\n",
    "import pyspark.sql.functions as F\n",
    "import re\n",
    "import nltk\n",
    "from nltk.corpus import stopwords\n",
    "import matplotlib.pyplot as plt\n",
    "from math import log\n",
    "import os\n",
    "import numpy as np\n",
    "from datetime import datetime, timedelta\n",
    "\n",
    "import warnings\n",
    "warnings.filterwarnings(\"ignore\")"
   ]
  },
  {
   "cell_type": "markdown",
   "metadata": {},
   "source": [
    "Initialize the spark application"
   ]
  },
  {
   "cell_type": "code",
   "execution_count": 3,
   "metadata": {},
   "outputs": [
    {
     "name": "stderr",
     "output_type": "stream",
     "text": [
      "21/10/29 03:26:47 WARN Utils: Your hostname, CNETLINUXSERVER resolves to a loopback address: 127.0.1.1; using 192.168.0.146 instead (on interface enp3s0)\n",
      "21/10/29 03:26:47 WARN Utils: Set SPARK_LOCAL_IP if you need to bind to another address\n",
      "21/10/29 03:26:47 WARN NativeCodeLoader: Unable to load native-hadoop library for your platform... using builtin-java classes where applicable\n",
      "Using Spark's default log4j profile: org/apache/spark/log4j-defaults.properties\n",
      "Setting default log level to \"WARN\".\n",
      "To adjust logging level use sc.setLogLevel(newLevel). For SparkR, use setLogLevel(newLevel).\n"
     ]
    }
   ],
   "source": [
    "# If there is an existing spark context, we will reuse it instead of creating a new context.\n",
    "sc = SparkContext.getOrCreate()\n",
    "\n",
    "# If there is no existing spark context, we now create a new context by SparkConf\n",
    "if (sc is None):\n",
    "    conf = pyspark.SparkConf()\n",
    "    conf.set(\"spark.app.name\", \"Data Processing with Spark\")\n",
    "    conf.set(\"spark.master\", \"local[*]\")\n",
    "    sc = SparkContext(conf=conf)"
   ]
  },
  {
   "cell_type": "markdown",
   "metadata": {},
   "source": [
    "## Step 02: Create Resilient Distributed Datasets (RDDs)"
   ]
  },
  {
   "cell_type": "markdown",
   "metadata": {},
   "source": [
    "The resources is provided from moodle, there are:\n",
    "1. Book1: \"Agile Processes  in Software Engineering  and Extreme Programming.txt\"\n",
    "2. Book2: \"Scrum Handbook.txt\"\n",
    "\n",
    "Naming the Book1 related dataset as `agileRdd`, and the `scrumRdd` for Book2."
   ]
  },
  {
   "cell_type": "code",
   "execution_count": 4,
   "metadata": {},
   "outputs": [
    {
     "name": "stdout",
     "output_type": "stream",
     "text": [
      "The number of lines of Agile Processes is 21569\n",
      "The number of lines of Scrum Handbook is 4617\n"
     ]
    }
   ],
   "source": [
    "# read the txt files, and store them in the variables\n",
    "agileRdd = sc.textFile(\"Agile Processes  in Software Engineering  and Extreme Programming.txt\")\n",
    "scrumRdd = sc.textFile(\"Scrum Handbook.txt\")\n",
    "# calculate the length of lines and print\n",
    "print(\"The number of lines of Agile Processes is\", len(agileRdd.collect()))\n",
    "print(\"The number of lines of Scrum Handbook is\", len(scrumRdd.collect()))"
   ]
  },
  {
   "cell_type": "code",
   "execution_count": 5,
   "metadata": {},
   "outputs": [
    {
     "data": {
      "text/plain": [
       "['LNBIP251 ',\n",
       " '',\n",
       " '',\n",
       " 'I Helen Sharp ',\n",
       " '',\n",
       " 'Tracy Hall (Eds.) ',\n",
       " '',\n",
       " 'Agile Processes ',\n",
       " 'in Software Engineering ',\n",
       " 'and Extreme Programming ']"
      ]
     },
     "execution_count": 5,
     "metadata": {},
     "output_type": "execute_result"
    }
   ],
   "source": [
    "# check the content of the rdd\n",
    "agileRdd.take(10)"
   ]
  },
  {
   "cell_type": "markdown",
   "metadata": {},
   "source": [
    "## Step 03: Cleaning/Manipulating text"
   ]
  },
  {
   "cell_type": "markdown",
   "metadata": {},
   "source": [
    "The text should be mannipulated in these steps, and a function contains the functionalities need to be created.\n",
    "\n",
    "1. Removes all characters which are not alphabets except space(s).\n",
    "2. Changes all uppercase letters to lowercase.\n",
    "3. Removes all leading or trailing spaces.\n",
    "\n",
    "Define a function below to perform these three steps."
   ]
  },
  {
   "cell_type": "code",
   "execution_count": 6,
   "metadata": {},
   "outputs": [],
   "source": [
    "def parseLine(line):\n",
    "    regex = r\"[^A-Za-z ]\"\n",
    "    new_line = re.sub(regex, \"\", line)  # step 1\n",
    "    new_line = new_line.lower()  # step 2\n",
    "    new_line = re.sub(r\"^ +\", \"\", new_line)  # step 3, remove leading spaces\n",
    "    new_line = re.sub(r\" +$\", \"\", new_line)  # step 3, remove trailing spaces\n",
    "    return new_line"
   ]
  },
  {
   "cell_type": "markdown",
   "metadata": {},
   "source": [
    "Then apply the function into the elements of these 2 RDDs, and display the contents of RDDs."
   ]
  },
  {
   "cell_type": "code",
   "execution_count": 7,
   "metadata": {},
   "outputs": [
    {
     "data": {
      "text/plain": [
       "['lnbip', '', '', 'i helen sharp', '']"
      ]
     },
     "execution_count": 7,
     "metadata": {},
     "output_type": "execute_result"
    }
   ],
   "source": [
    "agileParsedRdd = agileRdd.map(parseLine)\n",
    "agileParsedRdd.take(5)"
   ]
  },
  {
   "cell_type": "code",
   "execution_count": 8,
   "metadata": {},
   "outputs": [
    {
     "data": {
      "text/plain": [
       "['jeff sutherlands', '', 'scrum handbook', '', '']"
      ]
     },
     "execution_count": 8,
     "metadata": {},
     "output_type": "execute_result"
    }
   ],
   "source": [
    "scrumParsedRdd = scrumRdd.map(parseLine)\n",
    "scrumParsedRdd.take(5)"
   ]
  },
  {
   "cell_type": "markdown",
   "metadata": {},
   "source": [
    "## Step 04: Transforming the Data/Counting the words\n",
    "\n",
    "Then, split each element into words by using `pyspark.RDD.flatMap()`. (pyspark, 2019)"
   ]
  },
  {
   "cell_type": "code",
   "execution_count": 10,
   "metadata": {},
   "outputs": [
    {
     "data": {
      "text/plain": [
       "['lnbip', 'i', 'helen', 'sharp', 'tracy']"
      ]
     },
     "execution_count": 10,
     "metadata": {},
     "output_type": "execute_result"
    }
   ],
   "source": [
    "# split each rows to words\n",
    "agileWordsRdd = agileParsedRdd.flatMap(lambda x: x.split(\" \")).filter(lambda x: x!=\"\")\n",
    "agileWordsRdd.take(5)"
   ]
  },
  {
   "cell_type": "code",
   "execution_count": 11,
   "metadata": {},
   "outputs": [
    {
     "data": {
      "text/plain": [
       "['jeff', 'sutherlands', 'scrum', 'handbook', 'everything']"
      ]
     },
     "execution_count": 11,
     "metadata": {},
     "output_type": "execute_result"
    }
   ],
   "source": [
    "scrumWordsRdd = scrumParsedRdd.flatMap(lambda x: x.split(\" \")).filter(lambda x: x!=\"\")\n",
    "scrumWordsRdd.take(5)"
   ]
  },
  {
   "cell_type": "markdown",
   "metadata": {},
   "source": [
    "Then, calculate the amount for each words by using `pyspark.RDD.reduceByKey()`(pyspark, 2019), and sort it."
   ]
  },
  {
   "cell_type": "code",
   "execution_count": 13,
   "metadata": {
    "scrolled": true
   },
   "outputs": [
    {
     "data": {
      "text/plain": [
       "[('the', 8145),\n",
       " ('and', 3965),\n",
       " ('of', 3944),\n",
       " ('to', 3714),\n",
       " ('in', 3076),\n",
       " ('a', 2701),\n",
       " ('is', 1539),\n",
       " ('that', 1355),\n",
       " ('for', 1194),\n",
       " ('as', 1028),\n",
       " ('on', 1015),\n",
       " ('we', 975),\n",
       " ('with', 969),\n",
       " ('software', 922),\n",
       " ('this', 915),\n",
       " ('are', 784),\n",
       " ('agile', 748),\n",
       " ('it', 741),\n",
       " ('development', 737),\n",
       " ('was', 711)]"
      ]
     },
     "execution_count": 13,
     "metadata": {},
     "output_type": "execute_result"
    }
   ],
   "source": [
    "# firstly, transfer each word into the format of (word, 1);\n",
    "# secondly, sum the numbers for the same word;\n",
    "# thirdly, sort it by key.\n",
    "agileCountRdd = agileWordsRdd.map(lambda x: (x, 1))\\\n",
    "    .reduceByKey(lambda x, y: x + y)\\\n",
    "    .sortBy(lambda x: x[1], ascending=False)\n",
    "# display the result for top 20 words\n",
    "agileCountRdd.take(20)"
   ]
  },
  {
   "cell_type": "code",
   "execution_count": 14,
   "metadata": {},
   "outputs": [
    {
     "data": {
      "text/plain": [
       "[('the', 1238),\n",
       " ('of', 537),\n",
       " ('and', 534),\n",
       " ('to', 477),\n",
       " ('a', 451),\n",
       " ('scrum', 395),\n",
       " ('in', 360),\n",
       " ('is', 348),\n",
       " ('team', 260),\n",
       " ('product', 232),\n",
       " ('for', 195),\n",
       " ('that', 181),\n",
       " ('it', 165),\n",
       " ('on', 149),\n",
       " ('sprint', 146),\n",
       " ('this', 142),\n",
       " ('with', 132),\n",
       " ('as', 124),\n",
       " ('are', 119),\n",
       " ('by', 118)]"
      ]
     },
     "execution_count": 14,
     "metadata": {},
     "output_type": "execute_result"
    }
   ],
   "source": [
    "scrumCountRdd = scrumWordsRdd.map(lambda x: (x, 1))\\\n",
    "    .reduceByKey(lambda x, y: x + y)\\\n",
    "    .sortBy(lambda x: x[1], ascending=False)\n",
    "scrumCountRdd.take(20)"
   ]
  },
  {
   "cell_type": "markdown",
   "metadata": {},
   "source": [
    "Then, display the top 20 most frequent words for each Book."
   ]
  },
  {
   "cell_type": "code",
   "execution_count": 16,
   "metadata": {},
   "outputs": [
    {
     "name": "stdout",
     "output_type": "stream",
     "text": [
      "The 20 most frequent words in Book 1 are ['the', 'and', 'of', 'to', 'in', 'a', 'is', 'that', 'for', 'as', 'on', 'we', 'with', 'software', 'this', 'are', 'agile', 'it', 'development', 'was']\n",
      "\n",
      "The 20 most frequent words in Book 2 are ['the', 'of', 'and', 'to', 'a', 'scrum', 'in', 'is', 'team', 'product', 'for', 'that', 'it', 'on', 'sprint', 'this', 'with', 'as', 'are', 'by']\n"
     ]
    }
   ],
   "source": [
    "print(\"The 20 most frequent words in Book 1 are\", agileCountRdd.map(lambda x: x[0]).take(20))\n",
    "print(\"\")\n",
    "print(\"The 20 most frequent words in Book 2 are\", scrumCountRdd.map(lambda x: x[0]).take(20))"
   ]
  },
  {
   "cell_type": "markdown",
   "metadata": {},
   "source": [
    "## Step 05: Removing Stop Words"
   ]
  },
  {
   "cell_type": "markdown",
   "metadata": {},
   "source": [
    "Using `nltk` library get stop words set.(Upadhyay, 2019)"
   ]
  },
  {
   "cell_type": "code",
   "execution_count": 18,
   "metadata": {},
   "outputs": [
    {
     "data": {
      "text/plain": [
       "[('software', 922),\n",
       " ('agile', 748),\n",
       " ('development', 737),\n",
       " ('team', 554),\n",
       " ('product', 451)]"
      ]
     },
     "execution_count": 18,
     "metadata": {},
     "output_type": "execute_result"
    }
   ],
   "source": [
    "# get English stop words from nltk\n",
    "stopWords = set(stopwords.words(\"english\"))\n",
    "# filter the words that is not in stop words set\n",
    "agileCountFixedRdd = agileCountRdd.filter(lambda x: x[0] not in stopWords)\n",
    "agileCountFixedRdd.take(5)"
   ]
  },
  {
   "cell_type": "code",
   "execution_count": 19,
   "metadata": {},
   "outputs": [
    {
     "data": {
      "text/plain": [
       "[('scrum', 395),\n",
       " ('team', 260),\n",
       " ('product', 232),\n",
       " ('sprint', 146),\n",
       " ('development', 98)]"
      ]
     },
     "execution_count": 19,
     "metadata": {},
     "output_type": "execute_result"
    }
   ],
   "source": [
    "scrumCountFixedRdd = scrumCountRdd.filter(lambda x: x[0] not in stopWords)\n",
    "scrumCountFixedRdd.take(5)"
   ]
  },
  {
   "cell_type": "markdown",
   "metadata": {},
   "source": [
    "Then, using the similar method in Step 04 to get pure words sequences for each book."
   ]
  },
  {
   "cell_type": "code",
   "execution_count": 20,
   "metadata": {},
   "outputs": [
    {
     "name": "stdout",
     "output_type": "stream",
     "text": [
      "There is 9611 unique words in Book 1\n",
      "There is 2936 unique words in Book 2\n"
     ]
    }
   ],
   "source": [
    "# count the unique words count in each book\n",
    "agileUniqueWordsCount = len(agileCountFixedRdd.map(lambda x: x[0]).collect())\n",
    "scrumUniqueWordsCount = len(scrumCountFixedRdd.map(lambda x: x[0]).collect())\n",
    "# display the result\n",
    "print(\"There is {} unique words in {}\".format(agileUniqueWordsCount, \"Book 1\"))\n",
    "print(\"There is {} unique words in {}\".format(scrumUniqueWordsCount, \"Book 2\"))"
   ]
  },
  {
   "cell_type": "markdown",
   "metadata": {},
   "source": [
    "## Step 06: Find the average occurrence of a word\n",
    "To find the result that require, it is necessary to calculate the total number of words devided that by the number of unique words."
   ]
  },
  {
   "cell_type": "code",
   "execution_count": 21,
   "metadata": {},
   "outputs": [
    {
     "name": "stdout",
     "output_type": "stream",
     "text": [
      "The total words in these 2 rdds are 79056 and 10810\n"
     ]
    }
   ],
   "source": [
    "# get the total words count for each rdd\n",
    "agileTotalWordsCount = agileCountFixedRdd.map(lambda x: x[1]).sum()\n",
    "scrumTotalWordsCount = scrumCountFixedRdd.map(lambda x: x[1]).sum()\n",
    "# display the result\n",
    "print(\"The total words in these 2 rdds are {} and {}\"\\\n",
    "      .format(agileTotalWordsCount,scrumTotalWordsCount))"
   ]
  },
  {
   "cell_type": "code",
   "execution_count": 22,
   "metadata": {},
   "outputs": [
    {
     "name": "stdout",
     "output_type": "stream",
     "text": [
      "The average occurrencce in Book 1 is 8.226\n",
      "The average occurrencce in Book 2 is 3.682\n"
     ]
    }
   ],
   "source": [
    "# calculate the average occurrence\n",
    "agileAverageOccurrence = agileTotalWordsCount / agileUniqueWordsCount\n",
    "scrumAverageOccurrence = scrumTotalWordsCount / scrumUniqueWordsCount\n",
    "# display the result\n",
    "for each in ((\"Book 1\", agileAverageOccurrence), (\"Book 2\", scrumAverageOccurrence)):\n",
    "    print(\"The average occurrencce in {} is {:.3f}\".format(*each))"
   ]
  },
  {
   "cell_type": "markdown",
   "metadata": {},
   "source": [
    "## Step 7: Exploratory data analysis"
   ]
  },
  {
   "cell_type": "code",
   "execution_count": 23,
   "metadata": {},
   "outputs": [],
   "source": [
    "# get the occurrence list for each words\n",
    "agileWordsOccurrence = agileCountFixedRdd.map(lambda x: x[1]).collect()\n",
    "scrumWordsOccurrence = scrumCountFixedRdd.map(lambda x: x[1]).collect()\n",
    "# get the list containing words with the same order with the occurrences list\n",
    "agileWordsList = agileCountFixedRdd.map(lambda x: x[0]).collect()\n",
    "scrumWordsList = scrumCountFixedRdd.map(lambda x: x[0]).collect()"
   ]
  },
  {
   "cell_type": "markdown",
   "metadata": {},
   "source": [
    "Plot the output for all words in Book 1 and Book 2 with log scale with `plt.xscale()` and `plt.yscale()`. Using `plt.legend()` to put the legend inside. (matplotlib, 2019)"
   ]
  },
  {
   "cell_type": "code",
   "execution_count": 24,
   "metadata": {},
   "outputs": [
    {
     "data": {
      "image/png": "[encoded data removed]",
      "text/plain": [
       "<Figure size 432x288 with 1 Axes>"
      ]
     },
     "metadata": {
      "needs_background": "light"
     },
     "output_type": "display_data"
    }
   ],
   "source": [
    "plt.figure()\n",
    "# plot the trend for Book 1\n",
    "plt.plot(range(1, len(agileWordsOccurrence)+1), agileWordsOccurrence)\n",
    "# plot the trend for Book 2\n",
    "plt.plot(range(1, len(scrumWordsOccurrence)+1), scrumWordsOccurrence)\n",
    "# other configurations\n",
    "plt.legend([\"Book1\", \"Book2\"])\n",
    "plt.title(\"The Distribution of Words in Book1 and Book2\")\n",
    "plt.xlabel(\"The Words Frequency Rank\")\n",
    "plt.ylabel(\"The Occurrence of the Words\")\n",
    "plt.xscale(\"log\", basex=10)\n",
    "plt.yscale(\"log\", basey=10)\n",
    "plt.show()"
   ]
  },
  {
   "cell_type": "markdown",
   "metadata": {},
   "source": [
    "From the output, the unique count of words in Book 1 is higher than Book 2. However, the distributions of words from the highest frequency to lowest is similar, because the slope of the curve for Book 1 and Book 2 is similar. It can be considered that the distribution of words is similar in both books."
   ]
  },
  {
   "cell_type": "markdown",
   "metadata": {},
   "source": [
    "Plot the output for top 15 most common words in Book 1 and Book 2."
   ]
  },
  {
   "cell_type": "code",
   "execution_count": 25,
   "metadata": {},
   "outputs": [
    {
     "data": {
      "image/png": "[encoded data removed]",
      "text/plain": [
       "<Figure size 432x288 with 1 Axes>"
      ]
     },
     "metadata": {
      "needs_background": "light"
     },
     "output_type": "display_data"
    }
   ],
   "source": [
    "plt.figure()\n",
    "# plot the trend for Book 1\n",
    "plt.plot(range(1, 16), agileWordsOccurrence[:15])\n",
    "# plot the trend for Book 2\n",
    "plt.plot(range(1, 16), scrumWordsOccurrence[:15])\n",
    "# other configurations\n",
    "plt.legend([\"Book1\", \"Book2\"])\n",
    "plt.title(\"The Distribution of 15 Most Common Words in Book1 and Book2\")\n",
    "plt.xlabel(\"The Words Frequency Rank\")\n",
    "plt.ylabel(\"The Occurrence of the Words\")\n",
    "plt.show()"
   ]
  },
  {
   "cell_type": "markdown",
   "metadata": {},
   "source": [
    "From the output, the distributions of top 15 most common words are similar in Book 1 and Book 2. The shape and the slope of these 2 curves are similar, which can be considered the distributions are also similar."
   ]
  },
  {
   "cell_type": "markdown",
   "metadata": {},
   "source": [
    "## Part B: Data Processing by Spark SQL"
   ]
  },
  {
   "cell_type": "markdown",
   "metadata": {},
   "source": [
    "## Introduction\n",
    "\n",
    "In part B, it is aimed to analyse the data from a crime data, `Crime_Statistics_SA_2010_present.csv`. \n",
    "\n",
    "The goals including will be achieved: \n",
    "1. load the data from file\n",
    "2. processing to data statistics information\n",
    "3. visualization"
   ]
  },
  {
   "cell_type": "markdown",
   "metadata": {},
   "source": [
    "## Step 01: Initialize Spark SQL"
   ]
  },
  {
   "cell_type": "code",
   "execution_count": 26,
   "metadata": {},
   "outputs": [],
   "source": [
    "# If there is an existing spark context, we will reuse it instead of creating a new context.\n",
    "sc = SparkContext.getOrCreate()\n",
    "\n",
    "# If there is no existing spark context, we now create a new context by SparkConf\n",
    "spark = SparkSession(sparkContext=sc)\\\n",
    "    .builder\\\n",
    "    .appName(\"SparkSQL\")\\\n",
    "    .getOrCreate()"
   ]
  },
  {
   "cell_type": "markdown",
   "metadata": {},
   "source": [
    "## Step 02: Create Dataframe\n",
    "\n",
    "Create the DataFrame from the csv file, using the `inferSchema=True` to enable the inferSchema functionality. (zero323, 2019)"
   ]
  },
  {
   "cell_type": "code",
   "execution_count": 27,
   "metadata": {},
   "outputs": [
    {
     "name": "stdout",
     "output_type": "stream",
     "text": [
      "The number of records in the data frame is 727408\n"
     ]
    }
   ],
   "source": [
    "# read the data from csv file into DataFrame\n",
    "dataDf = spark.read.csv(\"Crime_Statistics_SA_2010_present.csv\", header=True, inferSchema=True)\n",
    "# display the number of rows in the DataFrame\n",
    "print(\"The number of records in the data frame is\", dataDf.count())"
   ]
  },
  {
   "cell_type": "markdown",
   "metadata": {},
   "source": [
    "## Step 03: Read from Database\n",
    "\n",
    "Using `pyspark.sql.Column.isNotNull()` to drop null data rows. (pyspark, 2019)"
   ]
  },
  {
   "cell_type": "code",
   "execution_count": 28,
   "metadata": {},
   "outputs": [
    {
     "name": "stdout",
     "output_type": "stream",
     "text": [
      "root\n",
      " |-- Reported Date: string (nullable = true)\n",
      " |-- Suburb - Incident: string (nullable = true)\n",
      " |-- Postcode - Incident: string (nullable = true)\n",
      " |-- Offence Level 1 Description: string (nullable = true)\n",
      " |-- Offence Level 2 Description: string (nullable = true)\n",
      " |-- Offence Level 3 Description: string (nullable = true)\n",
      " |-- Offence Count: integer (nullable = true)\n",
      "\n"
     ]
    }
   ],
   "source": [
    "df = dataDf\n",
    "# drop null data rows\n",
    "df = df.filter(df[\"Reported Date\"].isNotNull())\n",
    "# display the schema\n",
    "df.printSchema()"
   ]
  },
  {
   "cell_type": "markdown",
   "metadata": {},
   "source": [
    "## Step 04: Calculate the statistics of numeric and string columns"
   ]
  },
  {
   "cell_type": "code",
   "execution_count": 29,
   "metadata": {},
   "outputs": [
    {
     "name": "stderr",
     "output_type": "stream",
     "text": [
      "[Stage 78:>                                                         (0 + 8) / 8]"
     ]
    },
    {
     "name": "stdout",
     "output_type": "stream",
     "text": [
      "+---------+-----+-----+-----+---+---+\n",
      "|     date|count| mean|   sd|max|min|\n",
      "+---------+-----+-----+-----+---+---+\n",
      "|1/01/2011|  408|1.283|0.885|  9|  1|\n",
      "|1/01/2012|  373|1.203|0.509|  5|  1|\n",
      "|1/01/2013|  385|1.242|0.708|  6|  1|\n",
      "|1/01/2014|  384|1.289|0.727|  8|  1|\n",
      "|1/01/2015|  344|1.313|0.964| 11|  1|\n",
      "+---------+-----+-----+-----+---+---+\n",
      "only showing top 5 rows\n",
      "\n"
     ]
    },
    {
     "name": "stderr",
     "output_type": "stream",
     "text": [
      "                                                                                \r"
     ]
    }
   ],
   "source": [
    "# use SQL to aggregate by \"Offence Date\"\n",
    "# and calculate the mean, sd, max and min for offence count\n",
    "def toStat(dfInput):\n",
    "    dfInput.createOrReplaceTempView(\"dfInput\")\n",
    "    dfInputStat = spark.sql(\"\"\"\n",
    "        SELECT `Reported Date` AS date,\n",
    "               SUM(`Offence Count`) AS count,\n",
    "               ROUND(mean(`Offence Count`),3) AS mean,\n",
    "               ROUND(stddev(`Offence Count`),3) AS sd,\n",
    "               ROUND(max(`Offence Count`),3) AS max,\n",
    "               ROUND(min(`Offence Count`),3) AS min\n",
    "        FROM dfInput\n",
    "        GROUP BY date\n",
    "        ORDER BY date\n",
    "    \"\"\")\n",
    "    return dfInputStat\n",
    "\n",
    "# apply the function to df to get statistic data\n",
    "dfStat = toStat(df)\n",
    "dfStat.show(5)"
   ]
  },
  {
   "cell_type": "markdown",
   "metadata": {},
   "source": [
    "Then, examine the max and min value for \"Reported Date\""
   ]
  },
  {
   "cell_type": "code",
   "execution_count": 30,
   "metadata": {},
   "outputs": [
    {
     "name": "stdout",
     "output_type": "stream",
     "text": [
      "The min value of date is 1/01/2011.\n",
      "The max value of date is 9/12/2018\n"
     ]
    }
   ],
   "source": [
    "# define the function for print the max and min value for date\n",
    "def printDateExtreme(dfInput):\n",
    "    date_min = dfInput.select(\"date\").collect()[0][0]\n",
    "    date_max = dfInput.select(\"date\").collect()[-1][0]\n",
    "    print(\"The min value of date is {}.\\nThe max value of date is {}\"\\\n",
    "          .format(date_min, date_max))\n",
    "    \n",
    "printDateExtreme(dfStat)"
   ]
  },
  {
   "cell_type": "markdown",
   "metadata": {},
   "source": [
    "The result of max and min value of date is not correct, bacause the type of date is string, it will be sorted by the characters in the string from first to last. As the location of the number of the day is in the left of month, the program will sort the date by day first and then the month, which is not correct."
   ]
  },
  {
   "cell_type": "markdown",
   "metadata": {},
   "source": [
    "## Step 05: Change the date type for a column"
   ]
  },
  {
   "cell_type": "markdown",
   "metadata": {},
   "source": [
    "This step should be applied with UDF with `pyspark.sql.functions.udf()`. (databricks, 2019)"
   ]
  },
  {
   "cell_type": "code",
   "execution_count": 31,
   "metadata": {},
   "outputs": [
    {
     "name": "stdout",
     "output_type": "stream",
     "text": [
      "root\n",
      " |-- Reported Date: date (nullable = true)\n",
      " |-- Suburb - Incident: string (nullable = true)\n",
      " |-- Postcode - Incident: string (nullable = true)\n",
      " |-- Offence Level 1 Description: string (nullable = true)\n",
      " |-- Offence Level 2 Description: string (nullable = true)\n",
      " |-- Offence Level 3 Description: string (nullable = true)\n",
      " |-- Offence Count: integer (nullable = true)\n",
      "\n"
     ]
    }
   ],
   "source": [
    "# define a function to convert the type of string to date\n",
    "def stringToDate(string):\n",
    "    date = datetime.strptime(string, \"%d/%m/%Y\")\n",
    "    return date\n",
    "\n",
    "# register the function into spark as UDF\n",
    "stringToDateUDF = F.udf(stringToDate, pyspark.sql.types.DateType())\n",
    "\n",
    "# define a function that convert the elements of whole date column into Date type\n",
    "def changeDateType(dfInput, dateColumnName):\n",
    "    dfOutput = dfInput.withColumn(dateColumnName, stringToDateUDF(dfInput[dateColumnName]))\n",
    "    return dfOutput\n",
    "\n",
    "# apply the function and display the result\n",
    "dfFixed = changeDateType(df, \"Reported Date\")\n",
    "dfFixed.printSchema()"
   ]
  },
  {
   "cell_type": "code",
   "execution_count": 32,
   "metadata": {},
   "outputs": [
    {
     "name": "stderr",
     "output_type": "stream",
     "text": [
      "                                                                                \r"
     ]
    },
    {
     "name": "stdout",
     "output_type": "stream",
     "text": [
      "The min value of date is 2010-07-01.\n",
      "The max value of date is 2019-03-31\n"
     ]
    }
   ],
   "source": [
    "# display the max and min value of date after transfering the type\n",
    "dfStatFixed = toStat(dfFixed)\n",
    "printDateExtreme(dfStatFixed)"
   ]
  },
  {
   "cell_type": "markdown",
   "metadata": {},
   "source": [
    "From the output, the result is correct after comparing with the data in the raw csv file."
   ]
  },
  {
   "cell_type": "markdown",
   "metadata": {},
   "source": [
    "## Step 06: Preliminary data analysis \n",
    "\n",
    "There are several sub-steps for this step 07."
   ]
  },
  {
   "cell_type": "markdown",
   "metadata": {},
   "source": [
    "####  - How many level 2 offences are there?"
   ]
  },
  {
   "cell_type": "code",
   "execution_count": 33,
   "metadata": {},
   "outputs": [
    {
     "name": "stdout",
     "output_type": "stream",
     "text": [
      "The number of level 2 offences is 9.\n",
      "['ROBBERY AND RELATED OFFENCES', 'PROPERTY DAMAGE AND ENVIRONMENTAL', 'SEXUAL ASSAULT AND RELATED OFFENCES', 'HOMICIDE AND RELATED OFFENCES', 'ACTS INTENDED TO CAUSE INJURY', 'SERIOUS CRIMINAL TRESPASS', 'OTHER OFFENCES AGAINST THE PERSON', 'FRAUD DECEPTION AND RELATED OFFENCES', 'THEFT AND RELATED OFFENCES']\n"
     ]
    }
   ],
   "source": [
    "# group the data by the \"level 2 description\",\n",
    "# count the number of \"level 2 description\",\n",
    "# extract the number by select() and collect()\n",
    "dfGroupbyLevel2 = df.groupby(\"Offence Level 2 Description\")\\\n",
    "    .count()\\\n",
    "    .select(\"Offence Level 2 Description\")\\\n",
    "    .collect()\n",
    "# transfer the column to a Python list\n",
    "level2List = [each[0] for each in dfGroupbyLevel2]\n",
    "# display the result\n",
    "print(\"The number of level 2 offences is {}.\".format(len(level2List)))\n",
    "print(level2List)"
   ]
  },
  {
   "cell_type": "markdown",
   "metadata": {},
   "source": [
    "#### - What is the number of offences against the person?"
   ]
  },
  {
   "cell_type": "code",
   "execution_count": 34,
   "metadata": {},
   "outputs": [
    {
     "name": "stdout",
     "output_type": "stream",
     "text": [
      "+---------------------------+------------------+\n",
      "|Offence Level 1 Description|sum(Offence Count)|\n",
      "+---------------------------+------------------+\n",
      "|       OFFENCES AGAINST ...|            175644|\n",
      "+---------------------------+------------------+\n",
      "\n"
     ]
    }
   ],
   "source": [
    "# group the dataset by \"Offence Level 1\" to classify the offences against property and person\n",
    "dfGroupbyLevel1 = df.groupby(\"Offence Level 1 Description\")\\\n",
    "    .sum(\"Offence Count\")\n",
    "\n",
    "# filter the \"Offences against the person\" to show the result\n",
    "dfGroupbyLevel1\\\n",
    "    .filter(\n",
    "        dfGroupbyLevel1[\"Offence Level 1 Description\"]==\"OFFENCES AGAINST THE PERSON\"\n",
    "    ).show()"
   ]
  },
  {
   "cell_type": "markdown",
   "metadata": {},
   "source": [
    "#### - How many serious criminal tresspasses with more than 1 offence count?"
   ]
  },
  {
   "cell_type": "code",
   "execution_count": 35,
   "metadata": {},
   "outputs": [
    {
     "name": "stdout",
     "output_type": "stream",
     "text": [
      "+---------------------------+------------------+\n",
      "|Offence Level 2 Description|sum(Offence Count)|\n",
      "+---------------------------+------------------+\n",
      "|       SERIOUS CRIMINAL ...|             18806|\n",
      "+---------------------------+------------------+\n",
      "\n"
     ]
    }
   ],
   "source": [
    "# filter the rows which are \"SERIOUS CRIMINAL TRESPASS\",\n",
    "# filter the \"Offence Count\" more than 1,\n",
    "# sum the \"Offence Count\" to get the result\n",
    "df.filter(df[\"Offence Level 2 Description\"] == \"SERIOUS CRIMINAL TRESPASS\")\\\n",
    "    .filter(df[\"Offence Count\"] > 1)\\\n",
    "    .select(\"Offence Level 2 Description\", \"Offence Count\")\\\n",
    "    .groupby(\"Offence Level 2 Description\")\\\n",
    "    .sum(\"Offence Count\").show()"
   ]
  },
  {
   "cell_type": "markdown",
   "metadata": {},
   "source": [
    "#### - What percentage of crimes are offences against the property?"
   ]
  },
  {
   "cell_type": "code",
   "execution_count": 36,
   "metadata": {},
   "outputs": [
    {
     "name": "stdout",
     "output_type": "stream",
     "text": [
      "+---------------------------+------------------+\n",
      "|Offence Level 1 Description|sum(Offence Count)|\n",
      "+---------------------------+------------------+\n",
      "|       OFFENCES AGAINST ...|            175644|\n",
      "|       OFFENCES AGAINST ...|            676526|\n",
      "+---------------------------+------------------+\n",
      "\n"
     ]
    }
   ],
   "source": [
    "# using the data frame in previous that group by Level 1\n",
    "dfGroupbyLevel1.show()"
   ]
  },
  {
   "cell_type": "code",
   "execution_count": 37,
   "metadata": {},
   "outputs": [
    {
     "name": "stdout",
     "output_type": "stream",
     "text": [
      "The percentage of offences against property is 79.39%\n"
     ]
    }
   ],
   "source": [
    "# extract the value and caluclate the percentage\n",
    "# for crimes against the person\n",
    "personCount = dfGroupbyLevel1.filter(\n",
    "    dfGroupbyLevel1[\"Offence Level 1 Description\"] == \"OFFENCES AGAINST THE PERSON\")\\\n",
    "    .select(\"sum(Offence Count)\")\\\n",
    "    .collect()[0][0]\n",
    "# for crimes against the property\n",
    "propertyCount = dfGroupbyLevel1.filter(\n",
    "    dfGroupbyLevel1[\"Offence Level 1 Description\"] == \"OFFENCES AGAINST PROPERTY\")\\\n",
    "    .select(\"sum(Offence Count)\")\\\n",
    "    .collect()[0][0]\n",
    "\n",
    "# calculate the percentage and display\n",
    "propertyPercentage = propertyCount / (personCount + propertyCount)\n",
    "print(\"The percentage of offences against property is {}%\"\n",
    "      .format(round(propertyPercentage*100, 2)))"
   ]
  },
  {
   "cell_type": "markdown",
   "metadata": {},
   "source": [
    "## Step 07: Exploratory data analysis"
   ]
  },
  {
   "cell_type": "markdown",
   "metadata": {},
   "source": [
    "#### -  Find the number of crimes per year.\n",
    "Prepare the data that used for plot."
   ]
  },
  {
   "cell_type": "code",
   "execution_count": 38,
   "metadata": {},
   "outputs": [
    {
     "name": "stderr",
     "output_type": "stream",
     "text": [
      "[Stage 136:==========================================>              (6 + 2) / 8]"
     ]
    },
    {
     "name": "stdout",
     "output_type": "stream",
     "text": [
      "+----+------+\n",
      "|Year| Count|\n",
      "+----+------+\n",
      "|2010| 61402|\n",
      "|2011|122204|\n",
      "|2012|112962|\n",
      "|2013|106782|\n",
      "|2014|101750|\n",
      "|2015|105656|\n",
      "|2016|107593|\n",
      "|2017| 50159|\n",
      "|2018| 55758|\n",
      "|2019| 27904|\n",
      "+----+------+\n",
      "\n"
     ]
    },
    {
     "name": "stderr",
     "output_type": "stream",
     "text": [
      "                                                                                \r"
     ]
    }
   ],
   "source": [
    "# make the dates displayed as years,\n",
    "# group the data by \"Year\" to get the sum of the number of crimes,\n",
    "# sort the result by \"Year\"\n",
    "dfGroupbyYear = dfFixed\\\n",
    "    .select(F.date_format(\"Reported Date\", \"yyyy\").alias(\"Year\"), \"Offence Count\")\\\n",
    "    .groupby(\"Year\")\\\n",
    "    .sum(\"Offence Count\")\\\n",
    "    .withColumnRenamed(\"sum(Offence Count)\", \"Count\")\\\n",
    "    .sort(F.asc(\"Year\"))\n",
    "# display the result\n",
    "dfGroupbyYear.show()"
   ]
  },
  {
   "cell_type": "code",
   "execution_count": 39,
   "metadata": {
    "tags": []
   },
   "outputs": [
    {
     "name": "stderr",
     "output_type": "stream",
     "text": [
      "                                                                                \r"
     ]
    },
    {
     "data": {
      "image/png": "[encoded data removed]",
      "text/plain": [
       "<Figure size 432x288 with 1 Axes>"
      ]
     },
     "metadata": {
      "needs_background": "light"
     },
     "output_type": "display_data"
    }
   ],
   "source": [
    "# define a function used for transfer the column to a Python list\n",
    "def extractColumn(dataFrame, column):\n",
    "    return [row[column] for row in dataFrame.collect()]\n",
    "\n",
    "# get the year and the crimes count for each year\n",
    "yearList = extractColumn(dfGroupbyYear, \"Year\")\n",
    "yearCountList = extractColumn(dfGroupbyYear, \"Count\")\n",
    "\n",
    "# plot\n",
    "plt.figure()\n",
    "plt.plot(yearList, yearCountList)\n",
    "# other configurations\n",
    "plt.title(\"The Number of Crimes Per Year\")\n",
    "plt.xlabel(\"Year\")\n",
    "plt.ylabel(\"The Number of Crimes\")\n",
    "plt.show()"
   ]
  },
  {
   "cell_type": "markdown",
   "metadata": {},
   "source": [
    "The numbers of crimes in 2010, 2017, 2018 and 2019 are very low compare with others, which is strange. That is because, the dataset contains the data from 01/07/2010, so for 2010, there is only 6 months are included, which is lower than 12 months. Also, the data between 01/07/2017 to 30/06/2018 is lost, causing the value in 2017 and 2019 is low than others. Besides, 2019 also only contains the data from 01/01/2019 to 31/03/2019, which causes the similar result that makes the value of 2019 is lower than it should be."
   ]
  },
  {
   "cell_type": "markdown",
   "metadata": {},
   "source": [
    "#### - Find the number of crimes per month."
   ]
  },
  {
   "cell_type": "code",
   "execution_count": 40,
   "metadata": {},
   "outputs": [
    {
     "name": "stderr",
     "output_type": "stream",
     "text": [
      "[Stage 146:>                                                        (0 + 8) / 8]"
     ]
    },
    {
     "name": "stdout",
     "output_type": "stream",
     "text": [
      "+-----+-----+\n",
      "|Month|Count|\n",
      "+-----+-----+\n",
      "|   01|77516|\n",
      "|   02|70429|\n",
      "|   03|74931|\n",
      "|   04|60037|\n",
      "|   05|64246|\n",
      "|   06|60687|\n",
      "|   07|70954|\n",
      "|   08|72839|\n",
      "|   09|72595|\n",
      "|   10|77153|\n",
      "|   11|75191|\n",
      "|   12|75592|\n",
      "+-----+-----+\n",
      "\n"
     ]
    },
    {
     "name": "stderr",
     "output_type": "stream",
     "text": [
      "                                                                                \r"
     ]
    }
   ],
   "source": [
    "# make the dates displayed as yyyy/MM,\n",
    "# group the data by \"Month\" to get the sum of the number of crimes,\n",
    "# sort the result by \"Month\"\n",
    "dfGroupbyMonth = dfFixed\\\n",
    "    .select(F.date_format(\"Reported Date\", \"MM\").alias(\"Month\"), \"Offence Count\")\\\n",
    "    .groupby(\"Month\")\\\n",
    "    .sum(\"Offence Count\")\\\n",
    "    .withColumnRenamed(\"sum(Offence Count)\", \"Count\")\\\n",
    "    .sort(F.asc(\"Month\"))\n",
    "# display the result\n",
    "dfGroupbyMonth.show()"
   ]
  },
  {
   "cell_type": "code",
   "execution_count": 41,
   "metadata": {
    "tags": []
   },
   "outputs": [
    {
     "name": "stderr",
     "output_type": "stream",
     "text": [
      "                                                                                \r"
     ]
    },
    {
     "data": {
      "image/png": "[encoded data removed]",
      "text/plain": [
       "<Figure size 432x288 with 1 Axes>"
      ]
     },
     "metadata": {
      "needs_background": "light"
     },
     "output_type": "display_data"
    }
   ],
   "source": [
    "# get the year and the crimes count for each year\n",
    "monthList = extractColumn(dfGroupbyMonth, \"Month\")\n",
    "monthCountList = extractColumn(dfGroupbyMonth, \"Count\")\n",
    "\n",
    "# plot\n",
    "plt.figure()\n",
    "plt.bar(monthList, monthCountList)\n",
    "# other configurations\n",
    "plt.title(\"The Number of Crimes Per Month\")\n",
    "plt.xlabel(\"Date\")\n",
    "plt.ylabel(\"The Number of Crimes\")\n",
    "plt.show()"
   ]
  },
  {
   "cell_type": "markdown",
   "metadata": {},
   "source": [
    "From the output, most months except April, May and June have similar crimes frequency. The highest one is January, which reach the maximum at 77516, and the lowest one is April, where the number of crimes is 60037. "
   ]
  },
  {
   "cell_type": "markdown",
   "metadata": {},
   "source": [
    "#### - Where do most crimes take place?"
   ]
  },
  {
   "cell_type": "code",
   "execution_count": 42,
   "metadata": {},
   "outputs": [],
   "source": [
    "# define a function to merge the suburb name and post code\n",
    "# this syntax only is available after Python 3.6 (Python, 2019)\n",
    "# def joinSuburbName(suburb, postCode):\n",
    "def joinSuburbName(suburb: str, postCode: str) -> str:\n",
    "    return suburb + \"-\" + postCode\n",
    "\n",
    "# register the function as UDF \n",
    "joinSuburbNameUDF = F.udf(joinSuburbName, pyspark.sql.types.StringType())"
   ]
  },
  {
   "cell_type": "code",
   "execution_count": 43,
   "metadata": {},
   "outputs": [
    {
     "name": "stderr",
     "output_type": "stream",
     "text": [
      "[Stage 156:=======>                                                 (1 + 7) / 8]"
     ]
    },
    {
     "name": "stdout",
     "output_type": "stream",
     "text": [
      "+--------------------+------------------+\n",
      "|      SuburbPostCode|sum(Offence Count)|\n",
      "+--------------------+------------------+\n",
      "|       ADELAIDE-5000|             46701|\n",
      "|   PORT AUGUSTA-5700|             13711|\n",
      "|  MOUNT GAMBIER-5290|             13709|\n",
      "|  MURRAY BRIDGE-5253|             12919|\n",
      "|  MORPHETT VALE-5162|             12569|\n",
      "|      SALISBURY-5108|             10806|\n",
      "|   PORT LINCOLN-5606|             10779|\n",
      "|      ELIZABETH-5112|             10731|\n",
      "|NOT DISCLOSED-NOT...|              9375|\n",
      "|   DAVOREN PARK-5113|              8082|\n",
      "|PARAFIELD GARDENS...|              8040|\n",
      "|  OAKLANDS PARK-5046|              7792|\n",
      "|      PARALOWIE-5108|              7261|\n",
      "|       PROSPECT-5082|              7234|\n",
      "|     PORT PIRIE-5540|              7155|\n",
      "|        MODBURY-5092|              7041|\n",
      "|     SMITHFIELD-5114|              7000|\n",
      "|SALISBURY NORTH-5108|              6538|\n",
      "| WHYALLA STUART-5608|              6297|\n",
      "|   MAWSON LAKES-5095|              6103|\n",
      "+--------------------+------------------+\n",
      "only showing top 20 rows\n",
      "\n"
     ]
    },
    {
     "name": "stderr",
     "output_type": "stream",
     "text": [
      "                                                                                \r"
     ]
    }
   ],
   "source": [
    "# firstly, filter the null value from the dataset,\n",
    "# secondly, join the name of suburb and postcode,\n",
    "# thirdly, group by suburb to get the sum of offence count for each suburb\n",
    "dfGroupbySuburb = dfFixed\\\n",
    "    .filter(dfFixed[\"Postcode - Incident\"].isNotNull())\\\n",
    "    .filter(dfFixed[\"Suburb - Incident\"].isNotNull())\\\n",
    "    .withColumn(\"SuburbPostCode\", joinSuburbNameUDF(dfFixed[\"Suburb - Incident\"],\n",
    "                                                    dfFixed[\"Postcode - Incident\"]))\\\n",
    "    .select(\"SuburbPostCode\", \"Offence Count\")\\\n",
    "    .groupby(\"SuburbPostCode\")\\\n",
    "    .sum(\"Offence Count\")\\\n",
    "    .sort(F.desc(\"sum(Offence Count)\"))\n",
    "\n",
    "# display the result\n",
    "dfGroupbySuburb.show(20)"
   ]
  },
  {
   "cell_type": "markdown",
   "metadata": {},
   "source": [
    "From the output, there are some strange in the plot.\n",
    "1. The value of \"ADELAIDE\" is too high. After investigation, the \"ADELAIDE\" is a city rather than a suburb, so it should be deleted.\n",
    "2. There is a suburb named \"NOT DISCLOSED\" which is meaningless in the plot, so it should be deleted."
   ]
  },
  {
   "cell_type": "markdown",
   "metadata": {},
   "source": [
    "Then, plot a bar chart to visualize the data."
   ]
  },
  {
   "cell_type": "code",
   "execution_count": 44,
   "metadata": {
    "tags": []
   },
   "outputs": [
    {
     "name": "stderr",
     "output_type": "stream",
     "text": [
      "                                                                                \r"
     ]
    },
    {
     "data": {
      "image/png": "[encoded data removed]",
      "text/plain": [
       "<Figure size 1152x288 with 1 Axes>"
      ]
     },
     "metadata": {
      "needs_background": "light"
     },
     "output_type": "display_data"
    }
   ],
   "source": [
    "# filter the rows which are not \"ADELAIDE\" and \"NOT DISCLOSED\"\n",
    "dfGroupbySuburbFixed = dfGroupbySuburb\\\n",
    "    .filter(dfGroupbySuburb[\"SuburbPostCode\"] != \"ADELAIDE-5000\")\\\n",
    "    .filter(dfGroupbySuburb[\"SuburbPostCode\"] != \"NOT DISCLOSED-NOT DISCLOSED\")\n",
    "\n",
    "# get the list of top 20 suburbs with most crimes\n",
    "suburbList = extractColumn(dfGroupbySuburbFixed, \"SuburbPostCode\")[:20]\n",
    "suburbCountList = extractColumn(dfGroupbySuburbFixed, \"sum(Offence Count)\")[:20]\n",
    "# get a position array for x-axis\n",
    "suburbPosition = np.arange(len(suburbList))\n",
    "\n",
    "# plot\n",
    "plt.figure(figsize=(16,4))\n",
    "plt.bar(suburbPosition, suburbCountList)\n",
    "plt.xticks(suburbPosition, suburbList, rotation=20)\n",
    "# other configurations\n",
    "plt.title(\"The Number of Crimes in Top 20 Suburbs\")\n",
    "plt.xlabel(\"Suburb\")\n",
    "plt.ylabel(\"The Number of Crimes\")\n",
    "plt.show()"
   ]
  },
  {
   "cell_type": "markdown",
   "metadata": {},
   "source": [
    "From the output after fixing the error data, the suburb with highest number of crimes is PORT AUGUSTA, and the second one, MOUNT GAMBIER has similar level with the previous one, about 13700. The suburb which ranked 15, NOARLUNGA CENTRE, only has about 6000 crimes in the dataset, which is about half of the highest suburb."
   ]
  },
  {
   "cell_type": "markdown",
   "metadata": {},
   "source": [
    "#### - Find the number of serious criminal trespasses by day and month."
   ]
  },
  {
   "cell_type": "code",
   "execution_count": 45,
   "metadata": {},
   "outputs": [
    {
     "name": "stderr",
     "output_type": "stream",
     "text": [
      "                                                                                \r"
     ]
    },
    {
     "name": "stdout",
     "output_type": "stream",
     "text": [
      "+------+---+------------------+\n",
      "|DayNum|Day|sum(Offence Count)|\n",
      "+------+---+------------------+\n",
      "|     1|Mon|             20050|\n",
      "|     2|Tue|             17148|\n",
      "|     3|Wed|             16203|\n",
      "|     4|Thu|             15978|\n",
      "|     5|Fri|             16821|\n",
      "|     6|Sat|             14065|\n",
      "|     7|Sun|             14914|\n",
      "+------+---+------------------+\n",
      "\n",
      "+-----+------------------+\n",
      "|Month|sum(Offence Count)|\n",
      "+-----+------------------+\n",
      "|   01|             10407|\n",
      "|   02|              9259|\n",
      "|   03|              9845|\n",
      "|   04|              8147|\n",
      "|   05|              8842|\n",
      "|   06|              8257|\n",
      "|   07|              9766|\n",
      "|   08|              9823|\n",
      "|   09|             10112|\n",
      "|   10|             10804|\n",
      "|   11|             10077|\n",
      "|   12|              9840|\n",
      "+-----+------------------+\n",
      "\n"
     ]
    },
    {
     "name": "stderr",
     "output_type": "stream",
     "text": [
      "                                                                                \r"
     ]
    }
   ],
   "source": [
    "# record the serious criminal trespasses as SCT\n",
    "# filter the rows which are \"SERIOUS CRIMINAL TRESPASS\"\n",
    "dfSCT = dfFixed.filter(dfFixed[\"Offence Level 2 Description\"] == \"SERIOUS CRIMINAL TRESPASS\")\n",
    "# group the data by day, and count the number of crimes\n",
    "dfSCTGroupbyDay = dfSCT\\\n",
    "    .select(F.date_format(\"Reported Date\", \"u\").alias(\"DayNum\"), \n",
    "            F.date_format(\"Reported Date\", \"E\").alias(\"Day\"), \n",
    "            \"Offence Count\")\\\n",
    "    .groupby(\"DayNum\", \"Day\")\\\n",
    "    .sum(\"Offence Count\")\\\n",
    "    .sort(F.asc(\"DayNum\"))\n",
    "# group the data by month, and count the number of crimes\n",
    "dfSCTGroupbyMonth = dfSCT\\\n",
    "    .select(F.date_format(\"Reported Date\", \"MM\").alias(\"Month\"), \"Offence Count\")\\\n",
    "    .groupby(\"Month\")\\\n",
    "    .sum(\"Offence Count\")\\\n",
    "    .sort(F.asc(\"Month\"))\n",
    "\n",
    "# display the result\n",
    "dfSCTGroupbyDay.show()\n",
    "dfSCTGroupbyMonth.show()"
   ]
  },
  {
   "cell_type": "code",
   "execution_count": 46,
   "metadata": {},
   "outputs": [
    {
     "name": "stderr",
     "output_type": "stream",
     "text": [
      "                                                                                \r"
     ]
    },
    {
     "data": {
      "image/png": "[encoded data removed]",
      "text/plain": [
       "<Figure size 432x288 with 1 Axes>"
      ]
     },
     "metadata": {
      "needs_background": "light"
     },
     "output_type": "display_data"
    }
   ],
   "source": [
    "# get the lists of days and the number of crimes for each days\n",
    "countByDay = extractColumn(dfSCTGroupbyDay, \"sum(Offence Count)\")\n",
    "dayList = extractColumn(dfSCTGroupbyDay, \"Day\")\n",
    "dayPosition = extractColumn(dfSCTGroupbyDay, \"DayNum\")\n",
    "\n",
    "# plot\n",
    "plt.figure()\n",
    "plt.bar(dayPosition, countByDay)\n",
    "plt.xticks(dayPosition, dayList)\n",
    "# other configurations\n",
    "plt.title(\"The Number of Serious Criminal Trespass by Day\")\n",
    "plt.xlabel(\"Day\")\n",
    "plt.ylabel(\"The Number of Criminal Trespass\")\n",
    "plt.show()"
   ]
  },
  {
   "cell_type": "markdown",
   "metadata": {},
   "source": [
    "From the output, Monday is the day has highest number of serious criminal trespass, reaching 20050, and the Saturday is the lowest one, accounting for 14065. The two lowest day is Saturday and Sunday, which means the crimes more happens in weekdays."
   ]
  },
  {
   "cell_type": "code",
   "execution_count": 47,
   "metadata": {
    "tags": []
   },
   "outputs": [
    {
     "data": {
      "image/png": "[encoded data removed]",
      "text/plain": [
       "<Figure size 432x288 with 1 Axes>"
      ]
     },
     "metadata": {
      "needs_background": "light"
     },
     "output_type": "display_data"
    }
   ],
   "source": [
    "# get the lists of months and the number of crimes for each months\n",
    "countByMonth = extractColumn(dfSCTGroupbyMonth, \"sum(Offence Count)\")\n",
    "monthList = extractColumn(dfSCTGroupbyMonth, \"Month\")\n",
    "\n",
    "# plot\n",
    "plt.figure()\n",
    "plt.bar(monthList, countByMonth)\n",
    "# other configurations\n",
    "plt.title(\"The Number of Serious Criminal Trespass by Month\")\n",
    "plt.xlabel(\"Month\")\n",
    "plt.ylabel(\"The Number of Criminal Trespass\")\n",
    "plt.show()"
   ]
  },
  {
   "cell_type": "markdown",
   "metadata": {},
   "source": [
    "From the output, the April has the lowest number of serious criminal trespass, which is about 8147, and the October is the highest one, accounting for 10804. "
   ]
  },
  {
   "cell_type": "markdown",
   "metadata": {
    "tags": []
   },
   "source": [
    "## Reference\n",
    "1. databricks. (2019). User-Defined Functions - Python — Databricks Documentation. Retrieved 4 September 2019, from https://docs.databricks.com/spark/latest/spark-sql/udf-python.html\n",
    "2. pyspark. (2019). pyspark.sql module — PySpark 2.1.0 documentation. Retrieved 4 September 2019, from https://spark.apache.org/docs/2.1.0/api/python/pyspark.sql.html\n",
    "3. Python. (2019). PEP 3107 -- Function Annotations. Retrieved 4 September 2019, from https://www.python.org/dev/peps/pep-3107/\n",
    "4. zero323. (2019). inferSchema in spark-csv package. Retrieved 4 September 2019, from https://stackoverflow.com/questions/31719575/inferschema-in-spark-csv-package\n",
    "5. matplotlib. (2019). matplotlib.pyplot.legend — Matplotlib 3.1.1 documentation. Retrieved 4 September 2019, from https://matplotlib.org/3.1.1/api/_as_gen/matplotlib.pyplot.legend.html\n",
    "6. matplotlib. (2019). matplotlib.pyplot.yscale — Matplotlib 3.1.1 documentation. Retrieved 4 September 2019, from https://matplotlib.org/3.1.1/api/_as_gen/matplotlib.pyplot.yscale.html\n",
    "7. pyspark. (2019). pyspark package — PySpark 2.2.1 documentation. Retrieved 1 September 2019, from https://spark.apache.org/docs/2.2.1/api/python/pyspark.html?highlight=flatmap#pyspark.RDD.flatMap\n",
    "8. pyspark. (2019). pyspark package — PySpark 2.4.4 documentation. Retrieved 4 September 2019, from https://spark.apache.org/docs/latest/api/python/pyspark.html?highlight=reducebykey\n",
    "9. Upadhyay, P. (2019). Removing stop words with NLTK in Python - GeeksforGeeks. Retrieved 4 September 2019, from https://www.geeksforgeeks.org/removing-stop-words-nltk-python/"
   ]
  }
 ],
 "metadata": {
  "kernelspec": {
   "display_name": "helloworld",
   "language": "python",
   "name": "helloworld"
  },
  "language_info": {
   "codemirror_mode": {
    "name": "ipython",
    "version": 3
   },
   "file_extension": ".py",
   "mimetype": "text/x-python",
   "name": "python",
   "nbconvert_exporter": "python",
   "pygments_lexer": "ipython3",
   "version": "3.7.11"
  }
 },
 "nbformat": 4,
 "nbformat_minor": 4
}
