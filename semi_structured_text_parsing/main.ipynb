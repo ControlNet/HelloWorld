{
 "cells": [
  {
   "cell_type": "markdown",
   "metadata": {},
   "source": [
    "# Semi-Structured Text Data Parsing\n",
    "\n",
    "Version: 4.0\n",
    "\n",
    "Environment: Python 3.7 and Jupyter notebook\n",
    "\n",
    "Libraries used:\n",
    "* pandas (for dataframe, included in Anaconda Python 3.7) \n",
    "* re (for regular expression, included in Anaconda Python 3.7) \n",
    "* json (for save json file, included in Anaconda Python 3.7)"
   ]
  },
  {
   "cell_type": "markdown",
   "metadata": {},
   "source": [
    "## 1. Introduction\n",
    "This project is aim to extract data from semi-structured text files. There are 150 patents in the file named `data.txt`. <b>The following tasks are what need to be finished:</b>\n",
    "\n",
    "\n",
    "- Extract grant_id, patent_kind, patent_title, number_of_claims, citations_examiner_count, citations_applicant_count,inventors, claims_text and abstrct from the `data.txt` \n",
    "- Then transform all these data into a csv file and json file.\n",
    "\n",
    "More details for the task will be given in the following sections."
   ]
  },
  {
   "cell_type": "markdown",
   "metadata": {},
   "source": [
    "## 2.  Import libraries "
   ]
  },
  {
   "cell_type": "code",
   "execution_count": 1,
   "metadata": {},
   "outputs": [],
   "source": [
    "import pandas as pd\n",
    "import re\n",
    "import json"
   ]
  },
  {
   "cell_type": "markdown",
   "metadata": {},
   "source": [
    "## 3. Examining and loading data\n",
    "At first step, the file `data.txt` will be explored and print 10 lines below."
   ]
  },
  {
   "cell_type": "code",
   "execution_count": 2,
   "metadata": {},
   "outputs": [
    {
     "name": "stdout",
     "output_type": "stream",
     "text": [
      "<?xml version=\"1.0\" encoding=\"UTF-8\"?>\n",
      "\n",
      "<us-patent-grant lang=\"EN\" dtd-version=\"v4.5 2014-04-03\" file=\"US10357261-20190723.XML\" status=\"PRODUCTION\" id=\"us-patent-grant\" country=\"US\" date-produced=\"20190709\" date-publ=\"20190723\">\n",
      "\n",
      "<us-bibliographic-data-grant>\n",
      "\n",
      "<publication-reference>\n",
      "\n",
      "<document-id>\n",
      "\n",
      "<country>US</country>\n",
      "\n",
      "<doc-number>10357261</doc-number>\n",
      "\n",
      "<kind>B2</kind>\n",
      "\n",
      "<date>20190723</date>\n",
      "\n",
      "</document-id>\n",
      "\n"
     ]
    }
   ],
   "source": [
    "with open('data.txt','r') as input_file:\n",
    "    for i in range(10):\n",
    "        print(input_file.readline())"
   ]
  },
  {
   "cell_type": "markdown",
   "metadata": {},
   "source": [
    "According to the first XML document, there is a XML declaration which is `<?xml...?>`. In addition, `<us-patent-grant...>` is a root tag which can help us to identify each patent. Based on these information, extracing every XML individually is feasible.\n",
    "\n",
    "The number of the XML declaration is able to ascertain how many patents are contained in the file. Therefore, the regex for `<?xml...?>` is defined. `?`, `version=` and `\"?` are exist in each xml declaraton, but there a special meaning for `?`. The `\\` is necessary to allow the `?` to be used without special meaning.\n",
    "\n",
    "```python\n",
    "regex = r'<\\?xml version=\".+?\" encoding=\".+?\"\\?>'\n",
    "```\n",
    "`version` and `encoding=` are followed by any characters, so the non-greedy pattern `.+?` is applied here (Python, 2019).\n",
    "\n",
    "Here the built-in function `re.findall()` is used to find all matched contents as a list returned (Python, 2019). "
   ]
  },
  {
   "cell_type": "code",
   "execution_count": 3,
   "metadata": {},
   "outputs": [
    {
     "name": "stdout",
     "output_type": "stream",
     "text": [
      "150\n"
     ]
    }
   ],
   "source": [
    "with open('data.txt','r') as input_file:\n",
    "    text = input_file.read()\n",
    "regex = r'<\\?xml version=\".+?\" encoding=\".+?\"\\?>'\n",
    "print(len(re.findall(regex, text)))\n"
   ]
  },
  {
   "cell_type": "markdown",
   "metadata": {},
   "source": [
    "It seems the txt file is merged by 150 xml files with xml format. Therefore, one of the xml part should be printed to examine. \n",
    "\n",
    "Every XML document has only one XML declaration. The whole strings is suitable to be divided into 150 parts by the declaration. Here, re.split is used to divide all contents and the result is a list of strings(patents) and using filter() to avoide existing an empty elements in the list. \n"
   ]
  },
  {
   "cell_type": "code",
   "execution_count": 4,
   "metadata": {},
   "outputs": [
    {
     "name": "stdout",
     "output_type": "stream",
     "text": [
      "150\n"
     ]
    }
   ],
   "source": [
    "xmls = re.split(regex, text)\n",
    "xmls = list(filter(lambda x:x!='', xmls)) # filter the element which is not blank\n",
    "print(len(xmls))\n"
   ]
  },
  {
   "cell_type": "markdown",
   "metadata": {},
   "source": [
    "The list `xmls` is a list of strins with length 150. In this case, the first one is chosen to inspect.\n"
   ]
  },
  {
   "cell_type": "code",
   "execution_count": 5,
   "metadata": {},
   "outputs": [
    {
     "name": "stdout",
     "output_type": "stream",
     "text": [
      "\n",
      "<us-patent-grant lang=\"EN\" dtd-version=\"v4.5 2014-04-03\" file=\"US10357261-20190723.XML\" status=\"PRODUCTION\" id=\"us-patent-grant\" country=\"US\" date-produced=\"20190709\" date-publ=\"20190723\">\n",
      "<us-bibliographic-data-grant>\n",
      "<publication-reference>\n",
      "<document-id>\n",
      "<country>US</country>\n",
      "<doc-number>10357261</doc-number>\n",
      "<kind>B2</kind>\n",
      "<date>20190723</date>\n",
      "</document-id>\n",
      "</publication-reference>\n",
      "<application-reference appl-type=\"utility\">\n",
      "<document-id>\n",
      "<country>US</country>\n",
      "<doc-number>15171829</doc-number>\n",
      "<date>20160602</date>\n",
      "</document-id>\n",
      "</application-reference>\n",
      "<us-application-series-code>15</us-application-series-code>\n",
      "<us-term-of-grant>\n",
      "<us-term-extension>601</us-term-extension>\n",
      "</us-term-of-grant>\n",
      "<classifications-ipcr>\n",
      "<classification-ipcr>\n",
      "<ipc-version-indicator><date>20060101</date></ipc-version-indicator>\n",
      "<classification-level>A</classification-level>\n",
      "<section>A</section>\n",
      "<class>61</class>\n",
      "<subclass>B</subclass>\n",
      "<main-group>17</main-group>\n",
      "<subgroup>17</subgroup>\n",
      "<symbol-positio\n"
     ]
    }
   ],
   "source": [
    "xml_example = xmls[0]\n",
    "print(xml_example[:1000])"
   ]
  },
  {
   "cell_type": "markdown",
   "metadata": {},
   "source": [
    "## 4. XML parser design\n",
    "\n",
    "The data of belows should be extracted:\n",
    "* grant_id: a unique ID for a patent grant consisting of alphanumeric characters. \n",
    "* patent_kind: a category to which the patent grant belongs. \n",
    "* patent_title: a title given by the inventor to the patent claim.\n",
    "* number_of_claims:  an integer denoting the number of claims for a given grant. \n",
    "* citations_examiner_count: an integer denoting the number of citations made by the examiner for a given patent grant (0 if None)\n",
    "* citations_applicant_count: an integer denoting the number of citations made by the applicant for a given patent grant (0 if None)\n",
    "* inventors: a list of the patent inventors’ names ([NA] if the value is Null).\n",
    "* claims_text: a list of claim texts for the different patent claims ([NA] if the value is Null).\n",
    "* abstract: the patent abstract text (‘NA’ if the value is Null)\n",
    "\n",
    "Every parsed data contains above information, therefore creating a list for every data is necessary. The method to_attribute_list is created within the class."
   ]
  },
  {
   "cell_type": "markdown",
   "metadata": {},
   "source": [
    "For building the json file needed, the json_dict is set for it. As for more details, see 5.3 please.\n",
    "```python\n",
    "    json_dict = {}\n",
    "```"
   ]
  },
  {
   "cell_type": "markdown",
   "metadata": {},
   "source": [
    "A class for store these data is created."
   ]
  },
  {
   "cell_type": "code",
   "execution_count": 6,
   "metadata": {},
   "outputs": [],
   "source": [
    "class Data:\n",
    "    json_dict = {}\n",
    "    \n",
    "    def __init__(self, grant_id, patent_title, kind, number_of_claims, inventors, citations_applicant_count,\n",
    "                 citations_examiner_count, claims_text, abstract):\n",
    "        # constructor\n",
    "        self.grant_id = grant_id\n",
    "        self.patent_title = patent_title\n",
    "        self.kind = kind\n",
    "        self.number_of_claims = number_of_claims\n",
    "        self.inventors = inventors\n",
    "        self.citations_applicant_count = citations_applicant_count\n",
    "        self.citations_examiner_count = citations_examiner_count\n",
    "        self.claims_text = claims_text\n",
    "        self.abstract = abstract\n",
    "        Data.json_dict[self.grant_id] = self.to_json_dict()\n",
    "\n",
    "    @staticmethod\n",
    "    def build_data_from_xml(xml):\n",
    "        # build object of Data class from given xml format text\n",
    "        # these functions used will be defined below\n",
    "        grant_id = extract_grant_id(xml)  # see 4.1\n",
    "        patent_title = extract_patent_title(xml)  # see 4.2\n",
    "        kind = extract_kind(xml)  # see 4.3\n",
    "        number_of_claims = extract_number_of_claims(xml)  # see 4.4\n",
    "        inventors = extract_inventors(xml)  # see 4.5\n",
    "        citations_applicant_count, citations_examiner_count = extract_citations_count(xml)  # see 4.6\n",
    "        claims_text = extract_claims_text(xml)  # see 4.7\n",
    "        abstract = extract_abstract(xml)  # see 4.8\n",
    "        return Data(grant_id, patent_title, kind, number_of_claims, inventors, citations_applicant_count,\n",
    "                    citations_examiner_count, claims_text, abstract)\n",
    "\n",
    "    def to_attribute_list(self):\n",
    "        # generate the elements for each Data object\n",
    "        attribute_list = [self.grant_id,\n",
    "                          self.patent_title,\n",
    "                          self.kind,\n",
    "                          self.number_of_claims,\n",
    "                          self.inventors,\n",
    "                          self.citations_applicant_count,\n",
    "                          self.citations_examiner_count,\n",
    "                          self.claims_text,\n",
    "                          self.abstract]\n",
    "        return attribute_list\n",
    "    \n",
    "    def to_json_dict(self):\n",
    "        # generate the value of json_dict for each Data object\n",
    "        return {\n",
    "            \"patent_title\": self.patent_title,\n",
    "            \"kind\": self.kind,\n",
    "            \"number_of_claims\": int(self.number_of_claims),\n",
    "            \"investors\": self.inventors,\n",
    "            \"citations_applicant_count\": int(self.citations_applicant_count),\n",
    "            \"citations_examiner_count\": int(self.citations_examiner_count),\n",
    "            \"claims_text\": self.claims_text,\n",
    "            \"abstract\": self.abstract\n",
    "        }"
   ]
  },
  {
   "cell_type": "markdown",
   "metadata": {},
   "source": [
    "### 4.1 Extract grant_id\n",
    "Comparing between `sample_input.txt` and `sample_output.csv`, the grant_id is in the file tag for each XML files. For instance:\n",
    "\n",
    "`<us-patent-grant lang=\"EN\" dtd-version=\"v4.5 2014-04-03\" file=\"US10357261-20190723.XML\" status=\"PRODUCTION\" id=\"us-patent-grant\" country=\"US\" date-produced=\"20190709\" date-publ=\"20190723\">`\n",
    "\n",
    "```python\n",
    "    regex = r'<us-patent-grant.+?file=\"(.+?)\".+?>'\n",
    "```\n",
    "\n",
    "The ID is in the double quote which is following `file=`, grouping is used here for extracting the ID. The information after `file=\"US10357261-20190723.XML` can be any character, so non-greedy pattern `.+?` is used here. Besides, the ID information is alphanumeric characters. \n",
    "\n",
    "Here the built-in function `re.search()` is used for search the matched sub-string and use index 1 to get the value of it (Python, 2019).\n",
    "\n",
    "After getting the value from by regular expression, next step is to extract the grant id. According to the `asmaple_inpt.txt` and `sample_output.csv` the ID is the alphanumeric characters before `-` (\"US10357261-20190723.XML\").\n",
    "\n",
    "In `file=\"US10357261-20190723.XML\"`, the `US10357261` is the grant_id.\n",
    "\n",
    "Using `-` to split the sting within the group#1 is feasible the get the grant_id which is in index 0 of grant_id list. (Python, 2019)"
   ]
  },
  {
   "cell_type": "code",
   "execution_count": 7,
   "metadata": {},
   "outputs": [
    {
     "name": "stdout",
     "output_type": "stream",
     "text": [
      "US10357261\n"
     ]
    }
   ],
   "source": [
    "def extract_grant_id(xml):\n",
    "    regex = r'<us-patent-grant.+?file=\"(.+?)\".+?>'\n",
    "    value = re.search(regex, xml)[1]\n",
    "    grant_id = value.split(\"-\")[0]\n",
    "    return grant_id\n",
    "\n",
    "grant_id = extract_grant_id(xml_example)\n",
    "print(grant_id)"
   ]
  },
  {
   "cell_type": "markdown",
   "metadata": {},
   "source": [
    "### 4.2 Extract patent_title\n",
    "Using the same method, the patent titie is in the \"invention_title\" tag. For instance:\n",
    "\n",
    "`<invention-title id=\"d2e53\">Single-use orthopedic surgical instrument</invention-title>`\n",
    "\n",
    "The text in the middle is the content need to be extracted. So, the regular expression is defined below.\n",
    "\n",
    "```python\n",
    "    regex = r'<invention-title id=\".+?\">(.+?)<\\/invention-title>'\n",
    "```\n",
    "\n",
    "`<invention-title id=\"` + any character  + `\">` + any character + `</invention-title>` should be the structure of regex. The second any character would be the patent_title, so grouping the  contents is necessary, and there is a `/` in `</invention-title>`, therefore `/` should be applied here to making the `/` without special meaning. (Python, 2019)\n",
    "\n",
    "Here the built-in function `re.search()` is also used for search the matched sub-string and use index 1 to get the value of it (Python, 2019)."
   ]
  },
  {
   "cell_type": "code",
   "execution_count": 8,
   "metadata": {},
   "outputs": [
    {
     "name": "stdout",
     "output_type": "stream",
     "text": [
      "Single-use orthopedic surgical instrument\n"
     ]
    }
   ],
   "source": [
    "def extract_patent_title(xml):\n",
    "    regex = r'<invention-title id=\".+?\">(.+?)<\\/invention-title>'\n",
    "    patent_title = re.search(regex, xml)[1]\n",
    "    return patent_title\n",
    "\n",
    "patent_title = extract_patent_title(xml_example)\n",
    "print(patent_title)"
   ]
  },
  {
   "cell_type": "markdown",
   "metadata": {},
   "source": [
    "### 4.3 Extract patent_type\n"
   ]
  },
  {
   "cell_type": "markdown",
   "metadata": {},
   "source": [
    "\n",
    "The type of patent is stored inside the first \"kind\" tag, which are presented as a code, such as \"A\" and \"B1\". For this situation, it should be transfored to more detailed value like the output sample. According to USPTO Kind Codes(2019), the kind codes are \"A1\",\"B1\",\"B2\" or \"S1\" etc. Hence, creating a dictionary to transfer the code into specific informtaion is a suitable method.\n",
    "\n",
    "Using the same method, the patent kind code is in the \"kind\" tag. For instance:\n",
    "\n",
    "`<kind>B2</kind>`\n",
    "\n",
    "Therefore, using the similar pattern like 4.2 is the suitable way. The regex is showed below.\n",
    "```python\n",
    "    regex = r'<kind>(.*?)</kind>'\n",
    "```\n",
    "\n",
    "Here the built-in function `re.search()` is used for search the matched sub-string and use index 1 to get the value of it (Python, 2019).\n",
    "\n",
    "The code is implemented below."
   ]
  },
  {
   "cell_type": "code",
   "execution_count": 9,
   "metadata": {},
   "outputs": [
    {
     "name": "stdout",
     "output_type": "stream",
     "text": [
      "Utility Patent Grant (with pre-grant publication) issued on or after January 2, 2001.\n"
     ]
    }
   ],
   "source": [
    "def extract_kind(xml):\n",
    "    regex = r'<kind>(.*?)</kind>'\n",
    "    kind_dict = {\"A\": \"Utility Patent Application published on or after January 2, 2001.\",\n",
    "                 \"A1\": \"Utility Patent Application published on or after January 2, 2001.\",\n",
    "                 \"B1\": \"Utility Patent Grant (no pre-grant publication) issued on or after January 2, 2001.\",\n",
    "                 \"B2\": \"Utility Patent Grant (with pre-grant publication) issued on or after January 2, 2001.\",\n",
    "                 \"S\": \"Design Patent\",\n",
    "                 \"S1\": \"Design Patent\"\n",
    "                 }\n",
    "    kind_code = re.search(regex, xml)[1]\n",
    "    kind = kind_dict[kind_code] # transfer codes to the kind information which is needed\n",
    "    return kind\n",
    "\n",
    "kind = extract_kind(xml_example)\n",
    "print(kind)"
   ]
  },
  {
   "cell_type": "markdown",
   "metadata": {},
   "source": [
    "### 4.4 Extract number_of_claims\n",
    "For number of claims, there is also a specific tag named \"number-of-claims\" for it. For instance:\n",
    "\n",
    "`<number-of-claims>18</number-of-claims>`\n",
    "\n",
    "Obviously, 18 is the target. The method is same as 4.2.\n",
    "\n",
    "Therefore, using the similar pattern like 4.2 is the suitable way. The regex is showed below.\n",
    "```python\n",
    "    regex = r'<kind>(.*?)</kind>'\n",
    "```\n",
    "\n",
    "Here the built-in function `re.search()` is used for search the matched sub-string and use index 1 to get the value of it (Python, 2019)."
   ]
  },
  {
   "cell_type": "code",
   "execution_count": 10,
   "metadata": {},
   "outputs": [
    {
     "name": "stdout",
     "output_type": "stream",
     "text": [
      "18\n"
     ]
    }
   ],
   "source": [
    "def extract_number_of_claims(xml):\n",
    "    regex = r'<number-of-claims>(.+?)<\\/number-of-claims>'\n",
    "    number_of_claims = re.search(regex, xml)[1]\n",
    "    return number_of_claims  # the return value is str\n",
    "\n",
    "number_of_claims = extract_number_of_claims(xml_example)\n",
    "print(number_of_claims)"
   ]
  },
  {
   "cell_type": "markdown",
   "metadata": {},
   "source": [
    "### 4.5 Extract inventors\n",
    "The attribute inventors means a collection of several inventors. All inventors data are located in \"inventors\" tag, and for each inventor there is a \"inventor\" tag related to it. So, in the \"inventors\" tag, there will be one or several \"inventor\" contents included.\n",
    "\n",
    "For each \"inventor\" tag, the first name and last name, which are needed to be extracted, is in the tag \"first-name\" and \"last-name\" seperately.\n",
    "For example:\n",
    "`<last-name>Kugler</last-name><first-name>Andrew</first-name>`\n",
    "\n",
    "The regular expression is showed below:\n",
    "\n",
    "1. extract the all contents between \"inventors\" tags: grouping the contents within `<inventors>` and `</inventors>`. The contents can use non-greedy pattern `.+?` to match. \n",
    "```python\n",
    "   regex = r'<inventors>(.+?)<\\/inventors>'\n",
    "```\n",
    "2. The exctracted contents would contain one or many inventors name, so using similar method to extract the names. re.findall can get a result which is a list contains all of inventors name. Each inventors name will be stored in a tuple. (Python, 2019)\n",
    "\n",
    "```python\n",
    "   all_name = re.findall(r'<last-name>(.+?)</last-name><first-name>(.+?)</first-name>',inventors_value)\n",
    "```\n",
    "Finally, the final result should be like Python list, but without quotation mark. For example, `[Andrew Kugler,John A. Williams, II]`."
   ]
  },
  {
   "cell_type": "code",
   "execution_count": 11,
   "metadata": {},
   "outputs": [
    {
     "data": {
      "text/plain": [
       "'[Andrew Kugler,John A. Williams, II]'"
      ]
     },
     "execution_count": 11,
     "metadata": {},
     "output_type": "execute_result"
    }
   ],
   "source": [
    "def extract_inventors(xml):\n",
    "    xml_in_one_line = xml.replace(\"\\n\", \"\")\n",
    "    regex = r'<inventors>(.+?)<\\/inventors>'\n",
    "    # extract the large \"inventors\" tag\n",
    "    inventors_value = re.search(regex, xml_in_one_line)[1]\n",
    "    # if there is no inventor, mark it as \"[NA]\"\n",
    "    if inventors_value == None:\n",
    "        return '[NA]'\n",
    "    \n",
    "    all_name = re.findall(r'<last-name>(.+?)</last-name><first-name>(.+?)</first-name>',inventors_value)\n",
    "    # create a list to store all inventors' names\n",
    "    name_list = []\n",
    "    for each in all_name:\n",
    "        each_name = list(each)[::-1]\n",
    "        new_name = ' '.join(each_name)\n",
    "        name_list.append(new_name)\n",
    "    \n",
    "    inventors = \"[\" + \",\".join(name_list) + \"]\"\n",
    "    return inventors\n",
    "\n",
    "extract_inventors(xml_example)"
   ]
  },
  {
   "cell_type": "markdown",
   "metadata": {},
   "source": [
    "### 4.6 Extract citations counts\n",
    "In the xml text, the \"us-references-cited\" tag contains all cites values. In each cite part is handled by a \"us-citation\" tag. In each \"us-citation\" tag, the type of citation (cited by applicant or examiner) is stored in \"category\" tag.\n",
    "\n",
    "Therefore, the method is clear. Firstly, get the value of \"us-reference-cited\" tag, then, count each type of citation and export it.\n",
    "\n",
    "The regular expression to get the value of this tag is displayed below.\n",
    "```python\n",
    "    regex = r'<us-references-cited>(.+?)<\\/us-references-cited>'\n",
    "```\n",
    "\n",
    "1. extract the information within \"us-references-cited\" tag (using group to extract all contents)\n",
    "2. use str.count to caculate the citation counts\n",
    "\n",
    "Here the built-in function `re.search()` is used for search the matched sub-string and use index 1 to get the value of it (Python, 2019)."
   ]
  },
  {
   "cell_type": "code",
   "execution_count": 12,
   "metadata": {},
   "outputs": [
    {
     "data": {
      "text/plain": [
       "('14', '4')"
      ]
     },
     "execution_count": 12,
     "metadata": {},
     "output_type": "execute_result"
    }
   ],
   "source": [
    "def extract_citations_count(xml):\n",
    "    regex = r'<us-references-cited>(.+?)<\\/us-references-cited>'\n",
    "    xml_in_one_line = xml.replace(\"\\n\", \"\")\n",
    "    minor_xml = re.search(regex, xml_in_one_line)[1]\n",
    "    applicant_count = minor_xml.count(\"cited by applicant\")\n",
    "    examiner_count = minor_xml.count(\"cited by examiner\")\n",
    "    return str(applicant_count), str(examiner_count)  # the return values are str\n",
    "\n",
    "extract_citations_count(xml_example)"
   ]
  },
  {
   "cell_type": "markdown",
   "metadata": {},
   "source": [
    "### 4.7 Extract claims\n",
    "From the example, it is clearly matched the claims text in output file with the value in \"claims\" tag in xml. The method to extract that is to filter the value of \"claims\" tag in xml file, then delete all tags, leaving the pure text.\n",
    "\n",
    "The regular expression to get the value of this tag is displayed below.\n",
    "```python\n",
    "    regex = r'<claims id=\"claims\">(.+?)<\\/claims>'\n",
    "```\n",
    "\n",
    "1. The method to extract text within \"claims\" tag is smilar to above section\n",
    "2. remove all tags in text: use `<[^>]*>` to match all tags. There are many `>` within text, so we need match every tag. There should not be a `>` in a tag, so `[^>]` is used here and it may appear 0 or more time,because 0 or more characters are here. (Python, 2019)\n",
    "\n",
    "Here the built-in function `re.search()` is used for search the matched sub-string and use index 1 to get the value of it (Python, 2019)."
   ]
  },
  {
   "cell_type": "code",
   "execution_count": 13,
   "metadata": {},
   "outputs": [
    {
     "data": {
      "text/plain": [
       "'[1. An orthopedic surgical instrument, comprising:from about 40 wt % to about 84 wt % of a base thermoplastic selected from the group consisting of polyetherimide, polycarbonate, modified polyphenylene ether, polyamide, copolymers of these thermoplastics, and combinations thereof;from about 15 wt % to about 40 wt % of a filler material; andfrom about 1 wt % to about 20 wt % of a lubricant material,wherein all materials in the orthopedic surgical instrument are biocompatible.2. The orthopedic surgical instrument according to claim 1, wherein the filler material is selected from the group consisting of carbon, ultra-high molecular weight polyethylene, and combinations thereof.3. The orthopedic surgical instrument according to claim 1, wherein the lubricant material is selected from the group consisting of polytetrafluoroethylene, polyfluoropolyether, hydrocarbon-based synthetic oils, graphite, titanium dioxide, molybdenum disulfide, boron nitride, silicone compounds, and combinations thereof.4. The orthopedic surgical instrument according to claim 1, wherein the base thermoplastic comprises polyetherimide, polycarbonate or polyamide and the filler material comprises carbon.5. The orthopedic surgical instrument according to claim 1, wherein the orthopedic surgical instrument comprises about 45 wt % to about 75 wt % base thermoplastic comprising polyetherimide, polycarbonate or polyamide, about 20 wt % to about 40 wt % filler material comprising carbon, and about 5 wt % to about 15 wt % lubricant material.6. The orthopedic surgical instrument according to claim 1, wherein the orthopedic surgical instrument is a single-use instrument.7. The orthopedic surgical instrument according to claim 1, wherein the orthopedic surgical instrument is a cutting guide.8. The orthopedic surgical instrument according to claim 7, wherein the cutting guide exhibits minimal scratching and no observable debris generation during use.9. The orthopedic surgical instrument according to claim 7, wherein the cutting guide comprises at least one first surface proximate a location to where a cutting implement is adjacent the cutting guide during use, wherein the at least one surface is integral with the cutting guide, and wherein predominantly more filler material is located on the at least one first surface of the orthopedic surgical instrument than at other surfaces of the orthopedic surgical instrument that are distal to where the cutting implement is adjacent the cutting guide during use.10. The orthopedic surgical instrument according to claim 7, wherein the cutting guide comprises at least one first surface proximate a location to where a cutting implement is adjacent the cutting guide during use, wherein the at least one surface is integral with the cutting guide, and wherein predominantly more base thermoplastic is located on the at least one first surface of the orthopedic surgical instrument than at other surfaces of the orthopedic surgical instrument that are distal to where the cutting implement is adjacent the cutting guide during use.11. The orthopedic surgical instrument according to claim 7, wherein the cutting guide comprises at least one first surface proximate a location to where a cutting implement is adjacent the cutting guide during use, wherein the at least one surface is integral with the cutting guide, and wherein predominantly more lubricant material is located on the at least one first surface of the orthopedic surgical instrument than at other surfaces of the orthopedic surgical instrument that are distal to where the cutting implement is adjacent the cutting guide during use.12. The orthopedic surgical instrument according to claim 9, wherein the at least one first surface is uncoated.13. The orthopedic surgical instrument according to claim 1, wherein the orthopedic surgical instrument is formed in an additive manufacturing process.14. The orthopedic surgical instrument according to claim 1, wherein the orthopedic surgical instrument is injection molded.15. The orthopedic surgical instrument according to claim 1, wherein the orthopedic surgical instrument is formed from a premolded standard blank in a subtractive manufacturing process.16. An orthopedic surgical kit, comprising:an orthopedic surgical instrument, the orthopedic surgical instrument comprisingfrom about 50 wt % to about 89 wt % of a base thermoplastic selected from the group consisting of polyetherimide, polycarbonate, modified polyphenylene ether, polyamide, copolymers of these thermoplastics, and combinations thereof;from about 10 wt % to about 50 wt % of a filler material; andfrom about 1 wt % to about 20 wt % of a lubricant material, anda container suitable for sealing the orthopedic surgical instrument therein, wherein all materials in the orthopedic surgical instrument are biocompatible.17. The orthopedic surgical kit according to claim 16, wherein the container comprises one or more materials suitable for maintaining sterility of the orthopedic surgical instrument contained therein during transportation or storage thereof.18. The orthopedic surgical kit according to claim 17, wherein the one or more materials are selected from the group consisting of high density polyethylene, polyester, polyethylene, polycarbonate, polyurethane, polyethylene terephthalate glycol, polyethylene terephthalate, acrylonitrile-butadiene-styrene, polyvinyl chloride, polystyrene, cellophane, laminates of one or more of these materials, coextruded films including one or more of these materials, and combinations thereof.]'"
      ]
     },
     "execution_count": 13,
     "metadata": {},
     "output_type": "execute_result"
    }
   ],
   "source": [
    "def extract_claims_text(xml):\n",
    "    regex = r'<claims id=\"claims\">(.+?)<\\/claims>'\n",
    "    xml_in_one_line = xml.replace(\"\\n\", \"\")\n",
    "    minor_xml = re.search(regex, xml_in_one_line)[1]\n",
    "    \n",
    "    if minor_xml == None:\n",
    "        return 'NA'\n",
    "    \n",
    "    claims_text = re.sub(r\"<[^>]*>\", \"\", minor_xml)\n",
    "    return '['+claims_text+']'\n",
    "\n",
    "extract_claims_text(xml_example)"
   ]
  },
  {
   "cell_type": "markdown",
   "metadata": {},
   "source": [
    "### 4.8 Extract abstract\n",
    "According to the example provided, all abstract texts are inside of \"abstract\" tag, and there are several tags like `<p id=\"p-0001\" num=\"0000\">` and `</p>`inside so these need to be deleted. The method is same as 4.7.\n",
    "```python\n",
    "    regex = r'<abstract id=\"abstract\">(.+?)</abstract>'\n",
    "```\n",
    "Here the built-in function `re.search()` is used for search the matched sub-string and use index 1 to get the value of it (Python, 2019).\n",
    "\n",
    "Then what need to do is getting the value of it, cleanning it to a pure text."
   ]
  },
  {
   "cell_type": "code",
   "execution_count": 14,
   "metadata": {},
   "outputs": [
    {
     "data": {
      "text/plain": [
       "'An orthopedic surgical instrument includes from about 40 wt % to about 85 wt % of a base thermoplastic and from about 15 wt % to about 60 wt % of a filler material. The base thermoplastic includes polyetherimide, polycarbonate, modified polyphenylene ether, polyamide, copolymers of these thermoplastics, and combinations thereof. In some aspects all materials in the orthopedic surgical instrument are biocompatible. An orthopedic surgical kit includes an orthopedic surgical instrument and a container suitable for sealing the orthopedic surgical instrument therein. The orthopedic surgical instrument in the kit includes from about 50 wt % to about 90 wt % of a base thermoplastic selected from the group consisting of polyetherimide, polycarbonate, modified polyphenylene ether, polyamide, copolymers of these thermoplastics, and combinations thereof, and from about 10 wt % to about 50 wt % of a filler material.'"
      ]
     },
     "execution_count": 14,
     "metadata": {},
     "output_type": "execute_result"
    }
   ],
   "source": [
    "def extract_abstract(xml):\n",
    "    regex = r'<abstract id=\"abstract\">(.+?)</abstract>'\n",
    "    xml_in_one_line = xml.replace(\"\\n\", \"\")\n",
    "    abstract_search = re.search(regex, xml_in_one_line)\n",
    "    if abstract_search is None:\n",
    "        return 'NA'\n",
    "    minor_xml = abstract_search[1]\n",
    "    abstract = re.sub(r\"<[^>]*>\", \"\", minor_xml)\n",
    "    return abstract\n",
    "\n",
    "extract_abstract(xml_example)"
   ]
  },
  {
   "cell_type": "markdown",
   "metadata": {},
   "source": [
    "## 5. Output\n",
    "### 5.1 Implement parser\n",
    "After collecting data from each xml logs, next step is to implement these functions to all datas inside the input file.\n"
   ]
  },
  {
   "cell_type": "markdown",
   "metadata": {},
   "source": [
    "```python\n",
    "class Data:\n",
    "    json_dict = {}\n",
    "    \n",
    "    def __init__(self, grant_id, patent_title, kind, number_of_claims, inventors, citations_applicant_count,\n",
    "                 citations_examiner_count, claims_text, abstract):\n",
    "        # constructor\n",
    "        self.grant_id = grant_id\n",
    "        self.patent_title = patent_title\n",
    "        self.kind = kind\n",
    "        self.number_of_claims = number_of_claims\n",
    "        self.inventors = inventors\n",
    "        self.citations_applicant_count = citations_applicant_count\n",
    "        self.citations_examiner_count = citations_examiner_count\n",
    "        self.claims_text = claims_text\n",
    "        self.abstract = abstract\n",
    "        Data.json_dict[self.grant_id] = self.to_json_dict()\n",
    "\n",
    "    @staticmethod\n",
    "    def build_data_from_xml(xml):\n",
    "        # build object of Data class from given xml format text\n",
    "        # these functions used will be defined below\n",
    "        grant_id = extract_grant_id(xml)  # see 4.1\n",
    "        patent_title = extract_patent_title(xml)  # see 4.2\n",
    "        kind = extract_kind(xml)  # see 4.3\n",
    "        number_of_claims = extract_number_of_claims(xml)  # see 4.4\n",
    "        inventors = extract_inventors(xml)  # see 4.5\n",
    "        citations_applicant_count, citations_examiner_count = extract_citations_count(xml)  # see 4.6\n",
    "        claims_text = extract_claims_text(xml)  # see 4.7\n",
    "        abstract = extract_abstract(xml)  # see 4.8\n",
    "        return Data(grant_id, patent_title, kind, number_of_claims, inventors, citations_applicant_count,\n",
    "                    citations_examiner_count, claims_text, abstract)\n",
    "```\n",
    "By using the `build_data_from_xml()` method and `map()` function, all xml texts in list `xmls` will be extracted and an object of Data class will be built for each xml text, and then store in the variable `data_list`.\n",
    "\n",
    "For each object of class Data, there is a one-to-one match between its attributes and the values of each columns for each row. In other words, the element in `data_list` contains everything needed for output."
   ]
  },
  {
   "cell_type": "code",
   "execution_count": 15,
   "metadata": {},
   "outputs": [
    {
     "data": {
      "text/plain": [
       "[<__main__.Data at 0x20073c12490>,\n",
       " <__main__.Data at 0x20073c12460>,\n",
       " <__main__.Data at 0x20073c12dc0>,\n",
       " <__main__.Data at 0x20073c12e50>,\n",
       " <__main__.Data at 0x20073c12100>,\n",
       " <__main__.Data at 0x20073c12340>,\n",
       " <__main__.Data at 0x20073c12880>,\n",
       " <__main__.Data at 0x20071aac070>,\n",
       " <__main__.Data at 0x20071aac580>,\n",
       " <__main__.Data at 0x20071aac610>]"
      ]
     },
     "execution_count": 15,
     "metadata": {},
     "output_type": "execute_result"
    }
   ],
   "source": [
    "# transfer all xml format texts to Data object\n",
    "data_list = list(map(Data.build_data_from_xml, xmls))\n",
    "data_list[:10]"
   ]
  },
  {
   "cell_type": "markdown",
   "metadata": {},
   "source": [
    "### 5.2 Output csv files\n",
    "<b>Here the method `to_attribute_list(self)` in Data class is used. The details are below:</b>\n",
    "\n",
    "```python\n",
    "def to_attribute_list(self):\n",
    "    # generate the elements for each Data object\n",
    "    attribute_list = [self.grant_id,\n",
    "                      self.patent_title,\n",
    "                      self.kind,\n",
    "                      self.number_of_claims,\n",
    "                      self.inventors,\n",
    "                      self.citations_applicant_count,\n",
    "                      self.citations_examiner_count,\n",
    "                      self.claims_text,\n",
    "                      self.abstract]\n",
    "    return attribute_list\n",
    "```   \n",
    "This method is to make each csv rows by inserting the attributes which are collected in section 4."
   ]
  },
  {
   "cell_type": "markdown",
   "metadata": {},
   "source": [
    "First of all, creating a DataFrame is necessary to be prepared before outputing csv format by using Pandas.\n",
    "\n",
    "Including the data in a list structure is a feasible way to creat a dataframe, and using a row  oriented approach by using pandas `from_records` is a approach to create a dataframe(Moffitt, 2019)."
   ]
  },
  {
   "cell_type": "code",
   "execution_count": 16,
   "metadata": {},
   "outputs": [],
   "source": [
    "data_matrix = list(map(Data.to_attribute_list,data_list))  # 2-dimension list structure\n",
    "columns_name = \"grant_id,patent_title,kind,number_of_claims,inventors,citations_applicant_count,citations_examiner_count,claims_text,abstract\".split(\",\")"
   ]
  },
  {
   "cell_type": "code",
   "execution_count": 17,
   "metadata": {},
   "outputs": [
    {
     "data": {
      "text/html": [
       "<div>\n",
       "<style scoped>\n",
       "    .dataframe tbody tr th:only-of-type {\n",
       "        vertical-align: middle;\n",
       "    }\n",
       "\n",
       "    .dataframe tbody tr th {\n",
       "        vertical-align: top;\n",
       "    }\n",
       "\n",
       "    .dataframe thead th {\n",
       "        text-align: right;\n",
       "    }\n",
       "</style>\n",
       "<table border=\"1\" class=\"dataframe\">\n",
       "  <thead>\n",
       "    <tr style=\"text-align: right;\">\n",
       "      <th></th>\n",
       "      <th>grant_id</th>\n",
       "      <th>patent_title</th>\n",
       "      <th>kind</th>\n",
       "      <th>number_of_claims</th>\n",
       "      <th>inventors</th>\n",
       "      <th>citations_applicant_count</th>\n",
       "      <th>citations_examiner_count</th>\n",
       "      <th>claims_text</th>\n",
       "      <th>abstract</th>\n",
       "    </tr>\n",
       "  </thead>\n",
       "  <tbody>\n",
       "    <tr>\n",
       "      <th>0</th>\n",
       "      <td>US10357261</td>\n",
       "      <td>Single-use orthopedic surgical instrument</td>\n",
       "      <td>Utility Patent Grant (with pre-grant publicati...</td>\n",
       "      <td>18</td>\n",
       "      <td>[Andrew Kugler,John A. Williams, II]</td>\n",
       "      <td>14</td>\n",
       "      <td>4</td>\n",
       "      <td>[1. An orthopedic surgical instrument, compris...</td>\n",
       "      <td>An orthopedic surgical instrument includes fro...</td>\n",
       "    </tr>\n",
       "    <tr>\n",
       "      <th>1</th>\n",
       "      <td>USD0854393</td>\n",
       "      <td>Safety scraper</td>\n",
       "      <td>Design Patent</td>\n",
       "      <td>1</td>\n",
       "      <td>[James W. Saunders]</td>\n",
       "      <td>0</td>\n",
       "      <td>13</td>\n",
       "      <td>[I claim the ornamental design for a safety sc...</td>\n",
       "      <td>NA</td>\n",
       "    </tr>\n",
       "    <tr>\n",
       "      <th>2</th>\n",
       "      <td>US10360018</td>\n",
       "      <td>Update control apparatus, software update syst...</td>\n",
       "      <td>Utility Patent Grant (with pre-grant publicati...</td>\n",
       "      <td>11</td>\n",
       "      <td>[Yuichi Komano,Zhengfan Xia,Takeshi Kawabata]</td>\n",
       "      <td>6</td>\n",
       "      <td>6</td>\n",
       "      <td>[1. An update control apparatus adapted to con...</td>\n",
       "      <td>According to an embodiment, an update control ...</td>\n",
       "    </tr>\n",
       "    <tr>\n",
       "      <th>3</th>\n",
       "      <td>US10358599</td>\n",
       "      <td>Selective etching of reactor surfaces</td>\n",
       "      <td>Utility Patent Grant (with pre-grant publicati...</td>\n",
       "      <td>20</td>\n",
       "      <td>[Srini Raghavan,Eric Shero,Mohith Verghese]</td>\n",
       "      <td>30</td>\n",
       "      <td>4</td>\n",
       "      <td>[1. An etching composition for selectively cle...</td>\n",
       "      <td>Compositions, methods, and systems permit sele...</td>\n",
       "    </tr>\n",
       "    <tr>\n",
       "      <th>4</th>\n",
       "      <td>US10358329</td>\n",
       "      <td>Hydraulic control device of forklift truck</td>\n",
       "      <td>Utility Patent Grant (with pre-grant publicati...</td>\n",
       "      <td>4</td>\n",
       "      <td>[Yuki Ueda,Naoya Yokomachi,Tsutomu Matsuo,Taka...</td>\n",
       "      <td>9</td>\n",
       "      <td>4</td>\n",
       "      <td>[1. A hydraulic control device of a forklift t...</td>\n",
       "      <td>A hydraulic control device of a forklift truck...</td>\n",
       "    </tr>\n",
       "  </tbody>\n",
       "</table>\n",
       "</div>"
      ],
      "text/plain": [
       "     grant_id                                       patent_title  \\\n",
       "0  US10357261          Single-use orthopedic surgical instrument   \n",
       "1  USD0854393                                     Safety scraper   \n",
       "2  US10360018  Update control apparatus, software update syst...   \n",
       "3  US10358599              Selective etching of reactor surfaces   \n",
       "4  US10358329         Hydraulic control device of forklift truck   \n",
       "\n",
       "                                                kind number_of_claims  \\\n",
       "0  Utility Patent Grant (with pre-grant publicati...               18   \n",
       "1                                      Design Patent                1   \n",
       "2  Utility Patent Grant (with pre-grant publicati...               11   \n",
       "3  Utility Patent Grant (with pre-grant publicati...               20   \n",
       "4  Utility Patent Grant (with pre-grant publicati...                4   \n",
       "\n",
       "                                           inventors  \\\n",
       "0               [Andrew Kugler,John A. Williams, II]   \n",
       "1                                [James W. Saunders]   \n",
       "2      [Yuichi Komano,Zhengfan Xia,Takeshi Kawabata]   \n",
       "3        [Srini Raghavan,Eric Shero,Mohith Verghese]   \n",
       "4  [Yuki Ueda,Naoya Yokomachi,Tsutomu Matsuo,Taka...   \n",
       "\n",
       "  citations_applicant_count citations_examiner_count  \\\n",
       "0                        14                        4   \n",
       "1                         0                       13   \n",
       "2                         6                        6   \n",
       "3                        30                        4   \n",
       "4                         9                        4   \n",
       "\n",
       "                                         claims_text  \\\n",
       "0  [1. An orthopedic surgical instrument, compris...   \n",
       "1  [I claim the ornamental design for a safety sc...   \n",
       "2  [1. An update control apparatus adapted to con...   \n",
       "3  [1. An etching composition for selectively cle...   \n",
       "4  [1. A hydraulic control device of a forklift t...   \n",
       "\n",
       "                                            abstract  \n",
       "0  An orthopedic surgical instrument includes fro...  \n",
       "1                                                 NA  \n",
       "2  According to an embodiment, an update control ...  \n",
       "3  Compositions, methods, and systems permit sele...  \n",
       "4  A hydraulic control device of a forklift truck...  "
      ]
     },
     "execution_count": 17,
     "metadata": {},
     "output_type": "execute_result"
    }
   ],
   "source": [
    "df = pd.DataFrame.from_records(data=data_matrix,columns=columns_name)\n",
    "df.head()"
   ]
  },
  {
   "cell_type": "markdown",
   "metadata": {},
   "source": [
    "Then, the dataframe created need exported in to a `.csv` files without index, and save as `data.csv`. Using the to_csv( ) [function](http://pandas.pydata.org/pandas-docs/stable/generated/pandas.DataFrame.to_csv.html#pandas.DataFrame.to_csv) is a approprite way to export the file (Pandas, 2019)."
   ]
  },
  {
   "cell_type": "code",
   "execution_count": 18,
   "metadata": {},
   "outputs": [],
   "source": [
    "df.to_csv('data.csv', index=None)"
   ]
  },
  {
   "cell_type": "markdown",
   "metadata": {},
   "source": [
    "### 5.3 Output json file"
   ]
  },
  {
   "cell_type": "markdown",
   "metadata": {},
   "source": [
    "According to the sample output json file, the structure of json file is clearly showed below:\n",
    "\n",
    "```json\n",
    "{\"US10357643\":\n",
    "     {\"patent_title\":\"...\",\n",
    "      \"kind\":\"...\",\n",
    "      \"number_of_claims\":20,\n",
    "      \"inventors\":\"[name1,name2,...]\",\n",
    "      \"citations_applicant_count\":8,\n",
    "      \"citations_examiner_count\":2,\n",
    "      \"claims_text\":\"...\",\n",
    "      \"abstract\":\"...\"\n",
    "      },\n",
    "\"US10362643\":\n",
    "     {\"patent_title\":\"...\",\n",
    "      \"kind\":\"...\",\n",
    "      \"number_of_claims\":16,\n",
    "      \"inventors\":\"[name1,name2,...]\",\n",
    "      \"citations_applicant_count\":0,\n",
    "      \"citations_examiner_count\":14,\n",
    "      \"claims_text\":\"...\",\n",
    "      \"abstract\":\"...\"\n",
    "      },\n",
    " ...\n",
    " }\n",
    "```"
   ]
  },
  {
   "cell_type": "markdown",
   "metadata": {},
   "source": [
    "The json output file has 2 nested levels.\n",
    "1. grant id\n",
    "2. patent title, kind, number of claims, inventors, citations applicant count, citations examiner count, claims_text and abstract\n",
    "\n",
    "For the first level, the key is `grant_id` and value is a collection of key-value pairs which contains other attributes;\n",
    "\n",
    "For the second level, the keys are the name of attributes, and the values are the value related to each attribute.\n",
    "\n",
    "To write the output json file, dictionary data structure is chosen. To implement that, a class variable `json_dict` is created.\n",
    "\n",
    "<b> Please note the code below is only the important parts of original one </b>\n",
    "    \n",
    "```python\n",
    "class Data:\n",
    "    json_dict = {}\n",
    "    ...\n",
    "```\n",
    "\n",
    "As known in previous, for each object, there is a key-value pair related. The key of it is the value of` self.grant_id`. The value of that is the dictionary which are the pairs of the attributes and their values. To implement it, the method `to_json_dict(self)` is created. It returns the value of `json_dict` for each object.\n",
    "\n",
    "```python\n",
    "    def to_json_dict(self):\n",
    "        # generate the value of json_dict for each Data object\n",
    "        return {\n",
    "            \"patent_title\": self.patent_title,\n",
    "            \"kind\": self.kind,\n",
    "            \"number_of_claims\": int(self.number_of_claims),\n",
    "            \"investors\": self.inventors,\n",
    "            \"citations_applicant_count\": int(self.citations_applicant_count),\n",
    "            \"citations_examiner_count\": int(self.citations_examiner_count),\n",
    "            \"claims_text\": self.claims_text,\n",
    "            \"abstract\": self.abstract\n",
    "        }\n",
    "```\n",
    "\n",
    "As it is needed to insert the key-value pair into `json_dict` for each object. The most convinent way is to do this step inside the `__init__` method. Here is the code below, please see the last line.\n",
    "\n",
    "```python\n",
    "    def __init__(self, grant_id, patent_title, kind, number_of_claims, inventors, citations_applicant_count,\n",
    "                 citations_examiner_count, claims_text, abstract):\n",
    "        # constructor\n",
    "        self.grant_id = grant_id\n",
    "        self.patent_title = patent_title\n",
    "        self.kind = kind\n",
    "        self.number_of_claims = number_of_claims\n",
    "        self.inventors = inventors\n",
    "        self.citations_applicant_count = citations_applicant_count\n",
    "        self.citations_examiner_count = citations_examiner_count\n",
    "        self.claims_text = claims_text\n",
    "        self.abstract = abstract\n",
    "        Data.json_dict[self.grant_id] = self.to_json_dict()\n",
    "```\n",
    "\n",
    "After the step to create all objects (see 5.1), the class variable `json_dict` is also built as well. Next step is to output it. However, the default way that Python transfering the dictionary to string will use single quotations rather than double one (json needs double quotations). So there is a step to replace single quotations to double by using `str.replace()` method. After everything done, the final step is to write the `data.json` file as output."
   ]
  },
  {
   "cell_type": "code",
   "execution_count": 19,
   "metadata": {},
   "outputs": [],
   "source": [
    "with open('data.json', 'w') as output_json:\n",
    "    output_json.write(json.dumps(Data.json_dict))"
   ]
  },
  {
   "cell_type": "markdown",
   "metadata": {},
   "source": [
    "## 6. Summary"
   ]
  },
  {
   "cell_type": "markdown",
   "metadata": {},
   "source": [
    "This project is aim to measure the basic techniques of handling the text file by Python.\n",
    "The outcome achieved after using these basic techniques were:\n",
    "\n",
    "- <b>XML parsing and data extraction</b>: Using basic re package knowledge to prase the data and extracing  required data.\n",
    "- <b>Creating data frame</b>: By using `pandas` package and built-in function `DataFrame.from_records()` to to create a dataframe.\n",
    "- <b>Outputing data into `.csv` file </b>: Built-in function `DataFrame.to_csv()` was applied to generate a `.csv` file.\n",
    "- <b>Outputing data into `.json` file </b>: Build a dictionary and then generate a `.json` file by using built-in function `file.write()`."
   ]
  },
  {
   "cell_type": "markdown",
   "metadata": {},
   "source": [
    "## 7. References"
   ]
  },
  {
   "cell_type": "markdown",
   "metadata": {},
   "source": [
    "- Moffitt, C. (2019). Creating Pandas DataFrames from Lists and Dictionaries - Practical Business Python. Retrieved from https://pbpython.com/pandas-list-dict.html\n",
    "- Pandas. (2019). pandas.DataFrame.to_csv — pandas 0.25.1 documentation. Retrieved from https://pandas.pydata.org/pandas-docs/stable/reference/api/pandas.DataFrame.to_csv.html\n",
    "- USPTO Kind Codes. (2019). Retrieved from https://www.uspto.gov/patents-application-process/patent-search/authority-files/uspto-kind-codes#s3\n",
    "- Python. (2019). re — Regular expression operations — Python 3.7.4 documentation. Retrieved from https://docs.python.org/3/library/re.html"
   ]
  }
 ],
 "metadata": {
  "kernelspec": {
   "display_name": "Python 3",
   "language": "python",
   "name": "python3"
  },
  "language_info": {
   "codemirror_mode": {
    "name": "ipython",
    "version": 3
   },
   "file_extension": ".py",
   "mimetype": "text/x-python",
   "name": "python",
   "nbconvert_exporter": "python",
   "pygments_lexer": "ipython3",
   "version": "3.8.8"
  }
 },
 "nbformat": 4,
 "nbformat_minor": 4
}
