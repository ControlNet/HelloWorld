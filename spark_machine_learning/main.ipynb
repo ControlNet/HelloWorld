{
 "cells": [
  {
   "cell_type": "markdown",
   "metadata": {},
   "source": [
    "# Spark Machine Learning\n",
    "\n",
    "Environment: Python 3.7, Jupyter notebook, JDK1.8, Ubuntu\n",
    "\n",
    "Libraries used:\n",
    "* pyspark (provided in Anaconda 3)\n",
    "* matplotlib (for plot graphs, provided in Anaconda 3)\n",
    "* numpy(for array, provided in Anaconda 3)"
   ]
  },
  {
   "cell_type": "markdown",
   "metadata": {},
   "source": [
    "## Introduction\n",
    "In this project, it is aimed to predict rain condition in the next day. With the dataset `weather.csv` provided, the program should follow the steps below,\n",
    "\n",
    "1. import Spark Session and intialize Spark\n",
    "2. load the dataset and print the schema and total number of entries\n",
    "3. delete columns from the dataset\n",
    "4. print the number of missing data in each column\n",
    "5. fill the missing data with average value and maximum occurrence value\n",
    "6. data transformation  \n",
    "7. create the feature vector and divide the dataset  \n",
    "8. apply machine learning classification algorithms on the dataset and compare their accuracy, then plot the accuracy as bar graph.   \n",
    "9. calculate the confusion matrix and find the precision, recall, and F1 score of each classification algorithm. Explain how the accuracy of the predication can be improved.\n",
    "\n",
    "## A. Creating Spark Session and Loading the Data\n",
    "### Step 01: Import Spark Session and initialize Spark"
   ]
  },
  {
   "cell_type": "code",
   "execution_count": 1,
   "metadata": {},
   "outputs": [],
   "source": [
    "import pyspark\n",
    "from pyspark import SparkContext\n",
    "from pyspark.sql import SparkSession\n",
    "import pyspark.sql.functions as f\n",
    "import pyspark.sql.types as types\n",
    "from pyspark.ml.feature import StringIndexer, OneHotEncoderEstimator, VectorAssembler\n",
    "from pyspark.ml import Pipeline\n",
    "from pyspark.ml.classification import DecisionTreeClassifier, RandomForestClassifier, LogisticRegression, GBTClassifier\n",
    "from pyspark.ml.evaluation import MulticlassClassificationEvaluator\n",
    "from pyspark.mllib.evaluation import MulticlassMetrics\n",
    "import matplotlib.pyplot as plt\n",
    "import numpy as np"
   ]
  },
  {
   "cell_type": "code",
   "execution_count": 4,
   "metadata": {},
   "outputs": [],
   "source": [
    "# If there is an existing spark context, we will reuse it instead of creating a new context.\n",
    "sc = SparkContext.getOrCreate()\n",
    "\n",
    "# If there is no existing spark context, we now create a new context by SparkConf\n",
    "if (sc is None):\n",
    "    conf = pyspark.SparkConf()\n",
    "    conf.set(\"spark.app.name\", \"Machine Learning by Spark\")\n",
    "    conf.set(\"spark.master\", \"local[*]\")\n",
    "    sc = SparkContext(conf=conf)\n",
    "\n",
    "spark = SparkSession(sparkContext=sc) \\\n",
    "    .builder \\\n",
    "    .appName(\"SparkSQL\") \\\n",
    "    .getOrCreate()"
   ]
  },
  {
   "cell_type": "markdown",
   "metadata": {},
   "source": [
    "### Step 02: Load the dataset and print the schema and total number of entries"
   ]
  },
  {
   "cell_type": "code",
   "execution_count": 5,
   "metadata": {},
   "outputs": [
    {
     "name": "stderr",
     "output_type": "stream",
     "text": [
      "                                                                                \r"
     ]
    },
    {
     "name": "stdout",
     "output_type": "stream",
     "text": [
      "root\n",
      " |-- Date: timestamp (nullable = true)\n",
      " |-- Location: string (nullable = true)\n",
      " |-- MinTemp: string (nullable = true)\n",
      " |-- MaxTemp: string (nullable = true)\n",
      " |-- Rainfall: string (nullable = true)\n",
      " |-- Evaporation: string (nullable = true)\n",
      " |-- Sunshine: string (nullable = true)\n",
      " |-- WindGustDir: string (nullable = true)\n",
      " |-- WindGustSpeed: string (nullable = true)\n",
      " |-- WindDir9am: string (nullable = true)\n",
      " |-- WindDir3pm: string (nullable = true)\n",
      " |-- WindSpeed9am: string (nullable = true)\n",
      " |-- WindSpeed3pm: string (nullable = true)\n",
      " |-- Humidity9am: string (nullable = true)\n",
      " |-- Humidity3pm: string (nullable = true)\n",
      " |-- Pressure9am: string (nullable = true)\n",
      " |-- Pressure3pm: string (nullable = true)\n",
      " |-- Cloud9am: string (nullable = true)\n",
      " |-- Cloud3pm: string (nullable = true)\n",
      " |-- Temp9am: string (nullable = true)\n",
      " |-- Temp3pm: string (nullable = true)\n",
      " |-- RainToday: string (nullable = true)\n",
      " |-- RainTomorrow: string (nullable = true)\n",
      "\n",
      "The number of records in the data frame is 142193.\n"
     ]
    }
   ],
   "source": [
    "# read the data from csv file into DataFrame\n",
    "data = spark.read.csv(\"weather.csv\", header=True, inferSchema=True)\n",
    "# display the schema\n",
    "data.printSchema()\n",
    "# display the number of rows in the DataFrame\n",
    "print(f\"The number of records in the data frame is {data.count()}.\")"
   ]
  },
  {
   "cell_type": "markdown",
   "metadata": {},
   "source": [
    "## B. Data Cleaning and Processing\n",
    "\n",
    "### Step 03: Delete columns from the dataset\n",
    "\n",
    "The columns below should be deleted, \n",
    "- Date\n",
    "- Location\n",
    "- Evaporation\n",
    "- Sunshine\n",
    "- Cloud9am\n",
    "- Cloud3pm\n",
    "- Temp9am\n",
    "- Temp3pm\n"
   ]
  },
  {
   "cell_type": "code",
   "execution_count": 6,
   "metadata": {},
   "outputs": [
    {
     "name": "stdout",
     "output_type": "stream",
     "text": [
      "+-------+-------+--------+-----------+-------------+----------+----------+------------+------------+-----------+-----------+-----------+-----------+---------+------------+\n",
      "|MinTemp|MaxTemp|Rainfall|WindGustDir|WindGustSpeed|WindDir9am|WindDir3pm|WindSpeed9am|WindSpeed3pm|Humidity9am|Humidity3pm|Pressure9am|Pressure3pm|RainToday|RainTomorrow|\n",
      "+-------+-------+--------+-----------+-------------+----------+----------+------------+------------+-----------+-----------+-----------+-----------+---------+------------+\n",
      "|   13.4|   22.9|     0.6|          W|           44|         W|       WNW|          20|          24|         71|         22|     1007.7|     1007.1|       No|          No|\n",
      "|    7.4|   25.1|       0|        WNW|           44|       NNW|       WSW|           4|          22|         44|         25|     1010.6|     1007.8|       No|          No|\n",
      "|   12.9|   25.7|       0|        WSW|           46|         W|       WSW|          19|          26|         38|         30|     1007.6|     1008.7|       No|          No|\n",
      "|    9.2|     28|       0|         NE|           24|        SE|         E|          11|           9|         45|         16|     1017.6|     1012.8|       No|          No|\n",
      "|   17.5|   32.3|       1|          W|           41|       ENE|        NW|           7|          20|         82|         33|     1010.8|       1006|       No|          No|\n",
      "|   14.6|   29.7|     0.2|        WNW|           56|         W|         W|          19|          24|         55|         23|     1009.2|     1005.4|       No|          No|\n",
      "|   14.3|     25|       0|          W|           50|        SW|         W|          20|          24|         49|         19|     1009.6|     1008.2|       No|          No|\n",
      "|    7.7|   26.7|       0|          W|           35|       SSE|         W|           6|          17|         48|         19|     1013.4|     1010.1|       No|          No|\n",
      "|    9.7|   31.9|       0|        NNW|           80|        SE|        NW|           7|          28|         42|          9|     1008.9|     1003.6|       No|         Yes|\n",
      "|   13.1|   30.1|     1.4|          W|           28|         S|       SSE|          15|          11|         58|         27|       1007|     1005.7|      Yes|          No|\n",
      "|   13.4|   30.4|       0|          N|           30|       SSE|       ESE|          17|           6|         48|         22|     1011.8|     1008.7|       No|         Yes|\n",
      "|   15.9|   21.7|     2.2|        NNE|           31|        NE|       ENE|          15|          13|         89|         91|     1010.5|     1004.2|      Yes|         Yes|\n",
      "|   15.9|   18.6|    15.6|          W|           61|       NNW|       NNW|          28|          28|         76|         93|      994.3|        993|      Yes|         Yes|\n",
      "|   12.6|     21|     3.6|         SW|           44|         W|       SSW|          24|          20|         65|         43|     1001.2|     1001.8|      Yes|          No|\n",
      "|    9.8|   27.7|      NA|        WNW|           50|        NA|       WNW|          NA|          22|         50|         28|     1013.4|     1010.3|       NA|          No|\n",
      "+-------+-------+--------+-----------+-------------+----------+----------+------------+------------+-----------+-----------+-----------+-----------+---------+------------+\n",
      "only showing top 15 rows\n",
      "\n",
      "root\n",
      " |-- MinTemp: string (nullable = true)\n",
      " |-- MaxTemp: string (nullable = true)\n",
      " |-- Rainfall: string (nullable = true)\n",
      " |-- WindGustDir: string (nullable = true)\n",
      " |-- WindGustSpeed: string (nullable = true)\n",
      " |-- WindDir9am: string (nullable = true)\n",
      " |-- WindDir3pm: string (nullable = true)\n",
      " |-- WindSpeed9am: string (nullable = true)\n",
      " |-- WindSpeed3pm: string (nullable = true)\n",
      " |-- Humidity9am: string (nullable = true)\n",
      " |-- Humidity3pm: string (nullable = true)\n",
      " |-- Pressure9am: string (nullable = true)\n",
      " |-- Pressure3pm: string (nullable = true)\n",
      " |-- RainToday: string (nullable = true)\n",
      " |-- RainTomorrow: string (nullable = true)\n",
      "\n"
     ]
    },
    {
     "name": "stderr",
     "output_type": "stream",
     "text": [
      "                                                                                \r"
     ]
    }
   ],
   "source": [
    "# define a set contains all columns should be deleted\n",
    "uselessColumns = {\"Date\", \n",
    "                  \"Location\", \n",
    "                  \"Evaporation\", \n",
    "                  \"Sunshine\",\n",
    "                  \"Cloud9am\",\n",
    "                  \"Cloud3pm\",\n",
    "                  \"Temp9am\",\n",
    "                  \"Temp3pm\"}\n",
    "\n",
    "# select the columns not in uselessColumns set\n",
    "newColumns = [column for column in data.columns if column not in uselessColumns]\n",
    "data = data.select(newColumns)\n",
    "# use cache to boost the process\n",
    "data.cache()\n",
    "data.show(15)\n",
    "data.printSchema()"
   ]
  },
  {
   "cell_type": "markdown",
   "metadata": {},
   "source": [
    "### Step 04: Print the number of missing data in each column.\n",
    "\n",
    "By examining the data frame in the output of step 03, the missing data is represented as a string \"NA\". Therefore, to count the missing data in each column, the amount of string \"NA\" should be calculated."
   ]
  },
  {
   "cell_type": "code",
   "execution_count": 7,
   "metadata": {},
   "outputs": [
    {
     "name": "stdout",
     "output_type": "stream",
     "text": [
      "+-------+-------+--------+-----------+-------------+----------+----------+------------+------------+-----------+-----------+-----------+-----------+---------+------------+\n",
      "|MinTemp|MaxTemp|Rainfall|WindGustDir|WindGustSpeed|WindDir9am|WindDir3pm|WindSpeed9am|WindSpeed3pm|Humidity9am|Humidity3pm|Pressure9am|Pressure3pm|RainToday|RainTomorrow|\n",
      "+-------+-------+--------+-----------+-------------+----------+----------+------------+------------+-----------+-----------+-----------+-----------+---------+------------+\n",
      "|    637|    322|    1406|       9330|         9270|     10013|      3778|        1348|        2630|       1774|       3610|      14014|      13981|     1406|           0|\n",
      "+-------+-------+--------+-----------+-------------+----------+----------+------------+------------+-----------+-----------+-----------+-----------+---------+------------+\n",
      "\n"
     ]
    }
   ],
   "source": [
    "# define a function for count the NA for each column\n",
    "def countNAForColumn(values):\n",
    "    values = [each[0] for each in values]\n",
    "    return values.count(\"NA\")\n",
    "\n",
    "def countNA(dataFrame):\n",
    "    # display the result\n",
    "    dataFrame.select([f.count(f.when(dataFrame[c] == \"NA\", c)).alias(c) for c in dataFrame.columns]).show()\n",
    "    return\n",
    "\n",
    "countNA(data)"
   ]
  },
  {
   "cell_type": "markdown",
   "metadata": {},
   "source": [
    "### Step 05: Fill the missing data with average value and maximum occurrence value."
   ]
  },
  {
   "cell_type": "code",
   "execution_count": 8,
   "metadata": {},
   "outputs": [
    {
     "name": "stdout",
     "output_type": "stream",
     "text": [
      "+-------+-------+--------+-----------+-------------+----------+----------+------------+------------+-----------+-----------+-----------+-----------+---------+------------+\n",
      "|MinTemp|MaxTemp|Rainfall|WindGustDir|WindGustSpeed|WindDir9am|WindDir3pm|WindSpeed9am|WindSpeed3pm|Humidity9am|Humidity3pm|Pressure9am|Pressure3pm|RainToday|RainTomorrow|\n",
      "+-------+-------+--------+-----------+-------------+----------+----------+------------+------------+-----------+-----------+-----------+-----------+---------+------------+\n",
      "|   13.4|   22.9|     0.6|          W|           44|         W|       WNW|          20|          24|         71|         22|     1007.7|     1007.1|       No|          No|\n",
      "|    7.4|   25.1|       0|        WNW|           44|       NNW|       WSW|           4|          22|         44|         25|     1010.6|     1007.8|       No|          No|\n",
      "+-------+-------+--------+-----------+-------------+----------+----------+------------+------------+-----------+-----------+-----------+-----------+---------+------------+\n",
      "only showing top 2 rows\n",
      "\n"
     ]
    }
   ],
   "source": [
    "data.show(2)"
   ]
  },
  {
   "cell_type": "markdown",
   "metadata": {},
   "source": [
    "From the output, the columns can be devided to 3 types:\n",
    " - Numeric column: the values are numeric, and NA values should be filled with the average value in the column\n",
    " - Categorical column: the values are not numeric, and NA values should be filled with the maximum occurrence value\n",
    " - Label column: the \"RainTomorrow\" column should not be changed\n",
    "\n",
    "Therefore, build 2 sets to store the column names to classify the column types."
   ]
  },
  {
   "cell_type": "code",
   "execution_count": 9,
   "metadata": {},
   "outputs": [],
   "source": [
    "numericCol = {\"MinTemp\", \"MaxTemp\", \"Rainfall\", \"Wind\", \"WindGustSpeed\", \"WindSpeed9am\", \"WindSpeed3pm\", \n",
    "              \"Humidity9am\", \"Humidity3pm\", \"Pressure9am\", \"Pressure3pm\"}\n",
    "categoricalCol = {\"WindGustDir\", \"WindDir9am\", \"WindDir3pm\", \"RainToday\"}"
   ]
  },
  {
   "cell_type": "code",
   "execution_count": 10,
   "metadata": {},
   "outputs": [],
   "source": [
    "# the function is to calculate the average value in the column\n",
    "def calculateAvg(dataFrame, columnName: str) -> str:\n",
    "    mean = dataFrame.filter(f.col(columnName) != \"NA\") \\\n",
    "        .select(f.mean(f.col(columnName))) \\\n",
    "        .collect()[0][0]\n",
    "    return str(round(mean, 1))\n",
    "\n",
    "# the function is to get maximum occurrence value in the column \n",
    "def getMode(dataFrame, columnName: str) -> str:\n",
    "    dataCountDf = dataFrame.select(columnName) \\\n",
    "        .groupBy(columnName) \\\n",
    "        .count() \\\n",
    "        .orderBy(\"count\") \\\n",
    "        .collect()\n",
    "    mode = dataCountDf[-1][0]\n",
    "    return mode\n",
    "\n",
    "# the function is to fill the missing value for a given column\n",
    "def fixMissingValues(dataFrame, columnName: str) -> str:\n",
    "    # classify the column to get correct value for replace\n",
    "    if columnName in numericCol:\n",
    "        replaceValue = calculateAvg(dataFrame, columnName)\n",
    "    elif columnName in categoricalCol:\n",
    "        replaceValue = getMode(dataFrame, columnName)\n",
    "        \n",
    "    # define a UDF for manipulating each value in a column\n",
    "    def replaceMissingValue(string: str) -> str:\n",
    "        if string == \"NA\":\n",
    "            return replaceValue\n",
    "        else:\n",
    "            return string\n",
    "    replaceUDF = f.udf(replaceMissingValue, types.StringType())\n",
    "    \n",
    "    # apply the UDF to fix the missing values\n",
    "    dataFrame = dataFrame.withColumn(columnName, replaceUDF(dataFrame[columnName]))\n",
    "    return dataFrame"
   ]
  },
  {
   "cell_type": "code",
   "execution_count": 11,
   "metadata": {},
   "outputs": [
    {
     "name": "stderr",
     "output_type": "stream",
     "text": [
      "21/10/29 03:35:46 WARN Utils: Truncated the string representation of a plan since it was too large. This behavior can be adjusted by setting 'spark.debug.maxToStringFields' in SparkEnv.conf.\n",
      "[Stage 48:===========================================>              (3 + 1) / 4]"
     ]
    },
    {
     "name": "stdout",
     "output_type": "stream",
     "text": [
      "+-------+-------+--------+-----------+-------------+----------+----------+------------+------------+-----------+-----------+-----------+-----------+---------+------------+\n",
      "|MinTemp|MaxTemp|Rainfall|WindGustDir|WindGustSpeed|WindDir9am|WindDir3pm|WindSpeed9am|WindSpeed3pm|Humidity9am|Humidity3pm|Pressure9am|Pressure3pm|RainToday|RainTomorrow|\n",
      "+-------+-------+--------+-----------+-------------+----------+----------+------------+------------+-----------+-----------+-----------+-----------+---------+------------+\n",
      "|      0|      0|       0|          0|            0|         0|         0|           0|           0|          0|          0|          0|          0|        0|           0|\n",
      "+-------+-------+--------+-----------+-------------+----------+----------+------------+------------+-----------+-----------+-----------+-----------+---------+------------+\n",
      "\n",
      "\n"
     ]
    },
    {
     "name": "stderr",
     "output_type": "stream",
     "text": [
      "                                                                                \r"
     ]
    }
   ],
   "source": [
    "# apply the function in previous\n",
    "for columnName in data.columns:\n",
    "    data = fixMissingValues(data, columnName)\n",
    "\n",
    "data.cache()\n",
    "# count the missing values again and display\n",
    "countNA(data)\n",
    "print()"
   ]
  },
  {
   "cell_type": "markdown",
   "metadata": {},
   "source": [
    "From the output, it is clearly that all missing data has been fixed.\n",
    "\n",
    "### Step 06: Data transformation  "
   ]
  },
  {
   "cell_type": "code",
   "execution_count": 12,
   "metadata": {},
   "outputs": [
    {
     "name": "stdout",
     "output_type": "stream",
     "text": [
      "root\n",
      " |-- MinTemp: string (nullable = true)\n",
      " |-- MaxTemp: string (nullable = true)\n",
      " |-- Rainfall: string (nullable = true)\n",
      " |-- WindGustDir: string (nullable = true)\n",
      " |-- WindGustSpeed: string (nullable = true)\n",
      " |-- WindDir9am: string (nullable = true)\n",
      " |-- WindDir3pm: string (nullable = true)\n",
      " |-- WindSpeed9am: string (nullable = true)\n",
      " |-- WindSpeed3pm: string (nullable = true)\n",
      " |-- Humidity9am: string (nullable = true)\n",
      " |-- Humidity3pm: string (nullable = true)\n",
      " |-- Pressure9am: string (nullable = true)\n",
      " |-- Pressure3pm: string (nullable = true)\n",
      " |-- RainToday: string (nullable = true)\n",
      " |-- RainTomorrow: string (nullable = true)\n",
      "\n"
     ]
    }
   ],
   "source": [
    "data.printSchema()"
   ]
  },
  {
   "cell_type": "markdown",
   "metadata": {},
   "source": [
    "According to the output of `printSchema()` method, all data inside are string. The next step is to transform the data for machine to calculate. As there are 3 different types of columns; therefore, using 3 different methods to transform these 3 different types,\n",
    " - Numeric column: Cast to `double` type\n",
    " - Categorical column: Use `StringIndexer`, then `OneHotEncoderEstimator` to transform\n",
    " - Label column: Only use `StringIndexer` to transform\n",
    " \n",
    "Then, drop the original columns and rename the new columns for better readability."
   ]
  },
  {
   "cell_type": "code",
   "execution_count": 13,
   "metadata": {},
   "outputs": [
    {
     "name": "stdout",
     "output_type": "stream",
     "text": [
      "+-------+-------+--------+-------------+------------+------------+-----------+-----------+-----------+-----------+--------------+--------------+--------------+-------------+-----+\n",
      "|MinTemp|MaxTemp|Rainfall|WindGustSpeed|WindSpeed9am|WindSpeed3pm|Humidity9am|Humidity3pm|Pressure9am|Pressure3pm|   WindGustDir|    WindDir9am|    WindDir3pm|    RainToday|label|\n",
      "+-------+-------+--------+-------------+------------+------------+-----------+-----------+-----------+-----------+--------------+--------------+--------------+-------------+-----+\n",
      "|   13.4|   22.9|     0.6|         44.0|        20.0|        24.0|       71.0|       22.0|     1007.7|     1007.1|(15,[0],[1.0])|(15,[6],[1.0])|(15,[7],[1.0])|(1,[0],[1.0])|  0.0|\n",
      "|    7.4|   25.1|     0.0|         44.0|         4.0|        22.0|       44.0|       25.0|     1010.6|     1007.8|(15,[9],[1.0])|(15,[9],[1.0])|(15,[3],[1.0])|(1,[0],[1.0])|  0.0|\n",
      "+-------+-------+--------+-------------+------------+------------+-----------+-----------+-----------+-----------+--------------+--------------+--------------+-------------+-----+\n",
      "only showing top 2 rows\n",
      "\n"
     ]
    }
   ],
   "source": [
    "for columnName in data.columns:\n",
    "    # for numeric columns\n",
    "    if columnName in numericCol:\n",
    "        data = data.withColumn(columnName, f.col(columnName).cast(\"double\"))\n",
    "    \n",
    "    # for categorical columns\n",
    "    elif columnName in categoricalCol:\n",
    "        # apply the StringIndexer and OneHotEncoderEstimator to transform\n",
    "        pipeline = Pipeline(stages=[\n",
    "            StringIndexer(inputCol=columnName, outputCol=columnName+\"Index\"),\n",
    "            OneHotEncoderEstimator(inputCols=[columnName+\"Index\"], outputCols=[columnName+\"ClassVec\"])\n",
    "        ])\n",
    "        data = pipeline.fit(data).transform(data)\n",
    "        # drop original categorical column and rename the new one\n",
    "        data = data.drop(columnName, columnName+\"Index\") \\\n",
    "            .withColumnRenamed(columnName+\"ClassVec\", columnName)\n",
    "    \n",
    "    # for label column\n",
    "    else:\n",
    "        # apply the StringIndexer to transform\n",
    "        # drop the original column\n",
    "        data = StringIndexer(inputCol=columnName, outputCol=columnName+\"Index\") \\\n",
    "            .fit(data) \\\n",
    "            .transform(data) \\\n",
    "            .drop(columnName) \\\n",
    "            .withColumnRenamed(columnName+\"Index\", \"label\")\n",
    "data.cache()\n",
    "data.show(2)"
   ]
  },
  {
   "cell_type": "code",
   "execution_count": 14,
   "metadata": {},
   "outputs": [
    {
     "name": "stdout",
     "output_type": "stream",
     "text": [
      "root\n",
      " |-- MinTemp: double (nullable = true)\n",
      " |-- MaxTemp: double (nullable = true)\n",
      " |-- Rainfall: double (nullable = true)\n",
      " |-- WindGustSpeed: double (nullable = true)\n",
      " |-- WindSpeed9am: double (nullable = true)\n",
      " |-- WindSpeed3pm: double (nullable = true)\n",
      " |-- Humidity9am: double (nullable = true)\n",
      " |-- Humidity3pm: double (nullable = true)\n",
      " |-- Pressure9am: double (nullable = true)\n",
      " |-- Pressure3pm: double (nullable = true)\n",
      " |-- WindGustDir: vector (nullable = true)\n",
      " |-- WindDir9am: vector (nullable = true)\n",
      " |-- WindDir3pm: vector (nullable = true)\n",
      " |-- RainToday: vector (nullable = true)\n",
      " |-- label: double (nullable = false)\n",
      "\n"
     ]
    }
   ],
   "source": [
    "data.printSchema()"
   ]
  },
  {
   "cell_type": "markdown",
   "metadata": {},
   "source": [
    "From the output, all the numeric columns has been transformed to double type, and the categorical columns has been transformed to vectors containing numeric values."
   ]
  },
  {
   "cell_type": "markdown",
   "metadata": {},
   "source": [
    "### Step 07: Create the feature vector and divide the dataset\n",
    "\n",
    "Assemble the feature vector by `VectorAssembler`."
   ]
  },
  {
   "cell_type": "code",
   "execution_count": 15,
   "metadata": {},
   "outputs": [
    {
     "name": "stdout",
     "output_type": "stream",
     "text": [
      "+-------+-------+--------+-------------+------------+------------+-----------+-----------+-----------+-----------+--------------+--------------+--------------+-------------+-----+--------------------+\n",
      "|MinTemp|MaxTemp|Rainfall|WindGustSpeed|WindSpeed9am|WindSpeed3pm|Humidity9am|Humidity3pm|Pressure9am|Pressure3pm|   WindGustDir|    WindDir9am|    WindDir3pm|    RainToday|label|            features|\n",
      "+-------+-------+--------+-------------+------------+------------+-----------+-----------+-----------+-----------+--------------+--------------+--------------+-------------+-----+--------------------+\n",
      "|   13.4|   22.9|     0.6|         44.0|        20.0|        24.0|       71.0|       22.0|     1007.7|     1007.1|(15,[0],[1.0])|(15,[6],[1.0])|(15,[7],[1.0])|(1,[0],[1.0])|  0.0|(56,[0,1,2,3,4,5,...|\n",
      "+-------+-------+--------+-------------+------------+------------+-----------+-----------+-----------+-----------+--------------+--------------+--------------+-------------+-----+--------------------+\n",
      "only showing top 1 row\n",
      "\n"
     ]
    }
   ],
   "source": [
    "# RainTomorrow should be excluded\n",
    "assemblerInputs = [column for column in data.columns if column != \"label\"]\n",
    "data = VectorAssembler(inputCols = assemblerInputs, outputCol=\"features\") \\\n",
    "    .transform(data)\n",
    "data.show(1)"
   ]
  },
  {
   "cell_type": "markdown",
   "metadata": {},
   "source": [
    "Then, divide the data randomly with 70% and 30% as training data and test data."
   ]
  },
  {
   "cell_type": "code",
   "execution_count": 16,
   "metadata": {},
   "outputs": [
    {
     "name": "stdout",
     "output_type": "stream",
     "text": [
      "\n"
     ]
    }
   ],
   "source": [
    "trainingData, testData = data.randomSplit([0.7, 0.3])\n",
    "# cache these data frame to boost the model training\n",
    "trainingData.cache()\n",
    "testData.cache()\n",
    "print()"
   ]
  },
  {
   "cell_type": "markdown",
   "metadata": {},
   "source": [
    "## C. Apply Machine Learning Algorithms\n",
    "### Step 08: Apply machine learning classification algorithms on the dataset and compare their accuracy. Plot the accuracy as bar graph.\n",
    "\n",
    "From the specifications, there are 4 classification algorithms should be implemented. These are, \n",
    " - DecisionTreeClassifier\n",
    " - RandomForestClassifier\n",
    " - LogisticRegression\n",
    " - GBTClassifier\n",
    "\n",
    "Implement the 4 classifiers below and calculate the accuracy."
   ]
  },
  {
   "cell_type": "code",
   "execution_count": 17,
   "metadata": {},
   "outputs": [
    {
     "name": "stderr",
     "output_type": "stream",
     "text": [
      "21/10/29 03:36:14 WARN BLAS: Failed to load implementation from: com.github.fommil.netlib.NativeSystemBLAS\n",
      "21/10/29 03:36:14 WARN BLAS: Failed to load implementation from: com.github.fommil.netlib.NativeRefBLAS\n",
      "21/10/29 03:36:15 ERROR LBFGS: Failure! Resetting history: breeze.optimize.FirstOrderException: Line search failed\n",
      "21/10/29 03:36:15 ERROR LBFGS: Failure! Resetting history: breeze.optimize.FirstOrderException: Line search failed\n"
     ]
    }
   ],
   "source": [
    "# define a function to apply the machine learning classification algorithm\n",
    "def applyMLAlgorithms(classfier):\n",
    "    # train the model with trainingData and generate the prediction in testData\n",
    "    model = classfier.fit(trainingData)\n",
    "    predictions = model.transform(testData) \\\n",
    "        .select(\"prediction\", \"label\")\n",
    "    # evaluate the accuracy\n",
    "    evaluator = MulticlassClassificationEvaluator(\n",
    "        labelCol=\"label\", predictionCol=\"prediction\", metricName=\"accuracy\"\n",
    "    )\n",
    "    accuracy = evaluator.evaluate(predictions)\n",
    "    \n",
    "    # define a inner class to wrap the result\n",
    "    class MLResult:\n",
    "        def __init__(self, accuracy, predictionAndLabelsDF, classfierName):\n",
    "            self.accuracy = accuracy\n",
    "            self.predictionAndLabelsDF = predictionAndLabelsDF\n",
    "            self.classfierName = classfierName\n",
    "    return MLResult(accuracy, predictions, type(classfier).__name__)\n",
    "\n",
    "# build the list containing these 4 algorithms\n",
    "classifierList = [DecisionTreeClassifier, RandomForestClassifier, LogisticRegression, GBTClassifier]\n",
    "# initialize the classifiers with parameter labelCol and featuresCol\n",
    "defaultClassifiers = list(map(lambda x: x(labelCol=\"label\", featuresCol=\"features\"), classifierList))\n",
    "# apply the funciton to generate the machine learning results\n",
    "predictionResults = list(map(applyMLAlgorithms, defaultClassifiers))\n",
    "# extract the accuracy value from the results\n",
    "acc = [each.accuracy for each in predictionResults]"
   ]
  },
  {
   "cell_type": "code",
   "execution_count": 18,
   "metadata": {},
   "outputs": [
    {
     "name": "stdout",
     "output_type": "stream",
     "text": [
      "DecisionTreeClassifier's accuracy is 0.8336627140974967\n",
      "RandomForestClassifier's accuracy is 0.8176642198381329\n",
      "LogisticRegression's accuracy is 0.8398033126293996\n",
      "GBTClassifier's accuracy is 0.8426030491247882\n",
      "\n"
     ]
    }
   ],
   "source": [
    "# display the accuracy for each algorithm\n",
    "[print(f\"{type(cla).__name__}\\'s accuracy is {ac}\") for cla, ac in zip(defaultClassifiers, acc)]\n",
    "print()"
   ]
  },
  {
   "cell_type": "markdown",
   "metadata": {},
   "source": [
    "Then, using `matplotlib` to plot a bar chart for the accuracies of 4 algorithms."
   ]
  },
  {
   "cell_type": "code",
   "execution_count": 19,
   "metadata": {},
   "outputs": [
    {
     "data": {
      "image/png": "[encoded data removed]",
      "text/plain": [
       "<Figure size 864x288 with 1 Axes>"
      ]
     },
     "metadata": {
      "needs_background": "light"
     },
     "output_type": "display_data"
    }
   ],
   "source": [
    "# plot\n",
    "xTicks = [type(each).__name__ for each in defaultClassifiers]\n",
    "plt.figure(figsize=(12,4))\n",
    "plt.bar(range(4), acc)\n",
    "plt.xticks(range(4), xTicks)\n",
    "# set the y-axis limit for better readability\n",
    "plt.ylim(min(acc)-0.005, max(acc)+0.005)\n",
    "plt.xlabel(\"Algorithms\")\n",
    "plt.ylabel(\"Accuracy\")\n",
    "plt.title(\"The Accuracies of 4 Machine Learning Algorithms\")\n",
    "plt.show()"
   ]
  },
  {
   "cell_type": "markdown",
   "metadata": {},
   "source": [
    "### Step 09: Calculate the confusion matrix and find the precision, recall, and F1 score of each classification algorithm. Explain how the accuracy of the predication can be improved?  \n",
    "\n",
    "Then, use the `MulticlassMetrics` to calculate the confusion matrix for each algorithm.\n",
    "\n",
    "The confusion matrix is the matrix like below,\n",
    "\n",
    "|Predict| Actual True | Acual False |\n",
    "|-------| ------------|-------------|\n",
    "|True   |True Positive (TP)|False Positive (FP)|\n",
    "|False  |False Negative (FN)| True Negative (TN)|\n",
    "\n",
    "Confusion matrix: $$confusionMatrix = \\left[\n",
    "\\begin{matrix}\n",
    "TP & FP \\\\\n",
    "FN & TN\n",
    "\\end{matrix}\n",
    "\\right] \\tag{2}\n",
    " $$\n",
    "\n",
    "Besides, the other value related to the confusion matrix is defined below,\n",
    "\n",
    "Accuracy: $$ accuracy = \\frac{TP+TN}{TP+FP+FN+TN}$$\n",
    "Precision: $$ precision = \\frac{TP}{TP+FP}$$\n",
    "Recall: $$ recall = \\frac{TP}{TP+FN}$$\n",
    "F1 score: $$ F_1 = 2*\\frac{precision \\times recall}{precision + recall}$$\n",
    "\n",
    "Apply these method into the the data."
   ]
  },
  {
   "cell_type": "code",
   "execution_count": 20,
   "metadata": {},
   "outputs": [],
   "source": [
    "# the function is for generating MulticlassMetrics object for each algorithm\n",
    "def getConfusionMatrix(predictionAndLabelsDF):\n",
    "    toRdd = lambda df: df.rdd.map(lambda x: (x.prediction, x.label))\n",
    "    metrics = MulticlassMetrics(predictionAndLabels=toRdd(predictionAndLabelsDF))\n",
    "    return metrics\n",
    "\n",
    "# the function is to display the information of confusion matrix\n",
    "def displayConfusionMatrixInfo(mlResult):\n",
    "    metrics =  getConfusionMatrix(mlResult.predictionAndLabelsDF)\n",
    "    # generate confusion matrix with default method\n",
    "    confusionMatrix = metrics.confusionMatrix().toArray()\n",
    "    (tn, fp), (fn, tp) = confusionMatrix\n",
    "    # reformat the confusion matrix to the correct one\n",
    "    confusionMatrix = np.array([[tp, fp],\n",
    "                                [fn, tn]])\n",
    "    # collect other information required\n",
    "    accuracy = metrics.accuracy\n",
    "    precision = metrics.precision(label=1.0)\n",
    "    recall = metrics.recall(label=1.0)\n",
    "    f1 = metrics.fMeasure(label=1.0, beta=1.0)\n",
    "    # return the string for display\n",
    "    return f\"\"\"The infomation of confusion matrix of {mlResult.classfierName} is:\n",
    "ConfusionMatrix: \n",
    "{confusionMatrix}\n",
    "Precision: {precision}\n",
    "Recall: {recall}\n",
    "F1 Score: {f1}\n",
    "\"\"\""
   ]
  },
  {
   "cell_type": "code",
   "execution_count": 21,
   "metadata": {},
   "outputs": [
    {
     "name": "stdout",
     "output_type": "stream",
     "text": [
      "The infomation of confusion matrix of DecisionTreeClassifier is:\n",
      "ConfusionMatrix: \n",
      "[[ 3656.  1234.]\n",
      " [ 5836. 31778.]]\n",
      "Precision: 0.7476482617586913\n",
      "Recall: 0.38516645596291615\n",
      "F1 Score: 0.5084132943957725\n",
      "\n",
      "The infomation of confusion matrix of RandomForestClassifier is:\n",
      "ConfusionMatrix: \n",
      "[[ 2187.   445.]\n",
      " [ 7305. 32567.]]\n",
      "Precision: 0.8309270516717325\n",
      "Recall: 0.2304045512010114\n",
      "F1 Score: 0.36077202243483997\n",
      "\n",
      "The infomation of confusion matrix of LogisticRegression is:\n",
      "ConfusionMatrix: \n",
      "[[ 4459.  1776.]\n",
      " [ 5033. 31236.]]\n",
      "Precision: 0.7151563753007217\n",
      "Recall: 0.46976401179941\n",
      "F1 Score: 0.5670502956698671\n",
      "\n",
      "The infomation of confusion matrix of GBTClassifier is:\n",
      "ConfusionMatrix: \n",
      "[[ 4500.  1698.]\n",
      " [ 4992. 31314.]]\n",
      "Precision: 0.7260406582768635\n",
      "Recall: 0.4740834386852086\n",
      "F1 Score: 0.5736137667304014\n",
      "\n"
     ]
    }
   ],
   "source": [
    "# apply the function in previous to display\n",
    "displayInfoList = list(map(displayConfusionMatrixInfo, predictionResults))\n",
    "for each in displayInfoList:\n",
    "    print(each)"
   ]
  },
  {
   "cell_type": "markdown",
   "metadata": {},
   "source": [
    "The method to improve the model:\n",
    "1. Collect larger dataset. If the dataset is larger, the training data will be larger, the model will get more suitable and accurate for the dataset.\n",
    "2. Better way to fill missing values. In this project, the way to fill missing values is replace \"NA\" with most occurance value and average. If there is a way to fill the missing value with a better value which is predicted by some model, the model built for the dataset will get improved.\n",
    "3. Modify the features used in model. A better feature vector can provide a better interpretation to the label value, which means it can help to improve the model. Some features need to be transformed and some features should be dropped or created.\n",
    "4. Better algorithms. There might be some better algorithms to fit the dataset better. In the 4 algorithms, GBTClassfier and LogisticRegression is better than RandomForest. So, that might be a model better than these two.\n",
    "5. Better parameters for the algorithm. With the same algorithm in Spark, modifying some parameters can improve the model. For example, set the threshold of LogisticRegression to `0.35` can improve the F1 score from 0.57 to 0.61.\n",
    "\n",
    "The example of the last method is shown below:"
   ]
  },
  {
   "cell_type": "code",
   "execution_count": 22,
   "metadata": {},
   "outputs": [
    {
     "name": "stderr",
     "output_type": "stream",
     "text": [
      "21/10/29 03:36:58 ERROR LBFGS: Failure! Resetting history: breeze.optimize.FirstOrderException: Line search failed\n",
      "21/10/29 03:36:58 ERROR LBFGS: Failure! Resetting history: breeze.optimize.FirstOrderException: Line search failed\n"
     ]
    },
    {
     "name": "stdout",
     "output_type": "stream",
     "text": [
      "The infomation of confusion matrix of LogisticRegression is:\n",
      "ConfusionMatrix: \n",
      "[[ 5839.  3744.]\n",
      " [ 3653. 29268.]]\n",
      "Precision: 0.6093081498486904\n",
      "Recall: 0.615149599662874\n",
      "F1 Score: 0.6122149410222804\n",
      "\n"
     ]
    }
   ],
   "source": [
    "print(displayConfusionMatrixInfo(applyMLAlgorithms(LogisticRegression(threshold=0.35))))"
   ]
  },
  {
   "cell_type": "code",
   "execution_count": null,
   "metadata": {},
   "outputs": [],
   "source": []
  }
 ],
 "metadata": {
  "kernelspec": {
   "display_name": "Python 3 (ipykernel)",
   "language": "python",
   "name": "python3"
  },
  "language_info": {
   "codemirror_mode": {
    "name": "ipython",
    "version": 3
   },
   "file_extension": ".py",
   "mimetype": "text/x-python",
   "name": "python",
   "nbconvert_exporter": "python",
   "pygments_lexer": "ipython3",
   "version": "3.7.11"
  }
 },
 "nbformat": 4,
 "nbformat_minor": 4
}
